{
 "cells": [
  {
   "cell_type": "code",
   "execution_count": 2,
   "metadata": {},
   "outputs": [
    {
     "name": "stderr",
     "output_type": "stream",
     "text": [
      "C:\\ProgramData\\Anaconda3\\lib\\site-packages\\gensim\\utils.py:1197: UserWarning: detected Windows; aliasing chunkize to chunkize_serial\n",
      "  warnings.warn(\"detected Windows; aliasing chunkize to chunkize_serial\")\n"
     ]
    }
   ],
   "source": [
    "# モジュール読み込み\n",
    "import csv\n",
    "import pickle\n",
    "\n",
    "import gensim\n",
    "from gensim import models\n",
    "from sklearn.linear_model import LogisticRegression\n",
    "from sklearn.model_selection import train_test_split\n",
    "from sklearn.metrics import classification_report\n",
    "from sklearn.metrics import confusion_matrix"
   ]
  },
  {
   "cell_type": "code",
   "execution_count": 3,
   "metadata": {},
   "outputs": [],
   "source": [
    "dataset_file_name = './dataset/corpus.csv'\n",
    "model_file_name = 'logistic.pkl'"
   ]
  },
  {
   "cell_type": "code",
   "execution_count": 6,
   "metadata": {},
   "outputs": [
    {
     "ename": "UnicodeDecodeError",
     "evalue": "'cp932' codec can't decode byte 0x93 in position 12: illegal multibyte sequence",
     "output_type": "error",
     "traceback": [
      "\u001b[1;31m---------------------------------------------------------------------------\u001b[0m",
      "\u001b[1;31mUnicodeDecodeError\u001b[0m                        Traceback (most recent call last)",
      "\u001b[1;32m<ipython-input-6-a9071cdfb326>\u001b[0m in \u001b[0;36m<module>\u001b[1;34m()\u001b[0m\n\u001b[0;32m      2\u001b[0m \u001b[1;33m\u001b[0m\u001b[0m\n\u001b[0;32m      3\u001b[0m \u001b[1;32mwith\u001b[0m \u001b[0mopen\u001b[0m\u001b[1;33m(\u001b[0m\u001b[0mdataset_file_name\u001b[0m\u001b[1;33m,\u001b[0m \u001b[1;34m'r'\u001b[0m\u001b[1;33m)\u001b[0m \u001b[1;32mas\u001b[0m \u001b[0mf\u001b[0m\u001b[1;33m:\u001b[0m\u001b[1;33m\u001b[0m\u001b[0m\n\u001b[1;32m----> 4\u001b[1;33m     \u001b[0mdata\u001b[0m \u001b[1;33m=\u001b[0m \u001b[0mlist\u001b[0m\u001b[1;33m(\u001b[0m\u001b[0mcsv\u001b[0m\u001b[1;33m.\u001b[0m\u001b[0mreader\u001b[0m\u001b[1;33m(\u001b[0m\u001b[0mf\u001b[0m\u001b[1;33m)\u001b[0m\u001b[1;33m)\u001b[0m\u001b[1;33m\u001b[0m\u001b[0m\n\u001b[0m\u001b[0;32m      5\u001b[0m \u001b[1;33m\u001b[0m\u001b[0m\n\u001b[0;32m      6\u001b[0m \u001b[0mtexts\u001b[0m\u001b[1;33m,\u001b[0m \u001b[0mlabel_ids\u001b[0m \u001b[1;33m=\u001b[0m \u001b[1;33m[\u001b[0m\u001b[1;33m]\u001b[0m\u001b[1;33m,\u001b[0m \u001b[1;33m[\u001b[0m\u001b[1;33m]\u001b[0m\u001b[1;33m\u001b[0m\u001b[0m\n",
      "\u001b[1;31mUnicodeDecodeError\u001b[0m: 'cp932' codec can't decode byte 0x93 in position 12: illegal multibyte sequence"
     ]
    }
   ],
   "source": [
    "# csvファイルを扱いやすいフォーマットに変形\n",
    "\n",
    "with open(dataset_file_name, 'r') as f:\n",
    "    data = list(csv.reader(f))\n",
    "\n",
    "texts, label_ids = [], []\n",
    "label2id = {}\n",
    "idx_label, idx_sentence = 0, 1\n",
    "sum_words = []\n",
    "\n",
    "for counter, row in enumerate(data):\n",
    "    if counter == 0:\n",
    "        continue\n",
    "    label = row[idx_label]\n",
    "    if label not in label2id:\n",
    "        label2id[label] = len(label2id)\n",
    "    label_ids.append(label2id[label])\n",
    "    word_list = row[idx_sentence].split(' ')\n",
    "    texts.append(word_list)\n",
    "    \n",
    "    for line in word_list:\n",
    "        for word in line:\n",
    "            sum_words.append(word)\n",
    "\n",
    "print('sum_words: ', len(sum_words))\n",
    "id2label = {v: k for k, v in label2id.items()}"
   ]
  },
  {
   "cell_type": "code",
   "execution_count": 5,
   "metadata": {},
   "outputs": [
    {
     "ename": "NameError",
     "evalue": "name 'texts' is not defined",
     "output_type": "error",
     "traceback": [
      "\u001b[1;31m---------------------------------------------------------------------------\u001b[0m",
      "\u001b[1;31mNameError\u001b[0m                                 Traceback (most recent call last)",
      "\u001b[1;32m<ipython-input-5-b2b9f0896c36>\u001b[0m in \u001b[0;36m<module>\u001b[1;34m()\u001b[0m\n\u001b[0;32m      1\u001b[0m \u001b[1;31m#　テキストとラベルのデータをtrain, testに分割します\u001b[0m\u001b[1;33m\u001b[0m\u001b[1;33m\u001b[0m\u001b[0m\n\u001b[1;32m----> 2\u001b[1;33m \u001b[0mX_train_texts\u001b[0m\u001b[1;33m,\u001b[0m \u001b[0mX_test_texts\u001b[0m\u001b[1;33m,\u001b[0m \u001b[0my_train\u001b[0m\u001b[1;33m,\u001b[0m \u001b[0my_test\u001b[0m \u001b[1;33m=\u001b[0m \u001b[0mtrain_test_split\u001b[0m\u001b[1;33m(\u001b[0m\u001b[0mtexts\u001b[0m\u001b[1;33m,\u001b[0m \u001b[0mlabel_ids\u001b[0m\u001b[1;33m,\u001b[0m \u001b[0mtest_size\u001b[0m\u001b[1;33m=\u001b[0m\u001b[1;36m0.2\u001b[0m\u001b[1;33m,\u001b[0m \u001b[0mrandom_state\u001b[0m\u001b[1;33m=\u001b[0m\u001b[1;36m42\u001b[0m\u001b[1;33m)\u001b[0m\u001b[1;33m\u001b[0m\u001b[0m\n\u001b[0m",
      "\u001b[1;31mNameError\u001b[0m: name 'texts' is not defined"
     ]
    }
   ],
   "source": [
    "#　テキストとラベルのデータをtrain, testに分割します\n",
    "X_train_texts, X_test_texts, y_train, y_test = train_test_split(texts, label_ids, test_size=0.2, random_state=42)"
   ]
  },
  {
   "cell_type": "code",
   "execution_count": 5,
   "metadata": {
    "collapsed": true
   },
   "outputs": [],
   "source": [
    "# trainのテキストデータから、tfidfで重み付けされた単語文書行列を作成します\n",
    "\n",
    "# テキストデータから辞書を作成します\n",
    "dictionary = gensim.corpora.Dictionary(X_train_texts)\n",
    "# 辞書を用いてBoW形式に文章を行列化します\n",
    "corpus = [dictionary.doc2bow(text) for text in X_train_texts]\n",
    "\n",
    "# BoW形式で作成したcorpusをtfidfを用いて重み付けします\n",
    "tfidf_model = models.TfidfModel(corpus)\n",
    "tfidf_corpus = tfidf_model[corpus]\n",
    "\n",
    "num_words = len(dictionary)\n",
    "X_train_tfidf = gensim.matutils.corpus2dense(tfidf_corpus, num_terms=num_words).T"
   ]
  },
  {
   "cell_type": "code",
   "execution_count": 6,
   "metadata": {
    "collapsed": true
   },
   "outputs": [],
   "source": [
    "# testのテキストデータから、tfidfで重み付けされた単語文書行列を作成します\n",
    "\n",
    "# 辞書を用いてBoW形式に文章を行列化します\n",
    "corpus = [dictionary.doc2bow(text) for text in X_test_texts]\n",
    "# BoW形式で作成したcorpusをtfidfを用いて重み付けします\n",
    "tfidf_corpus = tfidf_model[corpus]\n",
    "\n",
    "num_words = len(dictionary)\n",
    "X_test_tfidf = gensim.matutils.corpus2dense(tfidf_corpus, num_terms=num_words).T"
   ]
  },
  {
   "cell_type": "code",
   "execution_count": 7,
   "metadata": {},
   "outputs": [
    {
     "data": {
      "text/plain": [
       "LogisticRegression(C=1, class_weight=None, dual=False, fit_intercept=True,\n",
       "          intercept_scaling=1, max_iter=100, multi_class='ovr', n_jobs=1,\n",
       "          penalty='l2', random_state=None, solver='liblinear', tol=0.0001,\n",
       "          verbose=0, warm_start=False)"
      ]
     },
     "execution_count": 7,
     "metadata": {},
     "output_type": "execute_result"
    }
   ],
   "source": [
    "# trainデータを用いて分類器を構築します\n",
    "clf = LogisticRegression(C=1, penalty='l2')\n",
    "clf.fit(X_train_tfidf, y_train)"
   ]
  },
  {
   "cell_type": "code",
   "execution_count": 8,
   "metadata": {},
   "outputs": [
    {
     "name": "stdout",
     "output_type": "stream",
     "text": [
      "             precision    recall  f1-score   support\n",
      "\n",
      "      dazai       0.72      0.95      0.82       732\n",
      "       mori       0.94      0.66      0.78       492\n",
      "  akutagawa       0.87      0.72      0.79       551\n",
      "\n",
      "avg / total       0.83      0.80      0.80      1775\n",
      "\n",
      "[[698   8  26]\n",
      " [132 327  33]\n",
      " [143  13 395]]\n"
     ]
    }
   ],
   "source": [
    "# testデータを用いて分類器の精度を評価します\n",
    "y_pred = clf.predict(X_test_tfidf)\n",
    "target_names = list(id2label.values())\n",
    "\n",
    "print(classification_report(y_test, y_pred, target_names=target_names))\n",
    "print(confusion_matrix(y_test, y_pred))"
   ]
  }
 ],
 "metadata": {
  "kernelspec": {
   "display_name": "Python 3",
   "language": "python",
   "name": "python3"
  },
  "language_info": {
   "codemirror_mode": {
    "name": "ipython",
    "version": 3
   },
   "file_extension": ".py",
   "mimetype": "text/x-python",
   "name": "python",
   "nbconvert_exporter": "python",
   "pygments_lexer": "ipython3",
   "version": "3.6.4"
  }
 },
 "nbformat": 4,
 "nbformat_minor": 2
}
