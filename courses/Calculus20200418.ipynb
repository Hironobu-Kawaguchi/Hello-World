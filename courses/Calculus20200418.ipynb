{
  "nbformat": 4,
  "nbformat_minor": 0,
  "metadata": {
    "colab": {
      "name": "Calculus20200418.ipynb",
      "provenance": [],
      "collapsed_sections": [],
      "toc_visible": true,
      "authorship_tag": "ABX9TyPSy9Vrvof5bya3pPojHL0K",
      "include_colab_link": true
    },
    "kernelspec": {
      "name": "python3",
      "display_name": "Python 3"
    }
  },
  "cells": [
    {
      "cell_type": "markdown",
      "metadata": {
        "id": "view-in-github",
        "colab_type": "text"
      },
      "source": [
        "<a href=\"https://colab.research.google.com/github/Hironobu-Kawaguchi/Hello-World/blob/master/courses/Calculus20200418.ipynb\" target=\"_parent\"><img src=\"https://colab.research.google.com/assets/colab-badge.svg\" alt=\"Open In Colab\"/></a>"
      ]
    },
    {
      "cell_type": "markdown",
      "metadata": {
        "id": "jGPud4ddfOza",
        "colab_type": "text"
      },
      "source": [
        "# 数理科学概論 2020.4.18 関数と微積分"
      ]
    },
    {
      "cell_type": "markdown",
      "metadata": {
        "id": "QzapEbUEfheL",
        "colab_type": "text"
      },
      "source": [
        "センター試験 平成31年度 数学IIB 第2問 (1), (2)  \n",
        "https://www.dnc.ac.jp/albums/abm.php?f=abm00036456.pdf&n=k+21+suugaku2B.pdf  \n",
        "(余力があれば、(3)にも挑戦してみるとよい)"
      ]
    },
    {
      "cell_type": "markdown",
      "metadata": {
        "id": "vYnJGyj3x3-1",
        "colab_type": "text"
      },
      "source": [
        "## (1)"
      ]
    },
    {
      "cell_type": "markdown",
      "metadata": {
        "id": "67SDKGC9gXh7",
        "colab_type": "text"
      },
      "source": [
        "曲線$C$\n",
        "$$\n",
        "\\begin{eqnarray}\n",
        "y=f(x)&=&x^3+px^2+qx \\\\\n",
        "f'(x)&=&3x^2+2px+q\n",
        "\\end{eqnarray}\n",
        "$$\n"
      ]
    },
    {
      "cell_type": "markdown",
      "metadata": {
        "id": "AQKr0avrjqyq",
        "colab_type": "text"
      },
      "source": [
        "関数$f(x)$が$x=-1$で極値$2$を取るので\n",
        "$$\n",
        "\\begin{eqnarray}\n",
        "f(-1)=-1+p-q&=&2 \\\\\n",
        "p&=&q+3\n",
        "\\end{eqnarray}\n",
        "$$\n"
      ]
    },
    {
      "cell_type": "markdown",
      "metadata": {
        "id": "K984ohqZkGtw",
        "colab_type": "text"
      },
      "source": [
        "$$\n",
        "\\begin{eqnarray}\n",
        "f'(-1)=3-2p+q&=&0 \\\\\n",
        "q&=&2p-3\n",
        "\\end{eqnarray}\n",
        "$$"
      ]
    },
    {
      "cell_type": "markdown",
      "metadata": {
        "id": "u13SenYMkj9q",
        "colab_type": "text"
      },
      "source": [
        "$$p=0, q=-3$$\n"
      ]
    },
    {
      "cell_type": "markdown",
      "metadata": {
        "id": "o77UJod5kf-I",
        "colab_type": "text"
      },
      "source": [
        "$$\n",
        "\\begin{eqnarray}\n",
        "f(x) &=& x^3-3x \\\\\n",
        "f'(x) &=& 3x^2-3\n",
        "\\end{eqnarray}\n",
        "$$\n"
      ]
    },
    {
      "cell_type": "markdown",
      "metadata": {
        "id": "qlGZjbmqmcV0",
        "colab_type": "text"
      },
      "source": [
        "$$f'(1)=0, f(1)=-2$$\n",
        "よって$f(x)$は$x=1$で極小値$-2$をとる"
      ]
    },
    {
      "cell_type": "markdown",
      "metadata": {
        "id": "gaOhZ7LuyDUX",
        "colab_type": "text"
      },
      "source": [
        "## (2)"
      ]
    },
    {
      "cell_type": "markdown",
      "metadata": {
        "id": "F6gJKDE3kd-Y",
        "colab_type": "text"
      },
      "source": [
        "放物線$D$\n",
        "$$\n",
        "\\begin{eqnarray}\n",
        "y&=&-kx^2 \\\\\n",
        "y'&=&-2kx\n",
        "\\end{eqnarray}\n",
        "$$"
      ]
    },
    {
      "cell_type": "markdown",
      "metadata": {
        "id": "Eu6a8rujJiPV",
        "colab_type": "text"
      },
      "source": [
        "放物線$D$上の点$A$\n",
        "$$(a, -ka^2)$$"
      ]
    },
    {
      "cell_type": "markdown",
      "metadata": {
        "id": "mJNXJKxgJz7x",
        "colab_type": "text"
      },
      "source": [
        "ただし\n",
        "$$k>0, a>0$$"
      ]
    },
    {
      "cell_type": "markdown",
      "metadata": {
        "id": "Q1Lg7EwQqMAF",
        "colab_type": "text"
      },
      "source": [
        "点$A$における放物線$D$の接線$l$\n",
        "$$y=-2kax+ka^2$$"
      ]
    },
    {
      "cell_type": "markdown",
      "metadata": {
        "id": "1u_xL-ssKwlT",
        "colab_type": "text"
      },
      "source": [
        "接線$l$と$x$軸($y=0$)との交点\n",
        "$$(\\frac{a}{2},0)$$"
      ]
    },
    {
      "cell_type": "markdown",
      "metadata": {
        "id": "SqyYv8e_rXKJ",
        "colab_type": "text"
      },
      "source": [
        "$D$と$x$軸および直線$x=a$で囲まれた図形の面積は\n",
        "$$\\int_{0}^{a}(kx^2)dx = \\frac{k}{3}a^3$$"
      ]
    },
    {
      "cell_type": "markdown",
      "metadata": {
        "id": "v2Ylt6s2wNfw",
        "colab_type": "text"
      },
      "source": [
        "よって、$D$と$l$および$x$軸で囲まれた図形の面積$S$は\n",
        "$$\n",
        "\\begin{eqnarray}\n",
        "S &=& \\frac{k}{3}a^3 - \\frac{1}{2}\\frac{a}{2}ka^2 \\\\\n",
        "&=& \\frac{(4-3)k}{12}a^3 \\\\\n",
        "&=& \\frac{k}{12}a^3\n",
        "\\end{eqnarray}\n",
        "$$"
      ]
    },
    {
      "cell_type": "markdown",
      "metadata": {
        "id": "n4Po6IxZyHQ3",
        "colab_type": "text"
      },
      "source": [
        "## (3)"
      ]
    },
    {
      "cell_type": "markdown",
      "metadata": {
        "id": "ASCW8eDVgUv4",
        "colab_type": "text"
      },
      "source": [
        "点$A$が曲線$C$上にあり、かつ(2)の接戦$l$が$C$に接するとすると、$A$が$C$上にあるので\n",
        "$$\n",
        "\\begin{eqnarray}\n",
        "-ka^2 &=& a^3 - 3a \\\\\n",
        "k &=& \\frac{3}{a} - a\n",
        "\\end{eqnarray}\n",
        "$$"
      ]
    },
    {
      "cell_type": "markdown",
      "metadata": {
        "id": "v-rd0HSpynLE",
        "colab_type": "text"
      },
      "source": [
        "接線$l$と$C$の接点の$x$座標を$b$とすると、$l$の方程式は$b$を用いて \n",
        "$$y=3(b^2-1)x-2b^3 = g(x)$$"
      ]
    },
    {
      "cell_type": "markdown",
      "metadata": {
        "id": "iVwhRX4SOLGs",
        "colab_type": "text"
      },
      "source": [
        "$$\n",
        "\\begin{eqnarray}\n",
        "f(x)-g(x) &=& x^3 - 3b^2x + 2b^3 \\\\\n",
        "&=& (x-b)^2(x+2b)\n",
        "\\end{eqnarray}\n",
        "$$\n",
        "と因数分解されるので\n",
        "$$a = -2b$$"
      ]
    },
    {
      "cell_type": "markdown",
      "metadata": {
        "id": "hyL4jOzjyaUj",
        "colab_type": "text"
      },
      "source": [
        "$l$の傾きを比較することにより\n",
        "$$\n",
        "\\begin{eqnarray}\n",
        "-2ka &=& 3(b^2-1) \\\\\n",
        "-6+2a^2 &=& 3(\\frac{1}{4}a^2-1) \\\\\n",
        "(8-3)a^2 &=& 4(6-3) \\\\\n",
        "a^2 &=& \\frac{12}{5}\n",
        "\\end{eqnarray}\n",
        "$$\n"
      ]
    },
    {
      "cell_type": "markdown",
      "metadata": {
        "id": "nKsGFBGC10Cb",
        "colab_type": "text"
      },
      "source": [
        "したがって$S$の値は\n",
        "$$\n",
        "\\begin{eqnarray}\n",
        "S &=& \\frac{k}{12}a^3 \\\\\n",
        "&=& \\frac{1}{4}a^2 - \\frac{1}{12}a^4 \\\\\n",
        "&=& \\frac{1}{4}\\frac{12}{5} - \\frac{1}{12}\\frac{12^2}{5^2} \\\\\n",
        "&=& \\frac{15-12}{25} = \\frac{3}{25} \\\\\n",
        "\\end{eqnarray}\n",
        "$$"
      ]
    },
    {
      "cell_type": "markdown",
      "metadata": {
        "id": "4xsHT6I5-TMN",
        "colab_type": "text"
      },
      "source": [
        "## matplotlib"
      ]
    },
    {
      "cell_type": "code",
      "metadata": {
        "id": "IGuiKnX1iuPK",
        "colab_type": "code",
        "colab": {}
      },
      "source": [
        "import numpy as np\n",
        "import matplotlib.pyplot as plt\n",
        "%matplotlib inline"
      ],
      "execution_count": 0,
      "outputs": []
    },
    {
      "cell_type": "code",
      "metadata": {
        "id": "55YHCnCyDXX_",
        "colab_type": "code",
        "colab": {}
      },
      "source": [
        "p = 0\n",
        "q = -3\n",
        "a = (12/5)**(1/2)\n",
        "k = 3/a - a\n",
        "\n",
        "def f(x):\n",
        "    return x**3 + p*(x**2) + q*x\n",
        "def d(x):\n",
        "    return -k*(x**2)\n",
        "def l(x):\n",
        "    return -2*k*a*x + k*(a**2)"
      ],
      "execution_count": 0,
      "outputs": []
    },
    {
      "cell_type": "code",
      "metadata": {
        "id": "qYc-X2bnfwkS",
        "colab_type": "code",
        "outputId": "20bdefd6-ce80-47a4-a0d3-ede65ffd9bc6",
        "colab": {
          "base_uri": "https://localhost:8080/",
          "height": 487
        }
      },
      "source": [
        "x = np.arange(-3, 3.1, 0.1)\n",
        "plt.figure(figsize=(12,8))\n",
        "plt.ylim(-3, 3)\n",
        "plt.plot(x, f(x), label='C')\n",
        "plt.plot(x, d(x), label='D')\n",
        "plt.annotate('A', xy=(a, d(a)), size=16, xytext = (a+0.3, d(a)), arrowprops = dict(arrowstyle = \"->\"))\n",
        "plt.plot(x, l(x), label='ℓ')\n",
        "plt.vlines(a, 0, d(a), linestyle=\":\")\n",
        "plt.hlines(0, 0, a, linestyle=\":\")\n",
        "# Sを塗る\n",
        "x = np.arange(a/2, a+0.1, 0.1)\n",
        "plt.fill_between(x, d(x), l(x), facecolor='lime')\n",
        "x = np.arange(0, a/2+0.1, 0.1)\n",
        "plt.fill_between(x, d(x), 0, facecolor='lime')\n",
        "plt.annotate('S', xy=(a/2-0.1, d(a/2)/2-0.05), size=16)\n",
        "\n",
        "plt.legend()\n",
        "plt.grid(True)\n",
        "plt.show()"
      ],
      "execution_count": 0,
      "outputs": [
        {
          "output_type": "display_data",
          "data": {
            "image/png": "[encoded data removed]",
            "text/plain": [
              "<Figure size 864x576 with 1 Axes>"
            ]
          },
          "metadata": {
            "tags": [],
            "needs_background": "light"
          }
        }
      ]
    },
    {
      "cell_type": "code",
      "metadata": {
        "id": "cPHUk0eQ5iKJ",
        "colab_type": "code",
        "outputId": "b76c708f-d138-40d9-f616-99a436c07420",
        "colab": {
          "base_uri": "https://localhost:8080/",
          "height": 34
        }
      },
      "source": [
        "a"
      ],
      "execution_count": 0,
      "outputs": [
        {
          "output_type": "execute_result",
          "data": {
            "text/plain": [
              "1.5491933384829668"
            ]
          },
          "metadata": {
            "tags": []
          },
          "execution_count": 4
        }
      ]
    }
  ]
}