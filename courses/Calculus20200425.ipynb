{
  "nbformat": 4,
  "nbformat_minor": 0,
  "metadata": {
    "colab": {
      "name": "Calculus20200425.ipynb",
      "provenance": [],
      "collapsed_sections": [],
      "toc_visible": true,
      "authorship_tag": "ABX9TyPoX/KH9DdGIPDq0ZmcRjju",
      "include_colab_link": true
    },
    "kernelspec": {
      "name": "python3",
      "display_name": "Python 3"
    }
  },
  "cells": [
    {
      "cell_type": "markdown",
      "metadata": {
        "id": "view-in-github",
        "colab_type": "text"
      },
      "source": [
        "<a href=\"https://colab.research.google.com/github/Hironobu-Kawaguchi/Hello-World/blob/master/courses/Calculus20200425.ipynb\" target=\"_parent\"><img src=\"https://colab.research.google.com/assets/colab-badge.svg\" alt=\"Open In Colab\"/></a>"
      ]
    },
    {
      "cell_type": "markdown",
      "metadata": {
        "id": "JHPwB7BVGpT3",
        "colab_type": "text"
      },
      "source": [
        "# 序 数理科学概論 第3回 2020/4/25"
      ]
    },
    {
      "cell_type": "markdown",
      "metadata": {
        "id": "9vK1XkggG-CS",
        "colab_type": "text"
      },
      "source": [
        "センター試験 平成29年度 数学IA 第3問"
      ]
    },
    {
      "cell_type": "markdown",
      "metadata": {
        "id": "2315aeljHSdH",
        "colab_type": "text"
      },
      "source": [
        "あたりが2本、はずれが2本の合計4本からなるくじがある。A,B,Cの3人にこの順に1本ずつくじを引く。ただし、1度引いたくじはもとに戻さない。"
      ]
    },
    {
      "cell_type": "markdown",
      "metadata": {
        "id": "Qq4-2vyVHegL",
        "colab_type": "text"
      },
      "source": [
        "##(1)\n",
        "A,Bの少なくとも一方があたりのくじを引く事象$E_1$の確率は、$\\cfrac{5}{6}$である。"
      ]
    },
    {
      "cell_type": "markdown",
      "metadata": {
        "id": "hJ4uOVm3OuHl",
        "colab_type": "text"
      },
      "source": [
        "2人ともはずれを引く事象の補集合\n",
        "$$1-\\frac{2\\times1}{4\\times3} = \\frac{5}{6}$$"
      ]
    },
    {
      "cell_type": "code",
      "metadata": {
        "id": "Dcy9MymnHpMZ",
        "colab_type": "code",
        "colab": {}
      },
      "source": [
        "from itertools import combinations, permutations"
      ],
      "execution_count": 0,
      "outputs": []
    },
    {
      "cell_type": "code",
      "metadata": {
        "id": "5w_p39_jIe0B",
        "colab_type": "code",
        "outputId": "c6451f39-f442-4996-a977-f81378dba7bf",
        "colab": {
          "base_uri": "https://localhost:8080/",
          "height": 51
        }
      },
      "source": [
        "numer = set()\n",
        "donom = set()\n",
        "for a, b in permutations(range(4), 2):\n",
        "    donom.add((a, b))\n",
        "    if a <= 1 or b <= 1:\n",
        "        numer.add((a, b))\n",
        "print('E1', len(numer), numer)\n",
        "print('Ω', len(donom), donom)"
      ],
      "execution_count": 2,
      "outputs": [
        {
          "output_type": "stream",
          "text": [
            "E1 10 {(0, 1), (1, 2), (1, 3), (3, 0), (3, 1), (2, 1), (2, 0), (1, 0), (0, 2), (0, 3)}\n",
            "Ω 12 {(0, 1), (1, 2), (3, 2), (1, 3), (3, 0), (3, 1), (2, 1), (2, 0), (2, 3), (1, 0), (0, 2), (0, 3)}\n"
          ],
          "name": "stdout"
        }
      ]
    },
    {
      "cell_type": "markdown",
      "metadata": {
        "id": "NYmLtVJQJM_A",
        "colab_type": "text"
      },
      "source": [
        "## (2)\n",
        "A,B,Cの3人で2本のあたりのくじを引く事象$E$は、3つの排反な事象  \n",
        "①Aだけがはずれのくじを引く事象、  \n",
        "③Bだけがはずれのくじを引く事象、  \n",
        "⑤Cだけがはずれのくじを引く事象、の和事象である。"
      ]
    },
    {
      "cell_type": "markdown",
      "metadata": {
        "id": "0yfjr11FLDtI",
        "colab_type": "text"
      },
      "source": [
        "また、その和事象の確率は$\\cfrac{1}{2}$である。"
      ]
    },
    {
      "cell_type": "markdown",
      "metadata": {
        "id": "AAk13B49PECy",
        "colab_type": "text"
      },
      "source": [
        "はずれ、あたり、あたりとなる事象の3倍（はずれ3人分）\n",
        "$$\\frac{2\\times2\\times1}{4\\times3\\times2}\\times3 = \\frac{1}{2}$$"
      ]
    },
    {
      "cell_type": "code",
      "metadata": {
        "id": "0H3Cd9yOLjqL",
        "colab_type": "code",
        "outputId": "77448f59-940c-471e-a789-20ea51092f0e",
        "colab": {
          "base_uri": "https://localhost:8080/",
          "height": 71
        }
      },
      "source": [
        "numer = set()\n",
        "donom = set()\n",
        "p = []\n",
        "for a, b, c in permutations(range(4), 3):\n",
        "    donom.add((a, b, c))\n",
        "    if ((a<=1) + (b<=1) + (c<=1)) == 2:\n",
        "        numer.add((a, b, c))\n",
        "print('E ', len(numer), numer)\n",
        "print('Ω', len(donom), donom)"
      ],
      "execution_count": 3,
      "outputs": [
        {
          "output_type": "stream",
          "text": [
            "E  12 {(1, 0, 3), (1, 2, 0), (2, 1, 0), (0, 1, 2), (3, 1, 0), (0, 3, 1), (0, 1, 3), (1, 3, 0), (2, 0, 1), (3, 0, 1), (0, 2, 1), (1, 0, 2)}\n",
            "Ω 24 {(3, 0, 2), (1, 0, 3), (1, 3, 2), (0, 1, 2), (0, 1, 3), (1, 3, 0), (2, 3, 0), (0, 2, 1), (2, 3, 1), (0, 2, 3), (2, 0, 1), (0, 3, 2), (1, 2, 0), (3, 1, 2), (3, 2, 0), (2, 0, 3), (3, 2, 1), (3, 1, 0), (0, 3, 1), (1, 2, 3), (2, 1, 3), (2, 1, 0), (3, 0, 1), (1, 0, 2)}\n"
          ],
          "name": "stdout"
        }
      ]
    },
    {
      "cell_type": "markdown",
      "metadata": {
        "id": "g_dr_kGBMGve",
        "colab_type": "text"
      },
      "source": [
        "## (3)\n",
        "事象$E_1$が起こったときの事象$E$の起こる条件付確率は、$\\cfrac{3}{5}$である。"
      ]
    },
    {
      "cell_type": "markdown",
      "metadata": {
        "id": "9huoJ_syQjqi",
        "colab_type": "text"
      },
      "source": [
        "$$\n",
        "\\begin{eqnarray}\n",
        "P(E \\mid E_1) &=& \\frac{P(E_1 \\cap E)}{P(E_1)} \\\\\n",
        "              &=& \\cfrac{12/24}{10/12} \\\\\n",
        "              &=& \\frac{3}{5}\n",
        "\\end{eqnarray}\n",
        "$$"
      ]
    },
    {
      "cell_type": "code",
      "metadata": {
        "id": "dTVPdU6QQBL3",
        "colab_type": "code",
        "outputId": "cdc7b603-3995-4f3e-b31b-7fc1603a93e4",
        "colab": {
          "base_uri": "https://localhost:8080/",
          "height": 88
        }
      },
      "source": [
        "numer = set()\n",
        "donom = set()\n",
        "p = []\n",
        "for a, b, c in permutations(range(4), 3):\n",
        "    if a <= 1 or b <= 1:\n",
        "        donom.add((a,b,c))\n",
        "        if ((a<=1) + (b<=1) + (c<=1)) == 2:\n",
        "            numer.add((a,b,c))\n",
        "print('p1')\n",
        "print('E ', len(numer), numer)\n",
        "print('E1', len(donom), donom)"
      ],
      "execution_count": 4,
      "outputs": [
        {
          "output_type": "stream",
          "text": [
            "p1\n",
            "E  12 {(1, 0, 3), (1, 2, 0), (2, 1, 0), (0, 1, 2), (3, 1, 0), (0, 3, 1), (0, 1, 3), (1, 3, 0), (2, 0, 1), (3, 0, 1), (0, 2, 1), (1, 0, 2)}\n",
            "E1 20 {(0, 3, 2), (1, 0, 3), (3, 0, 2), (3, 1, 2), (1, 2, 0), (1, 3, 2), (2, 0, 3), (2, 1, 0), (0, 1, 2), (0, 2, 3), (3, 1, 0), (0, 3, 1), (0, 1, 3), (1, 2, 3), (1, 3, 0), (2, 0, 1), (3, 0, 1), (0, 2, 1), (2, 1, 3), (1, 0, 2)}\n"
          ],
          "name": "stdout"
        }
      ]
    },
    {
      "cell_type": "markdown",
      "metadata": {
        "id": "oXwKgSoQQSYK",
        "colab_type": "text"
      },
      "source": [
        "## (4)\n",
        "B,Cの少なくとも一方があたりのくじを引く事象$E_2$は、3つの排反な事象 \\\\\n",
        "⓪Aがはずれのくじを引く事象、  \n",
        "③Bだけがはずれのくじを引く事象、  \n",
        "⑤Cだけがはずれのくじを引く事象、の和事象である。"
      ]
    },
    {
      "cell_type": "markdown",
      "metadata": {
        "id": "Sq0_GkwlYocO",
        "colab_type": "text"
      },
      "source": [
        "$$\\frac{2}{4} + \\frac{2\\times2\\times1}{4\\times3\\times2}\\times2 = \\frac{3+2}{6}$$"
      ]
    },
    {
      "cell_type": "markdown",
      "metadata": {
        "id": "FLfDeqgBT9Uo",
        "colab_type": "text"
      },
      "source": [
        "また、その和事象の確率は$\\cfrac{5}{6}$である。"
      ]
    },
    {
      "cell_type": "markdown",
      "metadata": {
        "id": "gLPH8YfsTGWK",
        "colab_type": "text"
      },
      "source": [
        "他方、A,Cの少なくとも一方があたりのくじをひく事象$E_3$の確率は$\\cfrac{5}{6}$である。"
      ]
    },
    {
      "cell_type": "markdown",
      "metadata": {
        "id": "mG0gW5xdUI49",
        "colab_type": "text"
      },
      "source": [
        "## (5)\n",
        "事象$E_1$が起こったときの事象$E$の起こる条件付き確率$p_1$、事象$E_2$が起こったときの事象$E$の起こる条件付き確率$p_2$、事象$E_3$が起こったときの事象$E$の起こる条件付き確率$p_3$の間の大小関係は、⑥$p_1 = p_2 = p_3$である。"
      ]
    },
    {
      "cell_type": "code",
      "metadata": {
        "id": "b05V-MLQVXAi",
        "colab_type": "code",
        "outputId": "17134949-69e3-461c-d800-6f3d206bf98f",
        "colab": {
          "base_uri": "https://localhost:8080/",
          "height": 88
        }
      },
      "source": [
        "numer = set()\n",
        "donom = set()\n",
        "p = []\n",
        "for a, b, c in permutations(range(4), 3):\n",
        "    if b <= 1 or c <= 1:\n",
        "        donom.add((a,b,c))\n",
        "        if ((a<=1) + (b<=1) + (c<=1)) == 2:\n",
        "            numer.add((a,b,c))\n",
        "print('p2')\n",
        "print('E ', len(numer), numer)\n",
        "print('E2', len(donom), donom)"
      ],
      "execution_count": 5,
      "outputs": [
        {
          "output_type": "stream",
          "text": [
            "p2\n",
            "E  12 {(1, 0, 3), (1, 2, 0), (2, 1, 0), (0, 1, 2), (3, 1, 0), (0, 3, 1), (0, 1, 3), (1, 3, 0), (2, 0, 1), (3, 0, 1), (0, 2, 1), (1, 0, 2)}\n",
            "E2 20 {(3, 0, 2), (1, 0, 3), (3, 2, 0), (3, 1, 2), (1, 2, 0), (2, 0, 3), (2, 1, 0), (3, 2, 1), (0, 1, 2), (3, 1, 0), (2, 3, 1), (0, 3, 1), (0, 1, 3), (1, 3, 0), (2, 0, 1), (2, 3, 0), (3, 0, 1), (0, 2, 1), (2, 1, 3), (1, 0, 2)}\n"
          ],
          "name": "stdout"
        }
      ]
    },
    {
      "cell_type": "code",
      "metadata": {
        "id": "KkDfiWrcXUvi",
        "colab_type": "code",
        "outputId": "1c14d9b8-44de-41cd-e2fc-224abf346383",
        "colab": {
          "base_uri": "https://localhost:8080/",
          "height": 88
        }
      },
      "source": [
        "numer = set()\n",
        "donom = set()\n",
        "p = []\n",
        "for a, b, c in permutations(range(4), 3):\n",
        "    if a <= 1 or c <= 1:\n",
        "        donom.add((a,b,c))\n",
        "        if ((a<=1) + (b<=1) + (c<=1)) == 2:\n",
        "            numer.add((a,b,c))\n",
        "print('p3')\n",
        "print('E ', len(numer), numer)\n",
        "print('E3', len(donom), donom)"
      ],
      "execution_count": 6,
      "outputs": [
        {
          "output_type": "stream",
          "text": [
            "p3\n",
            "E  12 {(1, 0, 3), (1, 2, 0), (2, 1, 0), (0, 1, 2), (3, 1, 0), (0, 3, 1), (0, 1, 3), (1, 3, 0), (2, 0, 1), (3, 0, 1), (0, 2, 1), (1, 0, 2)}\n",
            "E3 20 {(0, 3, 2), (1, 0, 3), (3, 2, 0), (1, 2, 0), (1, 3, 2), (2, 1, 0), (3, 2, 1), (0, 1, 2), (0, 2, 3), (3, 1, 0), (0, 3, 1), (0, 1, 3), (1, 2, 3), (1, 3, 0), (2, 0, 1), (2, 3, 0), (3, 0, 1), (0, 2, 1), (2, 3, 1), (1, 0, 2)}\n"
          ],
          "name": "stdout"
        }
      ]
    },
    {
      "cell_type": "code",
      "metadata": {
        "id": "ntS-GIKYXsoY",
        "colab_type": "code",
        "colab": {}
      },
      "source": [
        ""
      ],
      "execution_count": 0,
      "outputs": []
    }
  ]
}