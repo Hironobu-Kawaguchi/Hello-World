{
  "nbformat": 4,
  "nbformat_minor": 0,
  "metadata": {
    "colab": {
      "name": "Calculus20200425.ipynb",
      "provenance": [],
      "collapsed_sections": [],
      "toc_visible": true,
      "authorship_tag": "ABX9TyNph43D3EZ+ycJ5dbH8Tl+W",
      "include_colab_link": true
    },
    "kernelspec": {
      "name": "python3",
      "display_name": "Python 3"
    }
  },
  "cells": [
    {
      "cell_type": "markdown",
      "metadata": {
        "id": "view-in-github",
        "colab_type": "text"
      },
      "source": [
        "<a href=\"https://colab.research.google.com/github/Hironobu-Kawaguchi/Hello-World/blob/master/courses/Calculus20200425.ipynb\" target=\"_parent\"><img src=\"https://colab.research.google.com/assets/colab-badge.svg\" alt=\"Open In Colab\"/></a>"
      ]
    },
    {
      "cell_type": "markdown",
      "metadata": {
        "id": "JHPwB7BVGpT3",
        "colab_type": "text"
      },
      "source": [
        "# 序 数理科学概論 第3回 2020/4/25"
      ]
    },
    {
      "cell_type": "markdown",
      "metadata": {
        "id": "9vK1XkggG-CS",
        "colab_type": "text"
      },
      "source": [
        "センター試験 平成29年度 数学IA 第3問"
      ]
    },
    {
      "cell_type": "markdown",
      "metadata": {
        "id": "2315aeljHSdH",
        "colab_type": "text"
      },
      "source": [
        "あたりが2本、はずれが2本の合計4本からなるくじがある。A,B,Cの3人にこの順に1本ずつくじを引く。ただし、1度引いたくじはもとに戻さない。"
      ]
    },
    {
      "cell_type": "markdown",
      "metadata": {
        "id": "Qq4-2vyVHegL",
        "colab_type": "text"
      },
      "source": [
        "##(1)\n",
        "A,Bの少なくとも一方があたりのくじを引く事象$E_1$の確率は、$\\cfrac{5}{6}$である。"
      ]
    },
    {
      "cell_type": "markdown",
      "metadata": {
        "id": "hJ4uOVm3OuHl",
        "colab_type": "text"
      },
      "source": [
        "2人ともはずれを引く事象の補集合\n",
        "$$1-\\frac{2\\times1}{4\\times3} = \\frac{5}{6}$$"
      ]
    },
    {
      "cell_type": "code",
      "metadata": {
        "id": "Dcy9MymnHpMZ",
        "colab_type": "code",
        "colab": {}
      },
      "source": [
        "from itertools import combinations, permutations"
      ],
      "execution_count": 0,
      "outputs": []
    },
    {
      "cell_type": "code",
      "metadata": {
        "id": "5w_p39_jIe0B",
        "colab_type": "code",
        "outputId": "934e653b-bdda-4b0d-ec95-8ad18c048da3",
        "colab": {
          "base_uri": "https://localhost:8080/",
          "height": 51
        }
      },
      "source": [
        "numer = 0\n",
        "donom = 0\n",
        "p = []\n",
        "for a, b in permutations(range(4), 2):\n",
        "    p.append((a, b))\n",
        "    donom += 1\n",
        "    if a <= 1 or b <= 1:\n",
        "        numer += 1\n",
        "print(numer, donom)\n",
        "print(p)"
      ],
      "execution_count": 2,
      "outputs": [
        {
          "output_type": "stream",
          "text": [
            "10 12\n",
            "[(0, 1), (0, 2), (0, 3), (1, 0), (1, 2), (1, 3), (2, 0), (2, 1), (2, 3), (3, 0), (3, 1), (3, 2)]\n"
          ],
          "name": "stdout"
        }
      ]
    },
    {
      "cell_type": "markdown",
      "metadata": {
        "id": "NYmLtVJQJM_A",
        "colab_type": "text"
      },
      "source": [
        "## (2)\n",
        "A,B,Cの3人で2本のあたりのくじを引く事象$E$は、3つの排反な事象  \n",
        "①Aだけがはずれのくじを引く事象、  \n",
        "③Bだけがはずれのくじを引く事象、  \n",
        "⑤Cだけがはずれのくじを引く事象、の和事象である。"
      ]
    },
    {
      "cell_type": "markdown",
      "metadata": {
        "id": "0yfjr11FLDtI",
        "colab_type": "text"
      },
      "source": [
        "また、その和事象の確率は$\\cfrac{1}{2}$である。"
      ]
    },
    {
      "cell_type": "markdown",
      "metadata": {
        "id": "AAk13B49PECy",
        "colab_type": "text"
      },
      "source": [
        "はずれ、あたり、あたりとなる事象の3倍（はずれ3人分）\n",
        "$$\\frac{2\\times2\\times1}{4\\times3\\times2}\\times3 = \\frac{1}{2}$$"
      ]
    },
    {
      "cell_type": "code",
      "metadata": {
        "id": "0H3Cd9yOLjqL",
        "colab_type": "code",
        "outputId": "4445a0e7-6812-4969-990e-b85690260ae1",
        "colab": {
          "base_uri": "https://localhost:8080/",
          "height": 71
        }
      },
      "source": [
        "numer = 0\n",
        "donom = 0\n",
        "p = []\n",
        "for a, b, c in permutations(range(4), 3):\n",
        "    p.append((a, b, c))\n",
        "    donom += 1\n",
        "    if ((a<=1) + (b<=1) + (c<=1)) == 2:\n",
        "        numer += 1\n",
        "print(numer, donom)\n",
        "print(p)"
      ],
      "execution_count": 3,
      "outputs": [
        {
          "output_type": "stream",
          "text": [
            "12 24\n",
            "[(0, 1, 2), (0, 1, 3), (0, 2, 1), (0, 2, 3), (0, 3, 1), (0, 3, 2), (1, 0, 2), (1, 0, 3), (1, 2, 0), (1, 2, 3), (1, 3, 0), (1, 3, 2), (2, 0, 1), (2, 0, 3), (2, 1, 0), (2, 1, 3), (2, 3, 0), (2, 3, 1), (3, 0, 1), (3, 0, 2), (3, 1, 0), (3, 1, 2), (3, 2, 0), (3, 2, 1)]\n"
          ],
          "name": "stdout"
        }
      ]
    },
    {
      "cell_type": "markdown",
      "metadata": {
        "id": "g_dr_kGBMGve",
        "colab_type": "text"
      },
      "source": [
        "## (3)\n",
        "事象$E_1$が起こったときの事象$E$の起こる条件付確率は、$\\cfrac{3}{5}$である。"
      ]
    },
    {
      "cell_type": "markdown",
      "metadata": {
        "id": "9huoJ_syQjqi",
        "colab_type": "text"
      },
      "source": [
        "$$\n",
        "\\begin{eqnarray}\n",
        "P(E \\mid E_1) &=& \\frac{P(E_1 \\cap E)}{P(E_1)} \\\\\n",
        "              &=& \\cfrac{12/24}{10/12} \\\\\n",
        "              &=& \\frac{3}{5}\n",
        "\\end{eqnarray}\n",
        "$$"
      ]
    },
    {
      "cell_type": "code",
      "metadata": {
        "id": "dTVPdU6QQBL3",
        "colab_type": "code",
        "outputId": "dd21d0b4-05d0-4f4b-d0dc-359f6f836b68",
        "colab": {
          "base_uri": "https://localhost:8080/",
          "height": 71
        }
      },
      "source": [
        "numer = 0\n",
        "donom = 0\n",
        "p = []\n",
        "for a, b, c in permutations(range(4), 3):\n",
        "    p.append((a, b, c))\n",
        "    if a <= 1 or b <= 1:\n",
        "        donom += 1\n",
        "    if ((a<=1) + (b<=1) + (c<=1)) == 2:\n",
        "        numer += 1\n",
        "print('p1 = {}/{}'.format(numer, donom))\n",
        "print(p)"
      ],
      "execution_count": 4,
      "outputs": [
        {
          "output_type": "stream",
          "text": [
            "p1 = 12/20\n",
            "[(0, 1, 2), (0, 1, 3), (0, 2, 1), (0, 2, 3), (0, 3, 1), (0, 3, 2), (1, 0, 2), (1, 0, 3), (1, 2, 0), (1, 2, 3), (1, 3, 0), (1, 3, 2), (2, 0, 1), (2, 0, 3), (2, 1, 0), (2, 1, 3), (2, 3, 0), (2, 3, 1), (3, 0, 1), (3, 0, 2), (3, 1, 0), (3, 1, 2), (3, 2, 0), (3, 2, 1)]\n"
          ],
          "name": "stdout"
        }
      ]
    },
    {
      "cell_type": "markdown",
      "metadata": {
        "id": "oXwKgSoQQSYK",
        "colab_type": "text"
      },
      "source": [
        "## (4)\n",
        "B,Cの少なくとも一方があたりのくじを引く事象$E_2$は、3つの排反な事象 \\\\\n",
        "⓪Aがはずれのくじを引く事象、  \n",
        "③Bだけがはずれのくじを引く事象、  \n",
        "⑤Cだけがはずれのくじを引く事象、の和事象である。"
      ]
    },
    {
      "cell_type": "markdown",
      "metadata": {
        "id": "Sq0_GkwlYocO",
        "colab_type": "text"
      },
      "source": [
        "$$\\frac{2}{4} + \\frac{2\\times2\\times1}{4\\times3\\times2}\\times2 = \\frac{3+2}{6}$$"
      ]
    },
    {
      "cell_type": "markdown",
      "metadata": {
        "id": "FLfDeqgBT9Uo",
        "colab_type": "text"
      },
      "source": [
        "また、その和事象の確率は$\\cfrac{5}{6}$である。"
      ]
    },
    {
      "cell_type": "markdown",
      "metadata": {
        "id": "gLPH8YfsTGWK",
        "colab_type": "text"
      },
      "source": [
        "他方、A,Cの少なくとも一方があたりのくじをひく事象$E_3$の確率は$\\cfrac{5}{6}$である。"
      ]
    },
    {
      "cell_type": "markdown",
      "metadata": {
        "id": "mG0gW5xdUI49",
        "colab_type": "text"
      },
      "source": [
        "## (5)\n",
        "事象$E_1$が起こったときの事象$E$の起こる条件付き確率$p_1$、事象$E_2$が起こったときの事象$E$の起こる条件付き確率$p_2$、事象$E_3$が起こったときの事象$E$の起こる条件付き確率$p_3$の間の大小関係は、⑥$p_1 = p_2 = p_3$である。"
      ]
    },
    {
      "cell_type": "code",
      "metadata": {
        "id": "b05V-MLQVXAi",
        "colab_type": "code",
        "outputId": "db6b6149-99a2-44ff-c988-5d02b2fedc36",
        "colab": {
          "base_uri": "https://localhost:8080/",
          "height": 71
        }
      },
      "source": [
        "numer = 0\n",
        "donom = 0\n",
        "p = []\n",
        "for a, b, c in permutations(range(4), 3):\n",
        "    p.append((a, b, c))\n",
        "    if b <= 1 or c <= 1:\n",
        "        donom += 1\n",
        "    if ((a<=1) + (b<=1) + (c<=1)) == 2:\n",
        "        numer += 1\n",
        "print('p2 = {}/{}'.format(numer, donom))\n",
        "print(p)"
      ],
      "execution_count": 5,
      "outputs": [
        {
          "output_type": "stream",
          "text": [
            "p2 = 12/20\n",
            "[(0, 1, 2), (0, 1, 3), (0, 2, 1), (0, 2, 3), (0, 3, 1), (0, 3, 2), (1, 0, 2), (1, 0, 3), (1, 2, 0), (1, 2, 3), (1, 3, 0), (1, 3, 2), (2, 0, 1), (2, 0, 3), (2, 1, 0), (2, 1, 3), (2, 3, 0), (2, 3, 1), (3, 0, 1), (3, 0, 2), (3, 1, 0), (3, 1, 2), (3, 2, 0), (3, 2, 1)]\n"
          ],
          "name": "stdout"
        }
      ]
    },
    {
      "cell_type": "code",
      "metadata": {
        "id": "KkDfiWrcXUvi",
        "colab_type": "code",
        "outputId": "29d63e97-4fb7-46b2-e9e1-5cc1933a455d",
        "colab": {
          "base_uri": "https://localhost:8080/",
          "height": 71
        }
      },
      "source": [
        "numer = 0\n",
        "donom = 0\n",
        "p = []\n",
        "for a, b, c in permutations(range(4), 3):\n",
        "    p.append((a, b, c))\n",
        "    if a <= 1 or c <= 1:\n",
        "        donom += 1\n",
        "    if ((a<=1) + (b<=1) + (c<=1)) == 2:\n",
        "        numer += 1\n",
        "print('p3 = {}/{}'.format(numer, donom))\n",
        "print(p)"
      ],
      "execution_count": 6,
      "outputs": [
        {
          "output_type": "stream",
          "text": [
            "p3 = 12/20\n",
            "[(0, 1, 2), (0, 1, 3), (0, 2, 1), (0, 2, 3), (0, 3, 1), (0, 3, 2), (1, 0, 2), (1, 0, 3), (1, 2, 0), (1, 2, 3), (1, 3, 0), (1, 3, 2), (2, 0, 1), (2, 0, 3), (2, 1, 0), (2, 1, 3), (2, 3, 0), (2, 3, 1), (3, 0, 1), (3, 0, 2), (3, 1, 0), (3, 1, 2), (3, 2, 0), (3, 2, 1)]\n"
          ],
          "name": "stdout"
        }
      ]
    },
    {
      "cell_type": "code",
      "metadata": {
        "id": "ntS-GIKYXsoY",
        "colab_type": "code",
        "colab": {}
      },
      "source": [
        ""
      ],
      "execution_count": 0,
      "outputs": []
    }
  ]
}