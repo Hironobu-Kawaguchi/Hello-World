{
  "nbformat": 4,
  "nbformat_minor": 0,
  "metadata": {
    "colab": {
      "name": "Python_workbook.ipynb",
      "provenance": [],
      "collapsed_sections": [
        "8IgNEcLVmNNF"
      ],
      "authorship_tag": "ABX9TyNj50l2zb0/AfWd6bXDhCkg",
      "include_colab_link": true
    },
    "kernelspec": {
      "name": "python3",
      "display_name": "Python 3"
    }
  },
  "cells": [
    {
      "cell_type": "markdown",
      "metadata": {
        "id": "view-in-github",
        "colab_type": "text"
      },
      "source": [
        "<a href=\"https://colab.research.google.com/github/Hironobu-Kawaguchi/Hello-World/blob/master/courses/Python_workbook.ipynb\" target=\"_parent\"><img src=\"https://colab.research.google.com/assets/colab-badge.svg\" alt=\"Open In Colab\"/></a>"
      ]
    },
    {
      "cell_type": "markdown",
      "metadata": {
        "id": "ZAkycr0mbqsN",
        "colab_type": "text"
      },
      "source": [
        "# [Python問題集](https://github.com/tomonari-masada/courses/blob/master/python-intro-2020/Python%E5%95%8F%E9%A1%8C%E9%9B%86.pdf)"
      ]
    },
    {
      "cell_type": "markdown",
      "metadata": {
        "id": "-nuiwX-Ub4QN",
        "colab_type": "text"
      },
      "source": [
        "## 問1\n",
        "- 1000以上2000以下の整数のうち、\n",
        "- 7で割り切れ、かつ、5で割り切れないものをすべて、\n",
        "- 「,」で区切って画⾯に表⽰してみよう。"
      ]
    },
    {
      "cell_type": "code",
      "metadata": {
        "id": "mfoG5Rsjb-bC",
        "colab_type": "code",
        "outputId": "ac24eaf5-d1be-449c-c072-ec7ac99d8022",
        "colab": {
          "base_uri": "https://localhost:8080/",
          "height": 54
        }
      },
      "source": [
        "ans = []\n",
        "for i in range(1000, 2001):\n",
        "  if i%7==0 and i%5:\n",
        "    ans.append(str(i))\n",
        "print(','.join(ans))"
      ],
      "execution_count": 1,
      "outputs": [
        {
          "output_type": "stream",
          "text": [
            "1001,1008,1022,1029,1036,1043,1057,1064,1071,1078,1092,1099,1106,1113,1127,1134,1141,1148,1162,1169,1176,1183,1197,1204,1211,1218,1232,1239,1246,1253,1267,1274,1281,1288,1302,1309,1316,1323,1337,1344,1351,1358,1372,1379,1386,1393,1407,1414,1421,1428,1442,1449,1456,1463,1477,1484,1491,1498,1512,1519,1526,1533,1547,1554,1561,1568,1582,1589,1596,1603,1617,1624,1631,1638,1652,1659,1666,1673,1687,1694,1701,1708,1722,1729,1736,1743,1757,1764,1771,1778,1792,1799,1806,1813,1827,1834,1841,1848,1862,1869,1876,1883,1897,1904,1911,1918,1932,1939,1946,1953,1967,1974,1981,1988\n"
          ],
          "name": "stdout"
        }
      ]
    },
    {
      "cell_type": "markdown",
      "metadata": {
        "id": "1_Km_4dicUFT",
        "colab_type": "text"
      },
      "source": [
        "## 問2\n",
        "- 「,」で区切られた複数の単語の列を、\n",
        " - 例：\"with,go,apple,late,set\"\n",
        "- ⼀つの⻑い⽂字列として、キーボード⼊⼒で受け取り、\n",
        "- それらの単語を辞書式順に並び替えてから、\n",
        "- やはり「,」で区切られた単語の列として、\n",
        "- 画⾯に表⽰してみよう。\n",
        " - 例：\"apple,go,late,set,with\""
      ]
    },
    {
      "cell_type": "code",
      "metadata": {
        "id": "x5Uvu17vcZkL",
        "colab_type": "code",
        "outputId": "fb94aea9-b282-41b5-ed5b-4298c96524da",
        "colab": {
          "base_uri": "https://localhost:8080/",
          "height": 51
        }
      },
      "source": [
        "s = input()\n",
        "word_list = s.split(',')\n",
        "word_list.sort()\n",
        "','.join(word_list)"
      ],
      "execution_count": 2,
      "outputs": [
        {
          "output_type": "stream",
          "text": [
            "with,go,apple,late,set\n"
          ],
          "name": "stdout"
        },
        {
          "output_type": "execute_result",
          "data": {
            "text/plain": [
              "'apple,go,late,set,with'"
            ]
          },
          "metadata": {
            "tags": []
          },
          "execution_count": 2
        }
      ]
    },
    {
      "cell_type": "markdown",
      "metadata": {
        "id": "vbY4Re-OdaJ4",
        "colab_type": "text"
      },
      "source": [
        "## 問3\n",
        "- 「,」で区切られた複数の単語の列を、\n",
        " - 例：\"with,go,apple,late,set\"\n",
        "- ⼀つの⻑い⽂字列として、キーボード⼊⼒で受け取り、\n",
        "- 各々の単語をキー(key)とし、\n",
        "- その単語の⻑さを値(value)とするような辞書を作り、\n",
        "- その辞書をそのまま画⾯に表⽰させてみよう"
      ]
    },
    {
      "cell_type": "code",
      "metadata": {
        "id": "XyKC3WKndpio",
        "colab_type": "code",
        "outputId": "16c61a76-8a27-44e4-83e1-00dc5e174ad6",
        "colab": {
          "base_uri": "https://localhost:8080/",
          "height": 51
        }
      },
      "source": [
        "s = input()\n",
        "word_list = s.split(',')\n",
        "word_dic = dict()\n",
        "for c in word_list:\n",
        "  word_dic[c] = len(c)\n",
        "print(word_dic)"
      ],
      "execution_count": 3,
      "outputs": [
        {
          "output_type": "stream",
          "text": [
            "with,go,apple,late,set\n",
            "{'with': 4, 'go': 2, 'apple': 5, 'late': 4, 'set': 3}\n"
          ],
          "name": "stdout"
        }
      ]
    },
    {
      "cell_type": "markdown",
      "metadata": {
        "id": "m3AH7WooekdH",
        "colab_type": "text"
      },
      "source": [
        "## 問4\n",
        "- 数をユーザに当てさせるゲームを作ろう。\n",
        " - プログラムの初めに0以上99以下の整数の乱数を発⽣させる。\n",
        " - この数を、以下のようにしてユーザに当てさせる。\n",
        " - ユーザは毎回キーボードから数を⼊⼒する。\n",
        " - もしその数が正解なら、正解である旨を表⽰してプログラムは終了。\n",
        " - そうでないなら、正解よりも⼤きな値か、あるいは⼩さな値かを、ヒントとして画⾯に表⽰する。\n",
        " - 正解にたどりつくまで、ユーザに数を⼊⼒させる。"
      ]
    },
    {
      "cell_type": "code",
      "metadata": {
        "id": "Oh2_NRaze4jH",
        "colab_type": "code",
        "outputId": "626dffdb-f904-4ef9-dd2f-2a60242725d5",
        "colab": {
          "base_uri": "https://localhost:8080/",
          "height": 187
        }
      },
      "source": [
        "import random\n",
        "ans = random.choice(range(100))\n",
        "while True:\n",
        "    n = int(input())\n",
        "    if n == ans:\n",
        "        print(\"Correct\")\n",
        "        break\n",
        "    elif n > ans:\n",
        "        print(\"Smaller\")\n",
        "    else:\n",
        "        print(\"Bigger\")    "
      ],
      "execution_count": 4,
      "outputs": [
        {
          "output_type": "stream",
          "text": [
            "50\n",
            "Smaller\n",
            "25\n",
            "Smaller\n",
            "12\n",
            "Smaller\n",
            "6\n",
            "Bigger\n",
            "9\n",
            "Correct\n"
          ],
          "name": "stdout"
        }
      ]
    },
    {
      "cell_type": "markdown",
      "metadata": {
        "id": "WJfwPizvf0dw",
        "colab_type": "text"
      },
      "source": [
        "## 問5\n",
        "- キーボード⼊⼒で、\n",
        "- 「0」と「1」だけから成る⽂字列を受け取り、\n",
        "- その⽂字列を2進数の数と解釈して、\n",
        "- 同じ値を8進数で表した場合の表記を⽂字列として作り、\n",
        "- 画⾯に表⽰させてみよう。"
      ]
    },
    {
      "cell_type": "code",
      "metadata": {
        "id": "rZrpI-PShBXs",
        "colab_type": "code",
        "outputId": "b9256777-b3c7-452f-ceb3-b60e10bb8579",
        "colab": {
          "base_uri": "https://localhost:8080/",
          "height": 51
        }
      },
      "source": [
        "format(int(input(), 2), 'o')"
      ],
      "execution_count": 5,
      "outputs": [
        {
          "output_type": "stream",
          "text": [
            "101010010101111\n"
          ],
          "name": "stdout"
        },
        {
          "output_type": "execute_result",
          "data": {
            "text/plain": [
              "'52257'"
            ]
          },
          "metadata": {
            "tags": []
          },
          "execution_count": 5
        }
      ]
    },
    {
      "cell_type": "markdown",
      "metadata": {
        "id": "8IgNEcLVmNNF",
        "colab_type": "text"
      },
      "source": [
        "## ex6.py"
      ]
    },
    {
      "cell_type": "code",
      "metadata": {
        "id": "Rq_eXFoLiBS7",
        "colab_type": "code",
        "colab": {}
      },
      "source": [
        "data = [(4.9,'2011/03/12 23:57:34'),\n",
        "(4.9,'2011/03/12 23:53:45'),\n",
        "(5.0,'2011/03/12 23:51:24'),\n",
        "(5.2,'2011/03/12 23:40:49'),\n",
        "(5.1,'2011/03/12 23:37:24'),\n",
        "(6.1,'2011/03/12 23:24:50'),\n",
        "(5.4,'2011/03/12 23:20:42'),\n",
        "(3.0,'2011/03/12 23:12:18'),\n",
        "(4.7,'2011/03/12 22:53:35'),\n",
        "(4.8,'2011/03/12 22:42:39'),\n",
        "(5.6,'2011/03/12 22:31:27'),\n",
        "(6.3,'2011/03/12 22:12:46'),\n",
        "(4.9,'2011/03/12 22:05:17'),\n",
        "(4.5,'2011/03/12 21:58:40'),\n",
        "(5.3,'2011/03/12 21:58:17'),\n",
        "(5.5,'2011/03/12 21:48:09'),\n",
        "(5.0,'2011/03/12 21:40:58'),\n",
        "(5.0,'2011/03/12 21:38:35'),\n",
        "(4.8,'2011/03/12 20:48:48'),\n",
        "(4.9,'2011/03/12 20:41:25'),\n",
        "(4.3,'2011/03/12 20:16:59'),\n",
        "(5.2,'2011/03/12 20:09:55'),\n",
        "(5.0,'2011/03/12 20:08:25'),\n",
        "(4.8,'2011/03/12 19:59:01'),\n",
        "(4.6,'2011/03/12 19:55:28'),\n",
        "(5.0,'2011/03/12 19:45:19'),\n",
        "(4.7,'2011/03/12 19:43:47'),\n",
        "(4.8,'2011/03/12 19:38:08'),\n",
        "(4.9,'2011/03/12 19:22:47'),\n",
        "(5.1,'2011/03/12 19:11:59'),\n",
        "(4.8,'2011/03/12 19:01:05'),\n",
        "(4.5,'2011/03/12 18:51:37'),\n",
        "(4.8,'2011/03/12 18:38:38'),\n",
        "(5.0,'2011/03/12 18:28:39'),\n",
        "(4.7,'2011/03/12 18:09:15'),\n",
        "(4.7,'2011/03/12 17:59:57'),\n",
        "(4.7,'2011/03/12 17:54:19'),\n",
        "(4.8,'2011/03/12 17:51:27'),\n",
        "(4.8,'2011/03/12 17:48:13'),\n",
        "(4.8,'2011/03/12 17:40:56'),\n",
        "(6.0,'2011/03/12 17:19:24'),\n",
        "(5.1,'2011/03/12 17:13:02'),\n",
        "(5.2,'2011/03/12 17:11:09'),\n",
        "(5.1,'2011/03/12 17:01:22'),\n",
        "(4.8,'2011/03/12 16:55:41'),\n",
        "(4.7,'2011/03/12 16:48:14'),\n",
        "(5.0,'2011/03/12 16:38:45'),\n",
        "(4.9,'2011/03/12 16:36:41'),\n",
        "(5.0,'2011/03/12 16:22:15'),\n",
        "(4.8,'2011/03/12 16:19:05'),\n",
        "(4.7,'2011/03/12 16:07:39'),\n",
        "(4.8,'2011/03/12 16:03:56'),\n",
        "(4.9,'2011/03/12 14:53:21'),\n",
        "(5.7,'2011/03/12 14:43:09'),\n",
        "(5.6,'2011/03/12 14:35:00'),\n",
        "(4.9,'2011/03/12 14:14:56'),\n",
        "(5.3,'2011/03/12 14:11:05'),\n",
        "(5.8,'2011/03/12 14:03:30'),\n",
        "(5.2,'2011/03/12 13:57:12'),\n",
        "(5.3,'2011/03/12 13:26:56'),\n",
        "(6.4,'2011/03/12 13:15:42'),\n",
        "(5.8,'2011/03/12 12:53:50'),\n",
        "(4.9,'2011/03/12 12:50:28'),\n",
        "(4.9,'2011/03/12 12:43:13'),\n",
        "(4.8,'2011/03/12 12:27:17'),\n",
        "(4.9,'2011/03/12 12:15:31'),\n",
        "(4.9,'2011/03/12 12:06:57'),\n",
        "(4.3,'2011/03/12 12:06:16'),\n",
        "(4.4,'2011/03/12 12:03:43'),\n",
        "(5.7,'2011/03/12 11:46:01'),\n",
        "(4.9,'2011/03/12 11:39:05'),\n",
        "(4.9,'2011/03/12 11:20:16'),\n",
        "(4.9,'2011/03/12 11:05:00'),\n",
        "(6.1,'2011/03/12 10:53:31'),\n",
        "(4.7,'2011/03/12 10:49:24'),\n",
        "(5.0,'2011/03/12 10:39:12'),\n",
        "(5.3,'2011/03/12 10:34:49'),\n",
        "(5.5,'2011/03/12 10:20:22'),\n",
        "(4.4,'2011/03/12 10:17:09'),\n",
        "(4.9,'2011/03/12 10:06:12'),\n",
        "(5.0,'2011/03/12 10:00:26'),\n",
        "(5.2,'2011/03/12 09:51:35'),\n",
        "(4.9,'2011/03/12 09:47:59'),\n",
        "(5.1,'2011/03/12 09:40:44'),\n",
        "(5.0,'2011/03/12 09:27:12'),\n",
        "(5.4,'2011/03/12 09:18:56'),\n",
        "(4.7,'2011/03/12 09:05:33'),\n",
        "(5.2,'2011/03/12 09:00:03'),\n",
        "(4.6,'2011/03/12 08:58:24'),\n",
        "(5.0,'2011/03/12 08:52:50'),\n",
        "(5.0,'2011/03/12 08:45:30'),\n",
        "(5.0,'2011/03/12 08:38:40'),\n",
        "(4.8,'2011/03/12 08:38:04'),\n",
        "(4.9,'2011/03/12 08:30:22'),\n",
        "(4.6,'2011/03/12 08:22:07'),\n",
        "(5.0,'2011/03/12 08:13:42'),\n",
        "(5.2,'2011/03/12 07:54:10'),\n",
        "(4.8,'2011/03/12 07:50:54'),\n",
        "(4.7,'2011/03/12 07:46:42'),\n",
        "(4.9,'2011/03/12 07:38:06'),\n",
        "(4.7,'2011/03/12 07:30:18'),\n",
        "(4.9,'2011/03/12 07:21:00'),\n",
        "(5.1,'2011/03/12 07:18:53'),\n",
        "(5.1,'2011/03/12 07:13:35'),\n",
        "(5.0,'2011/03/12 07:07:32'),\n",
        "(4.7,'2011/03/12 07:02:21'),\n",
        "(4.5,'2011/03/12 06:53:53'),\n",
        "(4.8,'2011/03/12 06:49:12'),\n",
        "(4.8,'2011/03/12 06:44:01'),\n",
        "(4.8,'2011/03/12 06:39:26'),\n",
        "(5.0,'2011/03/12 06:36:00'),\n",
        "(4.9,'2011/03/12 06:29:10'),\n",
        "(2.9,'2011/03/12 06:20:47'),\n",
        "(5.5,'2011/03/12 06:18:43'),\n",
        "(5.5,'2011/03/12 06:10:44'),\n",
        "(5.1,'2011/03/12 06:10:23'),\n",
        "(5.2,'2011/03/12 06:00:25'),\n",
        "(5.1,'2011/03/12 05:58:59'),\n",
        "(5.0,'2011/03/12 05:14:51'),\n",
        "(5.3,'2011/03/12 04:52:58'),\n",
        "(5.1,'2011/03/12 04:47:19'),\n",
        "(5.0,'2011/03/12 04:43:04'),\n",
        "(4.7,'2011/03/12 04:37:21'),\n",
        "(5.2,'2011/03/12 04:06:09'),\n",
        "(5.5,'2011/03/12 04:04:49'),\n",
        "(5.1,'2011/03/12 03:54:48'),\n",
        "(5.3,'2011/03/12 03:34:46'),\n",
        "(5.3,'2011/03/12 03:29:28'),\n",
        "(4.8,'2011/03/12 03:21:44'),\n",
        "(5.7,'2011/03/12 03:11:59'),\n",
        "(5.8,'2011/03/12 03:01:49'),\n",
        "(5.6,'2011/03/12 02:47:36'),\n",
        "(2.6,'2011/03/12 02:43:49'),\n",
        "(5.0,'2011/03/12 02:43:11'),\n",
        "(5.2,'2011/03/12 02:34:05'),\n",
        "(4.8,'2011/03/12 02:27:50'),\n",
        "(4.9,'2011/03/12 02:13:51'),\n",
        "(4.9,'2011/03/12 02:07:21'),\n",
        "(4.8,'2011/03/12 02:04:55'),\n",
        "(5.2,'2011/03/12 01:59:44'),\n",
        "(6.8,'2011/03/12 01:47:16'),\n",
        "(6.2,'2011/03/12 01:46:21'),\n",
        "(5.2,'2011/03/12 01:43:20'),\n",
        "(6.0,'2011/03/12 01:34:10'),\n",
        "(5.1,'2011/03/12 01:25:04'),\n",
        "(6.1,'2011/03/12 01:19:07'),\n",
        "(5.7,'2011/03/12 01:17:41'),\n",
        "(5.4,'2011/03/12 01:17:02'),\n",
        "(4.8,'2011/03/12 01:12:16'),\n",
        "(5.1,'2011/03/12 01:03:59'),\n",
        "(5.5,'2011/03/12 00:45:10'),\n",
        "(5.0,'2011/03/12 00:39:37'),\n",
        "(5.0,'2011/03/12 00:25:08'),\n",
        "(5.0,'2011/03/12 00:21:25'),\n",
        "(3.0,'2011/03/12 00:04:09'),   \n",
        "(5.4,'2011/03/11 23:59:21'),\n",
        "(5.3,'2011/03/11 23:58:04'),\n",
        "(5.1,'2011/03/11 23:53:29'),\n",
        "(5.1,'2011/03/11 23:40:12'),\n",
        "(4.9,'2011/03/11 23:31:23'),\n",
        "(5.3,'2011/03/11 23:26:51'),\n",
        "(5.0,'2011/03/11 23:21:22'),\n",
        "(4.9,'2011/03/11 23:05:15'),\n",
        "(5.4,'2011/03/11 22:54:28'),\n",
        "(5.8,'2011/03/11 22:51:18'),\n",
        "(5.3,'2011/03/11 22:42:59'),\n",
        "(5.0,'2011/03/11 22:36:57'),\n",
        "(4.6,'2011/03/11 22:29:42'),\n",
        "(4.9,'2011/03/11 22:22:36'),\n",
        "(4.7,'2011/03/11 22:08:14'),\n",
        "(2.9,'2011/03/11 22:01:26'),\n",
        "(5.2,'2011/03/11 21:41:58'),\n",
        "(4.8,'2011/03/11 21:34:25'),\n",
        "(5.4,'2011/03/11 21:00:46'),\n",
        "(5.1,'2011/03/11 20:41:24'),\n",
        "(5.5,'2011/03/11 20:36:10'),\n",
        "(5.1,'2011/03/11 20:34:40'),\n",
        "(5.5,'2011/03/11 20:23:44'),\n",
        "(6.3,'2011/03/11 20:11:23'),\n",
        "(6.6,'2011/03/11 19:46:49'),\n",
        "(3.2,'2011/03/11 19:46:27'),\n",
        "(5.2,'2011/03/11 19:45:24'),\n",
        "(5.5,'2011/03/11 19:31:56'),\n",
        "(5.5,'2011/03/11 19:24:29'),\n",
        "(6.1,'2011/03/11 19:02:59'),\n",
        "(6.2,'2011/03/11 18:59:15'),\n",
        "(4.9,'2011/03/11 18:55:15'),\n",
        "(5.1,'2011/03/11 18:44:06'),\n",
        "(4.9,'2011/03/11 18:43:14'),\n",
        "(4.9,'2011/03/11 18:39:34'),\n",
        "(5.9,'2011/03/11 18:17:06'),\n",
        "(5.7,'2011/03/11 18:11:24'),\n",
        "(4.7,'2011/03/11 18:02:39'),\n",
        "(5.0,'2011/03/11 17:50:01'),\n",
        "(5.4,'2011/03/11 17:32:14'),\n",
        "(5.1,'2011/03/11 17:30:48'),\n",
        "(5.0,'2011/03/11 17:23:57'),\n",
        "(5.5,'2011/03/11 17:17:00'),\n",
        "(4.8,'2011/03/11 17:15:00'),\n",
        "(5.0,'2011/03/11 17:12:41'),\n",
        "(5.0,'2011/03/11 16:55:53'),\n",
        "(4.8,'2011/03/11 16:54:53'),\n",
        "(5.0,'2011/03/11 16:34:22'),\n",
        "(5.0,'2011/03/11 16:20:52'),\n",
        "(5.5,'2011/03/11 16:11:27'),\n",
        "(5.3,'2011/03/11 16:04:53'),\n",
        "(5.0,'2011/03/11 15:55:23'),\n",
        "(5.0,'2011/03/11 15:50:59'),\n",
        "(5.0,'2011/03/11 15:46:02'),\n",
        "(5.4,'2011/03/11 15:42:05'),\n",
        "(4.9,'2011/03/11 15:36:16'),\n",
        "(5.2,'2011/03/11 15:32:34'),\n",
        "(5.6,'2011/03/11 15:19:38'),\n",
        "(6.2,'2011/03/11 15:13:15'),\n",
        "(5.0,'2011/03/11 15:01:39'),\n",
        "(5.8,'2011/03/11 14:56:16'),\n",
        "(5.4,'2011/03/11 14:54:04'),\n",
        "(5.1,'2011/03/11 14:44:08'),\n",
        "(5.4,'2011/03/11 14:26:31'),\n",
        "(5.1,'2011/03/11 14:20:20'),\n",
        "(2.6,'2011/03/11 14:18:29'),\n",
        "(5.2,'2011/03/11 14:10:39'),\n",
        "(5.5,'2011/03/11 14:00:38'),\n",
        "(4.9,'2011/03/11 13:58:50'),\n",
        "(5.2,'2011/03/11 13:55:28'),\n",
        "(5.3,'2011/03/11 13:48:38'),\n",
        "(5.6,'2011/03/11 13:43:10'),\n",
        "(4.9,'2011/03/11 13:42:27'),\n",
        "(5.6,'2011/03/11 13:34:36'),\n",
        "(5.1,'2011/03/11 13:31:55'),\n",
        "(2.5,'2011/03/11 13:21:37'),\n",
        "(5.8,'2011/03/11 13:16:50'),\n",
        "(5.1,'2011/03/11 13:15:45'),\n",
        "(5.3,'2011/03/11 13:02:43'),\n",
        "(5.3,'2011/03/11 12:59:21'),\n",
        "(5.4,'2011/03/11 12:54:52'),\n",
        "(5.6,'2011/03/11 12:49:01'),\n",
        "(5.3,'2011/03/11 12:34:22'),\n",
        "(5.2,'2011/03/11 12:33:19'),\n",
        "(5.2,'2011/03/11 12:28:45'),\n",
        "(5.3,'2011/03/11 12:24:37'),\n",
        "(3.3,'2011/03/11 12:15:07'),\n",
        "(5.9,'2011/03/11 12:12:53'),\n",
        "(5.1,'2011/03/11 12:04:16'),\n",
        "(5.5,'2011/03/11 11:56:16'),\n",
        "(5.1,'2011/03/11 11:54:02'),\n",
        "(5.8,'2011/03/11 11:46:47'),\n",
        "(5.8,'2011/03/11 11:44:28'),\n",
        "(6.5,'2011/03/11 11:36:39'),\n",
        "(5.7,'2011/03/11 11:21:02'),\n",
        "(5.5,'2011/03/11 11:16:51'),\n",
        "(5.5,'2011/03/11 11:13:12'),\n",
        "(5.5,'2011/03/11 11:10:58'),\n",
        "(5.6,'2011/03/11 11:00:51'),\n",
        "(5.1,'2011/03/11 10:58:06'),\n",
        "(3.2,'2011/03/11 10:56:23'),\n",
        "(5.0,'2011/03/11 10:52:08'),\n",
        "(5.5,'2011/03/11 10:45:46'),\n",
        "(5.3,'2011/03/11 10:35:36'),\n",
        "(5.9,'2011/03/11 10:28:44'),\n",
        "(5.6,'2011/03/11 10:20:27'),\n",
        "(6.0,'2011/03/11 10:10:35'),\n",
        "(5.2,'2011/03/11 09:59:57'),\n",
        "(5.5,'2011/03/11 09:47:02'),\n",
        "(2.5,'2011/03/11 09:45:08'),\n",
        "(5.2,'2011/03/11 09:42:22'),\n",
        "(5.4,'2011/03/11 09:37:08'),\n",
        "(3.0,'2011/03/11 09:33:58'),\n",
        "(2.9,'2011/03/11 09:24:53'),\n",
        "(2.6,'2011/03/11 09:14:36'),\n",
        "(2.6,'2011/03/11 09:10:26'),\n",
        "(5.5,'2011/03/11 09:09:15'),\n",
        "(2.8,'2011/03/11 09:05:22'),\n",
        "(5.4,'2011/03/11 09:04:10'),\n",
        "(2.5,'2011/03/11 09:03:56'),\n",
        "(2.5,'2011/03/11 09:03:44'),\n",
        "(3.3,'2011/03/11 09:03:38'),\n",
        "(5.2,'2011/03/11 09:00:20'),\n",
        "(4.6,'2011/03/11 08:58:26'),\n",
        "(5.4,'2011/03/11 08:52:26'),\n",
        "(5.5,'2011/03/11 08:46:48'),\n",
        "(5.9,'2011/03/11 08:40:56'),\n",
        "(6.1,'2011/03/11 08:31:08'),\n",
        "(6.5,'2011/03/11 08:19:24'),\n",
        "(6.2,'2011/03/11 08:15:41'),\n",
        "(6.2,'2011/03/11 08:12:05'),\n",
        "(5.5,'2011/03/11 08:10:31'),\n",
        "(5.9,'2011/03/11 08:01:59'),\n",
        "(5.6,'2011/03/11 07:56:16'),\n",
        "(5.7,'2011/03/11 07:54:45'),\n",
        "(5.8,'2011/03/11 07:42:55'),\n",
        "(5.9,'2011/03/11 07:38:27'),\n",
        "(4.4,'2011/03/11 07:36:12'),\n",
        "(6.1,'2011/03/11 07:28:12'),\n",
        "(6.1,'2011/03/11 07:25:33'),\n",
        "(6.3,'2011/03/11 07:14:59'),\n",
        "(5.9,'2011/03/11 07:13:47'),\n",
        "(5.8,'2011/03/11 07:11:00'),\n",
        "(6.3,'2011/03/11 06:57:15'),\n",
        "(6.3,'2011/03/11 06:48:47'),\n",
        "(7.1,'2011/03/11 06:25:51'),\n",
        "(3.3,'2011/03/11 06:18:04'),\n",
        "(6.8,'2011/03/11 06:15:40'),\n",
        "(6.4,'2011/03/11 06:07:22'),\n",
        "(6.4,'2011/03/11 06:06:11'),\n",
        "(8.9,'2011/03/11 05:46:24'),\n",
        "(3.4,'2011/03/11 04:51:25'),\n",
        "(4.8,'2011/03/11 04:28:21'),\n",
        "(4.5,'2011/03/11 04:05:41'),\n",
        "(2.6,'2011/03/11 02:55:42'),\n",
        "(2.9,'2011/03/11 02:52:08'),\n",
        "(2.5,'2011/03/11 02:32:09'),\n",
        "(2.8,'2011/03/11 01:02:00'),\n",
        "(2.5,'2011/03/11 00:53:59'),\n",
        "(4.0,'2011/03/11 00:25:29'),\n",
        "(5.3,'2011/03/11 00:14:51'),\n",
        "(4.9,'2011/03/10 22:44:26'),\n",
        "(4.7,'2011/03/10 21:49:47'),\n",
        "(2.8,'2011/03/10 20:49:08'),\n",
        "(2.5,'2011/03/10 19:44:35'),\n",
        "(5.0,'2011/03/10 19:06:11'),\n",
        "(3.4,'2011/03/10 18:10:05'),\n",
        "(6.5,'2011/03/10 17:08:37'),\n",
        "(5.2,'2011/03/10 16:54:45'),\n",
        "(3.2,'2011/03/10 15:56:25'),\n",
        "(4.7,'2011/03/10 15:22:52'),\n",
        "(4.7,'2011/03/10 14:30:34'),\n",
        "(4.6,'2011/03/10 14:24:46'),\n",
        "(2.7,'2011/03/10 13:45:34'),\n",
        "(2.8,'2011/03/10 11:52:58'),\n",
        "(5.1,'2011/03/10 11:21:08'),\n",
        "(2.7,'2011/03/10 10:58:37'),\n",
        "(5.2,'2011/03/10 09:02:22'),\n",
        "(4.8,'2011/03/10 08:59:19'),\n",
        "(5.7,'2011/03/10 08:08:21'),\n",
        "(3.1,'2011/03/10 07:41:31'),\n",
        "(4.8,'2011/03/10 07:33:04'),\n",
        "(4.2,'2011/03/10 07:07:09'),\n",
        "(3.2,'2011/03/10 06:19:01'),\n",
        "(2.5,'2011/03/10 05:57:39'),\n",
        "(2.5,'2011/03/10 05:01:11'),\n",
        "(5.4,'2011/03/10 04:58:18'),\n",
        "(4.6,'2011/03/10 04:26:48'),\n",
        "(4.6,'2011/03/10 04:14:00'),\n",
        "(2.8,'2011/03/10 02:34:17'),\n",
        "(2.9,'2011/03/10 01:38:14'),\n",
        "(5.0,'2011/03/10 01:20:24'),\n",
        "(2.9,'2011/03/10 00:14:41'),   \n",
        "(4.8,'2011/03/09 23:57:42'),\n",
        "(5.4,'2011/03/09 23:37:01'),\n",
        "(2.6,'2011/03/09 22:41:30'),\n",
        "(2.6,'2011/03/09 22:17:41'),\n",
        "(6.5,'2011/03/09 21:24:52'),\n",
        "(6.1,'2011/03/09 21:22:18'),\n",
        "(4.9,'2011/03/09 21:00:58'),\n",
        "(3.5,'2011/03/09 20:48:31'),\n",
        "(6.0,'2011/03/09 18:44:35'),\n",
        "(2.5,'2011/03/09 18:28:33'),\n",
        "(3.7,'2011/03/09 18:25:26'),\n",
        "(6.1,'2011/03/09 18:16:15'),\n",
        "(4.9,'2011/03/09 17:57:27'),\n",
        "(2.5,'2011/03/09 17:02:06'),\n",
        "(2.5,'2011/03/09 16:12:03'),\n",
        "(2.8,'2011/03/09 14:30:37'),\n",
        "(4.8,'2011/03/09 14:24:06'),\n",
        "(5.3,'2011/03/09 13:57:28'),\n",
        "(3.2,'2011/03/09 13:55:24'),\n",
        "(5.1,'2011/03/09 13:51:42'),\n",
        "(5.0,'2011/03/09 13:24:08'),\n",
        "(2.8,'2011/03/09 12:56:35'),\n",
        "(2.6,'2011/03/09 12:14:14'),\n",
        "(4.7,'2011/03/09 12:03:18'),\n",
        "(5.1,'2011/03/09 11:27:52'),\n",
        "(3.5,'2011/03/09 11:05:09'),\n",
        "(4.7,'2011/03/09 10:13:40'),\n",
        "(2.6,'2011/03/09 09:45:14'),\n",
        "(4.8,'2011/03/09 08:55:38'),\n",
        "(3.3,'2011/03/09 08:37:30'),\n",
        "(5.3,'2011/03/09 08:02:36'),\n",
        "(5.1,'2011/03/09 07:56:28'),\n",
        "(5.0,'2011/03/09 07:13:48'),\n",
        "(5.1,'2011/03/09 06:25:12'),\n",
        "(4.9,'2011/03/09 06:12:13'),\n",
        "(2.9,'2011/03/09 05:33:50'),\n",
        "(4.7,'2011/03/09 05:27:06'),\n",
        "(5.3,'2011/03/09 04:45:54'),\n",
        "(5.7,'2011/03/09 04:37:04'),\n",
        "(5.2,'2011/03/09 04:32:10'),\n",
        "(3.0,'2011/03/09 04:17:17'),\n",
        "(4.8,'2011/03/09 04:15:39'),\n",
        "(5.2,'2011/03/09 04:05:54'),\n",
        "(2.5,'2011/03/09 03:51:21'),\n",
        "(5.0,'2011/03/09 03:19:00'),\n",
        "(5.2,'2011/03/09 03:08:36'),\n",
        "(5.6,'2011/03/09 02:57:17'),\n",
        "(7.2,'2011/03/09 02:45:20'),\n",
        "(4.6,'2011/03/09 01:47:47'),\n",
        "(4.7,'2011/03/09 01:30:27')]\n"
      ],
      "execution_count": 0,
      "outputs": []
    },
    {
      "cell_type": "markdown",
      "metadata": {
        "id": "pAYS6LaniopB",
        "colab_type": "text"
      },
      "source": [
        "## 問6\n",
        "- ex6.pyというファイルでは、ある時系列データを表すリストを\n",
        "作っている。\n",
        "- このリストは、数値データと⽇時のペア（tuple）を多数含む。\n",
        "- このリストを使って、以下のような折れ線グラフを描こう。\n",
        " - 横軸は、時間的に最も早い⽇時を起点とした、経過秒数。\n",
        "   - 最も早い⽇時は2011/03/09 01:30:27。\n",
        " - 縦軸は、数値データそのまま。\n",
        " - 折れ線グラフの描き⽅は、ググって調べよう。"
      ]
    },
    {
      "cell_type": "code",
      "metadata": {
        "id": "T6bjKnahimKy",
        "colab_type": "code",
        "outputId": "92a84340-181d-49d0-dbcb-90ce5a709088",
        "colab": {
          "base_uri": "https://localhost:8080/",
          "height": 265
        }
      },
      "source": [
        "import datetime\n",
        "import matplotlib.pyplot as plt\n",
        "%matplotlib inline\n",
        "X, Y = [], []\n",
        "for y, x in data:\n",
        "    X.append(datetime.datetime.strptime(x, \"%Y/%m/%d %H:%M:%S\"))\n",
        "    Y.append(y)\n",
        "plt.plot(X, Y)\n",
        "plt.show()"
      ],
      "execution_count": 7,
      "outputs": [
        {
          "output_type": "display_data",
          "data": {
            "image/png": "[encoded data removed]",
            "text/plain": [
              "<Figure size 432x288 with 1 Axes>"
            ]
          },
          "metadata": {
            "tags": [],
            "needs_background": "light"
          }
        }
      ]
    },
    {
      "cell_type": "code",
      "metadata": {
        "id": "oVLpZ37gkGb7",
        "colab_type": "code",
        "colab": {}
      },
      "source": [
        ""
      ],
      "execution_count": 0,
      "outputs": []
    }
  ]
}