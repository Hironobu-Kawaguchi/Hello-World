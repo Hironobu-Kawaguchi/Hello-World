{
  "nbformat": 4,
  "nbformat_minor": 0,
  "metadata": {
    "colab": {
      "name": "Python_workbook_beginner.ipynb",
      "provenance": [],
      "collapsed_sections": [],
      "authorship_tag": "ABX9TyP5AoJ3GcHUdHsIFD8RTcg+",
      "include_colab_link": true
    },
    "kernelspec": {
      "name": "python3",
      "display_name": "Python 3"
    }
  },
  "cells": [
    {
      "cell_type": "markdown",
      "metadata": {
        "id": "view-in-github",
        "colab_type": "text"
      },
      "source": [
        "<a href=\"https://colab.research.google.com/github/Hironobu-Kawaguchi/Hello-World/blob/master/courses/Python_workbook_beginner.ipynb\" target=\"_parent\"><img src=\"https://colab.research.google.com/assets/colab-badge.svg\" alt=\"Open In Colab\"/></a>"
      ]
    },
    {
      "cell_type": "markdown",
      "metadata": {
        "id": "pA1JYVkuIM0H",
        "colab_type": "text"
      },
      "source": [
        "## [Python問題集 入門編](https://github.com/tomonari-masada/courses/blob/master/python-intro-2020/Python%E5%95%8F%E9%A1%8C%E9%9B%86_%E5%85%A5%E9%96%80%E7%B7%A8.pdf)"
      ]
    },
    {
      "cell_type": "markdown",
      "metadata": {
        "id": "A6AIIJ9yIt_D",
        "colab_type": "text"
      },
      "source": [
        "## 問1\n",
        "- Pythonに8//3 を計算させると、いくらになるか、確認しよう  \n",
        "- ヒント：「//」は整数の割り算で、⼩数点以下は切り捨て"
      ]
    },
    {
      "cell_type": "code",
      "metadata": {
        "id": "Ne9Rkk2LJFrl",
        "colab_type": "code",
        "outputId": "cfa3623a-cab3-4aed-a72e-df0becd92293",
        "colab": {
          "base_uri": "https://localhost:8080/",
          "height": 34
        }
      },
      "source": [
        "8//3"
      ],
      "execution_count": 1,
      "outputs": [
        {
          "output_type": "execute_result",
          "data": {
            "text/plain": [
              "2"
            ]
          },
          "metadata": {
            "tags": []
          },
          "execution_count": 1
        }
      ]
    },
    {
      "cell_type": "markdown",
      "metadata": {
        "id": "BUVtlP4yJJYU",
        "colab_type": "text"
      },
      "source": [
        "## 問2\n",
        "- \"apple\"という⽂字列の⻑さを表⽰させてみよう  \n",
        "- ヒント：組み込み関数を使う"
      ]
    },
    {
      "cell_type": "code",
      "metadata": {
        "id": "rgJaPDgvJO5k",
        "colab_type": "code",
        "outputId": "91c34d06-ee04-478a-a0e8-ec72c4565428",
        "colab": {
          "base_uri": "https://localhost:8080/",
          "height": 34
        }
      },
      "source": [
        "s = \"apple\"\n",
        "print(len(s))"
      ],
      "execution_count": 2,
      "outputs": [
        {
          "output_type": "stream",
          "text": [
            "5\n"
          ],
          "name": "stdout"
        }
      ]
    },
    {
      "cell_type": "markdown",
      "metadata": {
        "id": "YkRxlL1bJU8z",
        "colab_type": "text"
      },
      "source": [
        "## 問3\n",
        "- ['apple', 'orange', 'banana','peach'] というリストの３番⽬の要素を表⽰させてみよう  \n",
        "- ヒント：リストの添え字（インデックス）は０から始まる"
      ]
    },
    {
      "cell_type": "code",
      "metadata": {
        "id": "OEjfAJqEJbqb",
        "colab_type": "code",
        "outputId": "3ef12136-2811-42a6-ed16-10df6c8cbd49",
        "colab": {
          "base_uri": "https://localhost:8080/",
          "height": 34
        }
      },
      "source": [
        "lst = ['apple', 'orange', 'banana','peach']\n",
        "print(lst[2])"
      ],
      "execution_count": 3,
      "outputs": [
        {
          "output_type": "stream",
          "text": [
            "banana\n"
          ],
          "name": "stdout"
        }
      ]
    },
    {
      "cell_type": "markdown",
      "metadata": {
        "id": "hvgBnbefJgFr",
        "colab_type": "text"
      },
      "source": [
        "## 問4\n",
        "- 'zero,one,two,three'という⽂字列を、','で区切って、短い⽂字列のリストを作り、それをそのまま表⽰させよう  \n",
        "- ヒント：⽂字列型のメソッドを使う"
      ]
    },
    {
      "cell_type": "code",
      "metadata": {
        "id": "8GfIgaBlJtWK",
        "colab_type": "code",
        "outputId": "e9fa278b-4c65-42d1-baff-ccbec36f7001",
        "colab": {
          "base_uri": "https://localhost:8080/",
          "height": 34
        }
      },
      "source": [
        "s = 'zero,one,two,three'\n",
        "print(s.split(','))"
      ],
      "execution_count": 4,
      "outputs": [
        {
          "output_type": "stream",
          "text": [
            "['zero', 'one', 'two', 'three']\n"
          ],
          "name": "stdout"
        }
      ]
    },
    {
      "cell_type": "markdown",
      "metadata": {
        "id": "CZ5bZRltJ9Bj",
        "colab_type": "text"
      },
      "source": [
        "## 問5\n",
        "- 変数x の値が負の値であれば'negative'と、そうでなければ'nonnegative'と表⽰させるif⽂を書いてみよう  \n",
        "- ヒント：if 〜else ⽂を使う"
      ]
    },
    {
      "cell_type": "code",
      "metadata": {
        "id": "0PQ0cS0dKD6g",
        "colab_type": "code",
        "outputId": "6f4c9e97-34fb-4a9a-fb3b-d431f5ac5ede",
        "colab": {
          "base_uri": "https://localhost:8080/",
          "height": 34
        }
      },
      "source": [
        "x = -1\n",
        "if x < 0:\n",
        "    print('negative')\n",
        "else:\n",
        "    print('nonnegative')"
      ],
      "execution_count": 5,
      "outputs": [
        {
          "output_type": "stream",
          "text": [
            "negative\n"
          ],
          "name": "stdout"
        }
      ]
    },
    {
      "cell_type": "markdown",
      "metadata": {
        "id": "EKQbQWtSKQUx",
        "colab_type": "text"
      },
      "source": [
        "## 問6\n",
        "- 11から20までの⾃然数を、⼀つずつ、改⾏しながら表⽰させるforループを書いてみよう  \n",
        "- ヒント：range関数を使うとよい"
      ]
    },
    {
      "cell_type": "code",
      "metadata": {
        "id": "5JQ0w_XjKYrq",
        "colab_type": "code",
        "outputId": "e4d2e79d-0918-473b-c171-2ec0456ae289",
        "colab": {
          "base_uri": "https://localhost:8080/",
          "height": 187
        }
      },
      "source": [
        "for i in range(11, 21):\n",
        "    print(i)"
      ],
      "execution_count": 6,
      "outputs": [
        {
          "output_type": "stream",
          "text": [
            "11\n",
            "12\n",
            "13\n",
            "14\n",
            "15\n",
            "16\n",
            "17\n",
            "18\n",
            "19\n",
            "20\n"
          ],
          "name": "stdout"
        }
      ]
    },
    {
      "cell_type": "markdown",
      "metadata": {
        "id": "1X6nePF3KcWa",
        "colab_type": "text"
      },
      "source": [
        "## 問7\n",
        "- 与らえた数を2倍して返す関数を書き、それに適当な値を渡して呼び出すプログラムを書いてみよう  \n",
        "- ヒント：returnを使って値を返すのを忘れないように。"
      ]
    },
    {
      "cell_type": "code",
      "metadata": {
        "id": "yqRBSYsuKg-y",
        "colab_type": "code",
        "outputId": "eb9e8eb5-b8c1-4126-919b-fd45c932f679",
        "colab": {
          "base_uri": "https://localhost:8080/",
          "height": 34
        }
      },
      "source": [
        "def f(x):\n",
        "    res = x*2\n",
        "    return res\n",
        "print(f(2))"
      ],
      "execution_count": 7,
      "outputs": [
        {
          "output_type": "stream",
          "text": [
            "4\n"
          ],
          "name": "stdout"
        }
      ]
    },
    {
      "cell_type": "code",
      "metadata": {
        "id": "m5CUKLTtKp4y",
        "colab_type": "code",
        "colab": {}
      },
      "source": [
        ""
      ],
      "execution_count": 0,
      "outputs": []
    }
  ]
}