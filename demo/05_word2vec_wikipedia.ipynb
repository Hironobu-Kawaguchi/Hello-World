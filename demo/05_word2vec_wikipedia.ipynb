{
 "cells": [
  {
   "cell_type": "markdown",
   "metadata": {
    "colab_type": "text",
    "id": "sWUc3RDAYYKD"
   },
   "source": [
    "# 単語のベクトル化（Word2Vec）Demo"
   ]
  },
  {
   "cell_type": "markdown",
   "metadata": {
    "colab_type": "text",
    "id": "GJygDUM85NDh"
   },
   "source": [
    "## 学習済みモデルロード\n",
    "東北大学「日本語 Wikipedia エンティティベクトル」を使用（Wikipediaデータから各単語を200次元のベクトルに変換）\n",
    "\n",
    "http://www.cl.ecei.tohoku.ac.jp/~m-suzuki/jawiki_vector/"
   ]
  },
  {
   "cell_type": "code",
   "execution_count": 1,
   "metadata": {
    "colab": {
     "autoexec": {
      "startup": false,
      "wait_interval": 0
     }
    },
    "colab_type": "code",
    "id": "zu3BmCXlamiL"
   },
   "outputs": [
    {
     "name": "stderr",
     "output_type": "stream",
     "text": [
      "C:\\Users\\hkawaguc.ZENYAKU\\AppData\\Local\\conda\\conda\\envs\\TensorFlow\\lib\\site-packages\\gensim\\utils.py:1197: UserWarning: detected Windows; aliasing chunkize to chunkize_serial\n",
      "  warnings.warn(\"detected Windows; aliasing chunkize to chunkize_serial\")\n"
     ]
    }
   ],
   "source": [
    "from gensim.models import KeyedVectors\n",
    "model_dir = './entity_vector.model.bin'\n",
    "model = KeyedVectors.load_word2vec_format(model_dir, binary=True)"
   ]
  },
  {
   "cell_type": "markdown",
   "metadata": {
    "colab_type": "text",
    "id": "siZ_pcO-5mMC"
   },
   "source": [
    "## キーワードの類似性"
   ]
  },
  {
   "cell_type": "code",
   "execution_count": 4,
   "metadata": {
    "colab": {
     "autoexec": {
      "startup": false,
      "wait_interval": 0
     },
     "base_uri": "https://localhost:8080/",
     "height": 241
    },
    "colab_type": "code",
    "executionInfo": {
     "elapsed": 2912,
     "status": "ok",
     "timestamp": 1531271476775,
     "user": {
      "displayName": "川口裕靖",
      "photoUrl": "https://lh3.googleusercontent.com/a/default-user=s128",
      "userId": "112924917745631590628"
     },
     "user_tz": -540
    },
    "id": "xODFAYKJ4-n9",
    "outputId": "96ff32e0-1f4a-40e9-8273-0eba54c67517"
   },
   "outputs": [
    {
     "name": "stdout",
     "output_type": "stream",
     "text": [
      "('[ローランド]', 0.8267862796783447)\n",
      "('[コルグ]', 0.810291051864624)\n",
      "('[河合楽器製作所]', 0.8038392066955566)\n",
      "('ヤマハ', 0.800750732421875)\n",
      "('[電子オルガン]', 0.7601752877235413)\n",
      "('[イーエスピー]', 0.754939079284668)\n",
      "('[フェンダー_(楽器メーカー)]', 0.731192946434021)\n",
      "('[ギブソン_(楽器メーカー)]', 0.7309705018997192)\n",
      "('[電子ピアノ]', 0.7279394865036011)\n",
      "('[シンセサイザー]', 0.7247918844223022)\n"
     ]
    }
   ],
   "source": [
    "results = model.most_similar(u'[ヤマハ]')\n",
    "for result in results:\n",
    "    print(result)"
   ]
  },
  {
   "cell_type": "markdown",
   "metadata": {
    "colab_type": "text",
    "id": "FbHBg5Xx5z15"
   },
   "source": [
    "## キーワードの引き算"
   ]
  },
  {
   "cell_type": "code",
   "execution_count": 6,
   "metadata": {
    "colab": {
     "autoexec": {
      "startup": false,
      "wait_interval": 0
     },
     "base_uri": "https://localhost:8080/",
     "height": 241
    },
    "colab_type": "code",
    "executionInfo": {
     "elapsed": 562,
     "status": "ok",
     "timestamp": 1531271770595,
     "user": {
      "displayName": "川口裕靖",
      "photoUrl": "https://lh3.googleusercontent.com/a/default-user=s128",
      "userId": "112924917745631590628"
     },
     "user_tz": -540
    },
    "id": "RKmdCqg45Gp4",
    "outputId": "66e43389-8cd5-40f6-ebf1-85db554f4fc6"
   },
   "outputs": [
    {
     "name": "stdout",
     "output_type": "stream",
     "text": [
      "('[ミッキーマウス]', 0.49913734197616577)\n",
      "('ディズニーキャラクター', 0.48958778381347656)\n",
      "('[ディズニーキャラクター]', 0.4716237783432007)\n",
      "('[ミニーマウス]', 0.42842090129852295)\n",
      "('パペット', 0.4260064661502838)\n",
      "('[妖精]', 0.4153487980365753)\n",
      "('[ゴエティア]', 0.4150884747505188)\n",
      "('[海賊_(ONE_PIECE)]', 0.4051780104637146)\n",
      "('[アラジン_(映画)]', 0.403739869594574)\n",
      "('[道化師]', 0.3985579311847687)\n"
     ]
    }
   ],
   "source": [
    "results = model.most_similar( positive=[u'[悪魔]'], negative=[u'[悪]'] )\n",
    "for result in results:\n",
    "    print(result)"
   ]
  },
  {
   "cell_type": "markdown",
   "metadata": {
    "colab_type": "text",
    "id": "bZfhBqy06P7F"
   },
   "source": [
    "## キーワードの足し算"
   ]
  },
  {
   "cell_type": "code",
   "execution_count": 7,
   "metadata": {
    "colab": {
     "autoexec": {
      "startup": false,
      "wait_interval": 0
     },
     "base_uri": "https://localhost:8080/",
     "height": 241
    },
    "colab_type": "code",
    "executionInfo": {
     "elapsed": 502,
     "status": "ok",
     "timestamp": 1531271804469,
     "user": {
      "displayName": "川口裕靖",
      "photoUrl": "https://lh3.googleusercontent.com/a/default-user=s128",
      "userId": "112924917745631590628"
     },
     "user_tz": -540
    },
    "id": "kbZ62-Yz6CPD",
    "outputId": "f5528d96-fd60-4b81-dae4-7afff3c8bb36"
   },
   "outputs": [
    {
     "name": "stdout",
     "output_type": "stream",
     "text": [
      "('[警察官]', 0.7124896049499512)\n",
      "('[日本の警察官]', 0.7051844596862793)\n",
      "('[警棒]', 0.6932262182235718)\n",
      "('[拳銃]', 0.6676812767982483)\n",
      "('[刑務官]', 0.6608917713165283)\n",
      "('警察官', 0.6491464376449585)\n",
      "('[自衛隊員]', 0.6456712484359741)\n",
      "('[警察]', 0.628797173500061)\n",
      "('拳銃', 0.6269474029541016)\n",
      "('[催涙スプレー]', 0.6268929243087769)\n"
     ]
    }
   ],
   "source": [
    "results = model.most_similar(positive=[u'[公務員]',u'[ピストル]'])\n",
    "for result in results:\n",
    "    print(result)"
   ]
  },
  {
   "cell_type": "code",
   "execution_count": 8,
   "metadata": {},
   "outputs": [
    {
     "name": "stdout",
     "output_type": "stream",
     "text": [
      "('[馬]', 0.6204228401184082)\n",
      "('[シルヴァーロックス]', 0.6161380410194397)\n",
      "('[アジャックス_(フランスの競走馬)]', 0.6112329363822937)\n",
      "('[ヤシマヒメ]', 0.6083375215530396)\n",
      "('Matchem', 0.607103705406189)\n",
      "('サヤジラオ', 0.6050207614898682)\n",
      "('[ガウル]', 0.603990375995636)\n",
      "('[チョーサー_(競走馬)]', 0.6036167144775391)\n",
      "('スカンダ', 0.6015855073928833)\n",
      "('[スゲヌマ]', 0.6009383797645569)\n"
     ]
    }
   ],
   "source": [
    "# シンボルグラウンディング問題は解決できていない！\n",
    "results = model.most_similar(positive=[u'[ウマ]',u'[シマ]'])\n",
    "for result in results:\n",
    "    print(result)"
   ]
  },
  {
   "cell_type": "markdown",
   "metadata": {
    "colab_type": "text",
    "id": "b9KqURfC6YAx"
   },
   "source": [
    "## キーワードの足し算と引き算"
   ]
  },
  {
   "cell_type": "code",
   "execution_count": 9,
   "metadata": {
    "colab": {
     "autoexec": {
      "startup": false,
      "wait_interval": 0
     },
     "base_uri": "https://localhost:8080/",
     "height": 241
    },
    "colab_type": "code",
    "executionInfo": {
     "elapsed": 560,
     "status": "ok",
     "timestamp": 1531272070734,
     "user": {
      "displayName": "川口裕靖",
      "photoUrl": "https://lh3.googleusercontent.com/a/default-user=s128",
      "userId": "112924917745631590628"
     },
     "user_tz": -540
    },
    "id": "-H3mXCy07Kwo",
    "outputId": "ede044b6-4aa0-4a03-cc8b-6c6daa22ab02"
   },
   "outputs": [
    {
     "name": "stdout",
     "output_type": "stream",
     "text": [
      "('[王女]', 0.7265908718109131)\n",
      "('[姫]', 0.7074600458145142)\n",
      "('姫君', 0.702674388885498)\n",
      "('[女王]', 0.6836342215538025)\n",
      "('お姫様', 0.6642835140228271)\n",
      "('王女', 0.6590272188186646)\n",
      "('王子', 0.6532903909683228)\n",
      "('花嫁', 0.6499365568161011)\n",
      "('姫', 0.6368809342384338)\n",
      "('巫女', 0.6357200145721436)\n"
     ]
    }
   ],
   "source": [
    "# 王子 - 男性 + 女性\n",
    "results = model.most_similar(positive=[u'[王子]',u'[女性]'],negative=[u'[男性]'])\n",
    "for result in results:\n",
    "    print(result)"
   ]
  },
  {
   "cell_type": "code",
   "execution_count": 10,
   "metadata": {
    "colab": {
     "autoexec": {
      "startup": false,
      "wait_interval": 0
     },
     "base_uri": "https://localhost:8080/",
     "height": 241
    },
    "colab_type": "code",
    "executionInfo": {
     "elapsed": 494,
     "status": "ok",
     "timestamp": 1531271827233,
     "user": {
      "displayName": "川口裕靖",
      "photoUrl": "https://lh3.googleusercontent.com/a/default-user=s128",
      "userId": "112924917745631590628"
     },
     "user_tz": -540
    },
    "id": "v7oBufhe6XP0",
    "outputId": "84ec0dc4-3709-42e6-aa3f-134ef6968a1a"
   },
   "outputs": [
    {
     "name": "stdout",
     "output_type": "stream",
     "text": [
      "('[ロナウド]', 0.6781752109527588)\n",
      "('[ジネディーヌ・ジダン]', 0.6686527729034424)\n",
      "('[中田英寿]', 0.6643422842025757)\n",
      "('[ジーコ]', 0.6631736755371094)\n",
      "('[ロベルト・バッジョ]', 0.6589246988296509)\n",
      "('[ロナウジーニョ]', 0.6574504971504211)\n",
      "('[ディエゴ・マラドーナ]', 0.653502881526947)\n",
      "('ジダン', 0.6474758982658386)\n",
      "('[デビッド・ベッカム]', 0.6473382115364075)\n",
      "('[三浦知良]', 0.6451823711395264)\n"
     ]
    }
   ],
   "source": [
    "results = model.most_similar(positive=[u'[イチロー]',u'[サッカー]'],negative=[u'[野球]'])\n",
    "for result in results:\n",
    "    print(result)"
   ]
  },
  {
   "cell_type": "code",
   "execution_count": 11,
   "metadata": {
    "colab": {
     "autoexec": {
      "startup": false,
      "wait_interval": 0
     },
     "base_uri": "https://localhost:8080/",
     "height": 241
    },
    "colab_type": "code",
    "executionInfo": {
     "elapsed": 528,
     "status": "ok",
     "timestamp": 1531271845673,
     "user": {
      "displayName": "川口裕靖",
      "photoUrl": "https://lh3.googleusercontent.com/a/default-user=s128",
      "userId": "112924917745631590628"
     },
     "user_tz": -540
    },
    "id": "pWe-PwSu6cze",
    "outputId": "79768ecd-dc39-4fd2-ab4d-d6d1f5e9da07"
   },
   "outputs": [
    {
     "name": "stdout",
     "output_type": "stream",
     "text": [
      "('[那覇市]', 0.773338794708252)\n",
      "('[宜野湾市]', 0.6969374418258667)\n",
      "('[沖縄市]', 0.6933772563934326)\n",
      "('[石垣市]', 0.6681679487228394)\n",
      "('[名護市]', 0.6610418558120728)\n",
      "('[浦添市]', 0.6533352136611938)\n",
      "('沖縄県', 0.6339038610458374)\n",
      "('沖縄', 0.6273850202560425)\n",
      "('[読谷村]', 0.6153493523597717)\n",
      "('[与那国町]', 0.6127915382385254)\n"
     ]
    }
   ],
   "source": [
    "results = model.most_similar(positive=[u'[札幌市]',u'[沖縄県]'],negative=[u'[北海道]'])\n",
    "for result in results:\n",
    "    print(result)"
   ]
  },
  {
   "cell_type": "markdown",
   "metadata": {
    "colab_type": "text",
    "id": "SRYhThAE6iww"
   },
   "source": [
    "## ベクトルの相関確認"
   ]
  },
  {
   "cell_type": "code",
   "execution_count": 3,
   "metadata": {
    "colab": {
     "autoexec": {
      "startup": false,
      "wait_interval": 0
     },
     "base_uri": "https://localhost:8080/",
     "height": 68
    },
    "colab_type": "code",
    "executionInfo": {
     "elapsed": 510,
     "status": "ok",
     "timestamp": 1531271971543,
     "user": {
      "displayName": "川口裕靖",
      "photoUrl": "https://lh3.googleusercontent.com/a/default-user=s128",
      "userId": "112924917745631590628"
     },
     "user_tz": -540
    },
    "id": "v2F3ITTt6hTA",
    "outputId": "2579cb3d-6f1e-4167-c0e9-adb87d026b42"
   },
   "outputs": [
    {
     "data": {
      "text/plain": [
       "array([[1.        , 0.85255582, 0.1222748 ],\n",
       "       [0.85255582, 1.        , 0.13319373],\n",
       "       [0.1222748 , 0.13319373, 1.        ]])"
      ]
     },
     "execution_count": 3,
     "metadata": {},
     "output_type": "execute_result"
    }
   ],
   "source": [
    "import numpy as np\n",
    "\n",
    "vec1 = model.get_vector(u'[指原莉乃]')\n",
    "vec2 = model.get_vector(u'[前田敦子]')\n",
    "vec3 = model.get_vector(u'[宮本武蔵]')\n",
    "\n",
    "vec = ([vec1,vec2,vec3])\n",
    "\n",
    "np.corrcoef(vec)"
   ]
  },
  {
   "cell_type": "code",
   "execution_count": 4,
   "metadata": {
    "colab": {
     "autoexec": {
      "startup": false,
      "wait_interval": 0
     },
     "base_uri": "https://localhost:8080/",
     "height": 265
    },
    "colab_type": "code",
    "executionInfo": {
     "elapsed": 500,
     "status": "ok",
     "timestamp": 1531271972134,
     "user": {
      "displayName": "川口裕靖",
      "photoUrl": "https://lh3.googleusercontent.com/a/default-user=s128",
      "userId": "112924917745631590628"
     },
     "user_tz": -540
    },
    "id": "cnVvI3HP6mOW",
    "outputId": "660916de-86c9-4fc6-f6d6-daa2ceeedf9a"
   },
   "outputs": [
    {
     "data": {
      "image/png": "[encoded data removed]",
      "text/plain": [
       "<Figure size 432x288 with 2 Axes>"
      ]
     },
     "metadata": {},
     "output_type": "display_data"
    }
   ],
   "source": [
    "from matplotlib import pyplot as plt\n",
    "import seaborn as sns\n",
    "%matplotlib inline\n",
    "\n",
    "sns.heatmap(np.corrcoef(vec), annot=True)\n",
    "plt.show()"
   ]
  },
  {
   "cell_type": "code",
   "execution_count": 10,
   "metadata": {
    "colab": {
     "autoexec": {
      "startup": false,
      "wait_interval": 0
     },
     "base_uri": "https://localhost:8080/",
     "height": 2244
    },
    "colab_type": "code",
    "executionInfo": {
     "elapsed": 546,
     "status": "ok",
     "timestamp": 1531271975204,
     "user": {
      "displayName": "川口裕靖",
      "photoUrl": "https://lh3.googleusercontent.com/a/default-user=s128",
      "userId": "112924917745631590628"
     },
     "user_tz": -540
    },
    "id": "GM2AmAem6oXq",
    "outputId": "2da5419b-6ec9-4c7a-915b-57e6d3c6d60f"
   },
   "outputs": [
    {
     "name": "stdout",
     "output_type": "stream",
     "text": [
      "[array([ 2.21691430e-01,  1.32206574e-01,  1.54414728e-01, -2.24024013e-01,\n",
      "        8.47462058e-01,  7.39864826e-01, -6.31341934e-02,  3.80206406e-01,\n",
      "        3.82986158e-01, -3.77583057e-01, -7.20299959e-01,  6.27653956e-01,\n",
      "        2.56285876e-01, -4.42581892e-01,  7.44888857e-02, -2.04210639e-01,\n",
      "        2.27550417e-01,  5.18167503e-02,  1.67106405e-01, -2.57733464e-01,\n",
      "       -1.58100113e-01,  8.39592889e-02, -3.18659008e-01, -6.87253416e-01,\n",
      "        1.33277848e-01, -1.92485347e-01, -7.49655545e-01, -5.20537138e-01,\n",
      "       -7.14955032e-01,  1.37426212e-01, -5.18898070e-01,  6.70810223e-01,\n",
      "        2.96362519e-01,  4.15812224e-01,  3.72573882e-01, -3.83090794e-01,\n",
      "       -7.24613309e-01, -8.14161524e-02,  1.10331826e-01, -3.64824474e-01,\n",
      "        3.71725336e-02, -2.85809427e-01, -2.67145097e-01,  4.03124958e-01,\n",
      "       -1.76277235e-01,  1.70610949e-01,  1.41204044e-01,  2.12029442e-01,\n",
      "       -5.30039847e-01,  8.82967934e-02, -2.29818508e-01, -1.86903685e-01,\n",
      "       -1.61767393e-01, -4.81264830e-01, -1.05949603e-01, -4.59178925e-01,\n",
      "       -5.76717891e-02,  5.08575439e-01,  3.96230489e-01,  7.26198077e-01,\n",
      "       -1.20734863e-01,  7.37107620e-02, -3.80217254e-01, -4.43620175e-01,\n",
      "        4.34487432e-01,  3.58232796e-01, -7.04361498e-01,  2.39677250e-01,\n",
      "        2.92567998e-01,  2.44712964e-01,  4.31597710e-01,  4.38057870e-01,\n",
      "        9.00916934e-01,  4.57635522e-01,  3.13792408e-01, -4.49800014e-01,\n",
      "        4.19018641e-02, -1.80068538e-01, -5.50586820e-01,  4.04257298e-01,\n",
      "        4.02009673e-02,  7.12888181e-01,  3.13423544e-01, -7.80024469e-01,\n",
      "        8.13519210e-03, -2.77172178e-01,  2.79510438e-01, -4.73828375e-01,\n",
      "        4.70476061e-01, -2.75489509e-01, -5.42088568e-01,  1.17207225e-03,\n",
      "       -2.44741648e-01,  1.17520288e-01,  2.21219227e-01,  3.04596368e-02,\n",
      "       -4.97304738e-01,  2.30011538e-01,  3.24235678e-01, -5.97110569e-01,\n",
      "        3.13068032e-01,  3.61427695e-01,  1.64070606e-01, -1.97052360e-01,\n",
      "        1.05096728e-01, -1.85120746e-01, -3.15828025e-01,  6.72598064e-01,\n",
      "       -5.06807566e-01,  9.24844503e-01, -6.55762758e-03, -1.08945286e-02,\n",
      "        1.82391495e-01,  1.70632172e-03, -2.21432447e-01, -2.33866200e-02,\n",
      "       -1.88273177e-01,  4.18550700e-01, -4.82498229e-01,  3.53690863e-01,\n",
      "       -2.71843940e-01,  4.41328287e-01,  4.12516326e-01,  3.11883628e-01,\n",
      "        2.58321077e-01, -3.85697991e-01,  5.77739358e-01, -3.04876845e-02,\n",
      "       -3.96441855e-02, -8.46456468e-01, -1.22841597e-01, -1.57221749e-01,\n",
      "        1.38234347e-02,  4.08038080e-01, -2.22313002e-01, -1.43168837e-01,\n",
      "        1.58955008e-01, -4.17848468e-01, -1.67372599e-01, -4.83893991e-01,\n",
      "        6.10716343e-01, -3.13522756e-01,  1.31064162e-01, -1.29172891e-01,\n",
      "        3.35065156e-01,  2.72176921e-01,  3.85509014e-01, -7.93064944e-03,\n",
      "        6.19585335e-01, -2.12922335e-01,  2.49602646e-01, -6.54726475e-02,\n",
      "        5.57621159e-02, -1.24802232e-01,  5.09756088e-01, -3.41414958e-01,\n",
      "       -2.94258535e-01,  1.04048602e-01, -4.95895058e-01,  2.23233104e-02,\n",
      "        2.96123084e-02, -3.89721841e-01,  1.34805158e-01, -8.91597152e-01,\n",
      "       -6.74455166e-02,  5.58763564e-01, -5.26704192e-01,  4.44157310e-02,\n",
      "       -5.43212295e-02, -2.73298949e-01,  1.45572260e-01, -4.37695980e-01,\n",
      "        1.11433975e-01, -2.16350809e-01, -2.36500725e-01,  7.64235780e-02,\n",
      "        9.56637859e-02,  6.58942699e-01,  9.62131470e-02,  2.45553225e-01,\n",
      "        3.36044401e-01,  2.66370952e-01, -6.14340842e-01,  5.31600952e-01,\n",
      "       -6.37799676e-04, -2.35133156e-01,  7.23390698e-01, -1.83384284e-01,\n",
      "       -9.08551812e-02,  2.48688888e-02,  5.10121763e-01,  8.64975005e-02,\n",
      "        1.43048778e-01,  2.48758182e-01,  6.30878583e-02, -2.90601432e-01,\n",
      "        2.03337416e-01, -7.08411992e-01, -2.45844021e-01, -3.03056359e-01],\n",
      "      dtype=float32), array([-0.3077124 , -0.01179788,  0.40798318, -0.3119653 ,  1.4578689 ,\n",
      "        1.3723913 , -0.51640165,  0.38196358,  0.46806267, -0.22761932,\n",
      "       -1.0854528 ,  1.2581159 ,  0.6762209 , -0.40037793,  0.719639  ,\n",
      "       -0.19830057,  0.6588337 ,  0.40780386,  0.09520005, -0.4604116 ,\n",
      "        0.26668638,  0.05642612,  0.30147144, -0.945765  ,  0.25180322,\n",
      "       -0.4879167 , -1.5796891 , -0.7691679 , -1.3583864 ,  0.54080975,\n",
      "       -0.5506281 ,  0.5173192 ,  0.20345007,  0.79022574,  0.45442992,\n",
      "       -0.10969281, -0.7167133 , -0.21955425, -0.254994  , -0.3058727 ,\n",
      "       -0.0182665 ,  0.215347  , -0.06501658,  0.64589477, -0.41639972,\n",
      "        0.3887383 ,  0.43573704,  0.2639915 , -0.5336537 ,  0.13114661,\n",
      "       -0.5953078 , -0.55257577, -0.35044363, -0.396985  , -0.22472347,\n",
      "       -0.6122747 , -0.7276167 ,  0.9444079 ,  0.6766013 ,  0.99093115,\n",
      "       -0.05536473, -0.31130755, -0.34344602, -0.308781  ,  0.48577148,\n",
      "        0.63828975, -1.1637943 ,  0.43556884,  0.05746111,  0.5590909 ,\n",
      "        0.9868928 ,  0.15887661,  1.1667968 ,  0.5388071 ,  1.2427195 ,\n",
      "       -0.45117497, -0.0222059 , -0.05839295, -1.2610562 ,  0.84956455,\n",
      "        0.16187204,  1.0299046 ,  0.41173977, -1.7496697 ,  0.3147275 ,\n",
      "       -0.61908364,  0.8660101 , -0.56926084,  1.4326105 , -0.08673143,\n",
      "       -0.6351653 ,  0.3470979 , -0.48206213,  0.05828262, -0.08103112,\n",
      "        0.11561052,  0.0733641 , -0.582598  ,  1.2651477 , -1.3150723 ,\n",
      "        1.3118962 ,  0.25577998, -0.11562831,  0.21585156,  0.09442475,\n",
      "       -0.20366761, -0.17946512,  1.0166335 ,  0.15796176,  1.3980136 ,\n",
      "        0.23233655, -0.24585831,  0.19484471,  0.5130463 , -0.26361057,\n",
      "        0.05099189, -0.36251774,  0.16650932, -0.5953817 ,  0.7172822 ,\n",
      "       -0.46401638,  0.93107945,  0.2643238 ,  0.36131468, -0.4902236 ,\n",
      "       -0.48825705,  0.62344736, -0.07541814, -0.17812264, -1.8694462 ,\n",
      "        0.12270493, -0.1387468 , -0.00803342,  0.6152507 , -0.50273395,\n",
      "       -0.06376956, -0.23761474, -0.76337594, -0.03592288, -0.826637  ,\n",
      "        1.058823  , -0.17468609, -0.28866524, -0.03301854, -0.06135025,\n",
      "        1.2370691 ,  0.2516275 ,  0.19585584,  1.9090819 , -0.15749943,\n",
      "       -0.11292465, -0.09942986,  0.01500887, -0.8642112 ,  0.76726717,\n",
      "       -0.8391032 , -0.10635954,  0.24712782, -1.0619143 ,  0.21001667,\n",
      "        0.1053208 , -0.10636058,  0.67998046, -1.67966   , -0.22032616,\n",
      "        0.5705849 , -0.64767426, -0.6470781 , -0.00835104, -0.17006856,\n",
      "        0.6128898 , -0.8384247 ,  0.05013337, -0.35177973, -0.37276986,\n",
      "        0.16425434,  0.20756666,  1.3365675 , -0.09360554,  0.1959555 ,\n",
      "        0.45686316,  0.46695247, -1.481833  ,  0.5606505 , -0.17947601,\n",
      "       -0.11481093,  0.50414085, -0.44327986, -0.34549233, -0.1695489 ,\n",
      "        0.38128057, -0.04975716, -0.08471506,  0.34678707, -0.00453972,\n",
      "       -0.745106  ,  0.39425796, -1.0559709 ,  0.09760257, -0.5514849 ],\n",
      "      dtype=float32), array([ 0.29284984,  0.25199312, -1.0061055 ,  0.49975598,  0.13451107,\n",
      "        0.2361688 , -1.4332358 ,  0.5385689 ,  0.9672288 , -0.07545803,\n",
      "       -0.8865046 , -0.2695954 , -0.09910315, -1.0460234 ,  0.27394086,\n",
      "       -1.1671389 ,  0.20950216, -0.01619238, -0.681226  , -0.49044186,\n",
      "        1.258477  , -0.2504634 ,  0.39922014, -0.72453827, -0.1723022 ,\n",
      "       -0.3775032 , -1.2032794 , -0.68976873, -1.4380287 ,  0.45380175,\n",
      "        0.01677222, -0.9111515 , -0.3963753 ,  1.9604509 ,  0.63751996,\n",
      "       -0.55496955, -0.79851985,  0.21710944,  0.79200417,  0.6268244 ,\n",
      "        2.1521857 , -0.16829653, -1.5035225 ,  0.998633  , -0.6967266 ,\n",
      "       -0.50326234, -0.72449344, -0.00364678,  0.0418192 , -0.74457633,\n",
      "        0.29436424, -0.43544114,  1.3380964 , -0.85945696,  0.70735013,\n",
      "       -1.3318185 ,  0.18454973, -0.5541806 , -0.61660683,  1.3540165 ,\n",
      "       -0.25520736, -0.6438606 ,  0.25424102, -0.35895357,  0.0157317 ,\n",
      "        0.5200022 ,  0.23623088,  1.0225852 , -0.41452897,  0.75226927,\n",
      "        0.04693377, -0.1756027 , -1.1180856 ,  2.1741633 , -0.3311642 ,\n",
      "        0.36669564,  0.7228921 , -0.1528105 ,  1.5827968 , -1.8445026 ,\n",
      "       -0.884686  , -0.16499797,  0.60398644, -0.95389223,  0.47123438,\n",
      "        0.47326103, -0.9103089 , -0.32114485, -0.13599077, -1.1608264 ,\n",
      "        0.5332238 ,  0.29068902,  1.0030278 , -0.67616117,  0.17922719,\n",
      "        0.8012184 , -1.0367153 ,  0.5554564 , -1.0387518 , -0.5392862 ,\n",
      "       -0.59367883, -0.99121654, -0.23587269, -0.26362184,  0.08155995,\n",
      "        0.32831687, -2.0544422 , -0.42597413,  0.30438313, -1.0895125 ,\n",
      "       -0.3299108 ,  0.9427296 , -0.14783302, -1.0133765 ,  0.07653095,\n",
      "       -0.02884477,  0.36381337,  0.06981967,  0.551707  ,  0.7532583 ,\n",
      "       -0.31905973, -0.62852085,  0.630708  , -0.91841185, -1.3658006 ,\n",
      "        1.0701894 ,  0.11173866,  1.2719982 ,  0.2632556 , -0.43464494,\n",
      "        0.55345553, -0.5366871 ,  0.04198571,  0.9837241 , -0.2702186 ,\n",
      "        0.6701945 , -0.09199195,  0.6221785 ,  0.4192372 , -0.58463657,\n",
      "        1.5166347 , -0.9502043 ,  0.30546662, -0.26483667, -0.45002636,\n",
      "        0.45644307, -2.2556026 , -0.3090641 ,  0.2194447 ,  1.4182464 ,\n",
      "       -1.6034882 ,  0.2643525 , -0.67424035, -0.20761514, -0.07788398,\n",
      "       -0.8748479 ,  0.02975798, -0.8389304 , -0.6741993 ,  0.6710636 ,\n",
      "        0.19747253, -0.16139747,  1.2411711 ,  0.6346261 , -0.50811744,\n",
      "        0.03607111, -0.25917166,  0.01222802,  0.14945823,  0.6499945 ,\n",
      "        0.1790998 ,  0.33290038, -0.2111376 ,  0.17150211, -1.4316193 ,\n",
      "       -0.6974317 ,  0.4736864 ,  0.0493767 ,  0.69018745, -0.5863011 ,\n",
      "        1.0592289 ,  0.39146855, -1.8588585 ,  0.20101912, -0.8738815 ,\n",
      "       -0.6574442 ,  0.03909203,  0.1917492 , -0.48857704,  0.99583906,\n",
      "       -0.6762259 ,  0.7297003 , -0.06765641, -0.6004291 ,  0.8935199 ,\n",
      "        0.48638266,  0.3511934 , -0.78510916,  1.474846  , -0.7610199 ],\n",
      "      dtype=float32)]\n"
     ]
    }
   ],
   "source": [
    "print(vec)"
   ]
  },
  {
   "cell_type": "code",
   "execution_count": 0,
   "metadata": {
    "colab": {
     "autoexec": {
      "startup": false,
      "wait_interval": 0
     }
    },
    "colab_type": "code",
    "id": "WgMA1BEt6prl"
   },
   "outputs": [],
   "source": []
  }
 ],
 "metadata": {
  "colab": {
   "collapsed_sections": [],
   "default_view": {},
   "name": "HKColab_word2vec.ipynb",
   "provenance": [],
   "toc_visible": true,
   "version": "0.3.2",
   "views": {}
  },
  "kernelspec": {
   "display_name": "Python 3",
   "language": "python",
   "name": "python3"
  },
  "language_info": {
   "codemirror_mode": {
    "name": "ipython",
    "version": 3
   },
   "file_extension": ".py",
   "mimetype": "text/x-python",
   "name": "python",
   "nbconvert_exporter": "python",
   "pygments_lexer": "ipython3",
   "version": "3.6.5"
  }
 },
 "nbformat": 4,
 "nbformat_minor": 1
}
