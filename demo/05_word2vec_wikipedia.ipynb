{
 "cells": [
  {
   "cell_type": "markdown",
   "metadata": {
    "colab_type": "text",
    "id": "sWUc3RDAYYKD"
   },
   "source": [
    "# 単語のベクトル化（Word2Vec）Demo"
   ]
  },
  {
   "cell_type": "markdown",
   "metadata": {
    "colab_type": "text",
    "id": "GJygDUM85NDh"
   },
   "source": [
    "## 学習済みモデルロード\n",
    "東北大学「日本語 Wikipedia エンティティベクトル」を使用（Wikipediaデータから各単語を200次元のベクトルに変換）\n",
    "\n",
    "http://www.cl.ecei.tohoku.ac.jp/~m-suzuki/jawiki_vector/"
   ]
  },
  {
   "cell_type": "code",
   "execution_count": 1,
   "metadata": {
    "colab": {
     "autoexec": {
      "startup": false,
      "wait_interval": 0
     }
    },
    "colab_type": "code",
    "id": "zu3BmCXlamiL"
   },
   "outputs": [
    {
     "name": "stderr",
     "output_type": "stream",
     "text": [
      "C:\\Users\\hkawaguc.ZENYAKU\\AppData\\Local\\conda\\conda\\envs\\TensorFlow\\lib\\site-packages\\gensim\\utils.py:1197: UserWarning: detected Windows; aliasing chunkize to chunkize_serial\n",
      "  warnings.warn(\"detected Windows; aliasing chunkize to chunkize_serial\")\n"
     ]
    }
   ],
   "source": [
    "from gensim.models import KeyedVectors\n",
    "model_dir = './entity_vector.model.bin'\n",
    "model = KeyedVectors.load_word2vec_format(model_dir, binary=True)"
   ]
  },
  {
   "cell_type": "markdown",
   "metadata": {
    "colab_type": "text",
    "id": "siZ_pcO-5mMC"
   },
   "source": [
    "## キーワードの類似性"
   ]
  },
  {
   "cell_type": "code",
   "execution_count": null,
   "metadata": {
    "colab": {
     "autoexec": {
      "startup": false,
      "wait_interval": 0
     },
     "base_uri": "https://localhost:8080/",
     "height": 241
    },
    "colab_type": "code",
    "executionInfo": {
     "elapsed": 2912,
     "status": "ok",
     "timestamp": 1531271476775,
     "user": {
      "displayName": "川口裕靖",
      "photoUrl": "https://lh3.googleusercontent.com/a/default-user=s128",
      "userId": "112924917745631590628"
     },
     "user_tz": -540
    },
    "id": "xODFAYKJ4-n9",
    "outputId": "96ff32e0-1f4a-40e9-8273-0eba54c67517"
   },
   "outputs": [],
   "source": [
    "results = model.most_similar(u'[ヤマハ]')\n",
    "for result in results:\n",
    "    print(result)"
   ]
  },
  {
   "cell_type": "markdown",
   "metadata": {
    "colab_type": "text",
    "id": "FbHBg5Xx5z15"
   },
   "source": [
    "## キーワードの引き算"
   ]
  },
  {
   "cell_type": "code",
   "execution_count": null,
   "metadata": {
    "colab": {
     "autoexec": {
      "startup": false,
      "wait_interval": 0
     },
     "base_uri": "https://localhost:8080/",
     "height": 241
    },
    "colab_type": "code",
    "executionInfo": {
     "elapsed": 562,
     "status": "ok",
     "timestamp": 1531271770595,
     "user": {
      "displayName": "川口裕靖",
      "photoUrl": "https://lh3.googleusercontent.com/a/default-user=s128",
      "userId": "112924917745631590628"
     },
     "user_tz": -540
    },
    "id": "RKmdCqg45Gp4",
    "outputId": "66e43389-8cd5-40f6-ebf1-85db554f4fc6"
   },
   "outputs": [],
   "source": [
    "results = model.most_similar( positive=[u'[悪魔]'], negative=[u'[悪]'] )\n",
    "for result in results:\n",
    "    print(result)"
   ]
  },
  {
   "cell_type": "markdown",
   "metadata": {
    "colab_type": "text",
    "id": "bZfhBqy06P7F"
   },
   "source": [
    "## キーワードの足し算"
   ]
  },
  {
   "cell_type": "code",
   "execution_count": null,
   "metadata": {
    "colab": {
     "autoexec": {
      "startup": false,
      "wait_interval": 0
     },
     "base_uri": "https://localhost:8080/",
     "height": 241
    },
    "colab_type": "code",
    "executionInfo": {
     "elapsed": 502,
     "status": "ok",
     "timestamp": 1531271804469,
     "user": {
      "displayName": "川口裕靖",
      "photoUrl": "https://lh3.googleusercontent.com/a/default-user=s128",
      "userId": "112924917745631590628"
     },
     "user_tz": -540
    },
    "id": "kbZ62-Yz6CPD",
    "outputId": "f5528d96-fd60-4b81-dae4-7afff3c8bb36"
   },
   "outputs": [],
   "source": [
    "results = model.most_similar(positive=[u'[公務員]',u'[ピストル]'])\n",
    "for result in results:\n",
    "    print(result)"
   ]
  },
  {
   "cell_type": "code",
   "execution_count": null,
   "metadata": {},
   "outputs": [],
   "source": [
    "# シンボルグラウンディング問題は解決できていない！\n",
    "results = model.most_similar(positive=[u'[ウマ]',u'[シマ]'])\n",
    "for result in results:\n",
    "    print(result)"
   ]
  },
  {
   "cell_type": "markdown",
   "metadata": {
    "colab_type": "text",
    "id": "b9KqURfC6YAx"
   },
   "source": [
    "## キーワードの足し算と引き算"
   ]
  },
  {
   "cell_type": "code",
   "execution_count": null,
   "metadata": {
    "colab": {
     "autoexec": {
      "startup": false,
      "wait_interval": 0
     },
     "base_uri": "https://localhost:8080/",
     "height": 241
    },
    "colab_type": "code",
    "executionInfo": {
     "elapsed": 560,
     "status": "ok",
     "timestamp": 1531272070734,
     "user": {
      "displayName": "川口裕靖",
      "photoUrl": "https://lh3.googleusercontent.com/a/default-user=s128",
      "userId": "112924917745631590628"
     },
     "user_tz": -540
    },
    "id": "-H3mXCy07Kwo",
    "outputId": "ede044b6-4aa0-4a03-cc8b-6c6daa22ab02"
   },
   "outputs": [],
   "source": [
    "# 王子 - 男性 + 女性\n",
    "results = model.most_similar(positive=[u'[王子]',u'[女性]'],negative=[u'[男性]'])\n",
    "for result in results:\n",
    "    print(result)"
   ]
  },
  {
   "cell_type": "code",
   "execution_count": null,
   "metadata": {
    "colab": {
     "autoexec": {
      "startup": false,
      "wait_interval": 0
     },
     "base_uri": "https://localhost:8080/",
     "height": 241
    },
    "colab_type": "code",
    "executionInfo": {
     "elapsed": 494,
     "status": "ok",
     "timestamp": 1531271827233,
     "user": {
      "displayName": "川口裕靖",
      "photoUrl": "https://lh3.googleusercontent.com/a/default-user=s128",
      "userId": "112924917745631590628"
     },
     "user_tz": -540
    },
    "id": "v7oBufhe6XP0",
    "outputId": "84ec0dc4-3709-42e6-aa3f-134ef6968a1a"
   },
   "outputs": [],
   "source": [
    "results = model.most_similar(positive=[u'[イチロー]',u'[サッカー]'],negative=[u'[野球]'])\n",
    "for result in results:\n",
    "    print(result)"
   ]
  },
  {
   "cell_type": "code",
   "execution_count": null,
   "metadata": {
    "colab": {
     "autoexec": {
      "startup": false,
      "wait_interval": 0
     },
     "base_uri": "https://localhost:8080/",
     "height": 241
    },
    "colab_type": "code",
    "executionInfo": {
     "elapsed": 528,
     "status": "ok",
     "timestamp": 1531271845673,
     "user": {
      "displayName": "川口裕靖",
      "photoUrl": "https://lh3.googleusercontent.com/a/default-user=s128",
      "userId": "112924917745631590628"
     },
     "user_tz": -540
    },
    "id": "pWe-PwSu6cze",
    "outputId": "79768ecd-dc39-4fd2-ab4d-d6d1f5e9da07"
   },
   "outputs": [],
   "source": [
    "results = model.most_similar(positive=[u'[札幌市]',u'[沖縄県]'],negative=[u'[北海道]'])\n",
    "for result in results:\n",
    "    print(result)"
   ]
  },
  {
   "cell_type": "markdown",
   "metadata": {
    "colab_type": "text",
    "id": "SRYhThAE6iww"
   },
   "source": [
    "## ベクトルの相関確認"
   ]
  },
  {
   "cell_type": "code",
   "execution_count": null,
   "metadata": {
    "colab": {
     "autoexec": {
      "startup": false,
      "wait_interval": 0
     },
     "base_uri": "https://localhost:8080/",
     "height": 68
    },
    "colab_type": "code",
    "executionInfo": {
     "elapsed": 510,
     "status": "ok",
     "timestamp": 1531271971543,
     "user": {
      "displayName": "川口裕靖",
      "photoUrl": "https://lh3.googleusercontent.com/a/default-user=s128",
      "userId": "112924917745631590628"
     },
     "user_tz": -540
    },
    "id": "v2F3ITTt6hTA",
    "outputId": "2579cb3d-6f1e-4167-c0e9-adb87d026b42"
   },
   "outputs": [],
   "source": [
    "import numpy as np\n",
    "\n",
    "vec1 = model.get_vector(u'[指原莉乃]')\n",
    "vec2 = model.get_vector(u'[前田敦子]')\n",
    "vec3 = model.get_vector(u'[宮本武蔵]')\n",
    "\n",
    "vec = ([vec1,vec2,vec3])\n",
    "\n",
    "np.corrcoef(vec)"
   ]
  },
  {
   "cell_type": "code",
   "execution_count": null,
   "metadata": {
    "colab": {
     "autoexec": {
      "startup": false,
      "wait_interval": 0
     },
     "base_uri": "https://localhost:8080/",
     "height": 265
    },
    "colab_type": "code",
    "executionInfo": {
     "elapsed": 500,
     "status": "ok",
     "timestamp": 1531271972134,
     "user": {
      "displayName": "川口裕靖",
      "photoUrl": "https://lh3.googleusercontent.com/a/default-user=s128",
      "userId": "112924917745631590628"
     },
     "user_tz": -540
    },
    "id": "cnVvI3HP6mOW",
    "outputId": "660916de-86c9-4fc6-f6d6-daa2ceeedf9a"
   },
   "outputs": [],
   "source": [
    "from matplotlib import pyplot as plt\n",
    "import seaborn as sns\n",
    "%matplotlib inline\n",
    "\n",
    "sns.heatmap(np.corrcoef(vec), annot=True)\n",
    "plt.show()"
   ]
  },
  {
   "cell_type": "code",
   "execution_count": null,
   "metadata": {
    "colab": {
     "autoexec": {
      "startup": false,
      "wait_interval": 0
     },
     "base_uri": "https://localhost:8080/",
     "height": 2244
    },
    "colab_type": "code",
    "executionInfo": {
     "elapsed": 546,
     "status": "ok",
     "timestamp": 1531271975204,
     "user": {
      "displayName": "川口裕靖",
      "photoUrl": "https://lh3.googleusercontent.com/a/default-user=s128",
      "userId": "112924917745631590628"
     },
     "user_tz": -540
    },
    "id": "GM2AmAem6oXq",
    "outputId": "2da5419b-6ec9-4c7a-915b-57e6d3c6d60f"
   },
   "outputs": [],
   "source": [
    "print(vec)"
   ]
  },
  {
   "cell_type": "code",
   "execution_count": null,
   "metadata": {
    "colab": {
     "autoexec": {
      "startup": false,
      "wait_interval": 0
     }
    },
    "colab_type": "code",
    "id": "WgMA1BEt6prl"
   },
   "outputs": [],
   "source": []
  }
 ],
 "metadata": {
  "colab": {
   "collapsed_sections": [],
   "default_view": {},
   "name": "HKColab_word2vec.ipynb",
   "provenance": [],
   "toc_visible": true,
   "version": "0.3.2",
   "views": {}
  },
  "kernelspec": {
   "display_name": "Python 3",
   "language": "python",
   "name": "python3"
  },
  "language_info": {
   "codemirror_mode": {
    "name": "ipython",
    "version": 3
   },
   "file_extension": ".py",
   "mimetype": "text/x-python",
   "name": "python",
   "nbconvert_exporter": "python",
   "pygments_lexer": "ipython3",
   "version": "3.6.5"
  }
 },
 "nbformat": 4,
 "nbformat_minor": 1
}
