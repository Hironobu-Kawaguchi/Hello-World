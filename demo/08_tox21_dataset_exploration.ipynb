{
 "cells": [
  {
   "cell_type": "markdown",
   "metadata": {
    "collapsed": true
   },
   "source": [
    "## Tox 21 dataset exploration\n",
    "\n"
   ]
  },
  {
   "cell_type": "markdown",
   "metadata": {},
   "source": [
    "### 有毒化学物質データ - NIH Tox21 Data Challenge 2014\n",
    "2014 年の Tox21 Data Challenge は、Tox21 (Toxicology in the 21st Century) の取り組みの中でテストを実施した、生物学的経路を破壊して中毒を引き起こす化学物質や化合物の毒性について、科学者の理解を深めることを目的としています。"
   ]
  },
  {
   "cell_type": "markdown",
   "metadata": {},
   "source": [
    "The purpose of this notebook is as follows,\n",
    "\n",
    " - Explain [Tox21 dataset](https://tripod.nih.gov/tox21/challenge/): Check the labels and visualization of molecules to understand what kind of data are stored.\n",
    " - Explain internal structure of tox21 dataset in `chainer_chemistry`: We handle the dataset with `NumpyTupleDataset`.\n",
    " - Explain how `preprocessor` and `parser` work on `chainer_chemistry`: One concrete example using `NFPPreprocessor` is explained.\n",
    "\n",
    "It is out of scope of this notebook to explain how to train graph convolutional network using this dataset, please refer [document tutorial](http://chainer-chemistry.readthedocs.io/en/latest/tutorial.html#) or try `train_tox21.py` in [tox21 example](https://github.com/pfnet-research/chainer-chemistry/tree/master/examples/tox21) for the model training.\n",
    "\n",
    "[Note]\n",
    "This notebook is executed on 1, March, 2018. \n",
    "The behavior of tox21 dataset in `chainer_chemistry` might change in the future."
   ]
  },
  {
   "cell_type": "markdown",
   "metadata": {},
   "source": [
    "Loading modules and set loglevel."
   ]
  },
  {
   "cell_type": "code",
   "execution_count": 1,
   "metadata": {},
   "outputs": [],
   "source": [
    "import logging\n",
    "from rdkit import RDLogger\n",
    "from chainer_chemistry import datasets\n",
    "\n",
    "# Disable errors by RDKit occurred in preprocessing Tox21 dataset.\n",
    "lg = RDLogger.logger()\n",
    "lg.setLevel(RDLogger.CRITICAL)\n",
    "\n",
    "# show INFO level log from chainer chemistry\n",
    "logging.basicConfig(level=logging.INFO)"
   ]
  },
  {
   "cell_type": "markdown",
   "metadata": {},
   "source": [
    "Tox 21 dataset consists of train/validation/test data and they can be downloaded automatically with chainer chemistry. \n",
    "The format of tox21 dataset is \"sdf\" file.\n",
    "You can check the file path of downloaded sdf file with `get_tox21_filepath` method. "
   ]
  },
  {
   "cell_type": "code",
   "execution_count": 2,
   "metadata": {},
   "outputs": [
    {
     "name": "stdout",
     "output_type": "stream",
     "text": [
      "train_filepath = C:\\Users\\hkawaguc.ZENYAKU\\.chainer\\dataset\\pfnet/chainer/tox21\\tox21_10k_data_all.sdf\n",
      "val_filepath = C:\\Users\\hkawaguc.ZENYAKU\\.chainer\\dataset\\pfnet/chainer/tox21\\tox21_10k_challenge_test.sdf\n",
      "test_filepath = C:\\Users\\hkawaguc.ZENYAKU\\.chainer\\dataset\\pfnet/chainer/tox21\\tox21_10k_challenge_score.sdf\n"
     ]
    }
   ],
   "source": [
    "train_filepath = datasets.get_tox21_filepath('train')\n",
    "val_filepath = datasets.get_tox21_filepath('val')\n",
    "test_filepath = datasets.get_tox21_filepath('test')\n",
    "\n",
    "print('train_filepath =', train_filepath)\n",
    "print('val_filepath =', val_filepath)\n",
    "print('test_filepath =', test_filepath)"
   ]
  },
  {
   "cell_type": "markdown",
   "metadata": {},
   "source": [
    "Dataset contains 12 types of toxity, the label of toxity can be checked by `get_tox21_label_names` method.\n"
   ]
  },
  {
   "cell_type": "code",
   "execution_count": 3,
   "metadata": {},
   "outputs": [
    {
     "name": "stdout",
     "output_type": "stream",
     "text": [
      "tox21 label_names = ['NR-AR', 'NR-AR-LBD', 'NR-AhR', 'NR-Aromatase', 'NR-ER', 'NR-ER-LBD', 'NR-PPAR-gamma', 'SR-ARE', 'SR-ATAD5', 'SR-HSE', 'SR-MMP', 'SR-p53']\n"
     ]
    }
   ],
   "source": [
    "label_names = datasets.get_tox21_label_names()\n",
    "print('tox21 label_names =', label_names)"
   ]
  },
  {
   "cell_type": "markdown",
   "metadata": {},
   "source": [
    "### Preprocessing dataset\n",
    "\n",
    "Dataset extraction depends on the preprocessing method, which is determined by `preprocessor`.\n",
    "\n",
    "Here, let's look an example of using `NFPPreprocessor` preprocessor for tox21 dataset exraction.\n",
    "\n",
    "Procedure is as follows,\n",
    "\n",
    "1. Instantiate `preprocessor` (here `NFPPreprocessor` is used).\n",
    "2. call `get_tox21` method with `preprocessor`.\n",
    " - `labels=None` option is used to extract all labels. In this case, 12 types of toxity labels are extracted (see above).\n",
    "\n",
    "[Note] \n",
    " - `return_smiles` option can be used to get SMILES information together with the dataset itself.\n",
    " - Preprocessing result depends on RDKit version. \n",
    "You might get different results due to the difference of RDKit behavior between version."
   ]
  },
  {
   "cell_type": "code",
   "execution_count": 4,
   "metadata": {},
   "outputs": [
    {
     "name": "stdout",
     "output_type": "stream",
     "text": [
      "RDKit version:  2017.09.3\n"
     ]
    }
   ],
   "source": [
    "import rdkit\n",
    "\n",
    "print('RDKit version: ', rdkit.__version__)"
   ]
  },
  {
   "cell_type": "code",
   "execution_count": 5,
   "metadata": {},
   "outputs": [
    {
     "name": "stderr",
     "output_type": "stream",
     "text": [
      "100%|██████████| 11764/11764 [00:19<00:00, 610.02it/s]\n",
      "INFO:chainer_chemistry.dataset.parsers.sdf_file_parser:Preprocess finished. FAIL 6, SUCCESS 11758, TOTAL 11764\n",
      "100%|██████████| 296/296 [00:00<00:00, 533.32it/s]\n",
      "INFO:chainer_chemistry.dataset.parsers.sdf_file_parser:Preprocess finished. FAIL 1, SUCCESS 295, TOTAL 296\n",
      "100%|██████████| 647/647 [00:00<00:00, 674.84it/s]\n",
      "INFO:chainer_chemistry.dataset.parsers.sdf_file_parser:Preprocess finished. FAIL 2, SUCCESS 645, TOTAL 647\n"
     ]
    }
   ],
   "source": [
    "from chainer_chemistry.dataset.preprocessors.nfp_preprocessor import \\\n",
    "    NFPPreprocessor\n",
    "\n",
    "preprocessor = NFPPreprocessor()\n",
    "train, val, test, train_smiles, val_smiles, test_smiles = datasets.get_tox21(preprocessor, labels=None, return_smiles=True)"
   ]
  },
  {
   "cell_type": "markdown",
   "metadata": {},
   "source": [
    "Dataset extraction depends on the `preprocessor`, and you may use other type of `preprocessor` as well.\n",
    "\n",
    "Below is another example of using `GGNNPreprocessor` for dataset extraction. But it takes little bit of time, you can skip it for the following tutorial."
   ]
  },
  {
   "cell_type": "code",
   "execution_count": 6,
   "metadata": {},
   "outputs": [
    {
     "name": "stderr",
     "output_type": "stream",
     "text": [
      "100%|██████████| 11764/11764 [00:23<00:00, 508.41it/s]\n",
      "INFO:chainer_chemistry.dataset.parsers.sdf_file_parser:Preprocess finished. FAIL 6, SUCCESS 11758, TOTAL 11764\n",
      "100%|██████████| 296/296 [00:00<00:00, 433.71it/s]\n",
      "INFO:chainer_chemistry.dataset.parsers.sdf_file_parser:Preprocess finished. FAIL 1, SUCCESS 295, TOTAL 296\n",
      "100%|██████████| 647/647 [00:01<00:00, 586.47it/s]\n",
      "INFO:chainer_chemistry.dataset.parsers.sdf_file_parser:Preprocess finished. FAIL 2, SUCCESS 645, TOTAL 647\n"
     ]
    }
   ],
   "source": [
    "from chainer_chemistry.dataset.preprocessors.ggnn_preprocessor import \\\n",
    "    GGNNPreprocessor\n",
    "\n",
    "# uncomment it if you want to try `GGNNPreprocessor`\n",
    "ggnn_preprocessor = GGNNPreprocessor()\n",
    "results = datasets.get_tox21(ggnn_preprocessor, labels=None, return_smiles=True)\n",
    "train_ggnn, val_ggnn, test_ggnn, train_smiles_ggnn, val_smiles_ggnn, test_smiles_ggnn = results"
   ]
  },
  {
   "cell_type": "markdown",
   "metadata": {},
   "source": [
    "### Check extracted dataset\n",
    "\n",
    "First, let's check number of data for train/validation/test dataset."
   ]
  },
  {
   "cell_type": "code",
   "execution_count": 7,
   "metadata": {},
   "outputs": [
    {
     "name": "stdout",
     "output_type": "stream",
     "text": [
      "dataset information...\n",
      "train <class 'chainer_chemistry.datasets.numpy_tuple_dataset.NumpyTupleDataset'> 11758\n",
      "val <class 'chainer_chemistry.datasets.numpy_tuple_dataset.NumpyTupleDataset'> 295\n",
      "test <class 'chainer_chemistry.datasets.numpy_tuple_dataset.NumpyTupleDataset'> 645\n",
      "smiles information...\n",
      "train_smiles <class 'numpy.ndarray'> 11758\n"
     ]
    }
   ],
   "source": [
    "print('dataset information...')\n",
    "print('train', type(train), len(train))\n",
    "print('val', type(val), len(val))\n",
    "print('test', type(test), len(test))\n",
    "\n",
    "print('smiles information...')\n",
    "print('train_smiles', type(train_smiles), len(train_smiles))"
   ]
  },
  {
   "cell_type": "markdown",
   "metadata": {},
   "source": [
    "There are 11757 data in `train`, 295 data in `val` and 645 data in `test` respectively.\n",
    "(You might get different result with different version of `rdkit`.)"
   ]
  },
  {
   "cell_type": "markdown",
   "metadata": {},
   "source": [
    "The dataset is a class of `NumpyTupleDataset`, where i-th dataset features can be accessed by `dataset[i]`.\n",
    "\n",
    "When `NFPPreprocessor` is used, each dataset consists of following features\n",
    " 1. atom feature: representing atomic number of given molecule. \n",
    " 2. adjacency matrix feature: representing adjacency matrix of given molecule.\n",
    " 3. label feature: representing toxity (label) of given molecule.\n",
    "    Here, 0 indicates negative (no toxity), 1 indicates positive (toxic) and -1 indicates data is not available, respectively."
   ]
  },
  {
   "cell_type": "markdown",
   "metadata": {},
   "source": [
    "Let's look an example of 6-th train dataset"
   ]
  },
  {
   "cell_type": "code",
   "execution_count": 8,
   "metadata": {},
   "outputs": [
    {
     "name": "stdout",
     "output_type": "stream",
     "text": [
      "index=6, SMILES=Cc1ccc([N+](=O)[O-])c2c1O[Hg]2\n",
      "atom (12,) [ 6  6  6  6  6  7  8  8  6  6  8 80]\n",
      "adj (12, 12)\n",
      "[[1. 1. 0. 0. 0. 0. 0. 0. 0. 0. 0. 0.]\n",
      " [1. 1. 1. 0. 0. 0. 0. 0. 0. 1. 0. 0.]\n",
      " [0. 1. 1. 1. 0. 0. 0. 0. 0. 0. 0. 0.]\n",
      " [0. 0. 1. 1. 1. 0. 0. 0. 0. 0. 0. 0.]\n",
      " [0. 0. 0. 1. 1. 1. 0. 0. 1. 0. 0. 0.]\n",
      " [0. 0. 0. 0. 1. 1. 1. 1. 0. 0. 0. 0.]\n",
      " [0. 0. 0. 0. 0. 1. 1. 0. 0. 0. 0. 0.]\n",
      " [0. 0. 0. 0. 0. 1. 0. 1. 0. 0. 0. 0.]\n",
      " [0. 0. 0. 0. 1. 0. 0. 0. 1. 1. 0. 1.]\n",
      " [0. 1. 0. 0. 0. 0. 0. 0. 1. 1. 1. 0.]\n",
      " [0. 0. 0. 0. 0. 0. 0. 0. 0. 1. 1. 1.]\n",
      " [0. 0. 0. 0. 0. 0. 0. 0. 1. 0. 1. 1.]]\n",
      "labels [-1 -1 -1 -1 -1 -1 -1 -1 -1  1 -1 -1]\n"
     ]
    }
   ],
   "source": [
    "index = 6\n",
    "\n",
    "print('index={}, SMILES={}'.format(index, train_smiles[index]))\n",
    "atom, adj, labels = train[index]\n",
    "# This molecule has N=12 atoms.\n",
    "print('atom', atom.shape, atom)\n",
    "# adjacency matrix is NxN matrix, where N is number of atoms in the molecule.\n",
    "# Unlike usual adjacency matrix, diagonal elements are filled with 1, for NFP calculation purpose.\n",
    "print('adj', adj.shape)\n",
    "print(adj)\n",
    "print('labels', labels)"
   ]
  },
  {
   "cell_type": "markdown",
   "metadata": {},
   "source": [
    "### Visualizing the molecule\n",
    "\n",
    "One might want to visualize molecule given SMILES information.\n",
    "Here is an example code:\n"
   ]
  },
  {
   "cell_type": "code",
   "execution_count": 9,
   "metadata": {},
   "outputs": [],
   "source": [
    "# This script is referred from http://rdkit.blogspot.jp/2015/02/new-drawing-code.html\n",
    "# and http://cheminformist.itmol.com/TEST/wp-content/uploads/2015/07/rdkit_moldraw2d_2.html\n",
    "from __future__ import print_function\n",
    "from rdkit import Chem\n",
    "from rdkit.Chem.Draw import IPythonConsole\n",
    "from IPython.display import SVG\n",
    "\n",
    "from rdkit.Chem import rdDepictor\n",
    "from rdkit.Chem.Draw import rdMolDraw2D\n",
    "def moltosvg(mol,molSize=(450,150),kekulize=True):\n",
    "    mc = Chem.Mol(mol.ToBinary())\n",
    "    if kekulize:\n",
    "        try:\n",
    "            Chem.Kekulize(mc)\n",
    "        except:\n",
    "            mc = Chem.Mol(mol.ToBinary())\n",
    "    if not mc.GetNumConformers():\n",
    "        rdDepictor.Compute2DCoords(mc)\n",
    "    drawer = rdMolDraw2D.MolDraw2DSVG(molSize[0],molSize[1])\n",
    "    drawer.DrawMolecule(mc)\n",
    "    drawer.FinishDrawing()\n",
    "    svg = drawer.GetDrawingText()\n",
    "    return svg\n",
    "\n",
    "def render_svg(svg):\n",
    "    # It seems that the svg renderer used doesn't quite hit the spec.\n",
    "    # Here are some fixes to make it work in the notebook, although I think\n",
    "    # the underlying issue needs to be resolved at the generation step\n",
    "    return SVG(svg.replace('svg:',''))"
   ]
  },
  {
   "cell_type": "code",
   "execution_count": 10,
   "metadata": {},
   "outputs": [
    {
     "name": "stdout",
     "output_type": "stream",
     "text": [
      "smiles: Cc1ccc([N+](=O)[O-])c2c1O[Hg]2\n"
     ]
    },
    {
     "data": {
      "image/svg+xml": [
       "<svg baseProfile=\"full\" height=\"150px\" version=\"1.1\" width=\"450px\" xml:space=\"preserve\" xmlns:rdkit=\"http://www.rdkit.org/xml\" xmlns:svg=\"http://www.w3.org/2000/svg\" xmlns:xlink=\"http://www.w3.org/1999/xlink\">\n",
       "<rect height=\"150\" style=\"opacity:1.0;fill:#FFFFFF;stroke:none\" width=\"450\" x=\"0\" y=\"0\"> </rect>\n",
       "<path d=\"M 110.606,38.6588 158.225,44.9246\" style=\"fill:none;fill-rule:evenodd;stroke:#000000;stroke-width:2px;stroke-linecap:butt;stroke-linejoin:miter;stroke-opacity:1\"/>\n",
       "<path d=\"M 158.225,44.9246 187.461,6.81818\" style=\"fill:none;fill-rule:evenodd;stroke:#000000;stroke-width:2px;stroke-linecap:butt;stroke-linejoin:miter;stroke-opacity:1\"/>\n",
       "<path d=\"M 170.231,45.0558 190.697,18.3813\" style=\"fill:none;fill-rule:evenodd;stroke:#000000;stroke-width:2px;stroke-linecap:butt;stroke-linejoin:miter;stroke-opacity:1\"/>\n",
       "<path d=\"M 158.225,44.9246 176.608,89.2969\" style=\"fill:none;fill-rule:evenodd;stroke:#000000;stroke-width:2px;stroke-linecap:butt;stroke-linejoin:miter;stroke-opacity:1\"/>\n",
       "<path d=\"M 187.461,6.81818 235.08,13.084\" style=\"fill:none;fill-rule:evenodd;stroke:#000000;stroke-width:2px;stroke-linecap:butt;stroke-linejoin:miter;stroke-opacity:1\"/>\n",
       "<path d=\"M 235.08,13.084 253.463,57.4563\" style=\"fill:none;fill-rule:evenodd;stroke:#000000;stroke-width:2px;stroke-linecap:butt;stroke-linejoin:miter;stroke-opacity:1\"/>\n",
       "<path d=\"M 228.963,23.4165 241.831,54.4771\" style=\"fill:none;fill-rule:evenodd;stroke:#000000;stroke-width:2px;stroke-linecap:butt;stroke-linejoin:miter;stroke-opacity:1\"/>\n",
       "<path d=\"M 253.463,57.4563 272.4,59.9481\" style=\"fill:none;fill-rule:evenodd;stroke:#000000;stroke-width:2px;stroke-linecap:butt;stroke-linejoin:miter;stroke-opacity:1\"/>\n",
       "<path d=\"M 272.4,59.9481 291.338,62.4399\" style=\"fill:none;fill-rule:evenodd;stroke:#0000FF;stroke-width:2px;stroke-linecap:butt;stroke-linejoin:miter;stroke-opacity:1\"/>\n",
       "<path d=\"M 253.463,57.4563 224.227,95.5627\" style=\"fill:none;fill-rule:evenodd;stroke:#000000;stroke-width:2px;stroke-linecap:butt;stroke-linejoin:miter;stroke-opacity:1\"/>\n",
       "<path d=\"M 300.293,74.3658 306.002,88.1468\" style=\"fill:none;fill-rule:evenodd;stroke:#0000FF;stroke-width:2px;stroke-linecap:butt;stroke-linejoin:miter;stroke-opacity:1\"/>\n",
       "<path d=\"M 306.002,88.1468 311.712,101.928\" style=\"fill:none;fill-rule:evenodd;stroke:#FF0000;stroke-width:2px;stroke-linecap:butt;stroke-linejoin:miter;stroke-opacity:1\"/>\n",
       "<path d=\"M 309.167,70.6892 314.877,84.4702\" style=\"fill:none;fill-rule:evenodd;stroke:#0000FF;stroke-width:2px;stroke-linecap:butt;stroke-linejoin:miter;stroke-opacity:1\"/>\n",
       "<path d=\"M 314.877,84.4702 320.586,98.2511\" style=\"fill:none;fill-rule:evenodd;stroke:#FF0000;stroke-width:2px;stroke-linecap:butt;stroke-linejoin:miter;stroke-opacity:1\"/>\n",
       "<path d=\"M 307.838,54.9167 315.7,44.6689\" style=\"fill:none;fill-rule:evenodd;stroke:#0000FF;stroke-width:2px;stroke-linecap:butt;stroke-linejoin:miter;stroke-opacity:1\"/>\n",
       "<path d=\"M 315.7,44.6689 323.562,34.4211\" style=\"fill:none;fill-rule:evenodd;stroke:#FF0000;stroke-width:2px;stroke-linecap:butt;stroke-linejoin:miter;stroke-opacity:1\"/>\n",
       "<path d=\"M 224.227,95.5627 176.608,89.2969\" style=\"fill:none;fill-rule:evenodd;stroke:#000000;stroke-width:2px;stroke-linecap:butt;stroke-linejoin:miter;stroke-opacity:1\"/>\n",
       "<path d=\"M 218.337,85.099 185.004,80.7129\" style=\"fill:none;fill-rule:evenodd;stroke:#000000;stroke-width:2px;stroke-linecap:butt;stroke-linejoin:miter;stroke-opacity:1\"/>\n",
       "<path d=\"M 224.227,95.5627 219.014,135.177\" style=\"fill:none;fill-rule:evenodd;stroke:#000000;stroke-width:2px;stroke-linecap:butt;stroke-linejoin:miter;stroke-opacity:1\"/>\n",
       "<path d=\"M 176.608,89.2969 174.002,109.104\" style=\"fill:none;fill-rule:evenodd;stroke:#000000;stroke-width:2px;stroke-linecap:butt;stroke-linejoin:miter;stroke-opacity:1\"/>\n",
       "<path d=\"M 174.002,109.104 171.395,128.911\" style=\"fill:none;fill-rule:evenodd;stroke:#FF0000;stroke-width:2px;stroke-linecap:butt;stroke-linejoin:miter;stroke-opacity:1\"/>\n",
       "<path d=\"M 177.818,137.9 191.749,139.733\" style=\"fill:none;fill-rule:evenodd;stroke:#FF0000;stroke-width:2px;stroke-linecap:butt;stroke-linejoin:miter;stroke-opacity:1\"/>\n",
       "<path d=\"M 191.749,139.733 205.68,141.566\" style=\"fill:none;fill-rule:evenodd;stroke:#000000;stroke-width:2px;stroke-linecap:butt;stroke-linejoin:miter;stroke-opacity:1\"/>\n",
       "<text style=\"font-size:16px;font-style:normal;font-weight:normal;fill-opacity:1;stroke:none;font-family:sans-serif;text-anchor:start;fill:#0000FF\" x=\"291.338\" y=\"72.5275\"><tspan>N</tspan><tspan style=\"baseline-shift:super;font-size:12px;\">+</tspan><tspan/></text>\n",
       "<text style=\"font-size:16px;font-style:normal;font-weight:normal;fill-opacity:1;stroke:none;font-family:sans-serif;text-anchor:start;fill:#FF0000\" x=\"311.989\" y=\"116.099\"><tspan>O</tspan></text>\n",
       "<text style=\"font-size:16px;font-style:normal;font-weight:normal;fill-opacity:1;stroke:none;font-family:sans-serif;text-anchor:start;fill:#FF0000\" x=\"321.242\" y=\"34.4211\"><tspan>O</tspan><tspan style=\"baseline-shift:super;font-size:12px;\">-</tspan><tspan/></text>\n",
       "<text style=\"font-size:16px;font-style:normal;font-weight:normal;fill-opacity:1;stroke:none;font-family:sans-serif;text-anchor:start;fill:#FF0000\" x=\"162.866\" y=\"144.921\"><tspan>O</tspan></text>\n",
       "<text style=\"font-size:16px;font-style:normal;font-weight:normal;fill-opacity:1;stroke:none;font-family:sans-serif;text-anchor:start;fill:#000000\" x=\"205.68\" y=\"151.187\"><tspan>Hg</tspan></text>\n",
       "</svg>"
      ],
      "text/plain": [
       "<IPython.core.display.SVG object>"
      ]
     },
     "execution_count": 10,
     "metadata": {},
     "output_type": "execute_result"
    }
   ],
   "source": [
    "smiles = train_smiles[index]\n",
    "mol = Chem.MolFromSmiles(train_smiles[index])\n",
    "\n",
    "print('smiles:', smiles)\n",
    "render_svg(moltosvg(mol))"
   ]
  },
  {
   "cell_type": "markdown",
   "metadata": {},
   "source": [
    "[Note] SVG images cannot be displayed on GitHub, but you can see an image of molecule when you execute it on jupyter notebook."
   ]
  },
  {
   "cell_type": "markdown",
   "metadata": {},
   "source": [
    "### Interactively watch through the tox21 dataset\n",
    "\n",
    "Jupyter notebook provides handy module to check/visualize the data.\n",
    "Here `interact` module can be used to interactively check the internal of tox 21 dataset."
   ]
  },
  {
   "cell_type": "code",
   "execution_count": 11,
   "metadata": {},
   "outputs": [
    {
     "name": "stdout",
     "output_type": "stream",
     "text": [
      "index=5878, SMILES=CCN(CC)CCOC(=O)c1ccc(N)cc1.Cl\n",
      "atom [ 6  6  7  6  6  6  6  8  6  8  6  6  6  6  7  6  6 17]\n",
      "labels [ 0  0  0  0  0  0  0 -1  0 -1  0  0]\n"
     ]
    },
    {
     "data": {
      "image/svg+xml": [
       "<svg baseProfile=\"full\" height=\"150px\" version=\"1.1\" width=\"450px\" xml:space=\"preserve\" xmlns:rdkit=\"http://www.rdkit.org/xml\" xmlns:svg=\"http://www.w3.org/2000/svg\" xmlns:xlink=\"http://www.w3.org/1999/xlink\">\n",
       "<rect height=\"150\" style=\"opacity:1.0;fill:#FFFFFF;stroke:none\" width=\"450\" x=\"0\" y=\"0\"> </rect>\n",
       "<path d=\"M 429.545,49.0204 388.562,36.9733\" style=\"fill:none;fill-rule:evenodd;stroke:#000000;stroke-width:2px;stroke-linecap:butt;stroke-linejoin:miter;stroke-opacity:1\"/>\n",
       "<path d=\"M 388.562,36.9733 376.185,48.7676\" style=\"fill:none;fill-rule:evenodd;stroke:#000000;stroke-width:2px;stroke-linecap:butt;stroke-linejoin:miter;stroke-opacity:1\"/>\n",
       "<path d=\"M 376.185,48.7676 363.809,60.5619\" style=\"fill:none;fill-rule:evenodd;stroke:#0000FF;stroke-width:2px;stroke-linecap:butt;stroke-linejoin:miter;stroke-opacity:1\"/>\n",
       "<path d=\"M 359.363,73.5618 363.529,90.76\" style=\"fill:none;fill-rule:evenodd;stroke:#0000FF;stroke-width:2px;stroke-linecap:butt;stroke-linejoin:miter;stroke-opacity:1\"/>\n",
       "<path d=\"M 363.529,90.76 367.696,107.958\" style=\"fill:none;fill-rule:evenodd;stroke:#000000;stroke-width:2px;stroke-linecap:butt;stroke-linejoin:miter;stroke-opacity:1\"/>\n",
       "<path d=\"M 351.467,64.6283 334.061,59.5118\" style=\"fill:none;fill-rule:evenodd;stroke:#0000FF;stroke-width:2px;stroke-linecap:butt;stroke-linejoin:miter;stroke-opacity:1\"/>\n",
       "<path d=\"M 334.061,59.5118 316.655,54.3952\" style=\"fill:none;fill-rule:evenodd;stroke:#000000;stroke-width:2px;stroke-linecap:butt;stroke-linejoin:miter;stroke-opacity:1\"/>\n",
       "<path d=\"M 367.696,107.958 408.679,120.005\" style=\"fill:none;fill-rule:evenodd;stroke:#000000;stroke-width:2px;stroke-linecap:butt;stroke-linejoin:miter;stroke-opacity:1\"/>\n",
       "<path d=\"M 316.655,54.3952 285.73,83.8641\" style=\"fill:none;fill-rule:evenodd;stroke:#000000;stroke-width:2px;stroke-linecap:butt;stroke-linejoin:miter;stroke-opacity:1\"/>\n",
       "<path d=\"M 285.73,83.8641 268.563,78.8179\" style=\"fill:none;fill-rule:evenodd;stroke:#000000;stroke-width:2px;stroke-linecap:butt;stroke-linejoin:miter;stroke-opacity:1\"/>\n",
       "<path d=\"M 268.563,78.8179 251.396,73.7717\" style=\"fill:none;fill-rule:evenodd;stroke:#FF0000;stroke-width:2px;stroke-linecap:butt;stroke-linejoin:miter;stroke-opacity:1\"/>\n",
       "<path d=\"M 238.097,78.1536 225.96,89.7198\" style=\"fill:none;fill-rule:evenodd;stroke:#FF0000;stroke-width:2px;stroke-linecap:butt;stroke-linejoin:miter;stroke-opacity:1\"/>\n",
       "<path d=\"M 225.96,89.7198 213.822,101.286\" style=\"fill:none;fill-rule:evenodd;stroke:#000000;stroke-width:2px;stroke-linecap:butt;stroke-linejoin:miter;stroke-opacity:1\"/>\n",
       "<path d=\"M 209.671,102.292 213.838,119.49\" style=\"fill:none;fill-rule:evenodd;stroke:#000000;stroke-width:2px;stroke-linecap:butt;stroke-linejoin:miter;stroke-opacity:1\"/>\n",
       "<path d=\"M 213.838,119.49 218.004,136.688\" style=\"fill:none;fill-rule:evenodd;stroke:#FF0000;stroke-width:2px;stroke-linecap:butt;stroke-linejoin:miter;stroke-opacity:1\"/>\n",
       "<path d=\"M 217.974,100.28 222.141,117.478\" style=\"fill:none;fill-rule:evenodd;stroke:#000000;stroke-width:2px;stroke-linecap:butt;stroke-linejoin:miter;stroke-opacity:1\"/>\n",
       "<path d=\"M 222.141,117.478 226.308,134.677\" style=\"fill:none;fill-rule:evenodd;stroke:#FF0000;stroke-width:2px;stroke-linecap:butt;stroke-linejoin:miter;stroke-opacity:1\"/>\n",
       "<path d=\"M 213.822,101.286 172.839,89.239\" style=\"fill:none;fill-rule:evenodd;stroke:#000000;stroke-width:2px;stroke-linecap:butt;stroke-linejoin:miter;stroke-opacity:1\"/>\n",
       "<path d=\"M 172.839,89.239 141.915,118.708\" style=\"fill:none;fill-rule:evenodd;stroke:#000000;stroke-width:2px;stroke-linecap:butt;stroke-linejoin:miter;stroke-opacity:1\"/>\n",
       "<path d=\"M 162.307,87.4744 140.66,108.103\" style=\"fill:none;fill-rule:evenodd;stroke:#000000;stroke-width:2px;stroke-linecap:butt;stroke-linejoin:miter;stroke-opacity:1\"/>\n",
       "<path d=\"M 172.839,89.239 162.781,47.7231\" style=\"fill:none;fill-rule:evenodd;stroke:#000000;stroke-width:2px;stroke-linecap:butt;stroke-linejoin:miter;stroke-opacity:1\"/>\n",
       "<path d=\"M 141.915,118.708 100.931,106.661\" style=\"fill:none;fill-rule:evenodd;stroke:#000000;stroke-width:2px;stroke-linecap:butt;stroke-linejoin:miter;stroke-opacity:1\"/>\n",
       "<path d=\"M 100.931,106.661 90.873,65.145\" style=\"fill:none;fill-rule:evenodd;stroke:#000000;stroke-width:2px;stroke-linecap:butt;stroke-linejoin:miter;stroke-opacity:1\"/>\n",
       "<path d=\"M 107.726,98.4218 100.685,69.3607\" style=\"fill:none;fill-rule:evenodd;stroke:#000000;stroke-width:2px;stroke-linecap:butt;stroke-linejoin:miter;stroke-opacity:1\"/>\n",
       "<path d=\"M 90.873,65.145 77.7402,61.2846\" style=\"fill:none;fill-rule:evenodd;stroke:#000000;stroke-width:2px;stroke-linecap:butt;stroke-linejoin:miter;stroke-opacity:1\"/>\n",
       "<path d=\"M 77.7402,61.2846 64.6075,57.4242\" style=\"fill:none;fill-rule:evenodd;stroke:#0000FF;stroke-width:2px;stroke-linecap:butt;stroke-linejoin:miter;stroke-opacity:1\"/>\n",
       "<path d=\"M 90.873,65.145 121.798,35.6761\" style=\"fill:none;fill-rule:evenodd;stroke:#000000;stroke-width:2px;stroke-linecap:butt;stroke-linejoin:miter;stroke-opacity:1\"/>\n",
       "<path d=\"M 121.798,35.6761 162.781,47.7231\" style=\"fill:none;fill-rule:evenodd;stroke:#000000;stroke-width:2px;stroke-linecap:butt;stroke-linejoin:miter;stroke-opacity:1\"/>\n",
       "<path d=\"M 125.536,45.6797 154.224,54.1127\" style=\"fill:none;fill-rule:evenodd;stroke:#000000;stroke-width:2px;stroke-linecap:butt;stroke-linejoin:miter;stroke-opacity:1\"/>\n",
       "<text style=\"font-size:14px;font-style:normal;font-weight:normal;fill-opacity:1;stroke:none;font-family:sans-serif;text-anchor:start;fill:#0000FF\" x=\"351.467\" y=\"73.5618\"><tspan>N</tspan></text>\n",
       "<text style=\"font-size:14px;font-style:normal;font-weight:normal;fill-opacity:1;stroke:none;font-family:sans-serif;text-anchor:start;fill:#FF0000\" x=\"238.097\" y=\"78.9366\"><tspan>O</tspan></text>\n",
       "<text style=\"font-size:14px;font-style:normal;font-weight:normal;fill-opacity:1;stroke:none;font-family:sans-serif;text-anchor:start;fill:#FF0000\" x=\"217.231\" y=\"149.921\"><tspan>O</tspan></text>\n",
       "<text style=\"font-size:14px;font-style:normal;font-weight:normal;fill-opacity:1;stroke:none;font-family:sans-serif;text-anchor:start;fill:#0000FF\" x=\"35.1722\" y=\"60.9294\"><tspan>H</tspan><tspan style=\"baseline-shift:sub;font-size:10.5px;\">2</tspan><tspan>N</tspan></text>\n",
       "<text style=\"font-size:14px;font-style:normal;font-weight:normal;fill-opacity:1;stroke:none;font-family:sans-serif;text-anchor:start;fill:#00CC00\" x=\"225.642\" y=\"14.3175\"><tspan>HCl</tspan></text>\n",
       "</svg>"
      ],
      "text/plain": [
       "<IPython.core.display.SVG object>"
      ]
     },
     "metadata": {},
     "output_type": "display_data"
    },
    {
     "data": {
      "text/plain": [
       "<function __main__.show_train_dataset(index)>"
      ]
     },
     "execution_count": 11,
     "metadata": {},
     "output_type": "execute_result"
    }
   ],
   "source": [
    "from ipywidgets import interact\n",
    "\n",
    "def show_train_dataset(index):\n",
    "    atom, adj, labels = train[index]\n",
    "    smiles = train_smiles[index]\n",
    "    print('index={}, SMILES={}'.format(index, smiles))\n",
    "    print('atom', atom)\n",
    "    # print('adj', adj)\n",
    "    print('labels', labels)\n",
    "    mol = Chem.MolFromSmiles(train_smiles[index])\n",
    "    return render_svg(moltosvg(mol))\n",
    "\n",
    "interact(show_train_dataset, index=(0, len(train) - 1, 1))"
   ]
  },
  {
   "cell_type": "markdown",
   "metadata": {},
   "source": [
    "### Appendix: how to save the molecule figure?\n",
    "\n",
    "### 1. Save with SVG format\n",
    "\n",
    "First method is simply save svg in file.\n"
   ]
  },
  {
   "cell_type": "code",
   "execution_count": 12,
   "metadata": {},
   "outputs": [],
   "source": [
    "import os\n",
    "dirpath = 'images'\n",
    "\n",
    "if not os.path.exists(dirpath):\n",
    "    os.mkdir(dirpath)"
   ]
  },
  {
   "cell_type": "code",
   "execution_count": 13,
   "metadata": {},
   "outputs": [],
   "source": [
    "def save_svg(mol, filepath):\n",
    "    svg = moltosvg(mol)\n",
    "    with open(filepath, \"w\") as fw:\n",
    "        fw.write(svg)"
   ]
  },
  {
   "cell_type": "code",
   "execution_count": 14,
   "metadata": {},
   "outputs": [
    {
     "name": "stdout",
     "output_type": "stream",
     "text": [
      "drawing images\\mol_6.svg\n"
     ]
    }
   ],
   "source": [
    "index = 6\n",
    "save_filepath = os.path.join(dirpath, 'mol_{}.svg'.format(index))\n",
    "print('drawing {}'.format(save_filepath))\n",
    "\n",
    "mol = Chem.MolFromSmiles(train_smiles[index])\n",
    "save_svg(mol, save_filepath)"
   ]
  },
  {
   "cell_type": "markdown",
   "metadata": {},
   "source": [
    "### 2. Save with png format\n",
    "\n",
    "`rdkit` provides `Draw.MolToFile` method to visualize mol instance and save it to png format."
   ]
  },
  {
   "cell_type": "code",
   "execution_count": 15,
   "metadata": {},
   "outputs": [],
   "source": [
    "from rdkit.Chem import Draw\n",
    "\n",
    "def save_png(mol, filepath, size=(600, 600)):\n",
    "    Draw.MolToFile(mol, filepath, size=size)"
   ]
  },
  {
   "cell_type": "code",
   "execution_count": 16,
   "metadata": {},
   "outputs": [
    {
     "name": "stdout",
     "output_type": "stream",
     "text": [
      "drawing images\\mol_6.png\n"
     ]
    }
   ],
   "source": [
    "index = 6\n",
    "save_filepath = os.path.join(dirpath, 'mol_{}.png'.format(index))\n",
    "print('drawing {}'.format(save_filepath))\n",
    "\n",
    "mol = Chem.MolFromSmiles(train_smiles[index])\n",
    "save_png(mol, save_filepath, size=(600, 600))"
   ]
  },
  {
   "cell_type": "code",
   "execution_count": null,
   "metadata": {
    "collapsed": true
   },
   "outputs": [],
   "source": []
  },
  {
   "cell_type": "code",
   "execution_count": null,
   "metadata": {
    "collapsed": true
   },
   "outputs": [],
   "source": []
  }
 ],
 "metadata": {
  "anaconda-cloud": {},
  "kernelspec": {
   "display_name": "Python 3",
   "language": "python",
   "name": "python3"
  },
  "language_info": {
   "codemirror_mode": {
    "name": "ipython",
    "version": 3
   },
   "file_extension": ".py",
   "mimetype": "text/x-python",
   "name": "python",
   "nbconvert_exporter": "python",
   "pygments_lexer": "ipython3",
   "version": "3.6.6"
  }
 },
 "nbformat": 4,
 "nbformat_minor": 1
}
