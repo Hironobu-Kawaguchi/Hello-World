{
 "cells": [
  {
   "cell_type": "markdown",
   "metadata": {},
   "source": [
    "# python-igraph tutorial\n",
    "https://igraph.org/python/doc/tutorial/tutorial.html"
   ]
  },
  {
   "cell_type": "markdown",
   "metadata": {},
   "source": [
    "## conda install\n",
    "https://anaconda.org/conda-forge/python-igraph"
   ]
  },
  {
   "cell_type": "code",
   "execution_count": 1,
   "metadata": {},
   "outputs": [
    {
     "name": "stdout",
     "output_type": "stream",
     "text": [
      "0.8.2\n"
     ]
    }
   ],
   "source": [
    "import igraph\n",
    "print(igraph.__version__)"
   ]
  },
  {
   "cell_type": "markdown",
   "metadata": {},
   "source": [
    "## Creating a graph from scratch"
   ]
  },
  {
   "cell_type": "code",
   "execution_count": 11,
   "metadata": {},
   "outputs": [
    {
     "data": {
      "text/plain": [
       "<igraph.Graph at 0x205a46196d8>"
      ]
     },
     "execution_count": 11,
     "metadata": {},
     "output_type": "execute_result"
    }
   ],
   "source": [
    "g = igraph.Graph()\n",
    "g"
   ]
  },
  {
   "cell_type": "code",
   "execution_count": 12,
   "metadata": {},
   "outputs": [
    {
     "name": "stdout",
     "output_type": "stream",
     "text": [
      "IGRAPH U--- 0 0 --\n"
     ]
    }
   ],
   "source": [
    "print(g)"
   ]
  },
  {
   "cell_type": "code",
   "execution_count": 13,
   "metadata": {},
   "outputs": [],
   "source": [
    "g.add_vertices(3)"
   ]
  },
  {
   "cell_type": "code",
   "execution_count": 14,
   "metadata": {},
   "outputs": [],
   "source": [
    "g.add_edges([(0,1), (1,2)])"
   ]
  },
  {
   "cell_type": "code",
   "execution_count": 15,
   "metadata": {},
   "outputs": [
    {
     "ename": "TypeError",
     "evalue": "iterable must return pairs of integers or strings",
     "output_type": "error",
     "traceback": [
      "\u001b[1;31m---------------------------------------------------------------------------\u001b[0m",
      "\u001b[1;31mTypeError\u001b[0m                                 Traceback (most recent call last)",
      "\u001b[1;32m<ipython-input-15-7353f7a56fa0>\u001b[0m in \u001b[0;36m<module>\u001b[1;34m\u001b[0m\n\u001b[1;32m----> 1\u001b[1;33m \u001b[0mg\u001b[0m\u001b[1;33m.\u001b[0m\u001b[0madd_edges\u001b[0m\u001b[1;33m(\u001b[0m\u001b[1;33m(\u001b[0m\u001b[1;36m5\u001b[0m\u001b[1;33m,\u001b[0m \u001b[1;36m0\u001b[0m\u001b[1;33m)\u001b[0m\u001b[1;33m)\u001b[0m\u001b[1;33m\u001b[0m\u001b[1;33m\u001b[0m\u001b[0m\n\u001b[0m",
      "\u001b[1;32m~\\Anaconda3\\envs\\py37\\lib\\site-packages\\igraph\\__init__.py\u001b[0m in \u001b[0;36madd_edges\u001b[1;34m(self, es)\u001b[0m\n\u001b[0;32m    268\u001b[0m           \u001b[0mendpoints\u001b[0m\u001b[1;33m.\u001b[0m \u001b[0mVertices\u001b[0m \u001b[0mare\u001b[0m \u001b[0menumerated\u001b[0m \u001b[1;32mfrom\u001b[0m \u001b[0mzero\u001b[0m\u001b[1;33m.\u001b[0m\u001b[1;33m\u001b[0m\u001b[1;33m\u001b[0m\u001b[0m\n\u001b[0;32m    269\u001b[0m         \"\"\"\n\u001b[1;32m--> 270\u001b[1;33m         \u001b[1;32mreturn\u001b[0m \u001b[0mGraphBase\u001b[0m\u001b[1;33m.\u001b[0m\u001b[0madd_edges\u001b[0m\u001b[1;33m(\u001b[0m\u001b[0mself\u001b[0m\u001b[1;33m,\u001b[0m \u001b[0mes\u001b[0m\u001b[1;33m)\u001b[0m\u001b[1;33m\u001b[0m\u001b[1;33m\u001b[0m\u001b[0m\n\u001b[0m\u001b[0;32m    271\u001b[0m \u001b[1;33m\u001b[0m\u001b[0m\n\u001b[0;32m    272\u001b[0m     \u001b[1;32mdef\u001b[0m \u001b[0madd_vertex\u001b[0m\u001b[1;33m(\u001b[0m\u001b[0mself\u001b[0m\u001b[1;33m,\u001b[0m \u001b[0mname\u001b[0m\u001b[1;33m=\u001b[0m\u001b[1;32mNone\u001b[0m\u001b[1;33m,\u001b[0m \u001b[1;33m**\u001b[0m\u001b[0mkwds\u001b[0m\u001b[1;33m)\u001b[0m\u001b[1;33m:\u001b[0m\u001b[1;33m\u001b[0m\u001b[1;33m\u001b[0m\u001b[0m\n",
      "\u001b[1;31mTypeError\u001b[0m: iterable must return pairs of integers or strings"
     ]
    }
   ],
   "source": [
    "g.add_edges((5, 0))"
   ]
  },
  {
   "cell_type": "code",
   "execution_count": 16,
   "metadata": {},
   "outputs": [
    {
     "name": "stdout",
     "output_type": "stream",
     "text": [
      "IGRAPH U--- 6 7 --\n",
      "+ edges:\n",
      "0--1 1--2 0--2 2--3 3--4 4--5 3--5\n"
     ]
    }
   ],
   "source": [
    "g.add_edges([(2, 0)])\n",
    "g.add_vertices(3)\n",
    "g.add_edges([(2, 3), (3, 4), (4, 5), (5, 3)])\n",
    "print(g)"
   ]
  },
  {
   "cell_type": "code",
   "execution_count": 17,
   "metadata": {},
   "outputs": [
    {
     "data": {
      "text/plain": [
       "3"
      ]
     },
     "execution_count": 17,
     "metadata": {},
     "output_type": "execute_result"
    }
   ],
   "source": [
    "g.get_eid(2, 3)"
   ]
  },
  {
   "cell_type": "code",
   "execution_count": 18,
   "metadata": {},
   "outputs": [
    {
     "name": "stdout",
     "output_type": "stream",
     "text": [
      "IGRAPH U--- 6 6 -- \n"
     ]
    }
   ],
   "source": [
    "g.delete_edges(3)\n",
    "igraph.summary(g)"
   ]
  },
  {
   "cell_type": "markdown",
   "metadata": {},
   "source": [
    "## Generating graphs"
   ]
  },
  {
   "cell_type": "code",
   "execution_count": 19,
   "metadata": {},
   "outputs": [
    {
     "name": "stdout",
     "output_type": "stream",
     "text": [
      "IGRAPH U--- 127 126 -- \n"
     ]
    }
   ],
   "source": [
    "g = igraph.Graph.Tree(127, 2)\n",
    "igraph.summary(g)"
   ]
  },
  {
   "cell_type": "code",
   "execution_count": 20,
   "metadata": {},
   "outputs": [
    {
     "data": {
      "text/plain": [
       "True"
      ]
     },
     "execution_count": 20,
     "metadata": {},
     "output_type": "execute_result"
    }
   ],
   "source": [
    "g2 = igraph.Graph.Tree(127, 2)\n",
    "g2.get_edgelist() == g.get_edgelist()"
   ]
  },
  {
   "cell_type": "code",
   "execution_count": 21,
   "metadata": {},
   "outputs": [
    {
     "data": {
      "text/plain": [
       "[(0, 1),\n",
       " (0, 2),\n",
       " (1, 3),\n",
       " (1, 4),\n",
       " (2, 5),\n",
       " (2, 6),\n",
       " (3, 7),\n",
       " (3, 8),\n",
       " (4, 9),\n",
       " (4, 10)]"
      ]
     },
     "execution_count": 21,
     "metadata": {},
     "output_type": "execute_result"
    }
   ],
   "source": [
    "g2.get_edgelist()[0:10]"
   ]
  },
  {
   "cell_type": "code",
   "execution_count": 22,
   "metadata": {},
   "outputs": [
    {
     "name": "stdout",
     "output_type": "stream",
     "text": [
      "IGRAPH U--- 100 492 -- \n",
      "+ attr: x (v), y (v)\n"
     ]
    }
   ],
   "source": [
    "g = igraph.Graph.GRG(100, 0.2)\n",
    "igraph.summary(g)"
   ]
  },
  {
   "cell_type": "code",
   "execution_count": 23,
   "metadata": {},
   "outputs": [
    {
     "data": {
      "text/plain": [
       "False"
      ]
     },
     "execution_count": 23,
     "metadata": {},
     "output_type": "execute_result"
    }
   ],
   "source": [
    "g2 = igraph.Graph.GRG(100, 0.2)\n",
    "g.get_edgelist() == g2.get_edgelist()"
   ]
  },
  {
   "cell_type": "code",
   "execution_count": 24,
   "metadata": {},
   "outputs": [
    {
     "data": {
      "text/plain": [
       "False"
      ]
     },
     "execution_count": 24,
     "metadata": {},
     "output_type": "execute_result"
    }
   ],
   "source": [
    "g.isomorphic(g2)"
   ]
  },
  {
   "cell_type": "markdown",
   "metadata": {},
   "source": [
    "## Setting and retrieving attributes"
   ]
  },
  {
   "cell_type": "code",
   "execution_count": 25,
   "metadata": {},
   "outputs": [],
   "source": [
    "g = igraph.Graph([(0,1), (0,2), (2,3), (3,4), (4,2), (2,5), (5,0), (6,3), (5,6)])"
   ]
  },
  {
   "cell_type": "code",
   "execution_count": 26,
   "metadata": {},
   "outputs": [
    {
     "data": {
      "text/plain": [
       "<igraph.VertexSeq at 0x205ae4d12c8>"
      ]
     },
     "execution_count": 26,
     "metadata": {},
     "output_type": "execute_result"
    }
   ],
   "source": [
    "g.vs"
   ]
  },
  {
   "cell_type": "code",
   "execution_count": 27,
   "metadata": {},
   "outputs": [],
   "source": [
    "g.vs[\"name\"] = [\"Alice\", \"Bob\", \"Claire\", \"Dennis\", \"Esther\", \"Frank\", \"George\"]\n",
    "g.vs[\"age\"] = [25, 31, 18, 47, 22, 23, 50]\n",
    "g.vs[\"gender\"] = [\"f\", \"m\", \"f\", \"m\", \"f\", \"m\", \"m\"]\n",
    "g.es[\"is_formal\"] = [False, False, True, True, True, False, True, False, False]"
   ]
  },
  {
   "cell_type": "code",
   "execution_count": 28,
   "metadata": {},
   "outputs": [
    {
     "data": {
      "text/plain": [
       "igraph.Edge(<igraph.Graph object at 0x00000205A4619E58>, 0, {'is_formal': False})"
      ]
     },
     "execution_count": 28,
     "metadata": {},
     "output_type": "execute_result"
    }
   ],
   "source": [
    "g.es[0]"
   ]
  },
  {
   "cell_type": "code",
   "execution_count": 29,
   "metadata": {},
   "outputs": [
    {
     "data": {
      "text/plain": [
       "{'is_formal': False}"
      ]
     },
     "execution_count": 29,
     "metadata": {},
     "output_type": "execute_result"
    }
   ],
   "source": [
    "g.es[0].attributes()"
   ]
  },
  {
   "cell_type": "code",
   "execution_count": 30,
   "metadata": {},
   "outputs": [],
   "source": [
    "g.es[0][\"is_formal\"] = True"
   ]
  },
  {
   "cell_type": "code",
   "execution_count": 31,
   "metadata": {},
   "outputs": [
    {
     "data": {
      "text/plain": [
       "igraph.Edge(<igraph.Graph object at 0x00000205A4619E58>, 0, {'is_formal': True})"
      ]
     },
     "execution_count": 31,
     "metadata": {},
     "output_type": "execute_result"
    }
   ],
   "source": [
    "g.es[0]"
   ]
  },
  {
   "cell_type": "code",
   "execution_count": 32,
   "metadata": {},
   "outputs": [
    {
     "name": "stdout",
     "output_type": "stream",
     "text": [
      "2009-01-10\n"
     ]
    }
   ],
   "source": [
    "g[\"date\"] = \"2009-01-10\"\n",
    "print(g[\"date\"])"
   ]
  },
  {
   "cell_type": "code",
   "execution_count": 33,
   "metadata": {},
   "outputs": [
    {
     "data": {
      "text/plain": [
       "[None, None, None, 'bar', None, None, None]"
      ]
     },
     "execution_count": 33,
     "metadata": {},
     "output_type": "execute_result"
    }
   ],
   "source": [
    "g.vs[3][\"foo\"] = \"bar\"\n",
    "g.vs[\"foo\"]"
   ]
  },
  {
   "cell_type": "code",
   "execution_count": 34,
   "metadata": {},
   "outputs": [
    {
     "ename": "KeyError",
     "evalue": "'Attribute does not exist'",
     "output_type": "error",
     "traceback": [
      "\u001b[1;31m---------------------------------------------------------------------------\u001b[0m",
      "\u001b[1;31mKeyError\u001b[0m                                  Traceback (most recent call last)",
      "\u001b[1;32m<ipython-input-34-5013b8608c38>\u001b[0m in \u001b[0;36m<module>\u001b[1;34m\u001b[0m\n\u001b[0;32m      1\u001b[0m \u001b[1;32mdel\u001b[0m \u001b[0mg\u001b[0m\u001b[1;33m.\u001b[0m\u001b[0mvs\u001b[0m\u001b[1;33m[\u001b[0m\u001b[1;34m\"foo\"\u001b[0m\u001b[1;33m]\u001b[0m\u001b[1;33m\u001b[0m\u001b[1;33m\u001b[0m\u001b[0m\n\u001b[1;32m----> 2\u001b[1;33m \u001b[0mg\u001b[0m\u001b[1;33m.\u001b[0m\u001b[0mvs\u001b[0m\u001b[1;33m[\u001b[0m\u001b[1;34m\"foo\"\u001b[0m\u001b[1;33m]\u001b[0m\u001b[1;33m\u001b[0m\u001b[1;33m\u001b[0m\u001b[0m\n\u001b[0m",
      "\u001b[1;31mKeyError\u001b[0m: 'Attribute does not exist'"
     ]
    }
   ],
   "source": [
    "del g.vs[\"foo\"]\n",
    "g.vs[\"foo\"]"
   ]
  },
  {
   "cell_type": "markdown",
   "metadata": {},
   "source": [
    "## Structural properties of graphs"
   ]
  },
  {
   "cell_type": "code",
   "execution_count": 35,
   "metadata": {},
   "outputs": [
    {
     "data": {
      "text/plain": [
       "[3, 1, 4, 3, 2, 3, 2]"
      ]
     },
     "execution_count": 35,
     "metadata": {},
     "output_type": "execute_result"
    }
   ],
   "source": [
    "g.degree()"
   ]
  },
  {
   "cell_type": "code",
   "execution_count": 36,
   "metadata": {},
   "outputs": [
    {
     "data": {
      "text/plain": [
       "2"
      ]
     },
     "execution_count": 36,
     "metadata": {},
     "output_type": "execute_result"
    }
   ],
   "source": [
    "g.degree(6)"
   ]
  },
  {
   "cell_type": "code",
   "execution_count": 37,
   "metadata": {},
   "outputs": [
    {
     "data": {
      "text/plain": [
       "[4, 3, 2]"
      ]
     },
     "execution_count": 37,
     "metadata": {},
     "output_type": "execute_result"
    }
   ],
   "source": [
    "g.degree([2,3,4])"
   ]
  },
  {
   "cell_type": "code",
   "execution_count": 38,
   "metadata": {},
   "outputs": [
    {
     "data": {
      "text/plain": [
       "[6.0, 6.0, 4.0, 2.0, 4.0, 3.0, 4.0, 3.0, 4.0]"
      ]
     },
     "execution_count": 38,
     "metadata": {},
     "output_type": "execute_result"
    }
   ],
   "source": [
    "g.edge_betweenness()"
   ]
  },
  {
   "cell_type": "code",
   "execution_count": 39,
   "metadata": {},
   "outputs": [
    {
     "data": {
      "text/plain": [
       "[(0, 1), (0, 2)]"
      ]
     },
     "execution_count": 39,
     "metadata": {},
     "output_type": "execute_result"
    }
   ],
   "source": [
    "ebs = g.edge_betweenness()\n",
    "max_eb = max(ebs)\n",
    "[g.es[idx].tuple for idx, eb in enumerate(ebs) if eb == max_eb]"
   ]
  },
  {
   "cell_type": "code",
   "execution_count": 40,
   "metadata": {},
   "outputs": [
    {
     "data": {
      "text/plain": [
       "[3, 1, 4, 3, 2, 3, 2]"
      ]
     },
     "execution_count": 40,
     "metadata": {},
     "output_type": "execute_result"
    }
   ],
   "source": [
    "g.vs.degree()"
   ]
  },
  {
   "cell_type": "code",
   "execution_count": 41,
   "metadata": {},
   "outputs": [
    {
     "data": {
      "text/plain": [
       "[6.0, 6.0, 4.0, 2.0, 4.0, 3.0, 4.0, 3.0, 4.0]"
      ]
     },
     "execution_count": 41,
     "metadata": {},
     "output_type": "execute_result"
    }
   ],
   "source": [
    "g.es.edge_betweenness()"
   ]
  },
  {
   "cell_type": "code",
   "execution_count": 42,
   "metadata": {},
   "outputs": [
    {
     "data": {
      "text/plain": [
       "4"
      ]
     },
     "execution_count": 42,
     "metadata": {},
     "output_type": "execute_result"
    }
   ],
   "source": [
    "g.vs[2].degree()"
   ]
  },
  {
   "cell_type": "markdown",
   "metadata": {},
   "source": [
    "## Querying vertices and edges based on attributes"
   ]
  },
  {
   "cell_type": "markdown",
   "metadata": {},
   "source": [
    "### Selecting vertices and edges"
   ]
  },
  {
   "cell_type": "code",
   "execution_count": 43,
   "metadata": {},
   "outputs": [
    {
     "data": {
      "text/plain": [
       "['Claire']"
      ]
     },
     "execution_count": 43,
     "metadata": {},
     "output_type": "execute_result"
    }
   ],
   "source": [
    "g.vs.select(_degree = g.maxdegree())[\"name\"]"
   ]
  },
  {
   "cell_type": "code",
   "execution_count": 44,
   "metadata": {},
   "outputs": [
    {
     "data": {
      "text/plain": [
       "0"
      ]
     },
     "execution_count": 44,
     "metadata": {},
     "output_type": "execute_result"
    }
   ],
   "source": [
    "seq = g.vs.select(None)\n",
    "len(seq)"
   ]
  },
  {
   "cell_type": "code",
   "execution_count": 45,
   "metadata": {},
   "outputs": [
    {
     "data": {
      "text/plain": [
       "5"
      ]
     },
     "execution_count": 45,
     "metadata": {},
     "output_type": "execute_result"
    }
   ],
   "source": [
    "graph = igraph.Graph.Full(10)\n",
    "only_odd_vertices = graph.vs.select(lambda vertex: vertex.index % 2 == 1)\n",
    "len(only_odd_vertices)"
   ]
  },
  {
   "cell_type": "code",
   "execution_count": 46,
   "metadata": {},
   "outputs": [
    {
     "data": {
      "text/plain": [
       "3"
      ]
     },
     "execution_count": 46,
     "metadata": {},
     "output_type": "execute_result"
    }
   ],
   "source": [
    "seq = graph.vs.select([2, 3, 7])\n",
    "len(seq)"
   ]
  },
  {
   "cell_type": "code",
   "execution_count": 47,
   "metadata": {},
   "outputs": [
    {
     "data": {
      "text/plain": [
       "[2, 3, 7]"
      ]
     },
     "execution_count": 47,
     "metadata": {},
     "output_type": "execute_result"
    }
   ],
   "source": [
    "[v.index for v in seq]"
   ]
  },
  {
   "cell_type": "code",
   "execution_count": 48,
   "metadata": {},
   "outputs": [
    {
     "data": {
      "text/plain": [
       "[2, 7]"
      ]
     },
     "execution_count": 48,
     "metadata": {},
     "output_type": "execute_result"
    }
   ],
   "source": [
    "seq = seq.select([0, 2])         # filtering an existing vertex set\n",
    "[v.index for v in seq]"
   ]
  },
  {
   "cell_type": "code",
   "execution_count": 49,
   "metadata": {},
   "outputs": [
    {
     "ename": "TypeError",
     "evalue": "bad argument type for built-in operation",
     "output_type": "error",
     "traceback": [
      "\u001b[1;31m---------------------------------------------------------------------------\u001b[0m",
      "\u001b[1;31mTypeError\u001b[0m                                 Traceback (most recent call last)",
      "\u001b[1;32m<ipython-input-49-8bc61c058d98>\u001b[0m in \u001b[0;36m<module>\u001b[1;34m\u001b[0m\n\u001b[1;32m----> 1\u001b[1;33m \u001b[0mseq\u001b[0m \u001b[1;33m=\u001b[0m \u001b[0mgraph\u001b[0m\u001b[1;33m.\u001b[0m\u001b[0mvs\u001b[0m\u001b[1;33m.\u001b[0m\u001b[0mselect\u001b[0m\u001b[1;33m(\u001b[0m\u001b[1;33m[\u001b[0m\u001b[1;36m2\u001b[0m\u001b[1;33m,\u001b[0m \u001b[1;36m3\u001b[0m\u001b[1;33m,\u001b[0m \u001b[1;36m7\u001b[0m\u001b[1;33m,\u001b[0m \u001b[1;34m\"foo\"\u001b[0m\u001b[1;33m,\u001b[0m \u001b[1;36m3.5\u001b[0m\u001b[1;33m]\u001b[0m\u001b[1;33m)\u001b[0m\u001b[1;33m\u001b[0m\u001b[1;33m\u001b[0m\u001b[0m\n\u001b[0m\u001b[0;32m      2\u001b[0m \u001b[0mlen\u001b[0m\u001b[1;33m(\u001b[0m\u001b[0mseq\u001b[0m\u001b[1;33m)\u001b[0m\u001b[1;33m\u001b[0m\u001b[1;33m\u001b[0m\u001b[0m\n",
      "\u001b[1;32m~\\Anaconda3\\envs\\py37\\lib\\site-packages\\igraph\\__init__.py\u001b[0m in \u001b[0;36mselect\u001b[1;34m(self, *args, **kwds)\u001b[0m\n\u001b[0;32m   3684\u001b[0m \u001b[1;33m\u001b[0m\u001b[0m\n\u001b[0;32m   3685\u001b[0m         @return: the new, filtered vertex sequence\"\"\"\n\u001b[1;32m-> 3686\u001b[1;33m         \u001b[0mvs\u001b[0m \u001b[1;33m=\u001b[0m \u001b[0m_igraph\u001b[0m\u001b[1;33m.\u001b[0m\u001b[0mVertexSeq\u001b[0m\u001b[1;33m.\u001b[0m\u001b[0mselect\u001b[0m\u001b[1;33m(\u001b[0m\u001b[0mself\u001b[0m\u001b[1;33m,\u001b[0m \u001b[1;33m*\u001b[0m\u001b[0margs\u001b[0m\u001b[1;33m)\u001b[0m\u001b[1;33m\u001b[0m\u001b[1;33m\u001b[0m\u001b[0m\n\u001b[0m\u001b[0;32m   3687\u001b[0m \u001b[1;33m\u001b[0m\u001b[0m\n\u001b[0;32m   3688\u001b[0m         operators = {\n",
      "\u001b[1;31mTypeError\u001b[0m: bad argument type for built-in operation"
     ]
    }
   ],
   "source": [
    "seq = graph.vs.select([2, 3, 7, \"foo\", 3.5])\n",
    "len(seq)"
   ]
  },
  {
   "cell_type": "code",
   "execution_count": 50,
   "metadata": {},
   "outputs": [
    {
     "data": {
      "text/plain": [
       "3"
      ]
     },
     "execution_count": 50,
     "metadata": {},
     "output_type": "execute_result"
    }
   ],
   "source": [
    "seq = graph.vs.select(2, 3, 7)\n",
    "len(seq)"
   ]
  },
  {
   "cell_type": "code",
   "execution_count": 51,
   "metadata": {},
   "outputs": [
    {
     "data": {
      "text/plain": [
       "<igraph.VertexSeq at 0x205ae4e0ef8>"
      ]
     },
     "execution_count": 51,
     "metadata": {},
     "output_type": "execute_result"
    }
   ],
   "source": [
    "g.vs.select(age_lt=30)"
   ]
  },
  {
   "cell_type": "code",
   "execution_count": 52,
   "metadata": {},
   "outputs": [
    {
     "data": {
      "text/plain": [
       "<igraph.VertexSeq at 0x205ae4e0188>"
      ]
     },
     "execution_count": 52,
     "metadata": {},
     "output_type": "execute_result"
    }
   ],
   "source": [
    "g.vs(age_lt=30)"
   ]
  },
  {
   "cell_type": "code",
   "execution_count": 53,
   "metadata": {},
   "outputs": [
    {
     "data": {
      "text/plain": [
       "<igraph.VertexSeq at 0x205a16e0728>"
      ]
     },
     "execution_count": 53,
     "metadata": {},
     "output_type": "execute_result"
    }
   ],
   "source": [
    "g.vs(_degree_gt=2)"
   ]
  },
  {
   "cell_type": "code",
   "execution_count": 54,
   "metadata": {},
   "outputs": [
    {
     "data": {
      "text/plain": [
       "<igraph.EdgeSeq at 0x205ae4d9dc8>"
      ]
     },
     "execution_count": 54,
     "metadata": {},
     "output_type": "execute_result"
    }
   ],
   "source": [
    "g.es.select(_source=2)"
   ]
  },
  {
   "cell_type": "code",
   "execution_count": 55,
   "metadata": {},
   "outputs": [
    {
     "data": {
      "text/plain": [
       "<igraph.EdgeSeq at 0x205ae4d9ca8>"
      ]
     },
     "execution_count": 55,
     "metadata": {},
     "output_type": "execute_result"
    }
   ],
   "source": [
    "g.es.select(_within=[2,3,4])"
   ]
  },
  {
   "cell_type": "code",
   "execution_count": 56,
   "metadata": {},
   "outputs": [
    {
     "data": {
      "text/plain": [
       "<igraph.EdgeSeq at 0x205ae4d98e8>"
      ]
     },
     "execution_count": 56,
     "metadata": {},
     "output_type": "execute_result"
    }
   ],
   "source": [
    "g.es.select(_within=g.vs[2:5])"
   ]
  },
  {
   "cell_type": "code",
   "execution_count": 58,
   "metadata": {},
   "outputs": [
    {
     "data": {
      "text/plain": [
       "<igraph.EdgeSeq at 0x205ae4d9528>"
      ]
     },
     "execution_count": 58,
     "metadata": {},
     "output_type": "execute_result"
    }
   ],
   "source": [
    "men = g.vs.select(gender=\"m\")\n",
    "women = g.vs.select(gender=\"f\")\n",
    "g.es.select(_between=(men, women))"
   ]
  },
  {
   "cell_type": "markdown",
   "metadata": {},
   "source": [
    "## Finding a single vertex or edge with some properties"
   ]
  },
  {
   "cell_type": "code",
   "execution_count": 59,
   "metadata": {},
   "outputs": [
    {
     "data": {
      "text/plain": [
       "igraph.Vertex"
      ]
     },
     "execution_count": 59,
     "metadata": {},
     "output_type": "execute_result"
    }
   ],
   "source": [
    "claire = g.vs.find(name=\"Claire\")\n",
    "type(claire)"
   ]
  },
  {
   "cell_type": "code",
   "execution_count": 60,
   "metadata": {},
   "outputs": [
    {
     "data": {
      "text/plain": [
       "2"
      ]
     },
     "execution_count": 60,
     "metadata": {},
     "output_type": "execute_result"
    }
   ],
   "source": [
    "claire.index"
   ]
  },
  {
   "cell_type": "code",
   "execution_count": 61,
   "metadata": {},
   "outputs": [
    {
     "ename": "ValueError",
     "evalue": "no such vertex: 'Joe'",
     "output_type": "error",
     "traceback": [
      "\u001b[1;31m---------------------------------------------------------------------------\u001b[0m",
      "\u001b[1;31mValueError\u001b[0m                                Traceback (most recent call last)",
      "\u001b[1;32m<ipython-input-61-b1518f28d5e1>\u001b[0m in \u001b[0;36m<module>\u001b[1;34m\u001b[0m\n\u001b[1;32m----> 1\u001b[1;33m \u001b[0mg\u001b[0m\u001b[1;33m.\u001b[0m\u001b[0mvs\u001b[0m\u001b[1;33m.\u001b[0m\u001b[0mfind\u001b[0m\u001b[1;33m(\u001b[0m\u001b[0mname\u001b[0m\u001b[1;33m=\u001b[0m\u001b[1;34m\"Joe\"\u001b[0m\u001b[1;33m)\u001b[0m\u001b[1;33m\u001b[0m\u001b[1;33m\u001b[0m\u001b[0m\n\u001b[0m",
      "\u001b[1;32m~\\Anaconda3\\envs\\py37\\lib\\site-packages\\igraph\\__init__.py\u001b[0m in \u001b[0;36mfind\u001b[1;34m(self, *args, **kwds)\u001b[0m\n\u001b[0;32m   3568\u001b[0m             \u001b[1;31m# Selecting first based on positional arguments, then checking\u001b[0m\u001b[1;33m\u001b[0m\u001b[1;33m\u001b[0m\u001b[1;33m\u001b[0m\u001b[0m\n\u001b[0;32m   3569\u001b[0m             \u001b[1;31m# the criteria specified by the (remaining) keyword arguments\u001b[0m\u001b[1;33m\u001b[0m\u001b[1;33m\u001b[0m\u001b[1;33m\u001b[0m\u001b[0m\n\u001b[1;32m-> 3570\u001b[1;33m             \u001b[0mvertex\u001b[0m \u001b[1;33m=\u001b[0m \u001b[0m_igraph\u001b[0m\u001b[1;33m.\u001b[0m\u001b[0mVertexSeq\u001b[0m\u001b[1;33m.\u001b[0m\u001b[0mfind\u001b[0m\u001b[1;33m(\u001b[0m\u001b[0mself\u001b[0m\u001b[1;33m,\u001b[0m \u001b[1;33m*\u001b[0m\u001b[0margs\u001b[0m\u001b[1;33m)\u001b[0m\u001b[1;33m\u001b[0m\u001b[1;33m\u001b[0m\u001b[0m\n\u001b[0m\u001b[0;32m   3571\u001b[0m             \u001b[1;32mif\u001b[0m \u001b[1;32mnot\u001b[0m \u001b[0mkwds\u001b[0m\u001b[1;33m:\u001b[0m\u001b[1;33m\u001b[0m\u001b[1;33m\u001b[0m\u001b[0m\n\u001b[0;32m   3572\u001b[0m                 \u001b[1;32mreturn\u001b[0m \u001b[0mvertex\u001b[0m\u001b[1;33m\u001b[0m\u001b[1;33m\u001b[0m\u001b[0m\n",
      "\u001b[1;31mValueError\u001b[0m: no such vertex: 'Joe'"
     ]
    }
   ],
   "source": [
    "g.vs.find(name=\"Joe\")"
   ]
  },
  {
   "cell_type": "markdown",
   "metadata": {},
   "source": [
    "## Looking up vertices by names¶"
   ]
  },
  {
   "cell_type": "code",
   "execution_count": 62,
   "metadata": {},
   "outputs": [
    {
     "data": {
      "text/plain": [
       "3"
      ]
     },
     "execution_count": 62,
     "metadata": {},
     "output_type": "execute_result"
    }
   ],
   "source": [
    "g.degree(\"Dennis\")"
   ]
  },
  {
   "cell_type": "code",
   "execution_count": 63,
   "metadata": {},
   "outputs": [
    {
     "data": {
      "text/plain": [
       "3"
      ]
     },
     "execution_count": 63,
     "metadata": {},
     "output_type": "execute_result"
    }
   ],
   "source": [
    "g.vs.find(\"Dennis\").degree()"
   ]
  },
  {
   "cell_type": "markdown",
   "metadata": {},
   "source": [
    "## Layouts and plotting"
   ]
  },
  {
   "cell_type": "code",
   "execution_count": 64,
   "metadata": {},
   "outputs": [],
   "source": [
    "layout = g.layout_kamada_kawai()\n",
    "layout = g.layout(\"kamada_kawai\")"
   ]
  },
  {
   "cell_type": "code",
   "execution_count": 65,
   "metadata": {},
   "outputs": [
    {
     "ename": "TypeError",
     "evalue": "int, long or string expected",
     "output_type": "error",
     "traceback": [
      "\u001b[1;31m---------------------------------------------------------------------------\u001b[0m",
      "\u001b[1;31mTypeError\u001b[0m                                 Traceback (most recent call last)",
      "\u001b[1;32m<ipython-input-65-a791a5e93d04>\u001b[0m in \u001b[0;36m<module>\u001b[1;34m\u001b[0m\n\u001b[0;32m      1\u001b[0m \u001b[0mlayout\u001b[0m \u001b[1;33m=\u001b[0m \u001b[0mg\u001b[0m\u001b[1;33m.\u001b[0m\u001b[0mlayout_reingold_tilford\u001b[0m\u001b[1;33m(\u001b[0m\u001b[0mroot\u001b[0m\u001b[1;33m=\u001b[0m\u001b[1;33m[\u001b[0m\u001b[1;36m2\u001b[0m\u001b[1;33m]\u001b[0m\u001b[1;33m)\u001b[0m\u001b[1;33m\u001b[0m\u001b[1;33m\u001b[0m\u001b[0m\n\u001b[1;32m----> 2\u001b[1;33m \u001b[0mlayout\u001b[0m \u001b[1;33m=\u001b[0m \u001b[0mg\u001b[0m\u001b[1;33m.\u001b[0m\u001b[0mlayout\u001b[0m\u001b[1;33m(\u001b[0m\u001b[1;34m\"rt\"\u001b[0m\u001b[1;33m,\u001b[0m \u001b[1;33m[\u001b[0m\u001b[1;36m2\u001b[0m\u001b[1;33m]\u001b[0m\u001b[1;33m)\u001b[0m\u001b[1;33m\u001b[0m\u001b[1;33m\u001b[0m\u001b[0m\n\u001b[0m",
      "\u001b[1;32m~\\Anaconda3\\envs\\py37\\lib\\site-packages\\igraph\\__init__.py\u001b[0m in \u001b[0;36mlayout\u001b[1;34m(self, layout, *args, **kwds)\u001b[0m\n\u001b[0;32m   1558\u001b[0m         \u001b[1;32mif\u001b[0m \u001b[1;32mnot\u001b[0m \u001b[0mhasattr\u001b[0m\u001b[1;33m(\u001b[0m\u001b[0mmethod\u001b[0m\u001b[1;33m,\u001b[0m \u001b[1;34m\"__call__\"\u001b[0m\u001b[1;33m)\u001b[0m\u001b[1;33m:\u001b[0m\u001b[1;33m\u001b[0m\u001b[1;33m\u001b[0m\u001b[0m\n\u001b[0;32m   1559\u001b[0m             \u001b[1;32mraise\u001b[0m \u001b[0mValueError\u001b[0m\u001b[1;33m(\u001b[0m\u001b[1;34m\"layout method must be callable\"\u001b[0m\u001b[1;33m)\u001b[0m\u001b[1;33m\u001b[0m\u001b[1;33m\u001b[0m\u001b[0m\n\u001b[1;32m-> 1560\u001b[1;33m         \u001b[0ml\u001b[0m \u001b[1;33m=\u001b[0m \u001b[0mmethod\u001b[0m\u001b[1;33m(\u001b[0m\u001b[0mself\u001b[0m\u001b[1;33m,\u001b[0m \u001b[1;33m*\u001b[0m\u001b[0margs\u001b[0m\u001b[1;33m,\u001b[0m \u001b[1;33m**\u001b[0m\u001b[0mkwds\u001b[0m\u001b[1;33m)\u001b[0m\u001b[1;33m\u001b[0m\u001b[1;33m\u001b[0m\u001b[0m\n\u001b[0m\u001b[0;32m   1561\u001b[0m         \u001b[1;32mif\u001b[0m \u001b[1;32mnot\u001b[0m \u001b[0misinstance\u001b[0m\u001b[1;33m(\u001b[0m\u001b[0ml\u001b[0m\u001b[1;33m,\u001b[0m \u001b[0mLayout\u001b[0m\u001b[1;33m)\u001b[0m\u001b[1;33m:\u001b[0m\u001b[1;33m\u001b[0m\u001b[1;33m\u001b[0m\u001b[0m\n\u001b[0;32m   1562\u001b[0m             \u001b[0ml\u001b[0m \u001b[1;33m=\u001b[0m \u001b[0mLayout\u001b[0m\u001b[1;33m(\u001b[0m\u001b[0ml\u001b[0m\u001b[1;33m)\u001b[0m\u001b[1;33m\u001b[0m\u001b[1;33m\u001b[0m\u001b[0m\n",
      "\u001b[1;32m~\\Anaconda3\\envs\\py37\\lib\\site-packages\\igraph\\__init__.py\u001b[0m in \u001b[0;36mresult\u001b[1;34m(*args, **kwds)\u001b[0m\n\u001b[0;32m   4219\u001b[0m     \"\"\"\n\u001b[0;32m   4220\u001b[0m     \u001b[1;32mdef\u001b[0m \u001b[0mresult\u001b[0m\u001b[1;33m(\u001b[0m\u001b[1;33m*\u001b[0m\u001b[0margs\u001b[0m\u001b[1;33m,\u001b[0m \u001b[1;33m**\u001b[0m\u001b[0mkwds\u001b[0m\u001b[1;33m)\u001b[0m\u001b[1;33m:\u001b[0m\u001b[1;33m\u001b[0m\u001b[1;33m\u001b[0m\u001b[0m\n\u001b[1;32m-> 4221\u001b[1;33m         \u001b[0mlayout\u001b[0m \u001b[1;33m=\u001b[0m \u001b[0mfunc\u001b[0m\u001b[1;33m(\u001b[0m\u001b[1;33m*\u001b[0m\u001b[0margs\u001b[0m\u001b[1;33m,\u001b[0m \u001b[1;33m**\u001b[0m\u001b[0mkwds\u001b[0m\u001b[1;33m)\u001b[0m\u001b[1;33m\u001b[0m\u001b[1;33m\u001b[0m\u001b[0m\n\u001b[0m\u001b[0;32m   4222\u001b[0m         \u001b[1;32mif\u001b[0m \u001b[1;32mnot\u001b[0m \u001b[0misinstance\u001b[0m\u001b[1;33m(\u001b[0m\u001b[0mlayout\u001b[0m\u001b[1;33m,\u001b[0m \u001b[0mLayout\u001b[0m\u001b[1;33m)\u001b[0m\u001b[1;33m:\u001b[0m\u001b[1;33m\u001b[0m\u001b[1;33m\u001b[0m\u001b[0m\n\u001b[0;32m   4223\u001b[0m             \u001b[0mlayout\u001b[0m \u001b[1;33m=\u001b[0m \u001b[0mLayout\u001b[0m\u001b[1;33m(\u001b[0m\u001b[0mlayout\u001b[0m\u001b[1;33m)\u001b[0m\u001b[1;33m\u001b[0m\u001b[1;33m\u001b[0m\u001b[0m\n",
      "\u001b[1;31mTypeError\u001b[0m: int, long or string expected"
     ]
    }
   ],
   "source": [
    "layout = g.layout_reingold_tilford(root=[2])\n",
    "layout = g.layout(\"rt\", [2])"
   ]
  },
  {
   "cell_type": "markdown",
   "metadata": {},
   "source": [
    "## Drawing a graph using a layout"
   ]
  },
  {
   "cell_type": "code",
   "execution_count": 67,
   "metadata": {},
   "outputs": [
    {
     "data": {
      "image/svg+xml": [
       "<?xml version=\"1.0\" encoding=\"UTF-8\"?>\n",
       "<svg xmlns=\"http://www.w3.org/2000/svg\" xmlns:xlink=\"http://www.w3.org/1999/xlink\" width=\"600pt\" height=\"600pt\" viewBox=\"0 0 600 600\" version=\"1.1\">\n",
       "<g id=\"surface2\">\n",
       "<rect x=\"0\" y=\"0\" width=\"600\" height=\"600\" style=\"fill:rgb(100%,100%,100%);fill-opacity:1;stroke:none;\"/>\n",
       "<path style=\"fill:none;stroke-width:1;stroke-linecap:butt;stroke-linejoin:miter;stroke:rgb(26.666667%,26.666667%,26.666667%);stroke-opacity:1;stroke-miterlimit:10;\" d=\"M 395.0625 215.980469 L 580 127.53125 \"/>\n",
       "<path style=\"fill:none;stroke-width:1;stroke-linecap:butt;stroke-linejoin:miter;stroke:rgb(26.666667%,26.666667%,26.666667%);stroke-opacity:1;stroke-miterlimit:10;\" d=\"M 395.0625 215.980469 L 205.453125 170.53125 \"/>\n",
       "<path style=\"fill:none;stroke-width:1;stroke-linecap:butt;stroke-linejoin:miter;stroke:rgb(26.666667%,26.666667%,26.666667%);stroke-opacity:1;stroke-miterlimit:10;\" d=\"M 205.453125 170.53125 L 20 299.914063 \"/>\n",
       "<path style=\"fill:none;stroke-width:1;stroke-linecap:butt;stroke-linejoin:miter;stroke:rgb(26.666667%,26.666667%,26.666667%);stroke-opacity:1;stroke-miterlimit:10;\" d=\"M 20 299.914063 L 42.050781 20 \"/>\n",
       "<path style=\"fill:none;stroke-width:1;stroke-linecap:butt;stroke-linejoin:miter;stroke:rgb(26.666667%,26.666667%,26.666667%);stroke-opacity:1;stroke-miterlimit:10;\" d=\"M 205.453125 170.53125 L 42.050781 20 \"/>\n",
       "<path style=\"fill:none;stroke-width:1;stroke-linecap:butt;stroke-linejoin:miter;stroke:rgb(26.666667%,26.666667%,26.666667%);stroke-opacity:1;stroke-miterlimit:10;\" d=\"M 205.453125 170.53125 L 287.234375 452.386719 \"/>\n",
       "<path style=\"fill:none;stroke-width:1;stroke-linecap:butt;stroke-linejoin:miter;stroke:rgb(26.666667%,26.666667%,26.666667%);stroke-opacity:1;stroke-miterlimit:10;\" d=\"M 395.0625 215.980469 L 287.234375 452.386719 \"/>\n",
       "<path style=\"fill:none;stroke-width:1;stroke-linecap:butt;stroke-linejoin:miter;stroke:rgb(26.666667%,26.666667%,26.666667%);stroke-opacity:1;stroke-miterlimit:10;\" d=\"M 20 299.914063 L 102.445313 580 \"/>\n",
       "<path style=\"fill:none;stroke-width:1;stroke-linecap:butt;stroke-linejoin:miter;stroke:rgb(26.666667%,26.666667%,26.666667%);stroke-opacity:1;stroke-miterlimit:10;\" d=\"M 287.234375 452.386719 L 102.445313 580 \"/>\n",
       "<path style=\"fill-rule:nonzero;fill:rgb(100%,0%,0%);fill-opacity:1;stroke-width:1;stroke-linecap:butt;stroke-linejoin:miter;stroke:rgb(0%,0%,0%);stroke-opacity:1;stroke-miterlimit:10;\" d=\"M 405.0625 215.980469 C 405.0625 221.503906 400.585938 225.980469 395.0625 225.980469 C 389.539063 225.980469 385.0625 221.503906 385.0625 215.980469 C 385.0625 210.457031 389.539063 205.980469 395.0625 205.980469 C 400.585938 205.980469 405.0625 210.457031 405.0625 215.980469 \"/>\n",
       "<path style=\"fill-rule:nonzero;fill:rgb(100%,0%,0%);fill-opacity:1;stroke-width:1;stroke-linecap:butt;stroke-linejoin:miter;stroke:rgb(0%,0%,0%);stroke-opacity:1;stroke-miterlimit:10;\" d=\"M 590 127.53125 C 590 133.054688 585.523438 137.53125 580 137.53125 C 574.476563 137.53125 570 133.054688 570 127.53125 C 570 122.007813 574.476563 117.53125 580 117.53125 C 585.523438 117.53125 590 122.007813 590 127.53125 \"/>\n",
       "<path style=\"fill-rule:nonzero;fill:rgb(100%,0%,0%);fill-opacity:1;stroke-width:1;stroke-linecap:butt;stroke-linejoin:miter;stroke:rgb(0%,0%,0%);stroke-opacity:1;stroke-miterlimit:10;\" d=\"M 215.453125 170.53125 C 215.453125 176.054688 210.976563 180.53125 205.453125 180.53125 C 199.929688 180.53125 195.453125 176.054688 195.453125 170.53125 C 195.453125 165.007813 199.929688 160.53125 205.453125 160.53125 C 210.976563 160.53125 215.453125 165.007813 215.453125 170.53125 \"/>\n",
       "<path style=\"fill-rule:nonzero;fill:rgb(100%,0%,0%);fill-opacity:1;stroke-width:1;stroke-linecap:butt;stroke-linejoin:miter;stroke:rgb(0%,0%,0%);stroke-opacity:1;stroke-miterlimit:10;\" d=\"M 30 299.914063 C 30 305.433594 25.523438 309.914063 20 309.914063 C 14.476563 309.914063 10 305.433594 10 299.914063 C 10 294.390625 14.476563 289.914063 20 289.914063 C 25.523438 289.914063 30 294.390625 30 299.914063 \"/>\n",
       "<path style=\"fill-rule:nonzero;fill:rgb(100%,0%,0%);fill-opacity:1;stroke-width:1;stroke-linecap:butt;stroke-linejoin:miter;stroke:rgb(0%,0%,0%);stroke-opacity:1;stroke-miterlimit:10;\" d=\"M 52.050781 20 C 52.050781 25.523438 47.574219 30 42.050781 30 C 36.527344 30 32.050781 25.523438 32.050781 20 C 32.050781 14.476563 36.527344 10 42.050781 10 C 47.574219 10 52.050781 14.476563 52.050781 20 \"/>\n",
       "<path style=\"fill-rule:nonzero;fill:rgb(100%,0%,0%);fill-opacity:1;stroke-width:1;stroke-linecap:butt;stroke-linejoin:miter;stroke:rgb(0%,0%,0%);stroke-opacity:1;stroke-miterlimit:10;\" d=\"M 297.234375 452.386719 C 297.234375 457.910156 292.753906 462.386719 287.234375 462.386719 C 281.710938 462.386719 277.234375 457.910156 277.234375 452.386719 C 277.234375 446.863281 281.710938 442.386719 287.234375 442.386719 C 292.753906 442.386719 297.234375 446.863281 297.234375 452.386719 \"/>\n",
       "<path style=\"fill-rule:nonzero;fill:rgb(100%,0%,0%);fill-opacity:1;stroke-width:1;stroke-linecap:butt;stroke-linejoin:miter;stroke:rgb(0%,0%,0%);stroke-opacity:1;stroke-miterlimit:10;\" d=\"M 112.445313 580 C 112.445313 585.523438 107.96875 590 102.445313 590 C 96.921875 590 92.445313 585.523438 92.445313 580 C 92.445313 574.476563 96.921875 570 102.445313 570 C 107.96875 570 112.445313 574.476563 112.445313 580 \"/>\n",
       "</g>\n",
       "</svg>\n"
      ],
      "text/plain": [
       "<igraph.drawing.Plot at 0x205ae4f8e48>"
      ]
     },
     "execution_count": 67,
     "metadata": {
      "image/svg+xml": {
       "isolated": true
      }
     },
     "output_type": "execute_result"
    }
   ],
   "source": [
    "layout = g.layout(\"kk\")\n",
    "igraph.plot(g, layout = layout)"
   ]
  },
  {
   "cell_type": "code",
   "execution_count": 68,
   "metadata": {},
   "outputs": [
    {
     "data": {
      "image/svg+xml": [
       "<?xml version=\"1.0\" encoding=\"UTF-8\"?>\n",
       "<svg xmlns=\"http://www.w3.org/2000/svg\" xmlns:xlink=\"http://www.w3.org/1999/xlink\" width=\"300pt\" height=\"300pt\" viewBox=\"0 0 300 300\" version=\"1.1\">\n",
       "<defs>\n",
       "<g>\n",
       "<symbol overflow=\"visible\" id=\"glyph0-0\">\n",
       "<path style=\"stroke:none;\" d=\"M 2.898438 -9.1875 L 2.898438 -0.820313 L 11.15625 -0.820313 L 11.15625 -9.1875 Z M 1.804688 -10.226563 L 12.25 -10.226563 L 12.25 0.21875 L 1.804688 0.21875 Z M 1.804688 -10.226563 \"/>\n",
       "</symbol>\n",
       "<symbol overflow=\"visible\" id=\"glyph0-1\">\n",
       "<path style=\"stroke:none;\" d=\"M 0.164063 -0.164063 L 3.882813 -9.625 L 4.976563 -9.625 L 8.695313 -0.164063 L 7.382813 -0.164063 L 6.234375 -3.007813 L 2.625 -3.007813 L 1.476563 -0.164063 Z M 4.429688 -7.820313 L 3.007813 -4.046875 L 5.851563 -4.046875 Z M 4.429688 -7.820313 \"/>\n",
       "</symbol>\n",
       "<symbol overflow=\"visible\" id=\"glyph0-2\">\n",
       "<path style=\"stroke:none;\" d=\"M 0.929688 -9.515625 L 2.023438 -9.515625 L 2.023438 -0.164063 L 0.929688 -0.164063 Z M 0.929688 -9.515625 \"/>\n",
       "</symbol>\n",
       "<symbol overflow=\"visible\" id=\"glyph0-3\">\n",
       "<path style=\"stroke:none;\" d=\"M 0.929688 -9.460938 L 2.023438 -9.460938 L 2.023438 -8.039063 L 0.929688 -8.039063 Z M 0.929688 -6.289063 L 2.023438 -6.289063 L 2.023438 -0.164063 L 0.929688 -0.164063 Z M 0.929688 -6.289063 \"/>\n",
       "</symbol>\n",
       "<symbol overflow=\"visible\" id=\"glyph0-4\">\n",
       "<path style=\"stroke:none;\" d=\"M 0.65625 -3.171875 C 0.65625 -4.152344 0.945313 -4.9375 1.53125 -5.523438 C 2.074219 -6.066406 2.75 -6.339844 3.554688 -6.34375 C 4.425781 -6.339844 5.082031 -6.121094 5.523438 -5.6875 C 5.921875 -5.285156 6.160156 -4.792969 6.234375 -4.210938 L 5.03125 -4.210938 C 4.992188 -4.5 4.847656 -4.773438 4.59375 -5.03125 C 4.375 -5.246094 4.046875 -5.355469 3.609375 -5.359375 C 3.171875 -5.355469 2.804688 -5.210938 2.515625 -4.921875 C 2.074219 -4.484375 1.855469 -3.882813 1.859375 -3.117188 C 1.855469 -2.386719 2.058594 -1.820313 2.460938 -1.421875 C 2.75 -1.128906 3.113281 -0.984375 3.554688 -0.984375 C 4.0625 -0.984375 4.464844 -1.128906 4.757813 -1.421875 C 5.046875 -1.710938 5.191406 -2.09375 5.195313 -2.570313 L 6.398438 -2.570313 C 6.359375 -1.800781 6.101563 -1.179688 5.632813 -0.710938 C 5.15625 -0.234375 4.464844 0 3.554688 0 C 2.785156 0 2.148438 -0.253906 1.640625 -0.765625 C 0.984375 -1.417969 0.65625 -2.21875 0.65625 -3.171875 Z M 0.65625 -3.171875 \"/>\n",
       "</symbol>\n",
       "<symbol overflow=\"visible\" id=\"glyph0-5\">\n",
       "<path style=\"stroke:none;\" d=\"M 0.65625 -3.226563 C 0.65625 -4.207031 0.964844 -5.007813 1.585938 -5.632813 C 2.09375 -6.140625 2.75 -6.398438 3.554688 -6.398438 C 4.316406 -6.398438 4.972656 -6.125 5.523438 -5.578125 C 6.03125 -5.066406 6.285156 -4.28125 6.289063 -3.226563 L 1.859375 -3.226563 C 1.855469 -2.457031 2.039063 -1.890625 2.40625 -1.53125 C 2.730469 -1.199219 3.148438 -1.035156 3.664063 -1.039063 C 4.171875 -1.035156 4.539063 -1.144531 4.757813 -1.367188 C 5.011719 -1.617188 5.136719 -1.910156 5.140625 -2.242188 L 6.34375 -2.242188 C 6.195313 -1.582031 5.957031 -1.089844 5.632813 -0.765625 C 5.15625 -0.289063 4.5 -0.0507813 3.664063 -0.0546875 C 2.785156 -0.0507813 2.074219 -0.324219 1.53125 -0.875 C 0.945313 -1.453125 0.65625 -2.238281 0.65625 -3.226563 Z M 3.5 -5.46875 C 3.058594 -5.464844 2.695313 -5.320313 2.40625 -5.03125 C 2.148438 -4.773438 1.984375 -4.464844 1.914063 -4.101563 L 5.03125 -4.101563 C 5.027344 -4.464844 4.882813 -4.792969 4.59375 -5.085938 C 4.335938 -5.339844 3.96875 -5.464844 3.5 -5.46875 Z M 3.5 -5.46875 \"/>\n",
       "</symbol>\n",
       "<symbol overflow=\"visible\" id=\"glyph0-6\">\n",
       "<path style=\"stroke:none;\" d=\"M 0.929688 -9.515625 L 5.304688 -9.515625 C 6.03125 -9.515625 6.632813 -9.277344 7.109375 -8.804688 C 7.542969 -8.363281 7.761719 -7.78125 7.765625 -7.054688 C 7.761719 -6.46875 7.5625 -5.976563 7.164063 -5.578125 C 6.941406 -5.359375 6.667969 -5.195313 6.34375 -5.085938 C 6.777344 -4.9375 7.125 -4.734375 7.382813 -4.484375 C 7.820313 -4.042969 8.039063 -3.496094 8.039063 -2.84375 C 8.039063 -2.039063 7.765625 -1.367188 7.21875 -0.820313 C 6.78125 -0.382813 6.125 -0.164063 5.25 -0.164063 L 0.929688 -0.164063 Z M 2.1875 -8.476563 L 2.1875 -5.578125 L 5.140625 -5.578125 C 5.5 -5.578125 5.8125 -5.703125 6.070313 -5.960938 C 6.359375 -6.25 6.503906 -6.632813 6.507813 -7.109375 C 6.503906 -7.507813 6.359375 -7.855469 6.070313 -8.148438 C 5.851563 -8.363281 5.578125 -8.472656 5.25 -8.476563 Z M 2.1875 -4.539063 L 2.1875 -1.203125 L 4.976563 -1.203125 C 5.519531 -1.199219 5.941406 -1.347656 6.234375 -1.640625 C 6.5625 -1.96875 6.726563 -2.367188 6.726563 -2.84375 C 6.726563 -3.351563 6.578125 -3.753906 6.289063 -4.046875 C 5.957031 -4.371094 5.519531 -4.535156 4.976563 -4.539063 Z M 2.1875 -4.539063 \"/>\n",
       "</symbol>\n",
       "<symbol overflow=\"visible\" id=\"glyph0-7\">\n",
       "<path style=\"stroke:none;\" d=\"M 0.601563 -3.226563 C 0.597656 -4.171875 0.90625 -4.957031 1.53125 -5.578125 C 2.074219 -6.125 2.75 -6.398438 3.554688 -6.398438 C 4.355469 -6.398438 5.03125 -6.125 5.578125 -5.578125 C 6.195313 -4.957031 6.503906 -4.171875 6.507813 -3.226563 C 6.503906 -2.277344 6.195313 -1.492188 5.578125 -0.875 C 5.03125 -0.324219 4.355469 -0.0507813 3.554688 -0.0546875 C 2.75 -0.0507813 2.074219 -0.324219 1.53125 -0.875 C 0.90625 -1.492188 0.597656 -2.277344 0.601563 -3.226563 Z M 3.554688 -5.414063 C 3.113281 -5.414063 2.75 -5.265625 2.460938 -4.976563 C 2.023438 -4.535156 1.804688 -3.953125 1.804688 -3.226563 C 1.804688 -2.496094 2.003906 -1.929688 2.40625 -1.53125 C 2.730469 -1.199219 3.113281 -1.035156 3.554688 -1.039063 C 3.988281 -1.035156 4.371094 -1.199219 4.703125 -1.53125 C 5.101563 -1.929688 5.300781 -2.496094 5.304688 -3.226563 C 5.300781 -3.953125 5.082031 -4.535156 4.648438 -4.976563 C 4.351563 -5.265625 3.988281 -5.414063 3.554688 -5.414063 Z M 3.554688 -5.414063 \"/>\n",
       "</symbol>\n",
       "<symbol overflow=\"visible\" id=\"glyph0-8\">\n",
       "<path style=\"stroke:none;\" d=\"M 0.710938 -9.515625 L 1.804688 -9.515625 L 1.804688 -5.578125 C 2.277344 -6.160156 2.859375 -6.449219 3.554688 -6.453125 C 4.28125 -6.449219 4.882813 -6.214844 5.359375 -5.742188 C 5.941406 -5.15625 6.234375 -4.316406 6.234375 -3.226563 C 6.234375 -2.167969 5.941406 -1.347656 5.359375 -0.765625 C 4.882813 -0.289063 4.261719 -0.0507813 3.5 -0.0546875 C 2.695313 -0.0507813 2.132813 -0.34375 1.804688 -0.929688 L 1.804688 -0.164063 L 0.710938 -0.164063 Z M 3.5 -5.46875 C 3.058594 -5.464844 2.660156 -5.285156 2.296875 -4.921875 C 1.96875 -4.59375 1.804688 -4.136719 1.804688 -3.554688 L 1.804688 -2.898438 C 1.804688 -2.347656 1.984375 -1.890625 2.351563 -1.53125 C 2.675781 -1.199219 3.058594 -1.035156 3.5 -1.039063 C 3.859375 -1.035156 4.171875 -1.164063 4.429688 -1.421875 C 4.828125 -1.820313 5.027344 -2.421875 5.03125 -3.226563 C 5.027344 -4.0625 4.84375 -4.664063 4.484375 -5.03125 C 4.1875 -5.320313 3.859375 -5.464844 3.5 -5.46875 Z M 3.5 -5.46875 \"/>\n",
       "</symbol>\n",
       "<symbol overflow=\"visible\" id=\"glyph0-9\">\n",
       "<path style=\"stroke:none;\" d=\"M 0.765625 -4.8125 C 0.761719 -6.414063 1.21875 -7.671875 2.132813 -8.585938 C 2.824219 -9.273438 3.714844 -9.621094 4.8125 -9.625 C 5.902344 -9.621094 6.761719 -9.3125 7.382813 -8.695313 C 8.039063 -8.039063 8.382813 -7.199219 8.421875 -6.179688 L 7.109375 -6.179688 C 7.03125 -6.941406 6.796875 -7.523438 6.398438 -7.929688 C 5.960938 -8.363281 5.429688 -8.582031 4.8125 -8.585938 C 4.152344 -8.582031 3.570313 -8.328125 3.0625 -7.820313 C 2.402344 -7.160156 2.074219 -6.15625 2.078125 -4.8125 C 2.074219 -3.460938 2.402344 -2.460938 3.0625 -1.804688 C 3.535156 -1.328125 4.117188 -1.089844 4.8125 -1.09375 C 5.539063 -1.089844 6.105469 -1.289063 6.507813 -1.695313 C 7.015625 -2.203125 7.269531 -2.933594 7.273438 -3.882813 L 8.585938 -3.882813 C 8.546875 -2.640625 8.183594 -1.675781 7.492188 -0.984375 C 6.871094 -0.363281 5.976563 -0.0507813 4.8125 -0.0546875 C 3.714844 -0.0507813 2.824219 -0.398438 2.132813 -1.09375 C 1.21875 -2.003906 0.761719 -3.242188 0.765625 -4.8125 Z M 0.765625 -4.8125 \"/>\n",
       "</symbol>\n",
       "<symbol overflow=\"visible\" id=\"glyph0-10\">\n",
       "<path style=\"stroke:none;\" d=\"M 0.765625 -4.484375 C 0.871094 -4.992188 1.109375 -5.429688 1.476563 -5.796875 C 1.875 -6.195313 2.457031 -6.398438 3.226563 -6.398438 C 4.136719 -6.398438 4.792969 -6.195313 5.195313 -5.796875 C 5.558594 -5.429688 5.742188 -5.011719 5.742188 -4.539063 L 5.742188 -1.09375 C 5.742188 -0.691406 5.886719 -0.382813 6.179688 -0.164063 L 4.867188 -0.164063 C 4.71875 -0.308594 4.644531 -0.542969 4.648438 -0.875 C 4.097656 -0.324219 3.40625 -0.0507813 2.570313 -0.0546875 C 1.875 -0.0507813 1.347656 -0.234375 0.984375 -0.601563 C 0.65625 -0.925781 0.492188 -1.308594 0.492188 -1.75 C 0.492188 -2.257813 0.65625 -2.675781 0.984375 -3.007813 C 1.347656 -3.367188 1.855469 -3.605469 2.515625 -3.71875 C 2.949219 -3.789063 3.332031 -3.878906 3.664063 -3.992188 C 4.132813 -4.097656 4.460938 -4.207031 4.648438 -4.320313 C 4.644531 -4.609375 4.535156 -4.867188 4.320313 -5.085938 C 4.097656 -5.304688 3.789063 -5.414063 3.390625 -5.414063 C 2.878906 -5.414063 2.515625 -5.304688 2.296875 -5.085938 C 2.148438 -4.9375 2.039063 -4.734375 1.96875 -4.484375 Z M 4.648438 -3.28125 C 4.425781 -3.207031 4.226563 -3.152344 4.046875 -3.117188 C 3.425781 -2.96875 2.953125 -2.859375 2.625 -2.789063 C 2.332031 -2.714844 2.113281 -2.605469 1.96875 -2.460938 C 1.785156 -2.277344 1.691406 -2.074219 1.695313 -1.859375 C 1.691406 -1.601563 1.785156 -1.382813 1.96875 -1.203125 C 2.078125 -1.089844 2.3125 -1.035156 2.679688 -1.039063 C 3.296875 -1.035156 3.808594 -1.238281 4.210938 -1.640625 C 4.464844 -1.894531 4.609375 -2.074219 4.648438 -2.1875 Z M 4.648438 -3.28125 \"/>\n",
       "</symbol>\n",
       "<symbol overflow=\"visible\" id=\"glyph0-11\">\n",
       "<path style=\"stroke:none;\" d=\"M 2.460938 -5.523438 C 3.042969 -6.105469 3.824219 -6.398438 4.8125 -6.398438 L 4.8125 -5.195313 C 4.664063 -5.230469 4.464844 -5.25 4.210938 -5.25 C 3.660156 -5.25 3.148438 -5.011719 2.679688 -4.539063 C 2.273438 -4.136719 2 -3.71875 1.859375 -3.28125 L 1.859375 -0.164063 L 0.765625 -0.164063 L 0.765625 -6.289063 L 1.859375 -6.289063 L 1.859375 -4.757813 C 2.039063 -5.046875 2.242188 -5.300781 2.460938 -5.523438 Z M 2.460938 -5.523438 \"/>\n",
       "</symbol>\n",
       "<symbol overflow=\"visible\" id=\"glyph0-12\">\n",
       "<path style=\"stroke:none;\" d=\"M 0.929688 -9.515625 L 4.210938 -9.515625 C 5.300781 -9.515625 6.230469 -9.132813 7 -8.367188 C 7.800781 -7.5625 8.203125 -6.359375 8.203125 -4.757813 C 8.203125 -3.226563 7.78125 -2.039063 6.945313 -1.203125 C 6.25 -0.507813 5.339844 -0.164063 4.210938 -0.164063 L 0.929688 -0.164063 Z M 2.1875 -8.476563 L 2.1875 -1.203125 L 4.15625 -1.203125 C 4.84375 -1.199219 5.410156 -1.417969 5.851563 -1.859375 C 6.542969 -2.546875 6.890625 -3.515625 6.890625 -4.757813 C 6.890625 -6.070313 6.5625 -7.054688 5.90625 -7.710938 C 5.394531 -8.21875 4.808594 -8.472656 4.15625 -8.476563 Z M 2.1875 -8.476563 \"/>\n",
       "</symbol>\n",
       "<symbol overflow=\"visible\" id=\"glyph0-13\">\n",
       "<path style=\"stroke:none;\" d=\"M 1.914063 -0.164063 L 0.820313 -0.164063 L 0.820313 -6.289063 L 1.914063 -6.289063 L 1.914063 -5.195313 C 2.566406 -5.996094 3.257813 -6.398438 3.992188 -6.398438 C 4.71875 -6.398438 5.304688 -6.179688 5.742188 -5.742188 C 6.03125 -5.449219 6.175781 -5.101563 6.179688 -4.703125 L 6.179688 -0.164063 L 5.085938 -0.164063 L 5.085938 -4.375 C 5.085938 -4.699219 4.976563 -4.972656 4.757813 -5.195313 C 4.539063 -5.410156 4.226563 -5.519531 3.828125 -5.523438 C 3.460938 -5.519531 3.097656 -5.335938 2.734375 -4.976563 C 2.183594 -4.425781 1.910156 -3.84375 1.914063 -3.226563 Z M 1.914063 -0.164063 \"/>\n",
       "</symbol>\n",
       "<symbol overflow=\"visible\" id=\"glyph0-14\">\n",
       "<path style=\"stroke:none;\" d=\"M 0.820313 -4.539063 C 0.820313 -5.011719 0.984375 -5.414063 1.3125 -5.742188 C 1.75 -6.179688 2.367188 -6.398438 3.171875 -6.398438 C 4.042969 -6.398438 4.683594 -6.195313 5.085938 -5.796875 C 5.449219 -5.429688 5.628906 -5.03125 5.632813 -4.59375 L 4.539063 -4.59375 C 4.5 -4.847656 4.425781 -5.027344 4.320313 -5.140625 C 4.097656 -5.355469 3.699219 -5.464844 3.117188 -5.46875 C 2.75 -5.464844 2.457031 -5.355469 2.242188 -5.140625 C 2.058594 -4.953125 1.96875 -4.753906 1.96875 -4.539063 C 1.96875 -4.390625 2.023438 -4.261719 2.132813 -4.15625 C 2.277344 -4.007813 2.730469 -3.84375 3.5 -3.664063 C 3.96875 -3.550781 4.371094 -3.441406 4.703125 -3.335938 C 4.992188 -3.222656 5.210938 -3.097656 5.359375 -2.953125 C 5.648438 -2.660156 5.792969 -2.3125 5.796875 -1.914063 C 5.792969 -1.472656 5.613281 -1.070313 5.25 -0.710938 C 4.8125 -0.269531 4.136719 -0.0507813 3.226563 -0.0546875 C 2.3125 -0.0507813 1.636719 -0.269531 1.203125 -0.710938 C 0.835938 -1.070313 0.65625 -1.527344 0.65625 -2.078125 L 1.75 -2.078125 C 1.785156 -1.746094 1.875 -1.507813 2.023438 -1.367188 C 2.273438 -1.109375 2.65625 -0.984375 3.171875 -0.984375 C 3.789063 -0.984375 4.210938 -1.09375 4.429688 -1.3125 C 4.574219 -1.457031 4.644531 -1.636719 4.648438 -1.859375 C 4.644531 -2 4.554688 -2.164063 4.375 -2.351563 C 4.226563 -2.492188 3.988281 -2.601563 3.664063 -2.679688 C 3.003906 -2.820313 2.511719 -2.949219 2.1875 -3.0625 C 1.78125 -3.167969 1.492188 -3.3125 1.3125 -3.5 C 0.984375 -3.824219 0.820313 -4.171875 0.820313 -4.539063 Z M 0.820313 -4.539063 \"/>\n",
       "</symbol>\n",
       "<symbol overflow=\"visible\" id=\"glyph0-15\">\n",
       "<path style=\"stroke:none;\" d=\"M 0.929688 -9.515625 L 6.945313 -9.515625 L 6.945313 -8.476563 L 2.1875 -8.476563 L 2.1875 -5.578125 L 6.617188 -5.578125 L 6.617188 -4.539063 L 2.1875 -4.539063 L 2.1875 -1.203125 L 7.21875 -1.203125 L 7.21875 -0.164063 L 0.929688 -0.164063 Z M 0.929688 -9.515625 \"/>\n",
       "</symbol>\n",
       "<symbol overflow=\"visible\" id=\"glyph0-16\">\n",
       "<path style=\"stroke:none;\" d=\"M 1.3125 -8.421875 L 2.40625 -8.421875 L 2.40625 -6.289063 L 4.265625 -6.289063 L 4.265625 -5.414063 L 2.40625 -5.414063 L 2.40625 -1.859375 C 2.402344 -1.636719 2.492188 -1.4375 2.679688 -1.257813 C 2.820313 -1.109375 3.058594 -1.035156 3.390625 -1.039063 C 3.898438 -1.035156 4.355469 -1.164063 4.757813 -1.421875 L 4.757813 -0.382813 C 4.355469 -0.160156 3.917969 -0.0507813 3.445313 -0.0546875 C 2.714844 -0.0507813 2.183594 -0.214844 1.859375 -0.546875 C 1.492188 -0.90625 1.3125 -1.308594 1.3125 -1.75 L 1.3125 -5.414063 L 0 -5.414063 L 0 -6.289063 L 1.3125 -6.289063 Z M 1.3125 -8.421875 \"/>\n",
       "</symbol>\n",
       "<symbol overflow=\"visible\" id=\"glyph0-17\">\n",
       "<path style=\"stroke:none;\" d=\"M 0.820313 -9.515625 L 1.914063 -9.515625 L 1.914063 -5.195313 C 2.53125 -5.996094 3.207031 -6.398438 3.9375 -6.398438 C 4.703125 -6.398438 5.265625 -6.214844 5.632813 -5.851563 C 5.992188 -5.484375 6.175781 -5.046875 6.179688 -4.539063 L 6.179688 -0.164063 L 5.085938 -0.164063 L 5.085938 -4.265625 C 5.085938 -4.664063 4.957031 -4.992188 4.703125 -5.25 C 4.519531 -5.429688 4.265625 -5.519531 3.9375 -5.523438 C 3.535156 -5.519531 3.167969 -5.355469 2.84375 -5.03125 C 2.4375 -4.628906 2.128906 -4.0625 1.914063 -3.335938 L 1.914063 -0.164063 L 0.820313 -0.164063 Z M 0.820313 -9.515625 \"/>\n",
       "</symbol>\n",
       "<symbol overflow=\"visible\" id=\"glyph0-18\">\n",
       "<path style=\"stroke:none;\" d=\"M 1.09375 -9.515625 L 7.382813 -9.515625 L 7.382813 -8.476563 L 2.351563 -8.476563 L 2.351563 -5.414063 L 6.289063 -5.414063 L 6.289063 -4.375 L 2.351563 -4.375 L 2.351563 -0.164063 L 1.09375 -0.164063 Z M 1.09375 -9.515625 \"/>\n",
       "</symbol>\n",
       "<symbol overflow=\"visible\" id=\"glyph0-19\">\n",
       "<path style=\"stroke:none;\" d=\"M 0.710938 -9.515625 L 1.804688 -9.515625 L 1.804688 -3.609375 L 4.484375 -6.289063 L 5.851563 -6.289063 L 3.773438 -4.210938 L 6.289063 -0.164063 L 5.140625 -0.164063 L 3.0625 -3.5 L 1.804688 -2.242188 L 1.804688 -0.164063 L 0.710938 -0.164063 Z M 0.710938 -9.515625 \"/>\n",
       "</symbol>\n",
       "<symbol overflow=\"visible\" id=\"glyph0-20\">\n",
       "<path style=\"stroke:none;\" d=\"M 0.875 -4.8125 C 0.871094 -6.414063 1.292969 -7.636719 2.132813 -8.476563 C 2.898438 -9.238281 3.828125 -9.621094 4.921875 -9.625 C 6.015625 -9.621094 6.90625 -9.273438 7.601563 -8.585938 C 8.179688 -8 8.492188 -7.289063 8.53125 -6.453125 L 7.21875 -6.453125 C 7.179688 -7.070313 6.960938 -7.582031 6.5625 -7.984375 C 6.160156 -8.382813 5.613281 -8.582031 4.921875 -8.585938 C 4.226563 -8.582031 3.640625 -8.347656 3.171875 -7.875 C 2.511719 -7.21875 2.183594 -6.195313 2.1875 -4.8125 C 2.183594 -3.496094 2.53125 -2.496094 3.226563 -1.804688 C 3.699219 -1.328125 4.355469 -1.089844 5.195313 -1.09375 C 5.8125 -1.089844 6.324219 -1.289063 6.726563 -1.695313 C 7.125 -2.09375 7.359375 -2.515625 7.4375 -2.953125 L 7.4375 -3.828125 L 5.851563 -3.828125 L 5.851563 -4.867188 L 8.695313 -4.867188 L 8.695313 -0.0546875 L 7.765625 -0.0546875 L 7.4375 -0.984375 C 6.8125 -0.363281 6.03125 -0.0507813 5.085938 -0.0546875 C 3.917969 -0.0507813 2.96875 -0.417969 2.242188 -1.148438 C 1.328125 -2.058594 0.871094 -3.277344 0.875 -4.8125 Z M 0.875 -4.8125 \"/>\n",
       "</symbol>\n",
       "<symbol overflow=\"visible\" id=\"glyph0-21\">\n",
       "<path style=\"stroke:none;\" d=\"M 0.929688 -4.265625 C 0.925781 -4.882813 1.125 -5.390625 1.53125 -5.796875 C 1.929688 -6.195313 2.441406 -6.398438 3.0625 -6.398438 C 3.644531 -6.398438 4.15625 -6.214844 4.59375 -5.851563 C 4.957031 -6.214844 5.394531 -6.398438 5.90625 -6.398438 L 6.398438 -6.398438 L 6.398438 -5.359375 C 5.960938 -5.539063 5.46875 -5.558594 4.921875 -5.414063 C 5.175781 -5.085938 5.300781 -4.703125 5.304688 -4.265625 C 5.300781 -3.609375 5.101563 -3.078125 4.703125 -2.679688 C 4.335938 -2.3125 3.808594 -2.132813 3.117188 -2.132813 C 2.75 -2.132813 2.367188 -2.222656 1.96875 -2.40625 C 1.785156 -2.257813 1.691406 -2.113281 1.695313 -1.96875 C 1.691406 -1.859375 1.730469 -1.765625 1.804688 -1.695313 C 1.984375 -1.507813 2.402344 -1.398438 3.0625 -1.367188 C 3.644531 -1.328125 4.265625 -1.292969 4.921875 -1.257813 C 5.285156 -1.183594 5.558594 -1.054688 5.742188 -0.875 C 6.03125 -0.578125 6.175781 -0.234375 6.179688 0.164063 C 6.175781 0.601563 6.03125 0.964844 5.742188 1.257813 C 5.339844 1.65625 4.464844 1.855469 3.117188 1.859375 C 1.984375 1.855469 1.21875 1.65625 0.820313 1.257813 C 0.5625 1 0.433594 0.691406 0.4375 0.328125 C 0.433594 0.0742188 0.523438 -0.144531 0.710938 -0.328125 C 0.851563 -0.472656 1.070313 -0.617188 1.367188 -0.765625 C 1.253906 -0.835938 1.128906 -0.945313 0.984375 -1.09375 C 0.800781 -1.273438 0.707031 -1.511719 0.710938 -1.804688 C 0.707031 -2.167969 0.980469 -2.511719 1.53125 -2.84375 C 1.125 -3.242188 0.925781 -3.71875 0.929688 -4.265625 Z M 3.0625 -5.46875 C 2.804688 -5.464844 2.585938 -5.375 2.40625 -5.195313 C 2.148438 -4.9375 2.019531 -4.628906 2.023438 -4.265625 C 2.019531 -3.898438 2.128906 -3.605469 2.351563 -3.390625 C 2.566406 -3.167969 2.824219 -3.058594 3.117188 -3.0625 C 3.445313 -3.058594 3.699219 -3.148438 3.882813 -3.335938 C 4.097656 -3.550781 4.207031 -3.863281 4.210938 -4.265625 C 4.207031 -4.628906 4.078125 -4.9375 3.828125 -5.195313 C 3.640625 -5.375 3.386719 -5.464844 3.0625 -5.46875 Z M 4.210938 -0.328125 C 3.332031 -0.363281 2.65625 -0.417969 2.1875 -0.492188 C 1.929688 -0.417969 1.75 -0.324219 1.640625 -0.21875 C 1.492188 -0.0703125 1.417969 0.0898438 1.421875 0.273438 C 1.417969 0.453125 1.492188 0.617188 1.640625 0.765625 C 1.859375 0.980469 2.332031 1.089844 3.0625 1.09375 C 4.042969 1.089844 4.664063 0.960938 4.921875 0.710938 C 5.066406 0.5625 5.136719 0.417969 5.140625 0.273438 C 5.136719 0.125 5.082031 0 4.976563 -0.109375 C 4.828125 -0.253906 4.574219 -0.328125 4.210938 -0.328125 Z M 4.210938 -0.328125 \"/>\n",
       "</symbol>\n",
       "</g>\n",
       "</defs>\n",
       "<g id=\"surface8\">\n",
       "<rect x=\"0\" y=\"0\" width=\"300\" height=\"300\" style=\"fill:rgb(100%,100%,100%);fill-opacity:1;stroke:none;\"/>\n",
       "<path style=\"fill:none;stroke-width:1;stroke-linecap:butt;stroke-linejoin:miter;stroke:rgb(26.666667%,26.666667%,26.666667%);stroke-opacity:1;stroke-miterlimit:10;\" d=\"M 194.136719 110.992188 L 280 69.925781 \"/>\n",
       "<path style=\"fill:none;stroke-width:1;stroke-linecap:butt;stroke-linejoin:miter;stroke:rgb(26.666667%,26.666667%,26.666667%);stroke-opacity:1;stroke-miterlimit:10;\" d=\"M 194.136719 110.992188 L 106.101563 89.890625 \"/>\n",
       "<path style=\"fill:none;stroke-width:1;stroke-linecap:butt;stroke-linejoin:miter;stroke:rgb(26.666667%,26.666667%,26.666667%);stroke-opacity:1;stroke-miterlimit:10;\" d=\"M 106.101563 89.890625 L 20 149.960938 \"/>\n",
       "<path style=\"fill:none;stroke-width:1;stroke-linecap:butt;stroke-linejoin:miter;stroke:rgb(26.666667%,26.666667%,26.666667%);stroke-opacity:1;stroke-miterlimit:10;\" d=\"M 20 149.960938 L 30.238281 20 \"/>\n",
       "<path style=\"fill:none;stroke-width:1;stroke-linecap:butt;stroke-linejoin:miter;stroke:rgb(26.666667%,26.666667%,26.666667%);stroke-opacity:1;stroke-miterlimit:10;\" d=\"M 106.101563 89.890625 L 30.238281 20 \"/>\n",
       "<path style=\"fill:none;stroke-width:1;stroke-linecap:butt;stroke-linejoin:miter;stroke:rgb(26.666667%,26.666667%,26.666667%);stroke-opacity:1;stroke-miterlimit:10;\" d=\"M 106.101563 89.890625 L 144.074219 220.75 \"/>\n",
       "<path style=\"fill:none;stroke-width:1;stroke-linecap:butt;stroke-linejoin:miter;stroke:rgb(26.666667%,26.666667%,26.666667%);stroke-opacity:1;stroke-miterlimit:10;\" d=\"M 194.136719 110.992188 L 144.074219 220.75 \"/>\n",
       "<path style=\"fill:none;stroke-width:1;stroke-linecap:butt;stroke-linejoin:miter;stroke:rgb(26.666667%,26.666667%,26.666667%);stroke-opacity:1;stroke-miterlimit:10;\" d=\"M 20 149.960938 L 58.277344 280 \"/>\n",
       "<path style=\"fill:none;stroke-width:1;stroke-linecap:butt;stroke-linejoin:miter;stroke:rgb(26.666667%,26.666667%,26.666667%);stroke-opacity:1;stroke-miterlimit:10;\" d=\"M 144.074219 220.75 L 58.277344 280 \"/>\n",
       "<path style=\"fill-rule:nonzero;fill:rgb(100%,75.294118%,79.607843%);fill-opacity:1;stroke-width:1;stroke-linecap:butt;stroke-linejoin:miter;stroke:rgb(0%,0%,0%);stroke-opacity:1;stroke-miterlimit:10;\" d=\"M 204.136719 110.992188 C 204.136719 116.511719 199.660156 120.992188 194.136719 120.992188 C 188.613281 120.992188 184.136719 116.511719 184.136719 110.992188 C 184.136719 105.46875 188.613281 100.992188 194.136719 100.992188 C 199.660156 100.992188 204.136719 105.46875 204.136719 110.992188 \"/>\n",
       "<path style=\"fill-rule:nonzero;fill:rgb(0%,0%,100%);fill-opacity:1;stroke-width:1;stroke-linecap:butt;stroke-linejoin:miter;stroke:rgb(0%,0%,0%);stroke-opacity:1;stroke-miterlimit:10;\" d=\"M 290 69.925781 C 290 75.449219 285.523438 79.925781 280 79.925781 C 274.476563 79.925781 270 75.449219 270 69.925781 C 270 64.402344 274.476563 59.925781 280 59.925781 C 285.523438 59.925781 290 64.402344 290 69.925781 \"/>\n",
       "<path style=\"fill-rule:nonzero;fill:rgb(100%,75.294118%,79.607843%);fill-opacity:1;stroke-width:1;stroke-linecap:butt;stroke-linejoin:miter;stroke:rgb(0%,0%,0%);stroke-opacity:1;stroke-miterlimit:10;\" d=\"M 116.101563 89.890625 C 116.101563 95.414063 111.625 99.890625 106.101563 99.890625 C 100.582031 99.890625 96.101563 95.414063 96.101563 89.890625 C 96.101563 84.367188 100.582031 79.890625 106.101563 79.890625 C 111.625 79.890625 116.101563 84.367188 116.101563 89.890625 \"/>\n",
       "<path style=\"fill-rule:nonzero;fill:rgb(0%,0%,100%);fill-opacity:1;stroke-width:1;stroke-linecap:butt;stroke-linejoin:miter;stroke:rgb(0%,0%,0%);stroke-opacity:1;stroke-miterlimit:10;\" d=\"M 30 149.960938 C 30 155.480469 25.523438 159.960938 20 159.960938 C 14.476563 159.960938 10 155.480469 10 149.960938 C 10 144.4375 14.476563 139.960938 20 139.960938 C 25.523438 139.960938 30 144.4375 30 149.960938 \"/>\n",
       "<path style=\"fill-rule:nonzero;fill:rgb(100%,75.294118%,79.607843%);fill-opacity:1;stroke-width:1;stroke-linecap:butt;stroke-linejoin:miter;stroke:rgb(0%,0%,0%);stroke-opacity:1;stroke-miterlimit:10;\" d=\"M 40.238281 20 C 40.238281 25.523438 35.761719 30 30.238281 30 C 24.714844 30 20.238281 25.523438 20.238281 20 C 20.238281 14.476563 24.714844 10 30.238281 10 C 35.761719 10 40.238281 14.476563 40.238281 20 \"/>\n",
       "<path style=\"fill-rule:nonzero;fill:rgb(0%,0%,100%);fill-opacity:1;stroke-width:1;stroke-linecap:butt;stroke-linejoin:miter;stroke:rgb(0%,0%,0%);stroke-opacity:1;stroke-miterlimit:10;\" d=\"M 154.074219 220.75 C 154.074219 226.273438 149.59375 230.75 144.074219 230.75 C 138.550781 230.75 134.074219 226.273438 134.074219 220.75 C 134.074219 215.226563 138.550781 210.75 144.074219 210.75 C 149.59375 210.75 154.074219 215.226563 154.074219 220.75 \"/>\n",
       "<path style=\"fill-rule:nonzero;fill:rgb(0%,0%,100%);fill-opacity:1;stroke-width:1;stroke-linecap:butt;stroke-linejoin:miter;stroke:rgb(0%,0%,0%);stroke-opacity:1;stroke-miterlimit:10;\" d=\"M 68.277344 280 C 68.277344 285.523438 63.800781 290 58.277344 290 C 52.753906 290 48.277344 285.523438 48.277344 280 C 48.277344 274.476563 52.753906 270 58.277344 270 C 63.800781 270 68.277344 274.476563 68.277344 280 \"/>\n",
       "<g style=\"fill:rgb(0%,0%,0%);fill-opacity:1;\">\n",
       "  <use xlink:href=\"#glyph0-1\" x=\"180\" y=\"116.804688\"/>\n",
       "  <use xlink:href=\"#glyph0-2\" x=\"188.859375\" y=\"116.804688\"/>\n",
       "  <use xlink:href=\"#glyph0-3\" x=\"191.8125\" y=\"116.804688\"/>\n",
       "  <use xlink:href=\"#glyph0-4\" x=\"194.765625\" y=\"116.804688\"/>\n",
       "  <use xlink:href=\"#glyph0-5\" x=\"201.765625\" y=\"116.804688\"/>\n",
       "</g>\n",
       "<g style=\"fill:rgb(0%,0%,0%);fill-opacity:1;\">\n",
       "  <use xlink:href=\"#glyph0-6\" x=\"268.40625\" y=\"75.683594\"/>\n",
       "  <use xlink:href=\"#glyph0-7\" x=\"277.320313\" y=\"75.683594\"/>\n",
       "  <use xlink:href=\"#glyph0-8\" x=\"284.429688\" y=\"75.683594\"/>\n",
       "</g>\n",
       "<g style=\"fill:rgb(0%,0%,0%);fill-opacity:1;\">\n",
       "  <use xlink:href=\"#glyph0-9\" x=\"89.175781\" y=\"95.703125\"/>\n",
       "  <use xlink:href=\"#glyph0-2\" x=\"98.472656\" y=\"95.703125\"/>\n",
       "  <use xlink:href=\"#glyph0-10\" x=\"101.425781\" y=\"95.703125\"/>\n",
       "  <use xlink:href=\"#glyph0-3\" x=\"108.097656\" y=\"95.703125\"/>\n",
       "  <use xlink:href=\"#glyph0-11\" x=\"111.050781\" y=\"95.703125\"/>\n",
       "  <use xlink:href=\"#glyph0-5\" x=\"115.917969\" y=\"95.703125\"/>\n",
       "</g>\n",
       "<g style=\"fill:rgb(0%,0%,0%);fill-opacity:1;\">\n",
       "  <use xlink:href=\"#glyph0-12\" x=\"0.121094\" y=\"155.71875\"/>\n",
       "  <use xlink:href=\"#glyph0-5\" x=\"9.199219\" y=\"155.71875\"/>\n",
       "  <use xlink:href=\"#glyph0-13\" x=\"16.199219\" y=\"155.71875\"/>\n",
       "  <use xlink:href=\"#glyph0-13\" x=\"23.199219\" y=\"155.71875\"/>\n",
       "  <use xlink:href=\"#glyph0-3\" x=\"30.199219\" y=\"155.71875\"/>\n",
       "  <use xlink:href=\"#glyph0-14\" x=\"33.152344\" y=\"155.71875\"/>\n",
       "</g>\n",
       "<g style=\"fill:rgb(0%,0%,0%);fill-opacity:1;\">\n",
       "  <use xlink:href=\"#glyph0-15\" x=\"10.714844\" y=\"25.757813\"/>\n",
       "  <use xlink:href=\"#glyph0-14\" x=\"18.644531\" y=\"25.757813\"/>\n",
       "  <use xlink:href=\"#glyph0-16\" x=\"25.097656\" y=\"25.757813\"/>\n",
       "  <use xlink:href=\"#glyph0-17\" x=\"30.019531\" y=\"25.757813\"/>\n",
       "  <use xlink:href=\"#glyph0-5\" x=\"37.019531\" y=\"25.757813\"/>\n",
       "  <use xlink:href=\"#glyph0-11\" x=\"44.019531\" y=\"25.757813\"/>\n",
       "</g>\n",
       "<g style=\"fill:rgb(0%,0%,0%);fill-opacity:1;\">\n",
       "  <use xlink:href=\"#glyph0-18\" x=\"127.257813\" y=\"226.507813\"/>\n",
       "  <use xlink:href=\"#glyph0-11\" x=\"134.96875\" y=\"226.507813\"/>\n",
       "  <use xlink:href=\"#glyph0-10\" x=\"139.835938\" y=\"226.507813\"/>\n",
       "  <use xlink:href=\"#glyph0-13\" x=\"146.507813\" y=\"226.507813\"/>\n",
       "  <use xlink:href=\"#glyph0-19\" x=\"153.507813\" y=\"226.507813\"/>\n",
       "</g>\n",
       "<g style=\"fill:rgb(0%,0%,0%);fill-opacity:1;\">\n",
       "  <use xlink:href=\"#glyph0-20\" x=\"37.195313\" y=\"285.8125\"/>\n",
       "  <use xlink:href=\"#glyph0-5\" x=\"46.710938\" y=\"285.8125\"/>\n",
       "  <use xlink:href=\"#glyph0-7\" x=\"53.710938\" y=\"285.8125\"/>\n",
       "  <use xlink:href=\"#glyph0-11\" x=\"60.820313\" y=\"285.8125\"/>\n",
       "  <use xlink:href=\"#glyph0-21\" x=\"65.6875\" y=\"285.8125\"/>\n",
       "  <use xlink:href=\"#glyph0-5\" x=\"72.140625\" y=\"285.8125\"/>\n",
       "</g>\n",
       "</g>\n",
       "</svg>\n"
      ],
      "text/plain": [
       "<igraph.drawing.Plot at 0x205ae4dab48>"
      ]
     },
     "execution_count": 68,
     "metadata": {
      "image/svg+xml": {
       "isolated": true
      }
     },
     "output_type": "execute_result"
    }
   ],
   "source": [
    "g.vs[\"label\"] = g.vs[\"name\"]\n",
    "color_dict = {\"m\": \"blue\", \"f\": \"pink\"}\n",
    "g.vs[\"color\"] = [color_dict[gender] for gender in g.vs[\"gender\"]]\n",
    "igraph.plot(g, layout = layout, bbox = (300, 300), margin = 20)"
   ]
  },
  {
   "cell_type": "code",
   "execution_count": 69,
   "metadata": {},
   "outputs": [
    {
     "data": {
      "image/svg+xml": [
       "<?xml version=\"1.0\" encoding=\"UTF-8\"?>\n",
       "<svg xmlns=\"http://www.w3.org/2000/svg\" xmlns:xlink=\"http://www.w3.org/1999/xlink\" width=\"600pt\" height=\"600pt\" viewBox=\"0 0 600 600\" version=\"1.1\">\n",
       "<defs>\n",
       "<g>\n",
       "<symbol overflow=\"visible\" id=\"glyph0-0\">\n",
       "<path style=\"stroke:none;\" d=\"M 2.898438 -9.1875 L 2.898438 -0.820313 L 11.15625 -0.820313 L 11.15625 -9.1875 Z M 1.804688 -10.226563 L 12.25 -10.226563 L 12.25 0.21875 L 1.804688 0.21875 Z M 1.804688 -10.226563 \"/>\n",
       "</symbol>\n",
       "<symbol overflow=\"visible\" id=\"glyph0-1\">\n",
       "<path style=\"stroke:none;\" d=\"M 0.164063 -0.164063 L 3.882813 -9.625 L 4.976563 -9.625 L 8.695313 -0.164063 L 7.382813 -0.164063 L 6.234375 -3.007813 L 2.625 -3.007813 L 1.476563 -0.164063 Z M 4.429688 -7.820313 L 3.007813 -4.046875 L 5.851563 -4.046875 Z M 4.429688 -7.820313 \"/>\n",
       "</symbol>\n",
       "<symbol overflow=\"visible\" id=\"glyph0-2\">\n",
       "<path style=\"stroke:none;\" d=\"M 0.929688 -9.515625 L 2.023438 -9.515625 L 2.023438 -0.164063 L 0.929688 -0.164063 Z M 0.929688 -9.515625 \"/>\n",
       "</symbol>\n",
       "<symbol overflow=\"visible\" id=\"glyph0-3\">\n",
       "<path style=\"stroke:none;\" d=\"M 0.929688 -9.460938 L 2.023438 -9.460938 L 2.023438 -8.039063 L 0.929688 -8.039063 Z M 0.929688 -6.289063 L 2.023438 -6.289063 L 2.023438 -0.164063 L 0.929688 -0.164063 Z M 0.929688 -6.289063 \"/>\n",
       "</symbol>\n",
       "<symbol overflow=\"visible\" id=\"glyph0-4\">\n",
       "<path style=\"stroke:none;\" d=\"M 0.65625 -3.171875 C 0.65625 -4.152344 0.945313 -4.9375 1.53125 -5.523438 C 2.074219 -6.066406 2.75 -6.339844 3.554688 -6.34375 C 4.425781 -6.339844 5.082031 -6.121094 5.523438 -5.6875 C 5.921875 -5.285156 6.160156 -4.792969 6.234375 -4.210938 L 5.03125 -4.210938 C 4.992188 -4.5 4.847656 -4.773438 4.59375 -5.03125 C 4.375 -5.246094 4.046875 -5.355469 3.609375 -5.359375 C 3.171875 -5.355469 2.804688 -5.210938 2.515625 -4.921875 C 2.074219 -4.484375 1.855469 -3.882813 1.859375 -3.117188 C 1.855469 -2.386719 2.058594 -1.820313 2.460938 -1.421875 C 2.75 -1.128906 3.113281 -0.984375 3.554688 -0.984375 C 4.0625 -0.984375 4.464844 -1.128906 4.757813 -1.421875 C 5.046875 -1.710938 5.191406 -2.09375 5.195313 -2.570313 L 6.398438 -2.570313 C 6.359375 -1.800781 6.101563 -1.179688 5.632813 -0.710938 C 5.15625 -0.234375 4.464844 0 3.554688 0 C 2.785156 0 2.148438 -0.253906 1.640625 -0.765625 C 0.984375 -1.417969 0.65625 -2.21875 0.65625 -3.171875 Z M 0.65625 -3.171875 \"/>\n",
       "</symbol>\n",
       "<symbol overflow=\"visible\" id=\"glyph0-5\">\n",
       "<path style=\"stroke:none;\" d=\"M 0.65625 -3.226563 C 0.65625 -4.207031 0.964844 -5.007813 1.585938 -5.632813 C 2.09375 -6.140625 2.75 -6.398438 3.554688 -6.398438 C 4.316406 -6.398438 4.972656 -6.125 5.523438 -5.578125 C 6.03125 -5.066406 6.285156 -4.28125 6.289063 -3.226563 L 1.859375 -3.226563 C 1.855469 -2.457031 2.039063 -1.890625 2.40625 -1.53125 C 2.730469 -1.199219 3.148438 -1.035156 3.664063 -1.039063 C 4.171875 -1.035156 4.539063 -1.144531 4.757813 -1.367188 C 5.011719 -1.617188 5.136719 -1.910156 5.140625 -2.242188 L 6.34375 -2.242188 C 6.195313 -1.582031 5.957031 -1.089844 5.632813 -0.765625 C 5.15625 -0.289063 4.5 -0.0507813 3.664063 -0.0546875 C 2.785156 -0.0507813 2.074219 -0.324219 1.53125 -0.875 C 0.945313 -1.453125 0.65625 -2.238281 0.65625 -3.226563 Z M 3.5 -5.46875 C 3.058594 -5.464844 2.695313 -5.320313 2.40625 -5.03125 C 2.148438 -4.773438 1.984375 -4.464844 1.914063 -4.101563 L 5.03125 -4.101563 C 5.027344 -4.464844 4.882813 -4.792969 4.59375 -5.085938 C 4.335938 -5.339844 3.96875 -5.464844 3.5 -5.46875 Z M 3.5 -5.46875 \"/>\n",
       "</symbol>\n",
       "<symbol overflow=\"visible\" id=\"glyph0-6\">\n",
       "<path style=\"stroke:none;\" d=\"M 0.929688 -9.515625 L 5.304688 -9.515625 C 6.03125 -9.515625 6.632813 -9.277344 7.109375 -8.804688 C 7.542969 -8.363281 7.761719 -7.78125 7.765625 -7.054688 C 7.761719 -6.46875 7.5625 -5.976563 7.164063 -5.578125 C 6.941406 -5.359375 6.667969 -5.195313 6.34375 -5.085938 C 6.777344 -4.9375 7.125 -4.734375 7.382813 -4.484375 C 7.820313 -4.042969 8.039063 -3.496094 8.039063 -2.84375 C 8.039063 -2.039063 7.765625 -1.367188 7.21875 -0.820313 C 6.78125 -0.382813 6.125 -0.164063 5.25 -0.164063 L 0.929688 -0.164063 Z M 2.1875 -8.476563 L 2.1875 -5.578125 L 5.140625 -5.578125 C 5.5 -5.578125 5.8125 -5.703125 6.070313 -5.960938 C 6.359375 -6.25 6.503906 -6.632813 6.507813 -7.109375 C 6.503906 -7.507813 6.359375 -7.855469 6.070313 -8.148438 C 5.851563 -8.363281 5.578125 -8.472656 5.25 -8.476563 Z M 2.1875 -4.539063 L 2.1875 -1.203125 L 4.976563 -1.203125 C 5.519531 -1.199219 5.941406 -1.347656 6.234375 -1.640625 C 6.5625 -1.96875 6.726563 -2.367188 6.726563 -2.84375 C 6.726563 -3.351563 6.578125 -3.753906 6.289063 -4.046875 C 5.957031 -4.371094 5.519531 -4.535156 4.976563 -4.539063 Z M 2.1875 -4.539063 \"/>\n",
       "</symbol>\n",
       "<symbol overflow=\"visible\" id=\"glyph0-7\">\n",
       "<path style=\"stroke:none;\" d=\"M 0.601563 -3.226563 C 0.597656 -4.171875 0.90625 -4.957031 1.53125 -5.578125 C 2.074219 -6.125 2.75 -6.398438 3.554688 -6.398438 C 4.355469 -6.398438 5.03125 -6.125 5.578125 -5.578125 C 6.195313 -4.957031 6.503906 -4.171875 6.507813 -3.226563 C 6.503906 -2.277344 6.195313 -1.492188 5.578125 -0.875 C 5.03125 -0.324219 4.355469 -0.0507813 3.554688 -0.0546875 C 2.75 -0.0507813 2.074219 -0.324219 1.53125 -0.875 C 0.90625 -1.492188 0.597656 -2.277344 0.601563 -3.226563 Z M 3.554688 -5.414063 C 3.113281 -5.414063 2.75 -5.265625 2.460938 -4.976563 C 2.023438 -4.535156 1.804688 -3.953125 1.804688 -3.226563 C 1.804688 -2.496094 2.003906 -1.929688 2.40625 -1.53125 C 2.730469 -1.199219 3.113281 -1.035156 3.554688 -1.039063 C 3.988281 -1.035156 4.371094 -1.199219 4.703125 -1.53125 C 5.101563 -1.929688 5.300781 -2.496094 5.304688 -3.226563 C 5.300781 -3.953125 5.082031 -4.535156 4.648438 -4.976563 C 4.351563 -5.265625 3.988281 -5.414063 3.554688 -5.414063 Z M 3.554688 -5.414063 \"/>\n",
       "</symbol>\n",
       "<symbol overflow=\"visible\" id=\"glyph0-8\">\n",
       "<path style=\"stroke:none;\" d=\"M 0.710938 -9.515625 L 1.804688 -9.515625 L 1.804688 -5.578125 C 2.277344 -6.160156 2.859375 -6.449219 3.554688 -6.453125 C 4.28125 -6.449219 4.882813 -6.214844 5.359375 -5.742188 C 5.941406 -5.15625 6.234375 -4.316406 6.234375 -3.226563 C 6.234375 -2.167969 5.941406 -1.347656 5.359375 -0.765625 C 4.882813 -0.289063 4.261719 -0.0507813 3.5 -0.0546875 C 2.695313 -0.0507813 2.132813 -0.34375 1.804688 -0.929688 L 1.804688 -0.164063 L 0.710938 -0.164063 Z M 3.5 -5.46875 C 3.058594 -5.464844 2.660156 -5.285156 2.296875 -4.921875 C 1.96875 -4.59375 1.804688 -4.136719 1.804688 -3.554688 L 1.804688 -2.898438 C 1.804688 -2.347656 1.984375 -1.890625 2.351563 -1.53125 C 2.675781 -1.199219 3.058594 -1.035156 3.5 -1.039063 C 3.859375 -1.035156 4.171875 -1.164063 4.429688 -1.421875 C 4.828125 -1.820313 5.027344 -2.421875 5.03125 -3.226563 C 5.027344 -4.0625 4.84375 -4.664063 4.484375 -5.03125 C 4.1875 -5.320313 3.859375 -5.464844 3.5 -5.46875 Z M 3.5 -5.46875 \"/>\n",
       "</symbol>\n",
       "<symbol overflow=\"visible\" id=\"glyph0-9\">\n",
       "<path style=\"stroke:none;\" d=\"M 0.765625 -4.8125 C 0.761719 -6.414063 1.21875 -7.671875 2.132813 -8.585938 C 2.824219 -9.273438 3.714844 -9.621094 4.8125 -9.625 C 5.902344 -9.621094 6.761719 -9.3125 7.382813 -8.695313 C 8.039063 -8.039063 8.382813 -7.199219 8.421875 -6.179688 L 7.109375 -6.179688 C 7.03125 -6.941406 6.796875 -7.523438 6.398438 -7.929688 C 5.960938 -8.363281 5.429688 -8.582031 4.8125 -8.585938 C 4.152344 -8.582031 3.570313 -8.328125 3.0625 -7.820313 C 2.402344 -7.160156 2.074219 -6.15625 2.078125 -4.8125 C 2.074219 -3.460938 2.402344 -2.460938 3.0625 -1.804688 C 3.535156 -1.328125 4.117188 -1.089844 4.8125 -1.09375 C 5.539063 -1.089844 6.105469 -1.289063 6.507813 -1.695313 C 7.015625 -2.203125 7.269531 -2.933594 7.273438 -3.882813 L 8.585938 -3.882813 C 8.546875 -2.640625 8.183594 -1.675781 7.492188 -0.984375 C 6.871094 -0.363281 5.976563 -0.0507813 4.8125 -0.0546875 C 3.714844 -0.0507813 2.824219 -0.398438 2.132813 -1.09375 C 1.21875 -2.003906 0.761719 -3.242188 0.765625 -4.8125 Z M 0.765625 -4.8125 \"/>\n",
       "</symbol>\n",
       "<symbol overflow=\"visible\" id=\"glyph0-10\">\n",
       "<path style=\"stroke:none;\" d=\"M 0.765625 -4.484375 C 0.871094 -4.992188 1.109375 -5.429688 1.476563 -5.796875 C 1.875 -6.195313 2.457031 -6.398438 3.226563 -6.398438 C 4.136719 -6.398438 4.792969 -6.195313 5.195313 -5.796875 C 5.558594 -5.429688 5.742188 -5.011719 5.742188 -4.539063 L 5.742188 -1.09375 C 5.742188 -0.691406 5.886719 -0.382813 6.179688 -0.164063 L 4.867188 -0.164063 C 4.71875 -0.308594 4.644531 -0.542969 4.648438 -0.875 C 4.097656 -0.324219 3.40625 -0.0507813 2.570313 -0.0546875 C 1.875 -0.0507813 1.347656 -0.234375 0.984375 -0.601563 C 0.65625 -0.925781 0.492188 -1.308594 0.492188 -1.75 C 0.492188 -2.257813 0.65625 -2.675781 0.984375 -3.007813 C 1.347656 -3.367188 1.855469 -3.605469 2.515625 -3.71875 C 2.949219 -3.789063 3.332031 -3.878906 3.664063 -3.992188 C 4.132813 -4.097656 4.460938 -4.207031 4.648438 -4.320313 C 4.644531 -4.609375 4.535156 -4.867188 4.320313 -5.085938 C 4.097656 -5.304688 3.789063 -5.414063 3.390625 -5.414063 C 2.878906 -5.414063 2.515625 -5.304688 2.296875 -5.085938 C 2.148438 -4.9375 2.039063 -4.734375 1.96875 -4.484375 Z M 4.648438 -3.28125 C 4.425781 -3.207031 4.226563 -3.152344 4.046875 -3.117188 C 3.425781 -2.96875 2.953125 -2.859375 2.625 -2.789063 C 2.332031 -2.714844 2.113281 -2.605469 1.96875 -2.460938 C 1.785156 -2.277344 1.691406 -2.074219 1.695313 -1.859375 C 1.691406 -1.601563 1.785156 -1.382813 1.96875 -1.203125 C 2.078125 -1.089844 2.3125 -1.035156 2.679688 -1.039063 C 3.296875 -1.035156 3.808594 -1.238281 4.210938 -1.640625 C 4.464844 -1.894531 4.609375 -2.074219 4.648438 -2.1875 Z M 4.648438 -3.28125 \"/>\n",
       "</symbol>\n",
       "<symbol overflow=\"visible\" id=\"glyph0-11\">\n",
       "<path style=\"stroke:none;\" d=\"M 2.460938 -5.523438 C 3.042969 -6.105469 3.824219 -6.398438 4.8125 -6.398438 L 4.8125 -5.195313 C 4.664063 -5.230469 4.464844 -5.25 4.210938 -5.25 C 3.660156 -5.25 3.148438 -5.011719 2.679688 -4.539063 C 2.273438 -4.136719 2 -3.71875 1.859375 -3.28125 L 1.859375 -0.164063 L 0.765625 -0.164063 L 0.765625 -6.289063 L 1.859375 -6.289063 L 1.859375 -4.757813 C 2.039063 -5.046875 2.242188 -5.300781 2.460938 -5.523438 Z M 2.460938 -5.523438 \"/>\n",
       "</symbol>\n",
       "<symbol overflow=\"visible\" id=\"glyph0-12\">\n",
       "<path style=\"stroke:none;\" d=\"M 0.929688 -9.515625 L 4.210938 -9.515625 C 5.300781 -9.515625 6.230469 -9.132813 7 -8.367188 C 7.800781 -7.5625 8.203125 -6.359375 8.203125 -4.757813 C 8.203125 -3.226563 7.78125 -2.039063 6.945313 -1.203125 C 6.25 -0.507813 5.339844 -0.164063 4.210938 -0.164063 L 0.929688 -0.164063 Z M 2.1875 -8.476563 L 2.1875 -1.203125 L 4.15625 -1.203125 C 4.84375 -1.199219 5.410156 -1.417969 5.851563 -1.859375 C 6.542969 -2.546875 6.890625 -3.515625 6.890625 -4.757813 C 6.890625 -6.070313 6.5625 -7.054688 5.90625 -7.710938 C 5.394531 -8.21875 4.808594 -8.472656 4.15625 -8.476563 Z M 2.1875 -8.476563 \"/>\n",
       "</symbol>\n",
       "<symbol overflow=\"visible\" id=\"glyph0-13\">\n",
       "<path style=\"stroke:none;\" d=\"M 1.914063 -0.164063 L 0.820313 -0.164063 L 0.820313 -6.289063 L 1.914063 -6.289063 L 1.914063 -5.195313 C 2.566406 -5.996094 3.257813 -6.398438 3.992188 -6.398438 C 4.71875 -6.398438 5.304688 -6.179688 5.742188 -5.742188 C 6.03125 -5.449219 6.175781 -5.101563 6.179688 -4.703125 L 6.179688 -0.164063 L 5.085938 -0.164063 L 5.085938 -4.375 C 5.085938 -4.699219 4.976563 -4.972656 4.757813 -5.195313 C 4.539063 -5.410156 4.226563 -5.519531 3.828125 -5.523438 C 3.460938 -5.519531 3.097656 -5.335938 2.734375 -4.976563 C 2.183594 -4.425781 1.910156 -3.84375 1.914063 -3.226563 Z M 1.914063 -0.164063 \"/>\n",
       "</symbol>\n",
       "<symbol overflow=\"visible\" id=\"glyph0-14\">\n",
       "<path style=\"stroke:none;\" d=\"M 0.820313 -4.539063 C 0.820313 -5.011719 0.984375 -5.414063 1.3125 -5.742188 C 1.75 -6.179688 2.367188 -6.398438 3.171875 -6.398438 C 4.042969 -6.398438 4.683594 -6.195313 5.085938 -5.796875 C 5.449219 -5.429688 5.628906 -5.03125 5.632813 -4.59375 L 4.539063 -4.59375 C 4.5 -4.847656 4.425781 -5.027344 4.320313 -5.140625 C 4.097656 -5.355469 3.699219 -5.464844 3.117188 -5.46875 C 2.75 -5.464844 2.457031 -5.355469 2.242188 -5.140625 C 2.058594 -4.953125 1.96875 -4.753906 1.96875 -4.539063 C 1.96875 -4.390625 2.023438 -4.261719 2.132813 -4.15625 C 2.277344 -4.007813 2.730469 -3.84375 3.5 -3.664063 C 3.96875 -3.550781 4.371094 -3.441406 4.703125 -3.335938 C 4.992188 -3.222656 5.210938 -3.097656 5.359375 -2.953125 C 5.648438 -2.660156 5.792969 -2.3125 5.796875 -1.914063 C 5.792969 -1.472656 5.613281 -1.070313 5.25 -0.710938 C 4.8125 -0.269531 4.136719 -0.0507813 3.226563 -0.0546875 C 2.3125 -0.0507813 1.636719 -0.269531 1.203125 -0.710938 C 0.835938 -1.070313 0.65625 -1.527344 0.65625 -2.078125 L 1.75 -2.078125 C 1.785156 -1.746094 1.875 -1.507813 2.023438 -1.367188 C 2.273438 -1.109375 2.65625 -0.984375 3.171875 -0.984375 C 3.789063 -0.984375 4.210938 -1.09375 4.429688 -1.3125 C 4.574219 -1.457031 4.644531 -1.636719 4.648438 -1.859375 C 4.644531 -2 4.554688 -2.164063 4.375 -2.351563 C 4.226563 -2.492188 3.988281 -2.601563 3.664063 -2.679688 C 3.003906 -2.820313 2.511719 -2.949219 2.1875 -3.0625 C 1.78125 -3.167969 1.492188 -3.3125 1.3125 -3.5 C 0.984375 -3.824219 0.820313 -4.171875 0.820313 -4.539063 Z M 0.820313 -4.539063 \"/>\n",
       "</symbol>\n",
       "<symbol overflow=\"visible\" id=\"glyph0-15\">\n",
       "<path style=\"stroke:none;\" d=\"M 0.929688 -9.515625 L 6.945313 -9.515625 L 6.945313 -8.476563 L 2.1875 -8.476563 L 2.1875 -5.578125 L 6.617188 -5.578125 L 6.617188 -4.539063 L 2.1875 -4.539063 L 2.1875 -1.203125 L 7.21875 -1.203125 L 7.21875 -0.164063 L 0.929688 -0.164063 Z M 0.929688 -9.515625 \"/>\n",
       "</symbol>\n",
       "<symbol overflow=\"visible\" id=\"glyph0-16\">\n",
       "<path style=\"stroke:none;\" d=\"M 1.3125 -8.421875 L 2.40625 -8.421875 L 2.40625 -6.289063 L 4.265625 -6.289063 L 4.265625 -5.414063 L 2.40625 -5.414063 L 2.40625 -1.859375 C 2.402344 -1.636719 2.492188 -1.4375 2.679688 -1.257813 C 2.820313 -1.109375 3.058594 -1.035156 3.390625 -1.039063 C 3.898438 -1.035156 4.355469 -1.164063 4.757813 -1.421875 L 4.757813 -0.382813 C 4.355469 -0.160156 3.917969 -0.0507813 3.445313 -0.0546875 C 2.714844 -0.0507813 2.183594 -0.214844 1.859375 -0.546875 C 1.492188 -0.90625 1.3125 -1.308594 1.3125 -1.75 L 1.3125 -5.414063 L 0 -5.414063 L 0 -6.289063 L 1.3125 -6.289063 Z M 1.3125 -8.421875 \"/>\n",
       "</symbol>\n",
       "<symbol overflow=\"visible\" id=\"glyph0-17\">\n",
       "<path style=\"stroke:none;\" d=\"M 0.820313 -9.515625 L 1.914063 -9.515625 L 1.914063 -5.195313 C 2.53125 -5.996094 3.207031 -6.398438 3.9375 -6.398438 C 4.703125 -6.398438 5.265625 -6.214844 5.632813 -5.851563 C 5.992188 -5.484375 6.175781 -5.046875 6.179688 -4.539063 L 6.179688 -0.164063 L 5.085938 -0.164063 L 5.085938 -4.265625 C 5.085938 -4.664063 4.957031 -4.992188 4.703125 -5.25 C 4.519531 -5.429688 4.265625 -5.519531 3.9375 -5.523438 C 3.535156 -5.519531 3.167969 -5.355469 2.84375 -5.03125 C 2.4375 -4.628906 2.128906 -4.0625 1.914063 -3.335938 L 1.914063 -0.164063 L 0.820313 -0.164063 Z M 0.820313 -9.515625 \"/>\n",
       "</symbol>\n",
       "<symbol overflow=\"visible\" id=\"glyph0-18\">\n",
       "<path style=\"stroke:none;\" d=\"M 1.09375 -9.515625 L 7.382813 -9.515625 L 7.382813 -8.476563 L 2.351563 -8.476563 L 2.351563 -5.414063 L 6.289063 -5.414063 L 6.289063 -4.375 L 2.351563 -4.375 L 2.351563 -0.164063 L 1.09375 -0.164063 Z M 1.09375 -9.515625 \"/>\n",
       "</symbol>\n",
       "<symbol overflow=\"visible\" id=\"glyph0-19\">\n",
       "<path style=\"stroke:none;\" d=\"M 0.710938 -9.515625 L 1.804688 -9.515625 L 1.804688 -3.609375 L 4.484375 -6.289063 L 5.851563 -6.289063 L 3.773438 -4.210938 L 6.289063 -0.164063 L 5.140625 -0.164063 L 3.0625 -3.5 L 1.804688 -2.242188 L 1.804688 -0.164063 L 0.710938 -0.164063 Z M 0.710938 -9.515625 \"/>\n",
       "</symbol>\n",
       "<symbol overflow=\"visible\" id=\"glyph0-20\">\n",
       "<path style=\"stroke:none;\" d=\"M 0.875 -4.8125 C 0.871094 -6.414063 1.292969 -7.636719 2.132813 -8.476563 C 2.898438 -9.238281 3.828125 -9.621094 4.921875 -9.625 C 6.015625 -9.621094 6.90625 -9.273438 7.601563 -8.585938 C 8.179688 -8 8.492188 -7.289063 8.53125 -6.453125 L 7.21875 -6.453125 C 7.179688 -7.070313 6.960938 -7.582031 6.5625 -7.984375 C 6.160156 -8.382813 5.613281 -8.582031 4.921875 -8.585938 C 4.226563 -8.582031 3.640625 -8.347656 3.171875 -7.875 C 2.511719 -7.21875 2.183594 -6.195313 2.1875 -4.8125 C 2.183594 -3.496094 2.53125 -2.496094 3.226563 -1.804688 C 3.699219 -1.328125 4.355469 -1.089844 5.195313 -1.09375 C 5.8125 -1.089844 6.324219 -1.289063 6.726563 -1.695313 C 7.125 -2.09375 7.359375 -2.515625 7.4375 -2.953125 L 7.4375 -3.828125 L 5.851563 -3.828125 L 5.851563 -4.867188 L 8.695313 -4.867188 L 8.695313 -0.0546875 L 7.765625 -0.0546875 L 7.4375 -0.984375 C 6.8125 -0.363281 6.03125 -0.0507813 5.085938 -0.0546875 C 3.917969 -0.0507813 2.96875 -0.417969 2.242188 -1.148438 C 1.328125 -2.058594 0.871094 -3.277344 0.875 -4.8125 Z M 0.875 -4.8125 \"/>\n",
       "</symbol>\n",
       "<symbol overflow=\"visible\" id=\"glyph0-21\">\n",
       "<path style=\"stroke:none;\" d=\"M 0.929688 -4.265625 C 0.925781 -4.882813 1.125 -5.390625 1.53125 -5.796875 C 1.929688 -6.195313 2.441406 -6.398438 3.0625 -6.398438 C 3.644531 -6.398438 4.15625 -6.214844 4.59375 -5.851563 C 4.957031 -6.214844 5.394531 -6.398438 5.90625 -6.398438 L 6.398438 -6.398438 L 6.398438 -5.359375 C 5.960938 -5.539063 5.46875 -5.558594 4.921875 -5.414063 C 5.175781 -5.085938 5.300781 -4.703125 5.304688 -4.265625 C 5.300781 -3.609375 5.101563 -3.078125 4.703125 -2.679688 C 4.335938 -2.3125 3.808594 -2.132813 3.117188 -2.132813 C 2.75 -2.132813 2.367188 -2.222656 1.96875 -2.40625 C 1.785156 -2.257813 1.691406 -2.113281 1.695313 -1.96875 C 1.691406 -1.859375 1.730469 -1.765625 1.804688 -1.695313 C 1.984375 -1.507813 2.402344 -1.398438 3.0625 -1.367188 C 3.644531 -1.328125 4.265625 -1.292969 4.921875 -1.257813 C 5.285156 -1.183594 5.558594 -1.054688 5.742188 -0.875 C 6.03125 -0.578125 6.175781 -0.234375 6.179688 0.164063 C 6.175781 0.601563 6.03125 0.964844 5.742188 1.257813 C 5.339844 1.65625 4.464844 1.855469 3.117188 1.859375 C 1.984375 1.855469 1.21875 1.65625 0.820313 1.257813 C 0.5625 1 0.433594 0.691406 0.4375 0.328125 C 0.433594 0.0742188 0.523438 -0.144531 0.710938 -0.328125 C 0.851563 -0.472656 1.070313 -0.617188 1.367188 -0.765625 C 1.253906 -0.835938 1.128906 -0.945313 0.984375 -1.09375 C 0.800781 -1.273438 0.707031 -1.511719 0.710938 -1.804688 C 0.707031 -2.167969 0.980469 -2.511719 1.53125 -2.84375 C 1.125 -3.242188 0.925781 -3.71875 0.929688 -4.265625 Z M 3.0625 -5.46875 C 2.804688 -5.464844 2.585938 -5.375 2.40625 -5.195313 C 2.148438 -4.9375 2.019531 -4.628906 2.023438 -4.265625 C 2.019531 -3.898438 2.128906 -3.605469 2.351563 -3.390625 C 2.566406 -3.167969 2.824219 -3.058594 3.117188 -3.0625 C 3.445313 -3.058594 3.699219 -3.148438 3.882813 -3.335938 C 4.097656 -3.550781 4.207031 -3.863281 4.210938 -4.265625 C 4.207031 -4.628906 4.078125 -4.9375 3.828125 -5.195313 C 3.640625 -5.375 3.386719 -5.464844 3.0625 -5.46875 Z M 4.210938 -0.328125 C 3.332031 -0.363281 2.65625 -0.417969 2.1875 -0.492188 C 1.929688 -0.417969 1.75 -0.324219 1.640625 -0.21875 C 1.492188 -0.0703125 1.417969 0.0898438 1.421875 0.273438 C 1.417969 0.453125 1.492188 0.617188 1.640625 0.765625 C 1.859375 0.980469 2.332031 1.089844 3.0625 1.09375 C 4.042969 1.089844 4.664063 0.960938 4.921875 0.710938 C 5.066406 0.5625 5.136719 0.417969 5.140625 0.273438 C 5.136719 0.125 5.082031 0 4.976563 -0.109375 C 4.828125 -0.253906 4.574219 -0.328125 4.210938 -0.328125 Z M 4.210938 -0.328125 \"/>\n",
       "</symbol>\n",
       "</g>\n",
       "</defs>\n",
       "<g id=\"surface14\">\n",
       "<rect x=\"0\" y=\"0\" width=\"600\" height=\"600\" style=\"fill:rgb(100%,100%,100%);fill-opacity:1;stroke:none;\"/>\n",
       "<path style=\"fill:none;stroke-width:1;stroke-linecap:butt;stroke-linejoin:miter;stroke:rgb(26.666667%,26.666667%,26.666667%);stroke-opacity:1;stroke-miterlimit:10;\" d=\"M 395.0625 215.980469 L 580 127.53125 \"/>\n",
       "<path style=\"fill:none;stroke-width:1;stroke-linecap:butt;stroke-linejoin:miter;stroke:rgb(26.666667%,26.666667%,26.666667%);stroke-opacity:1;stroke-miterlimit:10;\" d=\"M 395.0625 215.980469 L 205.453125 170.53125 \"/>\n",
       "<path style=\"fill:none;stroke-width:1;stroke-linecap:butt;stroke-linejoin:miter;stroke:rgb(26.666667%,26.666667%,26.666667%);stroke-opacity:1;stroke-miterlimit:10;\" d=\"M 205.453125 170.53125 L 20 299.914063 \"/>\n",
       "<path style=\"fill:none;stroke-width:1;stroke-linecap:butt;stroke-linejoin:miter;stroke:rgb(26.666667%,26.666667%,26.666667%);stroke-opacity:1;stroke-miterlimit:10;\" d=\"M 20 299.914063 L 42.050781 20 \"/>\n",
       "<path style=\"fill:none;stroke-width:1;stroke-linecap:butt;stroke-linejoin:miter;stroke:rgb(26.666667%,26.666667%,26.666667%);stroke-opacity:1;stroke-miterlimit:10;\" d=\"M 205.453125 170.53125 L 42.050781 20 \"/>\n",
       "<path style=\"fill:none;stroke-width:1;stroke-linecap:butt;stroke-linejoin:miter;stroke:rgb(26.666667%,26.666667%,26.666667%);stroke-opacity:1;stroke-miterlimit:10;\" d=\"M 205.453125 170.53125 L 287.234375 452.386719 \"/>\n",
       "<path style=\"fill:none;stroke-width:1;stroke-linecap:butt;stroke-linejoin:miter;stroke:rgb(26.666667%,26.666667%,26.666667%);stroke-opacity:1;stroke-miterlimit:10;\" d=\"M 395.0625 215.980469 L 287.234375 452.386719 \"/>\n",
       "<path style=\"fill:none;stroke-width:1;stroke-linecap:butt;stroke-linejoin:miter;stroke:rgb(26.666667%,26.666667%,26.666667%);stroke-opacity:1;stroke-miterlimit:10;\" d=\"M 20 299.914063 L 102.445313 580 \"/>\n",
       "<path style=\"fill:none;stroke-width:1;stroke-linecap:butt;stroke-linejoin:miter;stroke:rgb(26.666667%,26.666667%,26.666667%);stroke-opacity:1;stroke-miterlimit:10;\" d=\"M 287.234375 452.386719 L 102.445313 580 \"/>\n",
       "<path style=\"fill-rule:nonzero;fill:rgb(100%,75.294118%,79.607843%);fill-opacity:1;stroke-width:1;stroke-linecap:butt;stroke-linejoin:miter;stroke:rgb(0%,0%,0%);stroke-opacity:1;stroke-miterlimit:10;\" d=\"M 405.0625 215.980469 C 405.0625 221.503906 400.585938 225.980469 395.0625 225.980469 C 389.539063 225.980469 385.0625 221.503906 385.0625 215.980469 C 385.0625 210.457031 389.539063 205.980469 395.0625 205.980469 C 400.585938 205.980469 405.0625 210.457031 405.0625 215.980469 \"/>\n",
       "<path style=\"fill-rule:nonzero;fill:rgb(0%,0%,100%);fill-opacity:1;stroke-width:1;stroke-linecap:butt;stroke-linejoin:miter;stroke:rgb(0%,0%,0%);stroke-opacity:1;stroke-miterlimit:10;\" d=\"M 590 127.53125 C 590 133.054688 585.523438 137.53125 580 137.53125 C 574.476563 137.53125 570 133.054688 570 127.53125 C 570 122.007813 574.476563 117.53125 580 117.53125 C 585.523438 117.53125 590 122.007813 590 127.53125 \"/>\n",
       "<path style=\"fill-rule:nonzero;fill:rgb(100%,75.294118%,79.607843%);fill-opacity:1;stroke-width:1;stroke-linecap:butt;stroke-linejoin:miter;stroke:rgb(0%,0%,0%);stroke-opacity:1;stroke-miterlimit:10;\" d=\"M 215.453125 170.53125 C 215.453125 176.054688 210.976563 180.53125 205.453125 180.53125 C 199.929688 180.53125 195.453125 176.054688 195.453125 170.53125 C 195.453125 165.007813 199.929688 160.53125 205.453125 160.53125 C 210.976563 160.53125 215.453125 165.007813 215.453125 170.53125 \"/>\n",
       "<path style=\"fill-rule:nonzero;fill:rgb(0%,0%,100%);fill-opacity:1;stroke-width:1;stroke-linecap:butt;stroke-linejoin:miter;stroke:rgb(0%,0%,0%);stroke-opacity:1;stroke-miterlimit:10;\" d=\"M 30 299.914063 C 30 305.433594 25.523438 309.914063 20 309.914063 C 14.476563 309.914063 10 305.433594 10 299.914063 C 10 294.390625 14.476563 289.914063 20 289.914063 C 25.523438 289.914063 30 294.390625 30 299.914063 \"/>\n",
       "<path style=\"fill-rule:nonzero;fill:rgb(100%,75.294118%,79.607843%);fill-opacity:1;stroke-width:1;stroke-linecap:butt;stroke-linejoin:miter;stroke:rgb(0%,0%,0%);stroke-opacity:1;stroke-miterlimit:10;\" d=\"M 52.050781 20 C 52.050781 25.523438 47.574219 30 42.050781 30 C 36.527344 30 32.050781 25.523438 32.050781 20 C 32.050781 14.476563 36.527344 10 42.050781 10 C 47.574219 10 52.050781 14.476563 52.050781 20 \"/>\n",
       "<path style=\"fill-rule:nonzero;fill:rgb(0%,0%,100%);fill-opacity:1;stroke-width:1;stroke-linecap:butt;stroke-linejoin:miter;stroke:rgb(0%,0%,0%);stroke-opacity:1;stroke-miterlimit:10;\" d=\"M 297.234375 452.386719 C 297.234375 457.910156 292.753906 462.386719 287.234375 462.386719 C 281.710938 462.386719 277.234375 457.910156 277.234375 452.386719 C 277.234375 446.863281 281.710938 442.386719 287.234375 442.386719 C 292.753906 442.386719 297.234375 446.863281 297.234375 452.386719 \"/>\n",
       "<path style=\"fill-rule:nonzero;fill:rgb(0%,0%,100%);fill-opacity:1;stroke-width:1;stroke-linecap:butt;stroke-linejoin:miter;stroke:rgb(0%,0%,0%);stroke-opacity:1;stroke-miterlimit:10;\" d=\"M 112.445313 580 C 112.445313 585.523438 107.96875 590 102.445313 590 C 96.921875 590 92.445313 585.523438 92.445313 580 C 92.445313 574.476563 96.921875 570 102.445313 570 C 107.96875 570 112.445313 574.476563 112.445313 580 \"/>\n",
       "<g style=\"fill:rgb(0%,0%,0%);fill-opacity:1;\">\n",
       "  <use xlink:href=\"#glyph0-1\" x=\"380.925781\" y=\"221.792969\"/>\n",
       "  <use xlink:href=\"#glyph0-2\" x=\"389.785156\" y=\"221.792969\"/>\n",
       "  <use xlink:href=\"#glyph0-3\" x=\"392.738281\" y=\"221.792969\"/>\n",
       "  <use xlink:href=\"#glyph0-4\" x=\"395.691406\" y=\"221.792969\"/>\n",
       "  <use xlink:href=\"#glyph0-5\" x=\"402.691406\" y=\"221.792969\"/>\n",
       "</g>\n",
       "<g style=\"fill:rgb(0%,0%,0%);fill-opacity:1;\">\n",
       "  <use xlink:href=\"#glyph0-6\" x=\"568.40625\" y=\"133.289063\"/>\n",
       "  <use xlink:href=\"#glyph0-7\" x=\"577.320313\" y=\"133.289063\"/>\n",
       "  <use xlink:href=\"#glyph0-8\" x=\"584.429688\" y=\"133.289063\"/>\n",
       "</g>\n",
       "<g style=\"fill:rgb(0%,0%,0%);fill-opacity:1;\">\n",
       "  <use xlink:href=\"#glyph0-9\" x=\"188.527344\" y=\"176.34375\"/>\n",
       "  <use xlink:href=\"#glyph0-2\" x=\"197.824219\" y=\"176.34375\"/>\n",
       "  <use xlink:href=\"#glyph0-10\" x=\"200.777344\" y=\"176.34375\"/>\n",
       "  <use xlink:href=\"#glyph0-3\" x=\"207.449219\" y=\"176.34375\"/>\n",
       "  <use xlink:href=\"#glyph0-11\" x=\"210.402344\" y=\"176.34375\"/>\n",
       "  <use xlink:href=\"#glyph0-5\" x=\"215.269531\" y=\"176.34375\"/>\n",
       "</g>\n",
       "<g style=\"fill:rgb(0%,0%,0%);fill-opacity:1;\">\n",
       "  <use xlink:href=\"#glyph0-12\" x=\"0.121094\" y=\"305.671875\"/>\n",
       "  <use xlink:href=\"#glyph0-5\" x=\"9.199219\" y=\"305.671875\"/>\n",
       "  <use xlink:href=\"#glyph0-13\" x=\"16.199219\" y=\"305.671875\"/>\n",
       "  <use xlink:href=\"#glyph0-13\" x=\"23.199219\" y=\"305.671875\"/>\n",
       "  <use xlink:href=\"#glyph0-3\" x=\"30.199219\" y=\"305.671875\"/>\n",
       "  <use xlink:href=\"#glyph0-14\" x=\"33.152344\" y=\"305.671875\"/>\n",
       "</g>\n",
       "<g style=\"fill:rgb(0%,0%,0%);fill-opacity:1;\">\n",
       "  <use xlink:href=\"#glyph0-15\" x=\"22.527344\" y=\"25.757813\"/>\n",
       "  <use xlink:href=\"#glyph0-14\" x=\"30.457031\" y=\"25.757813\"/>\n",
       "  <use xlink:href=\"#glyph0-16\" x=\"36.910156\" y=\"25.757813\"/>\n",
       "  <use xlink:href=\"#glyph0-17\" x=\"41.832031\" y=\"25.757813\"/>\n",
       "  <use xlink:href=\"#glyph0-5\" x=\"48.832031\" y=\"25.757813\"/>\n",
       "  <use xlink:href=\"#glyph0-11\" x=\"55.832031\" y=\"25.757813\"/>\n",
       "</g>\n",
       "<g style=\"fill:rgb(0%,0%,0%);fill-opacity:1;\">\n",
       "  <use xlink:href=\"#glyph0-18\" x=\"270.417969\" y=\"458.144531\"/>\n",
       "  <use xlink:href=\"#glyph0-11\" x=\"278.128906\" y=\"458.144531\"/>\n",
       "  <use xlink:href=\"#glyph0-10\" x=\"282.996094\" y=\"458.144531\"/>\n",
       "  <use xlink:href=\"#glyph0-13\" x=\"289.667969\" y=\"458.144531\"/>\n",
       "  <use xlink:href=\"#glyph0-19\" x=\"296.667969\" y=\"458.144531\"/>\n",
       "</g>\n",
       "<g style=\"fill:rgb(0%,0%,0%);fill-opacity:1;\">\n",
       "  <use xlink:href=\"#glyph0-20\" x=\"81.363281\" y=\"585.8125\"/>\n",
       "  <use xlink:href=\"#glyph0-5\" x=\"90.878906\" y=\"585.8125\"/>\n",
       "  <use xlink:href=\"#glyph0-7\" x=\"97.878906\" y=\"585.8125\"/>\n",
       "  <use xlink:href=\"#glyph0-11\" x=\"104.988281\" y=\"585.8125\"/>\n",
       "  <use xlink:href=\"#glyph0-21\" x=\"109.855469\" y=\"585.8125\"/>\n",
       "  <use xlink:href=\"#glyph0-5\" x=\"116.308594\" y=\"585.8125\"/>\n",
       "</g>\n",
       "</g>\n",
       "</svg>\n"
      ],
      "text/plain": [
       "<igraph.drawing.Plot at 0x205ae4f50c8>"
      ]
     },
     "execution_count": 69,
     "metadata": {
      "image/svg+xml": {
       "isolated": true
      }
     },
     "output_type": "execute_result"
    }
   ],
   "source": [
    "color_dict = {\"m\": \"blue\", \"f\": \"pink\"}\n",
    "igraph.plot(g, layout = layout, vertex_color = [color_dict[gender] for gender in g.vs[\"gender\"]])"
   ]
  },
  {
   "cell_type": "code",
   "execution_count": 70,
   "metadata": {},
   "outputs": [
    {
     "data": {
      "image/svg+xml": [
       "<?xml version=\"1.0\" encoding=\"UTF-8\"?>\n",
       "<svg xmlns=\"http://www.w3.org/2000/svg\" xmlns:xlink=\"http://www.w3.org/1999/xlink\" width=\"300pt\" height=\"300pt\" viewBox=\"0 0 300 300\" version=\"1.1\">\n",
       "<defs>\n",
       "<g>\n",
       "<symbol overflow=\"visible\" id=\"glyph0-0\">\n",
       "<path style=\"stroke:none;\" d=\"M 2.898438 -9.1875 L 2.898438 -0.820313 L 11.15625 -0.820313 L 11.15625 -9.1875 Z M 1.804688 -10.226563 L 12.25 -10.226563 L 12.25 0.21875 L 1.804688 0.21875 Z M 1.804688 -10.226563 \"/>\n",
       "</symbol>\n",
       "<symbol overflow=\"visible\" id=\"glyph0-1\">\n",
       "<path style=\"stroke:none;\" d=\"M 0.164063 -0.164063 L 3.882813 -9.625 L 4.976563 -9.625 L 8.695313 -0.164063 L 7.382813 -0.164063 L 6.234375 -3.007813 L 2.625 -3.007813 L 1.476563 -0.164063 Z M 4.429688 -7.820313 L 3.007813 -4.046875 L 5.851563 -4.046875 Z M 4.429688 -7.820313 \"/>\n",
       "</symbol>\n",
       "<symbol overflow=\"visible\" id=\"glyph0-2\">\n",
       "<path style=\"stroke:none;\" d=\"M 0.929688 -9.515625 L 2.023438 -9.515625 L 2.023438 -0.164063 L 0.929688 -0.164063 Z M 0.929688 -9.515625 \"/>\n",
       "</symbol>\n",
       "<symbol overflow=\"visible\" id=\"glyph0-3\">\n",
       "<path style=\"stroke:none;\" d=\"M 0.929688 -9.460938 L 2.023438 -9.460938 L 2.023438 -8.039063 L 0.929688 -8.039063 Z M 0.929688 -6.289063 L 2.023438 -6.289063 L 2.023438 -0.164063 L 0.929688 -0.164063 Z M 0.929688 -6.289063 \"/>\n",
       "</symbol>\n",
       "<symbol overflow=\"visible\" id=\"glyph0-4\">\n",
       "<path style=\"stroke:none;\" d=\"M 0.65625 -3.171875 C 0.65625 -4.152344 0.945313 -4.9375 1.53125 -5.523438 C 2.074219 -6.066406 2.75 -6.339844 3.554688 -6.34375 C 4.425781 -6.339844 5.082031 -6.121094 5.523438 -5.6875 C 5.921875 -5.285156 6.160156 -4.792969 6.234375 -4.210938 L 5.03125 -4.210938 C 4.992188 -4.5 4.847656 -4.773438 4.59375 -5.03125 C 4.375 -5.246094 4.046875 -5.355469 3.609375 -5.359375 C 3.171875 -5.355469 2.804688 -5.210938 2.515625 -4.921875 C 2.074219 -4.484375 1.855469 -3.882813 1.859375 -3.117188 C 1.855469 -2.386719 2.058594 -1.820313 2.460938 -1.421875 C 2.75 -1.128906 3.113281 -0.984375 3.554688 -0.984375 C 4.0625 -0.984375 4.464844 -1.128906 4.757813 -1.421875 C 5.046875 -1.710938 5.191406 -2.09375 5.195313 -2.570313 L 6.398438 -2.570313 C 6.359375 -1.800781 6.101563 -1.179688 5.632813 -0.710938 C 5.15625 -0.234375 4.464844 0 3.554688 0 C 2.785156 0 2.148438 -0.253906 1.640625 -0.765625 C 0.984375 -1.417969 0.65625 -2.21875 0.65625 -3.171875 Z M 0.65625 -3.171875 \"/>\n",
       "</symbol>\n",
       "<symbol overflow=\"visible\" id=\"glyph0-5\">\n",
       "<path style=\"stroke:none;\" d=\"M 0.65625 -3.226563 C 0.65625 -4.207031 0.964844 -5.007813 1.585938 -5.632813 C 2.09375 -6.140625 2.75 -6.398438 3.554688 -6.398438 C 4.316406 -6.398438 4.972656 -6.125 5.523438 -5.578125 C 6.03125 -5.066406 6.285156 -4.28125 6.289063 -3.226563 L 1.859375 -3.226563 C 1.855469 -2.457031 2.039063 -1.890625 2.40625 -1.53125 C 2.730469 -1.199219 3.148438 -1.035156 3.664063 -1.039063 C 4.171875 -1.035156 4.539063 -1.144531 4.757813 -1.367188 C 5.011719 -1.617188 5.136719 -1.910156 5.140625 -2.242188 L 6.34375 -2.242188 C 6.195313 -1.582031 5.957031 -1.089844 5.632813 -0.765625 C 5.15625 -0.289063 4.5 -0.0507813 3.664063 -0.0546875 C 2.785156 -0.0507813 2.074219 -0.324219 1.53125 -0.875 C 0.945313 -1.453125 0.65625 -2.238281 0.65625 -3.226563 Z M 3.5 -5.46875 C 3.058594 -5.464844 2.695313 -5.320313 2.40625 -5.03125 C 2.148438 -4.773438 1.984375 -4.464844 1.914063 -4.101563 L 5.03125 -4.101563 C 5.027344 -4.464844 4.882813 -4.792969 4.59375 -5.085938 C 4.335938 -5.339844 3.96875 -5.464844 3.5 -5.46875 Z M 3.5 -5.46875 \"/>\n",
       "</symbol>\n",
       "<symbol overflow=\"visible\" id=\"glyph0-6\">\n",
       "<path style=\"stroke:none;\" d=\"M 0.929688 -9.515625 L 5.304688 -9.515625 C 6.03125 -9.515625 6.632813 -9.277344 7.109375 -8.804688 C 7.542969 -8.363281 7.761719 -7.78125 7.765625 -7.054688 C 7.761719 -6.46875 7.5625 -5.976563 7.164063 -5.578125 C 6.941406 -5.359375 6.667969 -5.195313 6.34375 -5.085938 C 6.777344 -4.9375 7.125 -4.734375 7.382813 -4.484375 C 7.820313 -4.042969 8.039063 -3.496094 8.039063 -2.84375 C 8.039063 -2.039063 7.765625 -1.367188 7.21875 -0.820313 C 6.78125 -0.382813 6.125 -0.164063 5.25 -0.164063 L 0.929688 -0.164063 Z M 2.1875 -8.476563 L 2.1875 -5.578125 L 5.140625 -5.578125 C 5.5 -5.578125 5.8125 -5.703125 6.070313 -5.960938 C 6.359375 -6.25 6.503906 -6.632813 6.507813 -7.109375 C 6.503906 -7.507813 6.359375 -7.855469 6.070313 -8.148438 C 5.851563 -8.363281 5.578125 -8.472656 5.25 -8.476563 Z M 2.1875 -4.539063 L 2.1875 -1.203125 L 4.976563 -1.203125 C 5.519531 -1.199219 5.941406 -1.347656 6.234375 -1.640625 C 6.5625 -1.96875 6.726563 -2.367188 6.726563 -2.84375 C 6.726563 -3.351563 6.578125 -3.753906 6.289063 -4.046875 C 5.957031 -4.371094 5.519531 -4.535156 4.976563 -4.539063 Z M 2.1875 -4.539063 \"/>\n",
       "</symbol>\n",
       "<symbol overflow=\"visible\" id=\"glyph0-7\">\n",
       "<path style=\"stroke:none;\" d=\"M 0.601563 -3.226563 C 0.597656 -4.171875 0.90625 -4.957031 1.53125 -5.578125 C 2.074219 -6.125 2.75 -6.398438 3.554688 -6.398438 C 4.355469 -6.398438 5.03125 -6.125 5.578125 -5.578125 C 6.195313 -4.957031 6.503906 -4.171875 6.507813 -3.226563 C 6.503906 -2.277344 6.195313 -1.492188 5.578125 -0.875 C 5.03125 -0.324219 4.355469 -0.0507813 3.554688 -0.0546875 C 2.75 -0.0507813 2.074219 -0.324219 1.53125 -0.875 C 0.90625 -1.492188 0.597656 -2.277344 0.601563 -3.226563 Z M 3.554688 -5.414063 C 3.113281 -5.414063 2.75 -5.265625 2.460938 -4.976563 C 2.023438 -4.535156 1.804688 -3.953125 1.804688 -3.226563 C 1.804688 -2.496094 2.003906 -1.929688 2.40625 -1.53125 C 2.730469 -1.199219 3.113281 -1.035156 3.554688 -1.039063 C 3.988281 -1.035156 4.371094 -1.199219 4.703125 -1.53125 C 5.101563 -1.929688 5.300781 -2.496094 5.304688 -3.226563 C 5.300781 -3.953125 5.082031 -4.535156 4.648438 -4.976563 C 4.351563 -5.265625 3.988281 -5.414063 3.554688 -5.414063 Z M 3.554688 -5.414063 \"/>\n",
       "</symbol>\n",
       "<symbol overflow=\"visible\" id=\"glyph0-8\">\n",
       "<path style=\"stroke:none;\" d=\"M 0.710938 -9.515625 L 1.804688 -9.515625 L 1.804688 -5.578125 C 2.277344 -6.160156 2.859375 -6.449219 3.554688 -6.453125 C 4.28125 -6.449219 4.882813 -6.214844 5.359375 -5.742188 C 5.941406 -5.15625 6.234375 -4.316406 6.234375 -3.226563 C 6.234375 -2.167969 5.941406 -1.347656 5.359375 -0.765625 C 4.882813 -0.289063 4.261719 -0.0507813 3.5 -0.0546875 C 2.695313 -0.0507813 2.132813 -0.34375 1.804688 -0.929688 L 1.804688 -0.164063 L 0.710938 -0.164063 Z M 3.5 -5.46875 C 3.058594 -5.464844 2.660156 -5.285156 2.296875 -4.921875 C 1.96875 -4.59375 1.804688 -4.136719 1.804688 -3.554688 L 1.804688 -2.898438 C 1.804688 -2.347656 1.984375 -1.890625 2.351563 -1.53125 C 2.675781 -1.199219 3.058594 -1.035156 3.5 -1.039063 C 3.859375 -1.035156 4.171875 -1.164063 4.429688 -1.421875 C 4.828125 -1.820313 5.027344 -2.421875 5.03125 -3.226563 C 5.027344 -4.0625 4.84375 -4.664063 4.484375 -5.03125 C 4.1875 -5.320313 3.859375 -5.464844 3.5 -5.46875 Z M 3.5 -5.46875 \"/>\n",
       "</symbol>\n",
       "<symbol overflow=\"visible\" id=\"glyph0-9\">\n",
       "<path style=\"stroke:none;\" d=\"M 0.765625 -4.8125 C 0.761719 -6.414063 1.21875 -7.671875 2.132813 -8.585938 C 2.824219 -9.273438 3.714844 -9.621094 4.8125 -9.625 C 5.902344 -9.621094 6.761719 -9.3125 7.382813 -8.695313 C 8.039063 -8.039063 8.382813 -7.199219 8.421875 -6.179688 L 7.109375 -6.179688 C 7.03125 -6.941406 6.796875 -7.523438 6.398438 -7.929688 C 5.960938 -8.363281 5.429688 -8.582031 4.8125 -8.585938 C 4.152344 -8.582031 3.570313 -8.328125 3.0625 -7.820313 C 2.402344 -7.160156 2.074219 -6.15625 2.078125 -4.8125 C 2.074219 -3.460938 2.402344 -2.460938 3.0625 -1.804688 C 3.535156 -1.328125 4.117188 -1.089844 4.8125 -1.09375 C 5.539063 -1.089844 6.105469 -1.289063 6.507813 -1.695313 C 7.015625 -2.203125 7.269531 -2.933594 7.273438 -3.882813 L 8.585938 -3.882813 C 8.546875 -2.640625 8.183594 -1.675781 7.492188 -0.984375 C 6.871094 -0.363281 5.976563 -0.0507813 4.8125 -0.0546875 C 3.714844 -0.0507813 2.824219 -0.398438 2.132813 -1.09375 C 1.21875 -2.003906 0.761719 -3.242188 0.765625 -4.8125 Z M 0.765625 -4.8125 \"/>\n",
       "</symbol>\n",
       "<symbol overflow=\"visible\" id=\"glyph0-10\">\n",
       "<path style=\"stroke:none;\" d=\"M 0.765625 -4.484375 C 0.871094 -4.992188 1.109375 -5.429688 1.476563 -5.796875 C 1.875 -6.195313 2.457031 -6.398438 3.226563 -6.398438 C 4.136719 -6.398438 4.792969 -6.195313 5.195313 -5.796875 C 5.558594 -5.429688 5.742188 -5.011719 5.742188 -4.539063 L 5.742188 -1.09375 C 5.742188 -0.691406 5.886719 -0.382813 6.179688 -0.164063 L 4.867188 -0.164063 C 4.71875 -0.308594 4.644531 -0.542969 4.648438 -0.875 C 4.097656 -0.324219 3.40625 -0.0507813 2.570313 -0.0546875 C 1.875 -0.0507813 1.347656 -0.234375 0.984375 -0.601563 C 0.65625 -0.925781 0.492188 -1.308594 0.492188 -1.75 C 0.492188 -2.257813 0.65625 -2.675781 0.984375 -3.007813 C 1.347656 -3.367188 1.855469 -3.605469 2.515625 -3.71875 C 2.949219 -3.789063 3.332031 -3.878906 3.664063 -3.992188 C 4.132813 -4.097656 4.460938 -4.207031 4.648438 -4.320313 C 4.644531 -4.609375 4.535156 -4.867188 4.320313 -5.085938 C 4.097656 -5.304688 3.789063 -5.414063 3.390625 -5.414063 C 2.878906 -5.414063 2.515625 -5.304688 2.296875 -5.085938 C 2.148438 -4.9375 2.039063 -4.734375 1.96875 -4.484375 Z M 4.648438 -3.28125 C 4.425781 -3.207031 4.226563 -3.152344 4.046875 -3.117188 C 3.425781 -2.96875 2.953125 -2.859375 2.625 -2.789063 C 2.332031 -2.714844 2.113281 -2.605469 1.96875 -2.460938 C 1.785156 -2.277344 1.691406 -2.074219 1.695313 -1.859375 C 1.691406 -1.601563 1.785156 -1.382813 1.96875 -1.203125 C 2.078125 -1.089844 2.3125 -1.035156 2.679688 -1.039063 C 3.296875 -1.035156 3.808594 -1.238281 4.210938 -1.640625 C 4.464844 -1.894531 4.609375 -2.074219 4.648438 -2.1875 Z M 4.648438 -3.28125 \"/>\n",
       "</symbol>\n",
       "<symbol overflow=\"visible\" id=\"glyph0-11\">\n",
       "<path style=\"stroke:none;\" d=\"M 2.460938 -5.523438 C 3.042969 -6.105469 3.824219 -6.398438 4.8125 -6.398438 L 4.8125 -5.195313 C 4.664063 -5.230469 4.464844 -5.25 4.210938 -5.25 C 3.660156 -5.25 3.148438 -5.011719 2.679688 -4.539063 C 2.273438 -4.136719 2 -3.71875 1.859375 -3.28125 L 1.859375 -0.164063 L 0.765625 -0.164063 L 0.765625 -6.289063 L 1.859375 -6.289063 L 1.859375 -4.757813 C 2.039063 -5.046875 2.242188 -5.300781 2.460938 -5.523438 Z M 2.460938 -5.523438 \"/>\n",
       "</symbol>\n",
       "<symbol overflow=\"visible\" id=\"glyph0-12\">\n",
       "<path style=\"stroke:none;\" d=\"M 0.929688 -9.515625 L 4.210938 -9.515625 C 5.300781 -9.515625 6.230469 -9.132813 7 -8.367188 C 7.800781 -7.5625 8.203125 -6.359375 8.203125 -4.757813 C 8.203125 -3.226563 7.78125 -2.039063 6.945313 -1.203125 C 6.25 -0.507813 5.339844 -0.164063 4.210938 -0.164063 L 0.929688 -0.164063 Z M 2.1875 -8.476563 L 2.1875 -1.203125 L 4.15625 -1.203125 C 4.84375 -1.199219 5.410156 -1.417969 5.851563 -1.859375 C 6.542969 -2.546875 6.890625 -3.515625 6.890625 -4.757813 C 6.890625 -6.070313 6.5625 -7.054688 5.90625 -7.710938 C 5.394531 -8.21875 4.808594 -8.472656 4.15625 -8.476563 Z M 2.1875 -8.476563 \"/>\n",
       "</symbol>\n",
       "<symbol overflow=\"visible\" id=\"glyph0-13\">\n",
       "<path style=\"stroke:none;\" d=\"M 1.914063 -0.164063 L 0.820313 -0.164063 L 0.820313 -6.289063 L 1.914063 -6.289063 L 1.914063 -5.195313 C 2.566406 -5.996094 3.257813 -6.398438 3.992188 -6.398438 C 4.71875 -6.398438 5.304688 -6.179688 5.742188 -5.742188 C 6.03125 -5.449219 6.175781 -5.101563 6.179688 -4.703125 L 6.179688 -0.164063 L 5.085938 -0.164063 L 5.085938 -4.375 C 5.085938 -4.699219 4.976563 -4.972656 4.757813 -5.195313 C 4.539063 -5.410156 4.226563 -5.519531 3.828125 -5.523438 C 3.460938 -5.519531 3.097656 -5.335938 2.734375 -4.976563 C 2.183594 -4.425781 1.910156 -3.84375 1.914063 -3.226563 Z M 1.914063 -0.164063 \"/>\n",
       "</symbol>\n",
       "<symbol overflow=\"visible\" id=\"glyph0-14\">\n",
       "<path style=\"stroke:none;\" d=\"M 0.820313 -4.539063 C 0.820313 -5.011719 0.984375 -5.414063 1.3125 -5.742188 C 1.75 -6.179688 2.367188 -6.398438 3.171875 -6.398438 C 4.042969 -6.398438 4.683594 -6.195313 5.085938 -5.796875 C 5.449219 -5.429688 5.628906 -5.03125 5.632813 -4.59375 L 4.539063 -4.59375 C 4.5 -4.847656 4.425781 -5.027344 4.320313 -5.140625 C 4.097656 -5.355469 3.699219 -5.464844 3.117188 -5.46875 C 2.75 -5.464844 2.457031 -5.355469 2.242188 -5.140625 C 2.058594 -4.953125 1.96875 -4.753906 1.96875 -4.539063 C 1.96875 -4.390625 2.023438 -4.261719 2.132813 -4.15625 C 2.277344 -4.007813 2.730469 -3.84375 3.5 -3.664063 C 3.96875 -3.550781 4.371094 -3.441406 4.703125 -3.335938 C 4.992188 -3.222656 5.210938 -3.097656 5.359375 -2.953125 C 5.648438 -2.660156 5.792969 -2.3125 5.796875 -1.914063 C 5.792969 -1.472656 5.613281 -1.070313 5.25 -0.710938 C 4.8125 -0.269531 4.136719 -0.0507813 3.226563 -0.0546875 C 2.3125 -0.0507813 1.636719 -0.269531 1.203125 -0.710938 C 0.835938 -1.070313 0.65625 -1.527344 0.65625 -2.078125 L 1.75 -2.078125 C 1.785156 -1.746094 1.875 -1.507813 2.023438 -1.367188 C 2.273438 -1.109375 2.65625 -0.984375 3.171875 -0.984375 C 3.789063 -0.984375 4.210938 -1.09375 4.429688 -1.3125 C 4.574219 -1.457031 4.644531 -1.636719 4.648438 -1.859375 C 4.644531 -2 4.554688 -2.164063 4.375 -2.351563 C 4.226563 -2.492188 3.988281 -2.601563 3.664063 -2.679688 C 3.003906 -2.820313 2.511719 -2.949219 2.1875 -3.0625 C 1.78125 -3.167969 1.492188 -3.3125 1.3125 -3.5 C 0.984375 -3.824219 0.820313 -4.171875 0.820313 -4.539063 Z M 0.820313 -4.539063 \"/>\n",
       "</symbol>\n",
       "<symbol overflow=\"visible\" id=\"glyph0-15\">\n",
       "<path style=\"stroke:none;\" d=\"M 0.929688 -9.515625 L 6.945313 -9.515625 L 6.945313 -8.476563 L 2.1875 -8.476563 L 2.1875 -5.578125 L 6.617188 -5.578125 L 6.617188 -4.539063 L 2.1875 -4.539063 L 2.1875 -1.203125 L 7.21875 -1.203125 L 7.21875 -0.164063 L 0.929688 -0.164063 Z M 0.929688 -9.515625 \"/>\n",
       "</symbol>\n",
       "<symbol overflow=\"visible\" id=\"glyph0-16\">\n",
       "<path style=\"stroke:none;\" d=\"M 1.3125 -8.421875 L 2.40625 -8.421875 L 2.40625 -6.289063 L 4.265625 -6.289063 L 4.265625 -5.414063 L 2.40625 -5.414063 L 2.40625 -1.859375 C 2.402344 -1.636719 2.492188 -1.4375 2.679688 -1.257813 C 2.820313 -1.109375 3.058594 -1.035156 3.390625 -1.039063 C 3.898438 -1.035156 4.355469 -1.164063 4.757813 -1.421875 L 4.757813 -0.382813 C 4.355469 -0.160156 3.917969 -0.0507813 3.445313 -0.0546875 C 2.714844 -0.0507813 2.183594 -0.214844 1.859375 -0.546875 C 1.492188 -0.90625 1.3125 -1.308594 1.3125 -1.75 L 1.3125 -5.414063 L 0 -5.414063 L 0 -6.289063 L 1.3125 -6.289063 Z M 1.3125 -8.421875 \"/>\n",
       "</symbol>\n",
       "<symbol overflow=\"visible\" id=\"glyph0-17\">\n",
       "<path style=\"stroke:none;\" d=\"M 0.820313 -9.515625 L 1.914063 -9.515625 L 1.914063 -5.195313 C 2.53125 -5.996094 3.207031 -6.398438 3.9375 -6.398438 C 4.703125 -6.398438 5.265625 -6.214844 5.632813 -5.851563 C 5.992188 -5.484375 6.175781 -5.046875 6.179688 -4.539063 L 6.179688 -0.164063 L 5.085938 -0.164063 L 5.085938 -4.265625 C 5.085938 -4.664063 4.957031 -4.992188 4.703125 -5.25 C 4.519531 -5.429688 4.265625 -5.519531 3.9375 -5.523438 C 3.535156 -5.519531 3.167969 -5.355469 2.84375 -5.03125 C 2.4375 -4.628906 2.128906 -4.0625 1.914063 -3.335938 L 1.914063 -0.164063 L 0.820313 -0.164063 Z M 0.820313 -9.515625 \"/>\n",
       "</symbol>\n",
       "<symbol overflow=\"visible\" id=\"glyph0-18\">\n",
       "<path style=\"stroke:none;\" d=\"M 1.09375 -9.515625 L 7.382813 -9.515625 L 7.382813 -8.476563 L 2.351563 -8.476563 L 2.351563 -5.414063 L 6.289063 -5.414063 L 6.289063 -4.375 L 2.351563 -4.375 L 2.351563 -0.164063 L 1.09375 -0.164063 Z M 1.09375 -9.515625 \"/>\n",
       "</symbol>\n",
       "<symbol overflow=\"visible\" id=\"glyph0-19\">\n",
       "<path style=\"stroke:none;\" d=\"M 0.710938 -9.515625 L 1.804688 -9.515625 L 1.804688 -3.609375 L 4.484375 -6.289063 L 5.851563 -6.289063 L 3.773438 -4.210938 L 6.289063 -0.164063 L 5.140625 -0.164063 L 3.0625 -3.5 L 1.804688 -2.242188 L 1.804688 -0.164063 L 0.710938 -0.164063 Z M 0.710938 -9.515625 \"/>\n",
       "</symbol>\n",
       "<symbol overflow=\"visible\" id=\"glyph0-20\">\n",
       "<path style=\"stroke:none;\" d=\"M 0.875 -4.8125 C 0.871094 -6.414063 1.292969 -7.636719 2.132813 -8.476563 C 2.898438 -9.238281 3.828125 -9.621094 4.921875 -9.625 C 6.015625 -9.621094 6.90625 -9.273438 7.601563 -8.585938 C 8.179688 -8 8.492188 -7.289063 8.53125 -6.453125 L 7.21875 -6.453125 C 7.179688 -7.070313 6.960938 -7.582031 6.5625 -7.984375 C 6.160156 -8.382813 5.613281 -8.582031 4.921875 -8.585938 C 4.226563 -8.582031 3.640625 -8.347656 3.171875 -7.875 C 2.511719 -7.21875 2.183594 -6.195313 2.1875 -4.8125 C 2.183594 -3.496094 2.53125 -2.496094 3.226563 -1.804688 C 3.699219 -1.328125 4.355469 -1.089844 5.195313 -1.09375 C 5.8125 -1.089844 6.324219 -1.289063 6.726563 -1.695313 C 7.125 -2.09375 7.359375 -2.515625 7.4375 -2.953125 L 7.4375 -3.828125 L 5.851563 -3.828125 L 5.851563 -4.867188 L 8.695313 -4.867188 L 8.695313 -0.0546875 L 7.765625 -0.0546875 L 7.4375 -0.984375 C 6.8125 -0.363281 6.03125 -0.0507813 5.085938 -0.0546875 C 3.917969 -0.0507813 2.96875 -0.417969 2.242188 -1.148438 C 1.328125 -2.058594 0.871094 -3.277344 0.875 -4.8125 Z M 0.875 -4.8125 \"/>\n",
       "</symbol>\n",
       "<symbol overflow=\"visible\" id=\"glyph0-21\">\n",
       "<path style=\"stroke:none;\" d=\"M 0.929688 -4.265625 C 0.925781 -4.882813 1.125 -5.390625 1.53125 -5.796875 C 1.929688 -6.195313 2.441406 -6.398438 3.0625 -6.398438 C 3.644531 -6.398438 4.15625 -6.214844 4.59375 -5.851563 C 4.957031 -6.214844 5.394531 -6.398438 5.90625 -6.398438 L 6.398438 -6.398438 L 6.398438 -5.359375 C 5.960938 -5.539063 5.46875 -5.558594 4.921875 -5.414063 C 5.175781 -5.085938 5.300781 -4.703125 5.304688 -4.265625 C 5.300781 -3.609375 5.101563 -3.078125 4.703125 -2.679688 C 4.335938 -2.3125 3.808594 -2.132813 3.117188 -2.132813 C 2.75 -2.132813 2.367188 -2.222656 1.96875 -2.40625 C 1.785156 -2.257813 1.691406 -2.113281 1.695313 -1.96875 C 1.691406 -1.859375 1.730469 -1.765625 1.804688 -1.695313 C 1.984375 -1.507813 2.402344 -1.398438 3.0625 -1.367188 C 3.644531 -1.328125 4.265625 -1.292969 4.921875 -1.257813 C 5.285156 -1.183594 5.558594 -1.054688 5.742188 -0.875 C 6.03125 -0.578125 6.175781 -0.234375 6.179688 0.164063 C 6.175781 0.601563 6.03125 0.964844 5.742188 1.257813 C 5.339844 1.65625 4.464844 1.855469 3.117188 1.859375 C 1.984375 1.855469 1.21875 1.65625 0.820313 1.257813 C 0.5625 1 0.433594 0.691406 0.4375 0.328125 C 0.433594 0.0742188 0.523438 -0.144531 0.710938 -0.328125 C 0.851563 -0.472656 1.070313 -0.617188 1.367188 -0.765625 C 1.253906 -0.835938 1.128906 -0.945313 0.984375 -1.09375 C 0.800781 -1.273438 0.707031 -1.511719 0.710938 -1.804688 C 0.707031 -2.167969 0.980469 -2.511719 1.53125 -2.84375 C 1.125 -3.242188 0.925781 -3.71875 0.929688 -4.265625 Z M 3.0625 -5.46875 C 2.804688 -5.464844 2.585938 -5.375 2.40625 -5.195313 C 2.148438 -4.9375 2.019531 -4.628906 2.023438 -4.265625 C 2.019531 -3.898438 2.128906 -3.605469 2.351563 -3.390625 C 2.566406 -3.167969 2.824219 -3.058594 3.117188 -3.0625 C 3.445313 -3.058594 3.699219 -3.148438 3.882813 -3.335938 C 4.097656 -3.550781 4.207031 -3.863281 4.210938 -4.265625 C 4.207031 -4.628906 4.078125 -4.9375 3.828125 -5.195313 C 3.640625 -5.375 3.386719 -5.464844 3.0625 -5.46875 Z M 4.210938 -0.328125 C 3.332031 -0.363281 2.65625 -0.417969 2.1875 -0.492188 C 1.929688 -0.417969 1.75 -0.324219 1.640625 -0.21875 C 1.492188 -0.0703125 1.417969 0.0898438 1.421875 0.273438 C 1.417969 0.453125 1.492188 0.617188 1.640625 0.765625 C 1.859375 0.980469 2.332031 1.089844 3.0625 1.09375 C 4.042969 1.089844 4.664063 0.960938 4.921875 0.710938 C 5.066406 0.5625 5.136719 0.417969 5.140625 0.273438 C 5.136719 0.125 5.082031 0 4.976563 -0.109375 C 4.828125 -0.253906 4.574219 -0.328125 4.210938 -0.328125 Z M 4.210938 -0.328125 \"/>\n",
       "</symbol>\n",
       "</g>\n",
       "</defs>\n",
       "<g id=\"surface20\">\n",
       "<rect x=\"0\" y=\"0\" width=\"300\" height=\"300\" style=\"fill:rgb(100%,100%,100%);fill-opacity:1;stroke:none;\"/>\n",
       "<path style=\"fill:none;stroke-width:3;stroke-linecap:butt;stroke-linejoin:miter;stroke:rgb(26.666667%,26.666667%,26.666667%);stroke-opacity:1;stroke-miterlimit:10;\" d=\"M 194.136719 110.992188 L 280 69.925781 \"/>\n",
       "<path style=\"fill:none;stroke-width:1;stroke-linecap:butt;stroke-linejoin:miter;stroke:rgb(26.666667%,26.666667%,26.666667%);stroke-opacity:1;stroke-miterlimit:10;\" d=\"M 194.136719 110.992188 L 106.101563 89.890625 \"/>\n",
       "<path style=\"fill:none;stroke-width:3;stroke-linecap:butt;stroke-linejoin:miter;stroke:rgb(26.666667%,26.666667%,26.666667%);stroke-opacity:1;stroke-miterlimit:10;\" d=\"M 106.101563 89.890625 L 20 149.960938 \"/>\n",
       "<path style=\"fill:none;stroke-width:3;stroke-linecap:butt;stroke-linejoin:miter;stroke:rgb(26.666667%,26.666667%,26.666667%);stroke-opacity:1;stroke-miterlimit:10;\" d=\"M 20 149.960938 L 30.238281 20 \"/>\n",
       "<path style=\"fill:none;stroke-width:3;stroke-linecap:butt;stroke-linejoin:miter;stroke:rgb(26.666667%,26.666667%,26.666667%);stroke-opacity:1;stroke-miterlimit:10;\" d=\"M 106.101563 89.890625 L 30.238281 20 \"/>\n",
       "<path style=\"fill:none;stroke-width:1;stroke-linecap:butt;stroke-linejoin:miter;stroke:rgb(26.666667%,26.666667%,26.666667%);stroke-opacity:1;stroke-miterlimit:10;\" d=\"M 106.101563 89.890625 L 144.074219 220.75 \"/>\n",
       "<path style=\"fill:none;stroke-width:3;stroke-linecap:butt;stroke-linejoin:miter;stroke:rgb(26.666667%,26.666667%,26.666667%);stroke-opacity:1;stroke-miterlimit:10;\" d=\"M 194.136719 110.992188 L 144.074219 220.75 \"/>\n",
       "<path style=\"fill:none;stroke-width:1;stroke-linecap:butt;stroke-linejoin:miter;stroke:rgb(26.666667%,26.666667%,26.666667%);stroke-opacity:1;stroke-miterlimit:10;\" d=\"M 20 149.960938 L 58.277344 280 \"/>\n",
       "<path style=\"fill:none;stroke-width:1;stroke-linecap:butt;stroke-linejoin:miter;stroke:rgb(26.666667%,26.666667%,26.666667%);stroke-opacity:1;stroke-miterlimit:10;\" d=\"M 144.074219 220.75 L 58.277344 280 \"/>\n",
       "<path style=\"fill-rule:nonzero;fill:rgb(100%,75.294118%,79.607843%);fill-opacity:1;stroke-width:1;stroke-linecap:butt;stroke-linejoin:miter;stroke:rgb(0%,0%,0%);stroke-opacity:1;stroke-miterlimit:10;\" d=\"M 204.136719 110.992188 C 204.136719 116.511719 199.660156 120.992188 194.136719 120.992188 C 188.613281 120.992188 184.136719 116.511719 184.136719 110.992188 C 184.136719 105.46875 188.613281 100.992188 194.136719 100.992188 C 199.660156 100.992188 204.136719 105.46875 204.136719 110.992188 \"/>\n",
       "<path style=\"fill-rule:nonzero;fill:rgb(0%,0%,100%);fill-opacity:1;stroke-width:1;stroke-linecap:butt;stroke-linejoin:miter;stroke:rgb(0%,0%,0%);stroke-opacity:1;stroke-miterlimit:10;\" d=\"M 290 69.925781 C 290 75.449219 285.523438 79.925781 280 79.925781 C 274.476563 79.925781 270 75.449219 270 69.925781 C 270 64.402344 274.476563 59.925781 280 59.925781 C 285.523438 59.925781 290 64.402344 290 69.925781 \"/>\n",
       "<path style=\"fill-rule:nonzero;fill:rgb(100%,75.294118%,79.607843%);fill-opacity:1;stroke-width:1;stroke-linecap:butt;stroke-linejoin:miter;stroke:rgb(0%,0%,0%);stroke-opacity:1;stroke-miterlimit:10;\" d=\"M 116.101563 89.890625 C 116.101563 95.414063 111.625 99.890625 106.101563 99.890625 C 100.582031 99.890625 96.101563 95.414063 96.101563 89.890625 C 96.101563 84.367188 100.582031 79.890625 106.101563 79.890625 C 111.625 79.890625 116.101563 84.367188 116.101563 89.890625 \"/>\n",
       "<path style=\"fill-rule:nonzero;fill:rgb(0%,0%,100%);fill-opacity:1;stroke-width:1;stroke-linecap:butt;stroke-linejoin:miter;stroke:rgb(0%,0%,0%);stroke-opacity:1;stroke-miterlimit:10;\" d=\"M 30 149.960938 C 30 155.480469 25.523438 159.960938 20 159.960938 C 14.476563 159.960938 10 155.480469 10 149.960938 C 10 144.4375 14.476563 139.960938 20 139.960938 C 25.523438 139.960938 30 144.4375 30 149.960938 \"/>\n",
       "<path style=\"fill-rule:nonzero;fill:rgb(100%,75.294118%,79.607843%);fill-opacity:1;stroke-width:1;stroke-linecap:butt;stroke-linejoin:miter;stroke:rgb(0%,0%,0%);stroke-opacity:1;stroke-miterlimit:10;\" d=\"M 40.238281 20 C 40.238281 25.523438 35.761719 30 30.238281 30 C 24.714844 30 20.238281 25.523438 20.238281 20 C 20.238281 14.476563 24.714844 10 30.238281 10 C 35.761719 10 40.238281 14.476563 40.238281 20 \"/>\n",
       "<path style=\"fill-rule:nonzero;fill:rgb(0%,0%,100%);fill-opacity:1;stroke-width:1;stroke-linecap:butt;stroke-linejoin:miter;stroke:rgb(0%,0%,0%);stroke-opacity:1;stroke-miterlimit:10;\" d=\"M 154.074219 220.75 C 154.074219 226.273438 149.59375 230.75 144.074219 230.75 C 138.550781 230.75 134.074219 226.273438 134.074219 220.75 C 134.074219 215.226563 138.550781 210.75 144.074219 210.75 C 149.59375 210.75 154.074219 215.226563 154.074219 220.75 \"/>\n",
       "<path style=\"fill-rule:nonzero;fill:rgb(0%,0%,100%);fill-opacity:1;stroke-width:1;stroke-linecap:butt;stroke-linejoin:miter;stroke:rgb(0%,0%,0%);stroke-opacity:1;stroke-miterlimit:10;\" d=\"M 68.277344 280 C 68.277344 285.523438 63.800781 290 58.277344 290 C 52.753906 290 48.277344 285.523438 48.277344 280 C 48.277344 274.476563 52.753906 270 58.277344 270 C 63.800781 270 68.277344 274.476563 68.277344 280 \"/>\n",
       "<g style=\"fill:rgb(0%,0%,0%);fill-opacity:1;\">\n",
       "  <use xlink:href=\"#glyph0-1\" x=\"180\" y=\"116.804688\"/>\n",
       "  <use xlink:href=\"#glyph0-2\" x=\"188.859375\" y=\"116.804688\"/>\n",
       "  <use xlink:href=\"#glyph0-3\" x=\"191.8125\" y=\"116.804688\"/>\n",
       "  <use xlink:href=\"#glyph0-4\" x=\"194.765625\" y=\"116.804688\"/>\n",
       "  <use xlink:href=\"#glyph0-5\" x=\"201.765625\" y=\"116.804688\"/>\n",
       "</g>\n",
       "<g style=\"fill:rgb(0%,0%,0%);fill-opacity:1;\">\n",
       "  <use xlink:href=\"#glyph0-6\" x=\"268.40625\" y=\"75.683594\"/>\n",
       "  <use xlink:href=\"#glyph0-7\" x=\"277.320313\" y=\"75.683594\"/>\n",
       "  <use xlink:href=\"#glyph0-8\" x=\"284.429688\" y=\"75.683594\"/>\n",
       "</g>\n",
       "<g style=\"fill:rgb(0%,0%,0%);fill-opacity:1;\">\n",
       "  <use xlink:href=\"#glyph0-9\" x=\"89.175781\" y=\"95.703125\"/>\n",
       "  <use xlink:href=\"#glyph0-2\" x=\"98.472656\" y=\"95.703125\"/>\n",
       "  <use xlink:href=\"#glyph0-10\" x=\"101.425781\" y=\"95.703125\"/>\n",
       "  <use xlink:href=\"#glyph0-3\" x=\"108.097656\" y=\"95.703125\"/>\n",
       "  <use xlink:href=\"#glyph0-11\" x=\"111.050781\" y=\"95.703125\"/>\n",
       "  <use xlink:href=\"#glyph0-5\" x=\"115.917969\" y=\"95.703125\"/>\n",
       "</g>\n",
       "<g style=\"fill:rgb(0%,0%,0%);fill-opacity:1;\">\n",
       "  <use xlink:href=\"#glyph0-12\" x=\"0.121094\" y=\"155.71875\"/>\n",
       "  <use xlink:href=\"#glyph0-5\" x=\"9.199219\" y=\"155.71875\"/>\n",
       "  <use xlink:href=\"#glyph0-13\" x=\"16.199219\" y=\"155.71875\"/>\n",
       "  <use xlink:href=\"#glyph0-13\" x=\"23.199219\" y=\"155.71875\"/>\n",
       "  <use xlink:href=\"#glyph0-3\" x=\"30.199219\" y=\"155.71875\"/>\n",
       "  <use xlink:href=\"#glyph0-14\" x=\"33.152344\" y=\"155.71875\"/>\n",
       "</g>\n",
       "<g style=\"fill:rgb(0%,0%,0%);fill-opacity:1;\">\n",
       "  <use xlink:href=\"#glyph0-15\" x=\"10.714844\" y=\"25.757813\"/>\n",
       "  <use xlink:href=\"#glyph0-14\" x=\"18.644531\" y=\"25.757813\"/>\n",
       "  <use xlink:href=\"#glyph0-16\" x=\"25.097656\" y=\"25.757813\"/>\n",
       "  <use xlink:href=\"#glyph0-17\" x=\"30.019531\" y=\"25.757813\"/>\n",
       "  <use xlink:href=\"#glyph0-5\" x=\"37.019531\" y=\"25.757813\"/>\n",
       "  <use xlink:href=\"#glyph0-11\" x=\"44.019531\" y=\"25.757813\"/>\n",
       "</g>\n",
       "<g style=\"fill:rgb(0%,0%,0%);fill-opacity:1;\">\n",
       "  <use xlink:href=\"#glyph0-18\" x=\"127.257813\" y=\"226.507813\"/>\n",
       "  <use xlink:href=\"#glyph0-11\" x=\"134.96875\" y=\"226.507813\"/>\n",
       "  <use xlink:href=\"#glyph0-10\" x=\"139.835938\" y=\"226.507813\"/>\n",
       "  <use xlink:href=\"#glyph0-13\" x=\"146.507813\" y=\"226.507813\"/>\n",
       "  <use xlink:href=\"#glyph0-19\" x=\"153.507813\" y=\"226.507813\"/>\n",
       "</g>\n",
       "<g style=\"fill:rgb(0%,0%,0%);fill-opacity:1;\">\n",
       "  <use xlink:href=\"#glyph0-20\" x=\"37.195313\" y=\"285.8125\"/>\n",
       "  <use xlink:href=\"#glyph0-5\" x=\"46.710938\" y=\"285.8125\"/>\n",
       "  <use xlink:href=\"#glyph0-7\" x=\"53.710938\" y=\"285.8125\"/>\n",
       "  <use xlink:href=\"#glyph0-11\" x=\"60.820313\" y=\"285.8125\"/>\n",
       "  <use xlink:href=\"#glyph0-21\" x=\"65.6875\" y=\"285.8125\"/>\n",
       "  <use xlink:href=\"#glyph0-5\" x=\"72.140625\" y=\"285.8125\"/>\n",
       "</g>\n",
       "</g>\n",
       "</svg>\n"
      ],
      "text/plain": [
       "<igraph.drawing.Plot at 0x205a45fd5c8>"
      ]
     },
     "execution_count": 70,
     "metadata": {
      "image/svg+xml": {
       "isolated": true
      }
     },
     "output_type": "execute_result"
    }
   ],
   "source": [
    "visual_style = {}\n",
    "visual_style[\"vertex_size\"] = 20\n",
    "visual_style[\"vertex_color\"] = [color_dict[gender] for gender in g.vs[\"gender\"]]\n",
    "visual_style[\"vertex_label\"] = g.vs[\"name\"]\n",
    "visual_style[\"edge_width\"] = [1 + 2 * int(is_formal) for is_formal in g.es[\"is_formal\"]]\n",
    "visual_style[\"layout\"] = layout\n",
    "visual_style[\"bbox\"] = (300, 300)\n",
    "visual_style[\"margin\"] = 20\n",
    "igraph.plot(g, **visual_style)"
   ]
  },
  {
   "cell_type": "markdown",
   "metadata": {},
   "source": [
    "## Saving plots"
   ]
  },
  {
   "cell_type": "code",
   "execution_count": 71,
   "metadata": {},
   "outputs": [
    {
     "data": {
      "image/svg+xml": [
       "<?xml version=\"1.0\" encoding=\"UTF-8\"?>\n",
       "<svg xmlns=\"http://www.w3.org/2000/svg\" xmlns:xlink=\"http://www.w3.org/1999/xlink\" width=\"300pt\" height=\"300pt\" viewBox=\"0 0 300 300\" version=\"1.1\">\n",
       "<defs>\n",
       "<g>\n",
       "<symbol overflow=\"visible\" id=\"glyph0-0\">\n",
       "<path style=\"stroke:none;\" d=\"M 2.898438 -9.1875 L 2.898438 -0.820313 L 11.15625 -0.820313 L 11.15625 -9.1875 Z M 1.804688 -10.226563 L 12.25 -10.226563 L 12.25 0.21875 L 1.804688 0.21875 Z M 1.804688 -10.226563 \"/>\n",
       "</symbol>\n",
       "<symbol overflow=\"visible\" id=\"glyph0-1\">\n",
       "<path style=\"stroke:none;\" d=\"M 0.164063 -0.164063 L 3.882813 -9.625 L 4.976563 -9.625 L 8.695313 -0.164063 L 7.382813 -0.164063 L 6.234375 -3.007813 L 2.625 -3.007813 L 1.476563 -0.164063 Z M 4.429688 -7.820313 L 3.007813 -4.046875 L 5.851563 -4.046875 Z M 4.429688 -7.820313 \"/>\n",
       "</symbol>\n",
       "<symbol overflow=\"visible\" id=\"glyph0-2\">\n",
       "<path style=\"stroke:none;\" d=\"M 0.929688 -9.515625 L 2.023438 -9.515625 L 2.023438 -0.164063 L 0.929688 -0.164063 Z M 0.929688 -9.515625 \"/>\n",
       "</symbol>\n",
       "<symbol overflow=\"visible\" id=\"glyph0-3\">\n",
       "<path style=\"stroke:none;\" d=\"M 0.929688 -9.460938 L 2.023438 -9.460938 L 2.023438 -8.039063 L 0.929688 -8.039063 Z M 0.929688 -6.289063 L 2.023438 -6.289063 L 2.023438 -0.164063 L 0.929688 -0.164063 Z M 0.929688 -6.289063 \"/>\n",
       "</symbol>\n",
       "<symbol overflow=\"visible\" id=\"glyph0-4\">\n",
       "<path style=\"stroke:none;\" d=\"M 0.65625 -3.171875 C 0.65625 -4.152344 0.945313 -4.9375 1.53125 -5.523438 C 2.074219 -6.066406 2.75 -6.339844 3.554688 -6.34375 C 4.425781 -6.339844 5.082031 -6.121094 5.523438 -5.6875 C 5.921875 -5.285156 6.160156 -4.792969 6.234375 -4.210938 L 5.03125 -4.210938 C 4.992188 -4.5 4.847656 -4.773438 4.59375 -5.03125 C 4.375 -5.246094 4.046875 -5.355469 3.609375 -5.359375 C 3.171875 -5.355469 2.804688 -5.210938 2.515625 -4.921875 C 2.074219 -4.484375 1.855469 -3.882813 1.859375 -3.117188 C 1.855469 -2.386719 2.058594 -1.820313 2.460938 -1.421875 C 2.75 -1.128906 3.113281 -0.984375 3.554688 -0.984375 C 4.0625 -0.984375 4.464844 -1.128906 4.757813 -1.421875 C 5.046875 -1.710938 5.191406 -2.09375 5.195313 -2.570313 L 6.398438 -2.570313 C 6.359375 -1.800781 6.101563 -1.179688 5.632813 -0.710938 C 5.15625 -0.234375 4.464844 0 3.554688 0 C 2.785156 0 2.148438 -0.253906 1.640625 -0.765625 C 0.984375 -1.417969 0.65625 -2.21875 0.65625 -3.171875 Z M 0.65625 -3.171875 \"/>\n",
       "</symbol>\n",
       "<symbol overflow=\"visible\" id=\"glyph0-5\">\n",
       "<path style=\"stroke:none;\" d=\"M 0.65625 -3.226563 C 0.65625 -4.207031 0.964844 -5.007813 1.585938 -5.632813 C 2.09375 -6.140625 2.75 -6.398438 3.554688 -6.398438 C 4.316406 -6.398438 4.972656 -6.125 5.523438 -5.578125 C 6.03125 -5.066406 6.285156 -4.28125 6.289063 -3.226563 L 1.859375 -3.226563 C 1.855469 -2.457031 2.039063 -1.890625 2.40625 -1.53125 C 2.730469 -1.199219 3.148438 -1.035156 3.664063 -1.039063 C 4.171875 -1.035156 4.539063 -1.144531 4.757813 -1.367188 C 5.011719 -1.617188 5.136719 -1.910156 5.140625 -2.242188 L 6.34375 -2.242188 C 6.195313 -1.582031 5.957031 -1.089844 5.632813 -0.765625 C 5.15625 -0.289063 4.5 -0.0507813 3.664063 -0.0546875 C 2.785156 -0.0507813 2.074219 -0.324219 1.53125 -0.875 C 0.945313 -1.453125 0.65625 -2.238281 0.65625 -3.226563 Z M 3.5 -5.46875 C 3.058594 -5.464844 2.695313 -5.320313 2.40625 -5.03125 C 2.148438 -4.773438 1.984375 -4.464844 1.914063 -4.101563 L 5.03125 -4.101563 C 5.027344 -4.464844 4.882813 -4.792969 4.59375 -5.085938 C 4.335938 -5.339844 3.96875 -5.464844 3.5 -5.46875 Z M 3.5 -5.46875 \"/>\n",
       "</symbol>\n",
       "<symbol overflow=\"visible\" id=\"glyph0-6\">\n",
       "<path style=\"stroke:none;\" d=\"M 0.929688 -9.515625 L 5.304688 -9.515625 C 6.03125 -9.515625 6.632813 -9.277344 7.109375 -8.804688 C 7.542969 -8.363281 7.761719 -7.78125 7.765625 -7.054688 C 7.761719 -6.46875 7.5625 -5.976563 7.164063 -5.578125 C 6.941406 -5.359375 6.667969 -5.195313 6.34375 -5.085938 C 6.777344 -4.9375 7.125 -4.734375 7.382813 -4.484375 C 7.820313 -4.042969 8.039063 -3.496094 8.039063 -2.84375 C 8.039063 -2.039063 7.765625 -1.367188 7.21875 -0.820313 C 6.78125 -0.382813 6.125 -0.164063 5.25 -0.164063 L 0.929688 -0.164063 Z M 2.1875 -8.476563 L 2.1875 -5.578125 L 5.140625 -5.578125 C 5.5 -5.578125 5.8125 -5.703125 6.070313 -5.960938 C 6.359375 -6.25 6.503906 -6.632813 6.507813 -7.109375 C 6.503906 -7.507813 6.359375 -7.855469 6.070313 -8.148438 C 5.851563 -8.363281 5.578125 -8.472656 5.25 -8.476563 Z M 2.1875 -4.539063 L 2.1875 -1.203125 L 4.976563 -1.203125 C 5.519531 -1.199219 5.941406 -1.347656 6.234375 -1.640625 C 6.5625 -1.96875 6.726563 -2.367188 6.726563 -2.84375 C 6.726563 -3.351563 6.578125 -3.753906 6.289063 -4.046875 C 5.957031 -4.371094 5.519531 -4.535156 4.976563 -4.539063 Z M 2.1875 -4.539063 \"/>\n",
       "</symbol>\n",
       "<symbol overflow=\"visible\" id=\"glyph0-7\">\n",
       "<path style=\"stroke:none;\" d=\"M 0.601563 -3.226563 C 0.597656 -4.171875 0.90625 -4.957031 1.53125 -5.578125 C 2.074219 -6.125 2.75 -6.398438 3.554688 -6.398438 C 4.355469 -6.398438 5.03125 -6.125 5.578125 -5.578125 C 6.195313 -4.957031 6.503906 -4.171875 6.507813 -3.226563 C 6.503906 -2.277344 6.195313 -1.492188 5.578125 -0.875 C 5.03125 -0.324219 4.355469 -0.0507813 3.554688 -0.0546875 C 2.75 -0.0507813 2.074219 -0.324219 1.53125 -0.875 C 0.90625 -1.492188 0.597656 -2.277344 0.601563 -3.226563 Z M 3.554688 -5.414063 C 3.113281 -5.414063 2.75 -5.265625 2.460938 -4.976563 C 2.023438 -4.535156 1.804688 -3.953125 1.804688 -3.226563 C 1.804688 -2.496094 2.003906 -1.929688 2.40625 -1.53125 C 2.730469 -1.199219 3.113281 -1.035156 3.554688 -1.039063 C 3.988281 -1.035156 4.371094 -1.199219 4.703125 -1.53125 C 5.101563 -1.929688 5.300781 -2.496094 5.304688 -3.226563 C 5.300781 -3.953125 5.082031 -4.535156 4.648438 -4.976563 C 4.351563 -5.265625 3.988281 -5.414063 3.554688 -5.414063 Z M 3.554688 -5.414063 \"/>\n",
       "</symbol>\n",
       "<symbol overflow=\"visible\" id=\"glyph0-8\">\n",
       "<path style=\"stroke:none;\" d=\"M 0.710938 -9.515625 L 1.804688 -9.515625 L 1.804688 -5.578125 C 2.277344 -6.160156 2.859375 -6.449219 3.554688 -6.453125 C 4.28125 -6.449219 4.882813 -6.214844 5.359375 -5.742188 C 5.941406 -5.15625 6.234375 -4.316406 6.234375 -3.226563 C 6.234375 -2.167969 5.941406 -1.347656 5.359375 -0.765625 C 4.882813 -0.289063 4.261719 -0.0507813 3.5 -0.0546875 C 2.695313 -0.0507813 2.132813 -0.34375 1.804688 -0.929688 L 1.804688 -0.164063 L 0.710938 -0.164063 Z M 3.5 -5.46875 C 3.058594 -5.464844 2.660156 -5.285156 2.296875 -4.921875 C 1.96875 -4.59375 1.804688 -4.136719 1.804688 -3.554688 L 1.804688 -2.898438 C 1.804688 -2.347656 1.984375 -1.890625 2.351563 -1.53125 C 2.675781 -1.199219 3.058594 -1.035156 3.5 -1.039063 C 3.859375 -1.035156 4.171875 -1.164063 4.429688 -1.421875 C 4.828125 -1.820313 5.027344 -2.421875 5.03125 -3.226563 C 5.027344 -4.0625 4.84375 -4.664063 4.484375 -5.03125 C 4.1875 -5.320313 3.859375 -5.464844 3.5 -5.46875 Z M 3.5 -5.46875 \"/>\n",
       "</symbol>\n",
       "<symbol overflow=\"visible\" id=\"glyph0-9\">\n",
       "<path style=\"stroke:none;\" d=\"M 0.765625 -4.8125 C 0.761719 -6.414063 1.21875 -7.671875 2.132813 -8.585938 C 2.824219 -9.273438 3.714844 -9.621094 4.8125 -9.625 C 5.902344 -9.621094 6.761719 -9.3125 7.382813 -8.695313 C 8.039063 -8.039063 8.382813 -7.199219 8.421875 -6.179688 L 7.109375 -6.179688 C 7.03125 -6.941406 6.796875 -7.523438 6.398438 -7.929688 C 5.960938 -8.363281 5.429688 -8.582031 4.8125 -8.585938 C 4.152344 -8.582031 3.570313 -8.328125 3.0625 -7.820313 C 2.402344 -7.160156 2.074219 -6.15625 2.078125 -4.8125 C 2.074219 -3.460938 2.402344 -2.460938 3.0625 -1.804688 C 3.535156 -1.328125 4.117188 -1.089844 4.8125 -1.09375 C 5.539063 -1.089844 6.105469 -1.289063 6.507813 -1.695313 C 7.015625 -2.203125 7.269531 -2.933594 7.273438 -3.882813 L 8.585938 -3.882813 C 8.546875 -2.640625 8.183594 -1.675781 7.492188 -0.984375 C 6.871094 -0.363281 5.976563 -0.0507813 4.8125 -0.0546875 C 3.714844 -0.0507813 2.824219 -0.398438 2.132813 -1.09375 C 1.21875 -2.003906 0.761719 -3.242188 0.765625 -4.8125 Z M 0.765625 -4.8125 \"/>\n",
       "</symbol>\n",
       "<symbol overflow=\"visible\" id=\"glyph0-10\">\n",
       "<path style=\"stroke:none;\" d=\"M 0.765625 -4.484375 C 0.871094 -4.992188 1.109375 -5.429688 1.476563 -5.796875 C 1.875 -6.195313 2.457031 -6.398438 3.226563 -6.398438 C 4.136719 -6.398438 4.792969 -6.195313 5.195313 -5.796875 C 5.558594 -5.429688 5.742188 -5.011719 5.742188 -4.539063 L 5.742188 -1.09375 C 5.742188 -0.691406 5.886719 -0.382813 6.179688 -0.164063 L 4.867188 -0.164063 C 4.71875 -0.308594 4.644531 -0.542969 4.648438 -0.875 C 4.097656 -0.324219 3.40625 -0.0507813 2.570313 -0.0546875 C 1.875 -0.0507813 1.347656 -0.234375 0.984375 -0.601563 C 0.65625 -0.925781 0.492188 -1.308594 0.492188 -1.75 C 0.492188 -2.257813 0.65625 -2.675781 0.984375 -3.007813 C 1.347656 -3.367188 1.855469 -3.605469 2.515625 -3.71875 C 2.949219 -3.789063 3.332031 -3.878906 3.664063 -3.992188 C 4.132813 -4.097656 4.460938 -4.207031 4.648438 -4.320313 C 4.644531 -4.609375 4.535156 -4.867188 4.320313 -5.085938 C 4.097656 -5.304688 3.789063 -5.414063 3.390625 -5.414063 C 2.878906 -5.414063 2.515625 -5.304688 2.296875 -5.085938 C 2.148438 -4.9375 2.039063 -4.734375 1.96875 -4.484375 Z M 4.648438 -3.28125 C 4.425781 -3.207031 4.226563 -3.152344 4.046875 -3.117188 C 3.425781 -2.96875 2.953125 -2.859375 2.625 -2.789063 C 2.332031 -2.714844 2.113281 -2.605469 1.96875 -2.460938 C 1.785156 -2.277344 1.691406 -2.074219 1.695313 -1.859375 C 1.691406 -1.601563 1.785156 -1.382813 1.96875 -1.203125 C 2.078125 -1.089844 2.3125 -1.035156 2.679688 -1.039063 C 3.296875 -1.035156 3.808594 -1.238281 4.210938 -1.640625 C 4.464844 -1.894531 4.609375 -2.074219 4.648438 -2.1875 Z M 4.648438 -3.28125 \"/>\n",
       "</symbol>\n",
       "<symbol overflow=\"visible\" id=\"glyph0-11\">\n",
       "<path style=\"stroke:none;\" d=\"M 2.460938 -5.523438 C 3.042969 -6.105469 3.824219 -6.398438 4.8125 -6.398438 L 4.8125 -5.195313 C 4.664063 -5.230469 4.464844 -5.25 4.210938 -5.25 C 3.660156 -5.25 3.148438 -5.011719 2.679688 -4.539063 C 2.273438 -4.136719 2 -3.71875 1.859375 -3.28125 L 1.859375 -0.164063 L 0.765625 -0.164063 L 0.765625 -6.289063 L 1.859375 -6.289063 L 1.859375 -4.757813 C 2.039063 -5.046875 2.242188 -5.300781 2.460938 -5.523438 Z M 2.460938 -5.523438 \"/>\n",
       "</symbol>\n",
       "<symbol overflow=\"visible\" id=\"glyph0-12\">\n",
       "<path style=\"stroke:none;\" d=\"M 0.929688 -9.515625 L 4.210938 -9.515625 C 5.300781 -9.515625 6.230469 -9.132813 7 -8.367188 C 7.800781 -7.5625 8.203125 -6.359375 8.203125 -4.757813 C 8.203125 -3.226563 7.78125 -2.039063 6.945313 -1.203125 C 6.25 -0.507813 5.339844 -0.164063 4.210938 -0.164063 L 0.929688 -0.164063 Z M 2.1875 -8.476563 L 2.1875 -1.203125 L 4.15625 -1.203125 C 4.84375 -1.199219 5.410156 -1.417969 5.851563 -1.859375 C 6.542969 -2.546875 6.890625 -3.515625 6.890625 -4.757813 C 6.890625 -6.070313 6.5625 -7.054688 5.90625 -7.710938 C 5.394531 -8.21875 4.808594 -8.472656 4.15625 -8.476563 Z M 2.1875 -8.476563 \"/>\n",
       "</symbol>\n",
       "<symbol overflow=\"visible\" id=\"glyph0-13\">\n",
       "<path style=\"stroke:none;\" d=\"M 1.914063 -0.164063 L 0.820313 -0.164063 L 0.820313 -6.289063 L 1.914063 -6.289063 L 1.914063 -5.195313 C 2.566406 -5.996094 3.257813 -6.398438 3.992188 -6.398438 C 4.71875 -6.398438 5.304688 -6.179688 5.742188 -5.742188 C 6.03125 -5.449219 6.175781 -5.101563 6.179688 -4.703125 L 6.179688 -0.164063 L 5.085938 -0.164063 L 5.085938 -4.375 C 5.085938 -4.699219 4.976563 -4.972656 4.757813 -5.195313 C 4.539063 -5.410156 4.226563 -5.519531 3.828125 -5.523438 C 3.460938 -5.519531 3.097656 -5.335938 2.734375 -4.976563 C 2.183594 -4.425781 1.910156 -3.84375 1.914063 -3.226563 Z M 1.914063 -0.164063 \"/>\n",
       "</symbol>\n",
       "<symbol overflow=\"visible\" id=\"glyph0-14\">\n",
       "<path style=\"stroke:none;\" d=\"M 0.820313 -4.539063 C 0.820313 -5.011719 0.984375 -5.414063 1.3125 -5.742188 C 1.75 -6.179688 2.367188 -6.398438 3.171875 -6.398438 C 4.042969 -6.398438 4.683594 -6.195313 5.085938 -5.796875 C 5.449219 -5.429688 5.628906 -5.03125 5.632813 -4.59375 L 4.539063 -4.59375 C 4.5 -4.847656 4.425781 -5.027344 4.320313 -5.140625 C 4.097656 -5.355469 3.699219 -5.464844 3.117188 -5.46875 C 2.75 -5.464844 2.457031 -5.355469 2.242188 -5.140625 C 2.058594 -4.953125 1.96875 -4.753906 1.96875 -4.539063 C 1.96875 -4.390625 2.023438 -4.261719 2.132813 -4.15625 C 2.277344 -4.007813 2.730469 -3.84375 3.5 -3.664063 C 3.96875 -3.550781 4.371094 -3.441406 4.703125 -3.335938 C 4.992188 -3.222656 5.210938 -3.097656 5.359375 -2.953125 C 5.648438 -2.660156 5.792969 -2.3125 5.796875 -1.914063 C 5.792969 -1.472656 5.613281 -1.070313 5.25 -0.710938 C 4.8125 -0.269531 4.136719 -0.0507813 3.226563 -0.0546875 C 2.3125 -0.0507813 1.636719 -0.269531 1.203125 -0.710938 C 0.835938 -1.070313 0.65625 -1.527344 0.65625 -2.078125 L 1.75 -2.078125 C 1.785156 -1.746094 1.875 -1.507813 2.023438 -1.367188 C 2.273438 -1.109375 2.65625 -0.984375 3.171875 -0.984375 C 3.789063 -0.984375 4.210938 -1.09375 4.429688 -1.3125 C 4.574219 -1.457031 4.644531 -1.636719 4.648438 -1.859375 C 4.644531 -2 4.554688 -2.164063 4.375 -2.351563 C 4.226563 -2.492188 3.988281 -2.601563 3.664063 -2.679688 C 3.003906 -2.820313 2.511719 -2.949219 2.1875 -3.0625 C 1.78125 -3.167969 1.492188 -3.3125 1.3125 -3.5 C 0.984375 -3.824219 0.820313 -4.171875 0.820313 -4.539063 Z M 0.820313 -4.539063 \"/>\n",
       "</symbol>\n",
       "<symbol overflow=\"visible\" id=\"glyph0-15\">\n",
       "<path style=\"stroke:none;\" d=\"M 0.929688 -9.515625 L 6.945313 -9.515625 L 6.945313 -8.476563 L 2.1875 -8.476563 L 2.1875 -5.578125 L 6.617188 -5.578125 L 6.617188 -4.539063 L 2.1875 -4.539063 L 2.1875 -1.203125 L 7.21875 -1.203125 L 7.21875 -0.164063 L 0.929688 -0.164063 Z M 0.929688 -9.515625 \"/>\n",
       "</symbol>\n",
       "<symbol overflow=\"visible\" id=\"glyph0-16\">\n",
       "<path style=\"stroke:none;\" d=\"M 1.3125 -8.421875 L 2.40625 -8.421875 L 2.40625 -6.289063 L 4.265625 -6.289063 L 4.265625 -5.414063 L 2.40625 -5.414063 L 2.40625 -1.859375 C 2.402344 -1.636719 2.492188 -1.4375 2.679688 -1.257813 C 2.820313 -1.109375 3.058594 -1.035156 3.390625 -1.039063 C 3.898438 -1.035156 4.355469 -1.164063 4.757813 -1.421875 L 4.757813 -0.382813 C 4.355469 -0.160156 3.917969 -0.0507813 3.445313 -0.0546875 C 2.714844 -0.0507813 2.183594 -0.214844 1.859375 -0.546875 C 1.492188 -0.90625 1.3125 -1.308594 1.3125 -1.75 L 1.3125 -5.414063 L 0 -5.414063 L 0 -6.289063 L 1.3125 -6.289063 Z M 1.3125 -8.421875 \"/>\n",
       "</symbol>\n",
       "<symbol overflow=\"visible\" id=\"glyph0-17\">\n",
       "<path style=\"stroke:none;\" d=\"M 0.820313 -9.515625 L 1.914063 -9.515625 L 1.914063 -5.195313 C 2.53125 -5.996094 3.207031 -6.398438 3.9375 -6.398438 C 4.703125 -6.398438 5.265625 -6.214844 5.632813 -5.851563 C 5.992188 -5.484375 6.175781 -5.046875 6.179688 -4.539063 L 6.179688 -0.164063 L 5.085938 -0.164063 L 5.085938 -4.265625 C 5.085938 -4.664063 4.957031 -4.992188 4.703125 -5.25 C 4.519531 -5.429688 4.265625 -5.519531 3.9375 -5.523438 C 3.535156 -5.519531 3.167969 -5.355469 2.84375 -5.03125 C 2.4375 -4.628906 2.128906 -4.0625 1.914063 -3.335938 L 1.914063 -0.164063 L 0.820313 -0.164063 Z M 0.820313 -9.515625 \"/>\n",
       "</symbol>\n",
       "<symbol overflow=\"visible\" id=\"glyph0-18\">\n",
       "<path style=\"stroke:none;\" d=\"M 1.09375 -9.515625 L 7.382813 -9.515625 L 7.382813 -8.476563 L 2.351563 -8.476563 L 2.351563 -5.414063 L 6.289063 -5.414063 L 6.289063 -4.375 L 2.351563 -4.375 L 2.351563 -0.164063 L 1.09375 -0.164063 Z M 1.09375 -9.515625 \"/>\n",
       "</symbol>\n",
       "<symbol overflow=\"visible\" id=\"glyph0-19\">\n",
       "<path style=\"stroke:none;\" d=\"M 0.710938 -9.515625 L 1.804688 -9.515625 L 1.804688 -3.609375 L 4.484375 -6.289063 L 5.851563 -6.289063 L 3.773438 -4.210938 L 6.289063 -0.164063 L 5.140625 -0.164063 L 3.0625 -3.5 L 1.804688 -2.242188 L 1.804688 -0.164063 L 0.710938 -0.164063 Z M 0.710938 -9.515625 \"/>\n",
       "</symbol>\n",
       "<symbol overflow=\"visible\" id=\"glyph0-20\">\n",
       "<path style=\"stroke:none;\" d=\"M 0.875 -4.8125 C 0.871094 -6.414063 1.292969 -7.636719 2.132813 -8.476563 C 2.898438 -9.238281 3.828125 -9.621094 4.921875 -9.625 C 6.015625 -9.621094 6.90625 -9.273438 7.601563 -8.585938 C 8.179688 -8 8.492188 -7.289063 8.53125 -6.453125 L 7.21875 -6.453125 C 7.179688 -7.070313 6.960938 -7.582031 6.5625 -7.984375 C 6.160156 -8.382813 5.613281 -8.582031 4.921875 -8.585938 C 4.226563 -8.582031 3.640625 -8.347656 3.171875 -7.875 C 2.511719 -7.21875 2.183594 -6.195313 2.1875 -4.8125 C 2.183594 -3.496094 2.53125 -2.496094 3.226563 -1.804688 C 3.699219 -1.328125 4.355469 -1.089844 5.195313 -1.09375 C 5.8125 -1.089844 6.324219 -1.289063 6.726563 -1.695313 C 7.125 -2.09375 7.359375 -2.515625 7.4375 -2.953125 L 7.4375 -3.828125 L 5.851563 -3.828125 L 5.851563 -4.867188 L 8.695313 -4.867188 L 8.695313 -0.0546875 L 7.765625 -0.0546875 L 7.4375 -0.984375 C 6.8125 -0.363281 6.03125 -0.0507813 5.085938 -0.0546875 C 3.917969 -0.0507813 2.96875 -0.417969 2.242188 -1.148438 C 1.328125 -2.058594 0.871094 -3.277344 0.875 -4.8125 Z M 0.875 -4.8125 \"/>\n",
       "</symbol>\n",
       "<symbol overflow=\"visible\" id=\"glyph0-21\">\n",
       "<path style=\"stroke:none;\" d=\"M 0.929688 -4.265625 C 0.925781 -4.882813 1.125 -5.390625 1.53125 -5.796875 C 1.929688 -6.195313 2.441406 -6.398438 3.0625 -6.398438 C 3.644531 -6.398438 4.15625 -6.214844 4.59375 -5.851563 C 4.957031 -6.214844 5.394531 -6.398438 5.90625 -6.398438 L 6.398438 -6.398438 L 6.398438 -5.359375 C 5.960938 -5.539063 5.46875 -5.558594 4.921875 -5.414063 C 5.175781 -5.085938 5.300781 -4.703125 5.304688 -4.265625 C 5.300781 -3.609375 5.101563 -3.078125 4.703125 -2.679688 C 4.335938 -2.3125 3.808594 -2.132813 3.117188 -2.132813 C 2.75 -2.132813 2.367188 -2.222656 1.96875 -2.40625 C 1.785156 -2.257813 1.691406 -2.113281 1.695313 -1.96875 C 1.691406 -1.859375 1.730469 -1.765625 1.804688 -1.695313 C 1.984375 -1.507813 2.402344 -1.398438 3.0625 -1.367188 C 3.644531 -1.328125 4.265625 -1.292969 4.921875 -1.257813 C 5.285156 -1.183594 5.558594 -1.054688 5.742188 -0.875 C 6.03125 -0.578125 6.175781 -0.234375 6.179688 0.164063 C 6.175781 0.601563 6.03125 0.964844 5.742188 1.257813 C 5.339844 1.65625 4.464844 1.855469 3.117188 1.859375 C 1.984375 1.855469 1.21875 1.65625 0.820313 1.257813 C 0.5625 1 0.433594 0.691406 0.4375 0.328125 C 0.433594 0.0742188 0.523438 -0.144531 0.710938 -0.328125 C 0.851563 -0.472656 1.070313 -0.617188 1.367188 -0.765625 C 1.253906 -0.835938 1.128906 -0.945313 0.984375 -1.09375 C 0.800781 -1.273438 0.707031 -1.511719 0.710938 -1.804688 C 0.707031 -2.167969 0.980469 -2.511719 1.53125 -2.84375 C 1.125 -3.242188 0.925781 -3.71875 0.929688 -4.265625 Z M 3.0625 -5.46875 C 2.804688 -5.464844 2.585938 -5.375 2.40625 -5.195313 C 2.148438 -4.9375 2.019531 -4.628906 2.023438 -4.265625 C 2.019531 -3.898438 2.128906 -3.605469 2.351563 -3.390625 C 2.566406 -3.167969 2.824219 -3.058594 3.117188 -3.0625 C 3.445313 -3.058594 3.699219 -3.148438 3.882813 -3.335938 C 4.097656 -3.550781 4.207031 -3.863281 4.210938 -4.265625 C 4.207031 -4.628906 4.078125 -4.9375 3.828125 -5.195313 C 3.640625 -5.375 3.386719 -5.464844 3.0625 -5.46875 Z M 4.210938 -0.328125 C 3.332031 -0.363281 2.65625 -0.417969 2.1875 -0.492188 C 1.929688 -0.417969 1.75 -0.324219 1.640625 -0.21875 C 1.492188 -0.0703125 1.417969 0.0898438 1.421875 0.273438 C 1.417969 0.453125 1.492188 0.617188 1.640625 0.765625 C 1.859375 0.980469 2.332031 1.089844 3.0625 1.09375 C 4.042969 1.089844 4.664063 0.960938 4.921875 0.710938 C 5.066406 0.5625 5.136719 0.417969 5.140625 0.273438 C 5.136719 0.125 5.082031 0 4.976563 -0.109375 C 4.828125 -0.253906 4.574219 -0.328125 4.210938 -0.328125 Z M 4.210938 -0.328125 \"/>\n",
       "</symbol>\n",
       "</g>\n",
       "</defs>\n",
       "<g id=\"surface30\">\n",
       "<rect x=\"0\" y=\"0\" width=\"300\" height=\"300\" style=\"fill:rgb(100%,100%,100%);fill-opacity:1;stroke:none;\"/>\n",
       "<path style=\"fill:none;stroke-width:3;stroke-linecap:butt;stroke-linejoin:miter;stroke:rgb(26.666667%,26.666667%,26.666667%);stroke-opacity:1;stroke-miterlimit:10;\" d=\"M 194.136719 110.992188 L 280 69.925781 \"/>\n",
       "<path style=\"fill:none;stroke-width:1;stroke-linecap:butt;stroke-linejoin:miter;stroke:rgb(26.666667%,26.666667%,26.666667%);stroke-opacity:1;stroke-miterlimit:10;\" d=\"M 194.136719 110.992188 L 106.101563 89.890625 \"/>\n",
       "<path style=\"fill:none;stroke-width:3;stroke-linecap:butt;stroke-linejoin:miter;stroke:rgb(26.666667%,26.666667%,26.666667%);stroke-opacity:1;stroke-miterlimit:10;\" d=\"M 106.101563 89.890625 L 20 149.960938 \"/>\n",
       "<path style=\"fill:none;stroke-width:3;stroke-linecap:butt;stroke-linejoin:miter;stroke:rgb(26.666667%,26.666667%,26.666667%);stroke-opacity:1;stroke-miterlimit:10;\" d=\"M 20 149.960938 L 30.238281 20 \"/>\n",
       "<path style=\"fill:none;stroke-width:3;stroke-linecap:butt;stroke-linejoin:miter;stroke:rgb(26.666667%,26.666667%,26.666667%);stroke-opacity:1;stroke-miterlimit:10;\" d=\"M 106.101563 89.890625 L 30.238281 20 \"/>\n",
       "<path style=\"fill:none;stroke-width:1;stroke-linecap:butt;stroke-linejoin:miter;stroke:rgb(26.666667%,26.666667%,26.666667%);stroke-opacity:1;stroke-miterlimit:10;\" d=\"M 106.101563 89.890625 L 144.074219 220.75 \"/>\n",
       "<path style=\"fill:none;stroke-width:3;stroke-linecap:butt;stroke-linejoin:miter;stroke:rgb(26.666667%,26.666667%,26.666667%);stroke-opacity:1;stroke-miterlimit:10;\" d=\"M 194.136719 110.992188 L 144.074219 220.75 \"/>\n",
       "<path style=\"fill:none;stroke-width:1;stroke-linecap:butt;stroke-linejoin:miter;stroke:rgb(26.666667%,26.666667%,26.666667%);stroke-opacity:1;stroke-miterlimit:10;\" d=\"M 20 149.960938 L 58.277344 280 \"/>\n",
       "<path style=\"fill:none;stroke-width:1;stroke-linecap:butt;stroke-linejoin:miter;stroke:rgb(26.666667%,26.666667%,26.666667%);stroke-opacity:1;stroke-miterlimit:10;\" d=\"M 144.074219 220.75 L 58.277344 280 \"/>\n",
       "<path style=\"fill-rule:nonzero;fill:rgb(100%,75.294118%,79.607843%);fill-opacity:1;stroke-width:1;stroke-linecap:butt;stroke-linejoin:miter;stroke:rgb(0%,0%,0%);stroke-opacity:1;stroke-miterlimit:10;\" d=\"M 204.136719 110.992188 C 204.136719 116.511719 199.660156 120.992188 194.136719 120.992188 C 188.613281 120.992188 184.136719 116.511719 184.136719 110.992188 C 184.136719 105.46875 188.613281 100.992188 194.136719 100.992188 C 199.660156 100.992188 204.136719 105.46875 204.136719 110.992188 \"/>\n",
       "<path style=\"fill-rule:nonzero;fill:rgb(0%,0%,100%);fill-opacity:1;stroke-width:1;stroke-linecap:butt;stroke-linejoin:miter;stroke:rgb(0%,0%,0%);stroke-opacity:1;stroke-miterlimit:10;\" d=\"M 290 69.925781 C 290 75.449219 285.523438 79.925781 280 79.925781 C 274.476563 79.925781 270 75.449219 270 69.925781 C 270 64.402344 274.476563 59.925781 280 59.925781 C 285.523438 59.925781 290 64.402344 290 69.925781 \"/>\n",
       "<path style=\"fill-rule:nonzero;fill:rgb(100%,75.294118%,79.607843%);fill-opacity:1;stroke-width:1;stroke-linecap:butt;stroke-linejoin:miter;stroke:rgb(0%,0%,0%);stroke-opacity:1;stroke-miterlimit:10;\" d=\"M 116.101563 89.890625 C 116.101563 95.414063 111.625 99.890625 106.101563 99.890625 C 100.582031 99.890625 96.101563 95.414063 96.101563 89.890625 C 96.101563 84.367188 100.582031 79.890625 106.101563 79.890625 C 111.625 79.890625 116.101563 84.367188 116.101563 89.890625 \"/>\n",
       "<path style=\"fill-rule:nonzero;fill:rgb(0%,0%,100%);fill-opacity:1;stroke-width:1;stroke-linecap:butt;stroke-linejoin:miter;stroke:rgb(0%,0%,0%);stroke-opacity:1;stroke-miterlimit:10;\" d=\"M 30 149.960938 C 30 155.480469 25.523438 159.960938 20 159.960938 C 14.476563 159.960938 10 155.480469 10 149.960938 C 10 144.4375 14.476563 139.960938 20 139.960938 C 25.523438 139.960938 30 144.4375 30 149.960938 \"/>\n",
       "<path style=\"fill-rule:nonzero;fill:rgb(100%,75.294118%,79.607843%);fill-opacity:1;stroke-width:1;stroke-linecap:butt;stroke-linejoin:miter;stroke:rgb(0%,0%,0%);stroke-opacity:1;stroke-miterlimit:10;\" d=\"M 40.238281 20 C 40.238281 25.523438 35.761719 30 30.238281 30 C 24.714844 30 20.238281 25.523438 20.238281 20 C 20.238281 14.476563 24.714844 10 30.238281 10 C 35.761719 10 40.238281 14.476563 40.238281 20 \"/>\n",
       "<path style=\"fill-rule:nonzero;fill:rgb(0%,0%,100%);fill-opacity:1;stroke-width:1;stroke-linecap:butt;stroke-linejoin:miter;stroke:rgb(0%,0%,0%);stroke-opacity:1;stroke-miterlimit:10;\" d=\"M 154.074219 220.75 C 154.074219 226.273438 149.59375 230.75 144.074219 230.75 C 138.550781 230.75 134.074219 226.273438 134.074219 220.75 C 134.074219 215.226563 138.550781 210.75 144.074219 210.75 C 149.59375 210.75 154.074219 215.226563 154.074219 220.75 \"/>\n",
       "<path style=\"fill-rule:nonzero;fill:rgb(0%,0%,100%);fill-opacity:1;stroke-width:1;stroke-linecap:butt;stroke-linejoin:miter;stroke:rgb(0%,0%,0%);stroke-opacity:1;stroke-miterlimit:10;\" d=\"M 68.277344 280 C 68.277344 285.523438 63.800781 290 58.277344 290 C 52.753906 290 48.277344 285.523438 48.277344 280 C 48.277344 274.476563 52.753906 270 58.277344 270 C 63.800781 270 68.277344 274.476563 68.277344 280 \"/>\n",
       "<g style=\"fill:rgb(0%,0%,0%);fill-opacity:1;\">\n",
       "  <use xlink:href=\"#glyph0-1\" x=\"180\" y=\"116.804688\"/>\n",
       "  <use xlink:href=\"#glyph0-2\" x=\"188.859375\" y=\"116.804688\"/>\n",
       "  <use xlink:href=\"#glyph0-3\" x=\"191.8125\" y=\"116.804688\"/>\n",
       "  <use xlink:href=\"#glyph0-4\" x=\"194.765625\" y=\"116.804688\"/>\n",
       "  <use xlink:href=\"#glyph0-5\" x=\"201.765625\" y=\"116.804688\"/>\n",
       "</g>\n",
       "<g style=\"fill:rgb(0%,0%,0%);fill-opacity:1;\">\n",
       "  <use xlink:href=\"#glyph0-6\" x=\"268.40625\" y=\"75.683594\"/>\n",
       "  <use xlink:href=\"#glyph0-7\" x=\"277.320313\" y=\"75.683594\"/>\n",
       "  <use xlink:href=\"#glyph0-8\" x=\"284.429688\" y=\"75.683594\"/>\n",
       "</g>\n",
       "<g style=\"fill:rgb(0%,0%,0%);fill-opacity:1;\">\n",
       "  <use xlink:href=\"#glyph0-9\" x=\"89.175781\" y=\"95.703125\"/>\n",
       "  <use xlink:href=\"#glyph0-2\" x=\"98.472656\" y=\"95.703125\"/>\n",
       "  <use xlink:href=\"#glyph0-10\" x=\"101.425781\" y=\"95.703125\"/>\n",
       "  <use xlink:href=\"#glyph0-3\" x=\"108.097656\" y=\"95.703125\"/>\n",
       "  <use xlink:href=\"#glyph0-11\" x=\"111.050781\" y=\"95.703125\"/>\n",
       "  <use xlink:href=\"#glyph0-5\" x=\"115.917969\" y=\"95.703125\"/>\n",
       "</g>\n",
       "<g style=\"fill:rgb(0%,0%,0%);fill-opacity:1;\">\n",
       "  <use xlink:href=\"#glyph0-12\" x=\"0.121094\" y=\"155.71875\"/>\n",
       "  <use xlink:href=\"#glyph0-5\" x=\"9.199219\" y=\"155.71875\"/>\n",
       "  <use xlink:href=\"#glyph0-13\" x=\"16.199219\" y=\"155.71875\"/>\n",
       "  <use xlink:href=\"#glyph0-13\" x=\"23.199219\" y=\"155.71875\"/>\n",
       "  <use xlink:href=\"#glyph0-3\" x=\"30.199219\" y=\"155.71875\"/>\n",
       "  <use xlink:href=\"#glyph0-14\" x=\"33.152344\" y=\"155.71875\"/>\n",
       "</g>\n",
       "<g style=\"fill:rgb(0%,0%,0%);fill-opacity:1;\">\n",
       "  <use xlink:href=\"#glyph0-15\" x=\"10.714844\" y=\"25.757813\"/>\n",
       "  <use xlink:href=\"#glyph0-14\" x=\"18.644531\" y=\"25.757813\"/>\n",
       "  <use xlink:href=\"#glyph0-16\" x=\"25.097656\" y=\"25.757813\"/>\n",
       "  <use xlink:href=\"#glyph0-17\" x=\"30.019531\" y=\"25.757813\"/>\n",
       "  <use xlink:href=\"#glyph0-5\" x=\"37.019531\" y=\"25.757813\"/>\n",
       "  <use xlink:href=\"#glyph0-11\" x=\"44.019531\" y=\"25.757813\"/>\n",
       "</g>\n",
       "<g style=\"fill:rgb(0%,0%,0%);fill-opacity:1;\">\n",
       "  <use xlink:href=\"#glyph0-18\" x=\"127.257813\" y=\"226.507813\"/>\n",
       "  <use xlink:href=\"#glyph0-11\" x=\"134.96875\" y=\"226.507813\"/>\n",
       "  <use xlink:href=\"#glyph0-10\" x=\"139.835938\" y=\"226.507813\"/>\n",
       "  <use xlink:href=\"#glyph0-13\" x=\"146.507813\" y=\"226.507813\"/>\n",
       "  <use xlink:href=\"#glyph0-19\" x=\"153.507813\" y=\"226.507813\"/>\n",
       "</g>\n",
       "<g style=\"fill:rgb(0%,0%,0%);fill-opacity:1;\">\n",
       "  <use xlink:href=\"#glyph0-20\" x=\"37.195313\" y=\"285.8125\"/>\n",
       "  <use xlink:href=\"#glyph0-5\" x=\"46.710938\" y=\"285.8125\"/>\n",
       "  <use xlink:href=\"#glyph0-7\" x=\"53.710938\" y=\"285.8125\"/>\n",
       "  <use xlink:href=\"#glyph0-11\" x=\"60.820313\" y=\"285.8125\"/>\n",
       "  <use xlink:href=\"#glyph0-21\" x=\"65.6875\" y=\"285.8125\"/>\n",
       "  <use xlink:href=\"#glyph0-5\" x=\"72.140625\" y=\"285.8125\"/>\n",
       "</g>\n",
       "</g>\n",
       "</svg>\n"
      ],
      "text/plain": [
       "<igraph.drawing.Plot at 0x205ae4bcc88>"
      ]
     },
     "execution_count": 71,
     "metadata": {
      "image/svg+xml": {
       "isolated": true
      }
     },
     "output_type": "execute_result"
    }
   ],
   "source": [
    "igraph.plot(g, \"social_network.pdf\", **visual_style)"
   ]
  },
  {
   "cell_type": "markdown",
   "metadata": {},
   "source": [
    "## igraph and the outside world"
   ]
  },
  {
   "cell_type": "code",
   "execution_count": 72,
   "metadata": {},
   "outputs": [
    {
     "ename": "FileNotFoundError",
     "evalue": "[Errno 2] No such file or directory: 'karate.GraphML'",
     "output_type": "error",
     "traceback": [
      "\u001b[1;31m---------------------------------------------------------------------------\u001b[0m",
      "\u001b[1;31mFileNotFoundError\u001b[0m                         Traceback (most recent call last)",
      "\u001b[1;32m<ipython-input-72-eaf92090fa77>\u001b[0m in \u001b[0;36m<module>\u001b[1;34m\u001b[0m\n\u001b[1;32m----> 1\u001b[1;33m \u001b[0mkarate\u001b[0m \u001b[1;33m=\u001b[0m \u001b[0migraph\u001b[0m\u001b[1;33m.\u001b[0m\u001b[0mGraph\u001b[0m\u001b[1;33m.\u001b[0m\u001b[0mRead_GraphML\u001b[0m\u001b[1;33m(\u001b[0m\u001b[1;34m\"karate.GraphML\"\u001b[0m\u001b[1;33m)\u001b[0m\u001b[1;33m\u001b[0m\u001b[1;33m\u001b[0m\u001b[0m\n\u001b[0m\u001b[0;32m      2\u001b[0m \u001b[0msummary\u001b[0m\u001b[1;33m(\u001b[0m\u001b[0mkarate\u001b[0m\u001b[1;33m)\u001b[0m\u001b[1;33m\u001b[0m\u001b[1;33m\u001b[0m\u001b[0m\n",
      "\u001b[1;31mFileNotFoundError\u001b[0m: [Errno 2] No such file or directory: 'karate.GraphML'"
     ]
    }
   ],
   "source": [
    "karate = igraph.Graph.Read_GraphML(\"karate.GraphML\")\n",
    "summary(karate)"
   ]
  },
  {
   "cell_type": "code",
   "execution_count": 73,
   "metadata": {},
   "outputs": [
    {
     "ename": "NameError",
     "evalue": "name 'karate' is not defined",
     "output_type": "error",
     "traceback": [
      "\u001b[1;31m---------------------------------------------------------------------------\u001b[0m",
      "\u001b[1;31mNameError\u001b[0m                                 Traceback (most recent call last)",
      "\u001b[1;32m<ipython-input-73-eaee9343dac2>\u001b[0m in \u001b[0;36m<module>\u001b[1;34m\u001b[0m\n\u001b[1;32m----> 1\u001b[1;33m \u001b[0mkarate\u001b[0m\u001b[1;33m.\u001b[0m\u001b[0mwrite_pajek\u001b[0m\u001b[1;33m(\u001b[0m\u001b[1;34m\"karate.net\"\u001b[0m\u001b[1;33m)\u001b[0m\u001b[1;33m\u001b[0m\u001b[1;33m\u001b[0m\u001b[0m\n\u001b[0m",
      "\u001b[1;31mNameError\u001b[0m: name 'karate' is not defined"
     ]
    }
   ],
   "source": [
    "karate.write_pajek(\"karate.net\")"
   ]
  },
  {
   "cell_type": "code",
   "execution_count": 74,
   "metadata": {},
   "outputs": [
    {
     "ename": "NameError",
     "evalue": "name 'load' is not defined",
     "output_type": "error",
     "traceback": [
      "\u001b[1;31m---------------------------------------------------------------------------\u001b[0m",
      "\u001b[1;31mNameError\u001b[0m                                 Traceback (most recent call last)",
      "\u001b[1;32m<ipython-input-74-e9e88b2d31c5>\u001b[0m in \u001b[0;36m<module>\u001b[1;34m\u001b[0m\n\u001b[1;32m----> 1\u001b[1;33m \u001b[0mkarate\u001b[0m \u001b[1;33m=\u001b[0m \u001b[0mload\u001b[0m\u001b[1;33m(\u001b[0m\u001b[1;34m\"karate.GraphML\"\u001b[0m\u001b[1;33m)\u001b[0m\u001b[1;33m\u001b[0m\u001b[1;33m\u001b[0m\u001b[0m\n\u001b[0m",
      "\u001b[1;31mNameError\u001b[0m: name 'load' is not defined"
     ]
    }
   ],
   "source": [
    "karate = load(\"karate.GraphML\")"
   ]
  },
  {
   "cell_type": "code",
   "execution_count": 75,
   "metadata": {},
   "outputs": [
    {
     "ename": "NameError",
     "evalue": "name 'karate' is not defined",
     "output_type": "error",
     "traceback": [
      "\u001b[1;31m---------------------------------------------------------------------------\u001b[0m",
      "\u001b[1;31mNameError\u001b[0m                                 Traceback (most recent call last)",
      "\u001b[1;32m<ipython-input-75-1c6dfec5d065>\u001b[0m in \u001b[0;36m<module>\u001b[1;34m\u001b[0m\n\u001b[1;32m----> 1\u001b[1;33m \u001b[0mkarate\u001b[0m\u001b[1;33m.\u001b[0m\u001b[0msave\u001b[0m\u001b[1;33m(\u001b[0m\u001b[1;34m\"karate.net\"\u001b[0m\u001b[1;33m)\u001b[0m\u001b[1;33m\u001b[0m\u001b[1;33m\u001b[0m\u001b[0m\n\u001b[0m",
      "\u001b[1;31mNameError\u001b[0m: name 'karate' is not defined"
     ]
    }
   ],
   "source": [
    "karate.save(\"karate.net\")"
   ]
  },
  {
   "cell_type": "code",
   "execution_count": 76,
   "metadata": {},
   "outputs": [
    {
     "ename": "NameError",
     "evalue": "name 'karate' is not defined",
     "output_type": "error",
     "traceback": [
      "\u001b[1;31m---------------------------------------------------------------------------\u001b[0m",
      "\u001b[1;31mNameError\u001b[0m                                 Traceback (most recent call last)",
      "\u001b[1;32m<ipython-input-76-3945cc179925>\u001b[0m in \u001b[0;36m<module>\u001b[1;34m\u001b[0m\n\u001b[1;32m----> 1\u001b[1;33m \u001b[0mkarate\u001b[0m\u001b[1;33m.\u001b[0m\u001b[0msave\u001b[0m\u001b[1;33m(\u001b[0m\u001b[1;34m\"karate.my_extension\"\u001b[0m\u001b[1;33m,\u001b[0m \u001b[0mformat\u001b[0m\u001b[1;33m=\u001b[0m\u001b[1;34m\"gml\"\u001b[0m\u001b[1;33m)\u001b[0m\u001b[1;33m\u001b[0m\u001b[1;33m\u001b[0m\u001b[0m\n\u001b[0m",
      "\u001b[1;31mNameError\u001b[0m: name 'karate' is not defined"
     ]
    }
   ],
   "source": [
    "karate.save(\"karate.my_extension\", format=\"gml\")"
   ]
  },
  {
   "cell_type": "code",
   "execution_count": null,
   "metadata": {},
   "outputs": [],
   "source": []
  }
 ],
 "metadata": {
  "kernelspec": {
   "display_name": "Python 3.7.4 64-bit ('py37': conda)",
   "language": "python",
   "name": "python37464bitpy37conda1eeeefff7a8e49da8927e717b7b548c7"
  },
  "language_info": {
   "codemirror_mode": {
    "name": "ipython",
    "version": 3
   },
   "file_extension": ".py",
   "mimetype": "text/x-python",
   "name": "python",
   "nbconvert_exporter": "python",
   "pygments_lexer": "ipython3",
   "version": "3.7.4"
  }
 },
 "nbformat": 4,
 "nbformat_minor": 2
}
