{
 "cells": [
  {
   "cell_type": "markdown",
   "metadata": {},
   "source": [
    "# Chainerで回帰"
   ]
  },
  {
   "cell_type": "markdown",
   "metadata": {},
   "source": [
    "## 必要なモジュールの読み込み"
   ]
  },
  {
   "cell_type": "code",
   "execution_count": 1,
   "metadata": {},
   "outputs": [],
   "source": [
    "%matplotlib inline\n",
    "import numpy as np\n",
    "import pandas as pd\n",
    "import matplotlib.pyplot as plt"
   ]
  },
  {
   "cell_type": "code",
   "execution_count": 2,
   "metadata": {},
   "outputs": [],
   "source": [
    "df = pd.read_csv('housing.csv')"
   ]
  },
  {
   "cell_type": "code",
   "execution_count": 3,
   "metadata": {},
   "outputs": [
    {
     "data": {
      "text/html": [
       "<div>\n",
       "<style scoped>\n",
       "    .dataframe tbody tr th:only-of-type {\n",
       "        vertical-align: middle;\n",
       "    }\n",
       "\n",
       "    .dataframe tbody tr th {\n",
       "        vertical-align: top;\n",
       "    }\n",
       "\n",
       "    .dataframe thead th {\n",
       "        text-align: right;\n",
       "    }\n",
       "</style>\n",
       "<table border=\"1\" class=\"dataframe\">\n",
       "  <thead>\n",
       "    <tr style=\"text-align: right;\">\n",
       "      <th></th>\n",
       "      <th>x1</th>\n",
       "      <th>x2</th>\n",
       "      <th>x3</th>\n",
       "      <th>x4</th>\n",
       "      <th>x5</th>\n",
       "      <th>x6</th>\n",
       "      <th>x7</th>\n",
       "      <th>x8</th>\n",
       "      <th>x9</th>\n",
       "      <th>x10</th>\n",
       "      <th>x11</th>\n",
       "      <th>x12</th>\n",
       "      <th>x13</th>\n",
       "      <th>y</th>\n",
       "    </tr>\n",
       "  </thead>\n",
       "  <tbody>\n",
       "    <tr>\n",
       "      <th>0</th>\n",
       "      <td>0.00632</td>\n",
       "      <td>18.0</td>\n",
       "      <td>2.31</td>\n",
       "      <td>0</td>\n",
       "      <td>0.538</td>\n",
       "      <td>6.575</td>\n",
       "      <td>65.2</td>\n",
       "      <td>4.0900</td>\n",
       "      <td>1</td>\n",
       "      <td>296</td>\n",
       "      <td>15.3</td>\n",
       "      <td>396.90</td>\n",
       "      <td>4.98</td>\n",
       "      <td>24.0</td>\n",
       "    </tr>\n",
       "    <tr>\n",
       "      <th>1</th>\n",
       "      <td>0.02731</td>\n",
       "      <td>0.0</td>\n",
       "      <td>7.07</td>\n",
       "      <td>0</td>\n",
       "      <td>0.469</td>\n",
       "      <td>6.421</td>\n",
       "      <td>78.9</td>\n",
       "      <td>4.9671</td>\n",
       "      <td>2</td>\n",
       "      <td>242</td>\n",
       "      <td>17.8</td>\n",
       "      <td>396.90</td>\n",
       "      <td>9.14</td>\n",
       "      <td>21.6</td>\n",
       "    </tr>\n",
       "    <tr>\n",
       "      <th>2</th>\n",
       "      <td>0.02729</td>\n",
       "      <td>0.0</td>\n",
       "      <td>7.07</td>\n",
       "      <td>0</td>\n",
       "      <td>0.469</td>\n",
       "      <td>7.185</td>\n",
       "      <td>61.1</td>\n",
       "      <td>4.9671</td>\n",
       "      <td>2</td>\n",
       "      <td>242</td>\n",
       "      <td>17.8</td>\n",
       "      <td>392.83</td>\n",
       "      <td>4.03</td>\n",
       "      <td>34.7</td>\n",
       "    </tr>\n",
       "    <tr>\n",
       "      <th>3</th>\n",
       "      <td>0.03237</td>\n",
       "      <td>0.0</td>\n",
       "      <td>2.18</td>\n",
       "      <td>0</td>\n",
       "      <td>0.458</td>\n",
       "      <td>6.998</td>\n",
       "      <td>45.8</td>\n",
       "      <td>6.0622</td>\n",
       "      <td>3</td>\n",
       "      <td>222</td>\n",
       "      <td>18.7</td>\n",
       "      <td>394.63</td>\n",
       "      <td>2.94</td>\n",
       "      <td>33.4</td>\n",
       "    </tr>\n",
       "    <tr>\n",
       "      <th>4</th>\n",
       "      <td>0.06905</td>\n",
       "      <td>0.0</td>\n",
       "      <td>2.18</td>\n",
       "      <td>0</td>\n",
       "      <td>0.458</td>\n",
       "      <td>7.147</td>\n",
       "      <td>54.2</td>\n",
       "      <td>6.0622</td>\n",
       "      <td>3</td>\n",
       "      <td>222</td>\n",
       "      <td>18.7</td>\n",
       "      <td>396.90</td>\n",
       "      <td>5.33</td>\n",
       "      <td>36.2</td>\n",
       "    </tr>\n",
       "  </tbody>\n",
       "</table>\n",
       "</div>"
      ],
      "text/plain": [
       "        x1    x2    x3  x4     x5     x6    x7      x8  x9  x10   x11     x12  \\\n",
       "0  0.00632  18.0  2.31   0  0.538  6.575  65.2  4.0900   1  296  15.3  396.90   \n",
       "1  0.02731   0.0  7.07   0  0.469  6.421  78.9  4.9671   2  242  17.8  396.90   \n",
       "2  0.02729   0.0  7.07   0  0.469  7.185  61.1  4.9671   2  242  17.8  392.83   \n",
       "3  0.03237   0.0  2.18   0  0.458  6.998  45.8  6.0622   3  222  18.7  394.63   \n",
       "4  0.06905   0.0  2.18   0  0.458  7.147  54.2  6.0622   3  222  18.7  396.90   \n",
       "\n",
       "    x13     y  \n",
       "0  4.98  24.0  \n",
       "1  9.14  21.6  \n",
       "2  4.03  34.7  \n",
       "3  2.94  33.4  \n",
       "4  5.33  36.2  "
      ]
     },
     "execution_count": 3,
     "metadata": {},
     "output_type": "execute_result"
    }
   ],
   "source": [
    "df.head()"
   ]
  },
  {
   "cell_type": "code",
   "execution_count": 4,
   "metadata": {},
   "outputs": [
    {
     "data": {
      "text/html": [
       "<div>\n",
       "<style scoped>\n",
       "    .dataframe tbody tr th:only-of-type {\n",
       "        vertical-align: middle;\n",
       "    }\n",
       "\n",
       "    .dataframe tbody tr th {\n",
       "        vertical-align: top;\n",
       "    }\n",
       "\n",
       "    .dataframe thead th {\n",
       "        text-align: right;\n",
       "    }\n",
       "</style>\n",
       "<table border=\"1\" class=\"dataframe\">\n",
       "  <thead>\n",
       "    <tr style=\"text-align: right;\">\n",
       "      <th></th>\n",
       "      <th>x1</th>\n",
       "      <th>x2</th>\n",
       "      <th>x3</th>\n",
       "      <th>x4</th>\n",
       "      <th>x5</th>\n",
       "      <th>x6</th>\n",
       "      <th>x7</th>\n",
       "      <th>x8</th>\n",
       "      <th>x9</th>\n",
       "      <th>x10</th>\n",
       "      <th>x11</th>\n",
       "      <th>x12</th>\n",
       "      <th>x13</th>\n",
       "      <th>y</th>\n",
       "    </tr>\n",
       "  </thead>\n",
       "  <tbody>\n",
       "    <tr>\n",
       "      <th>501</th>\n",
       "      <td>0.06263</td>\n",
       "      <td>0.0</td>\n",
       "      <td>11.93</td>\n",
       "      <td>0</td>\n",
       "      <td>0.573</td>\n",
       "      <td>6.593</td>\n",
       "      <td>69.1</td>\n",
       "      <td>2.4786</td>\n",
       "      <td>1</td>\n",
       "      <td>273</td>\n",
       "      <td>21.0</td>\n",
       "      <td>391.99</td>\n",
       "      <td>9.67</td>\n",
       "      <td>22.4</td>\n",
       "    </tr>\n",
       "    <tr>\n",
       "      <th>502</th>\n",
       "      <td>0.04527</td>\n",
       "      <td>0.0</td>\n",
       "      <td>11.93</td>\n",
       "      <td>0</td>\n",
       "      <td>0.573</td>\n",
       "      <td>6.120</td>\n",
       "      <td>76.7</td>\n",
       "      <td>2.2875</td>\n",
       "      <td>1</td>\n",
       "      <td>273</td>\n",
       "      <td>21.0</td>\n",
       "      <td>396.90</td>\n",
       "      <td>9.08</td>\n",
       "      <td>20.6</td>\n",
       "    </tr>\n",
       "    <tr>\n",
       "      <th>503</th>\n",
       "      <td>0.06076</td>\n",
       "      <td>0.0</td>\n",
       "      <td>11.93</td>\n",
       "      <td>0</td>\n",
       "      <td>0.573</td>\n",
       "      <td>6.976</td>\n",
       "      <td>91.0</td>\n",
       "      <td>2.1675</td>\n",
       "      <td>1</td>\n",
       "      <td>273</td>\n",
       "      <td>21.0</td>\n",
       "      <td>396.90</td>\n",
       "      <td>5.64</td>\n",
       "      <td>23.9</td>\n",
       "    </tr>\n",
       "    <tr>\n",
       "      <th>504</th>\n",
       "      <td>0.10959</td>\n",
       "      <td>0.0</td>\n",
       "      <td>11.93</td>\n",
       "      <td>0</td>\n",
       "      <td>0.573</td>\n",
       "      <td>6.794</td>\n",
       "      <td>89.3</td>\n",
       "      <td>2.3889</td>\n",
       "      <td>1</td>\n",
       "      <td>273</td>\n",
       "      <td>21.0</td>\n",
       "      <td>393.45</td>\n",
       "      <td>6.48</td>\n",
       "      <td>22.0</td>\n",
       "    </tr>\n",
       "    <tr>\n",
       "      <th>505</th>\n",
       "      <td>0.04741</td>\n",
       "      <td>0.0</td>\n",
       "      <td>11.93</td>\n",
       "      <td>0</td>\n",
       "      <td>0.573</td>\n",
       "      <td>6.030</td>\n",
       "      <td>80.8</td>\n",
       "      <td>2.5050</td>\n",
       "      <td>1</td>\n",
       "      <td>273</td>\n",
       "      <td>21.0</td>\n",
       "      <td>396.90</td>\n",
       "      <td>7.88</td>\n",
       "      <td>11.9</td>\n",
       "    </tr>\n",
       "  </tbody>\n",
       "</table>\n",
       "</div>"
      ],
      "text/plain": [
       "          x1   x2     x3  x4     x5     x6    x7      x8  x9  x10   x11  \\\n",
       "501  0.06263  0.0  11.93   0  0.573  6.593  69.1  2.4786   1  273  21.0   \n",
       "502  0.04527  0.0  11.93   0  0.573  6.120  76.7  2.2875   1  273  21.0   \n",
       "503  0.06076  0.0  11.93   0  0.573  6.976  91.0  2.1675   1  273  21.0   \n",
       "504  0.10959  0.0  11.93   0  0.573  6.794  89.3  2.3889   1  273  21.0   \n",
       "505  0.04741  0.0  11.93   0  0.573  6.030  80.8  2.5050   1  273  21.0   \n",
       "\n",
       "        x12   x13     y  \n",
       "501  391.99  9.67  22.4  \n",
       "502  396.90  9.08  20.6  \n",
       "503  396.90  5.64  23.9  \n",
       "504  393.45  6.48  22.0  \n",
       "505  396.90  7.88  11.9  "
      ]
     },
     "execution_count": 4,
     "metadata": {},
     "output_type": "execute_result"
    }
   ],
   "source": [
    "df.tail()"
   ]
  },
  {
   "cell_type": "markdown",
   "metadata": {},
   "source": [
    "## 入力変数と教師データに分割"
   ]
  },
  {
   "cell_type": "code",
   "execution_count": 24,
   "metadata": {},
   "outputs": [],
   "source": [
    "#df.iloc[行,列]\n",
    "x = df.iloc[:,:-1].values.astype('f')\n",
    "t = df.iloc[:,-1].values.astype('f')"
   ]
  },
  {
   "cell_type": "code",
   "execution_count": 20,
   "metadata": {},
   "outputs": [
    {
     "data": {
      "text/plain": [
       "dtype('float32')"
      ]
     },
     "execution_count": 20,
     "metadata": {},
     "output_type": "execute_result"
    }
   ],
   "source": [
    "x.dtype"
   ]
  },
  {
   "cell_type": "code",
   "execution_count": 21,
   "metadata": {},
   "outputs": [
    {
     "data": {
      "text/plain": [
       "dtype('float32')"
      ]
     },
     "execution_count": 21,
     "metadata": {},
     "output_type": "execute_result"
    }
   ],
   "source": [
    "t.dtype"
   ]
  },
  {
   "cell_type": "code",
   "execution_count": 22,
   "metadata": {},
   "outputs": [
    {
     "data": {
      "text/plain": [
       "(506, 13)"
      ]
     },
     "execution_count": 22,
     "metadata": {},
     "output_type": "execute_result"
    }
   ],
   "source": [
    "x.shape"
   ]
  },
  {
   "cell_type": "code",
   "execution_count": 23,
   "metadata": {},
   "outputs": [
    {
     "data": {
      "text/plain": [
       "(506,)"
      ]
     },
     "execution_count": 23,
     "metadata": {},
     "output_type": "execute_result"
    }
   ],
   "source": [
    "#教師データのサイズ\n",
    "t.shape"
   ]
  },
  {
   "cell_type": "code",
   "execution_count": 25,
   "metadata": {},
   "outputs": [
    {
     "data": {
      "text/plain": [
       "506"
      ]
     },
     "execution_count": 25,
     "metadata": {},
     "output_type": "execute_result"
    }
   ],
   "source": [
    "len(t)"
   ]
  },
  {
   "cell_type": "code",
   "execution_count": 26,
   "metadata": {},
   "outputs": [],
   "source": [
    "t = t.reshape(len(t),1)"
   ]
  },
  {
   "cell_type": "code",
   "execution_count": 27,
   "metadata": {},
   "outputs": [
    {
     "data": {
      "text/plain": [
       "(506, 1)"
      ]
     },
     "execution_count": 27,
     "metadata": {},
     "output_type": "execute_result"
    }
   ],
   "source": [
    "t.shape"
   ]
  },
  {
   "cell_type": "markdown",
   "metadata": {},
   "source": [
    "# データセットの準備"
   ]
  },
  {
   "cell_type": "code",
   "execution_count": 28,
   "metadata": {},
   "outputs": [],
   "source": [
    "dataset = list(zip(x,t))"
   ]
  },
  {
   "cell_type": "markdown",
   "metadata": {},
   "source": [
    "## 訓練データと検証データの分割"
   ]
  },
  {
   "cell_type": "code",
   "execution_count": 29,
   "metadata": {},
   "outputs": [],
   "source": [
    "import chainer\n",
    "import chainer.functions as F\n",
    "import chainer.links as L"
   ]
  },
  {
   "cell_type": "code",
   "execution_count": 31,
   "metadata": {},
   "outputs": [
    {
     "data": {
      "text/plain": [
       "354"
      ]
     },
     "execution_count": 31,
     "metadata": {},
     "output_type": "execute_result"
    }
   ],
   "source": [
    "n_train = int(len(dataset) * 0.7)\n",
    "n_train"
   ]
  },
  {
   "cell_type": "code",
   "execution_count": 32,
   "metadata": {},
   "outputs": [],
   "source": [
    "train, test = chainer.datasets.split_dataset_random(dataset,n_train,seed=0)"
   ]
  },
  {
   "cell_type": "code",
   "execution_count": 33,
   "metadata": {},
   "outputs": [
    {
     "data": {
      "text/plain": [
       "354"
      ]
     },
     "execution_count": 33,
     "metadata": {},
     "output_type": "execute_result"
    }
   ],
   "source": [
    "len(train)"
   ]
  },
  {
   "cell_type": "code",
   "execution_count": 34,
   "metadata": {},
   "outputs": [
    {
     "data": {
      "text/plain": [
       "152"
      ]
     },
     "execution_count": 34,
     "metadata": {},
     "output_type": "execute_result"
    }
   ],
   "source": [
    "len(test)"
   ]
  },
  {
   "cell_type": "markdown",
   "metadata": {},
   "source": [
    "# モデルの定義"
   ]
  },
  {
   "cell_type": "markdown",
   "metadata": {},
   "source": [
    "### L.Classifierを使う場合"
   ]
  },
  {
   "cell_type": "code",
   "execution_count": 59,
   "metadata": {},
   "outputs": [],
   "source": [
    "#13->5->1\n",
    "class NN(chainer.Chain):\n",
    "    #mモデルの構造\n",
    "    def __init__(self,n_mid_units=5,n_out=1):\n",
    "        super().__init__()\n",
    "        with self.init_scope():\n",
    "            self.fc1 = L.Linear(None,n_mid_units)\n",
    "            self.fc2 = L.Linear(None,n_out)\n",
    "    #順伝播\n",
    "    def __call__(self,x):\n",
    "        h = self.fc1(x)\n",
    "        h = F.relu(h)\n",
    "        h = self.fc2(h)\n",
    "        return h"
   ]
  },
  {
   "cell_type": "code",
   "execution_count": 60,
   "metadata": {},
   "outputs": [],
   "source": [
    "np.random.seed(0)\n",
    "#インスタンス化\n",
    "nn = NN()"
   ]
  },
  {
   "cell_type": "code",
   "execution_count": 61,
   "metadata": {},
   "outputs": [],
   "source": [
    "#変更箇所（回帰問題）\n",
    "model = L.Classifier(nn,lossfun=F.mean_squared_error)\n",
    "model.compute_accuracy = False"
   ]
  },
  {
   "cell_type": "markdown",
   "metadata": {},
   "source": [
    "### 学習用のモデルを自前で書く場合\n",
    "- `__init__`: モデルで使用するリンクの宣言\n",
    "- `__call__`: 損失関数の宣言\n",
    "- `predictor`: 順伝播の宣言"
   ]
  },
  {
   "cell_type": "code",
   "execution_count": 44,
   "metadata": {},
   "outputs": [],
   "source": [
    "# #13->5->1\n",
    "# class NN(chainer.Chain):\n",
    "#     #mモデルの構造\n",
    "#     def __init__(self,n_mid_units=5,n_out=1):\n",
    "#         super().__init__()\n",
    "#         with self.init_scope():\n",
    "#             self.fc1 = L.Linear(None,n_mid_units)\n",
    "#             self.fc2 = L.Linear(None,n_out)\n",
    "#     #損失関数\n",
    "#     def __call__(self,x,t):\n",
    "#         #予測値の計算（順伝播）\n",
    "#         y = self.predictor(x)\n",
    "#         loss = F.mean_squared_error(t,y)\n",
    "#         chainer.report({'loss':loss},self)\n",
    "#         return loss\n",
    "#     #順伝播\n",
    "#     def predictor(self,x):\n",
    "#         h = self.fc1(x)\n",
    "#         h = F.relu(h)\n",
    "#         h = self.fc2(h)\n",
    "#         return h"
   ]
  },
  {
   "cell_type": "code",
   "execution_count": 45,
   "metadata": {},
   "outputs": [],
   "source": [
    "# np.random.seed(0)\n",
    "# model = NN()"
   ]
  },
  {
   "cell_type": "markdown",
   "metadata": {},
   "source": [
    "## 学習に必要な準備"
   ]
  },
  {
   "cell_type": "markdown",
   "metadata": {},
   "source": [
    "### Optimizerの設定"
   ]
  },
  {
   "cell_type": "code",
   "execution_count": 62,
   "metadata": {},
   "outputs": [],
   "source": [
    "optimizer = chainer.optimizers.SGD() #確率的勾配降下法"
   ]
  },
  {
   "cell_type": "code",
   "execution_count": 63,
   "metadata": {},
   "outputs": [
    {
     "data": {
      "text/plain": [
       "<chainer.optimizers.sgd.SGD at 0x1dd80d44198>"
      ]
     },
     "execution_count": 63,
     "metadata": {},
     "output_type": "execute_result"
    }
   ],
   "source": [
    "optimizer.setup(model)"
   ]
  },
  {
   "cell_type": "markdown",
   "metadata": {},
   "source": [
    "### Iteratorの設定\n",
    "ミニバッチ学習"
   ]
  },
  {
   "cell_type": "code",
   "execution_count": 64,
   "metadata": {},
   "outputs": [],
   "source": [
    "batchsize = 10"
   ]
  },
  {
   "cell_type": "code",
   "execution_count": 65,
   "metadata": {},
   "outputs": [],
   "source": [
    "train_iter = chainer.iterators.SerialIterator(train,batchsize)\n",
    "test_iter = chainer.iterators.SerialIterator(test,batchsize,repeat=False,shuffle=False)"
   ]
  },
  {
   "cell_type": "markdown",
   "metadata": {},
   "source": [
    "### Updaterの設定\n",
    "使用するデバイスの設定\n",
    "- CPU: -1\n",
    "- GPU: 0 （割り当てID）"
   ]
  },
  {
   "cell_type": "code",
   "execution_count": 66,
   "metadata": {},
   "outputs": [],
   "source": [
    "from chainer import training"
   ]
  },
  {
   "cell_type": "code",
   "execution_count": 67,
   "metadata": {},
   "outputs": [],
   "source": [
    "updater = training.StandardUpdater(train_iter,optimizer,device=-1)"
   ]
  },
  {
   "cell_type": "markdown",
   "metadata": {},
   "source": [
    "### TrainerとExtensionsの設定"
   ]
  },
  {
   "cell_type": "code",
   "execution_count": 68,
   "metadata": {},
   "outputs": [],
   "source": [
    "from chainer.training import extensions"
   ]
  },
  {
   "cell_type": "code",
   "execution_count": 69,
   "metadata": {},
   "outputs": [],
   "source": [
    "#エポック数\n",
    "epoch = 50"
   ]
  },
  {
   "cell_type": "code",
   "execution_count": 70,
   "metadata": {},
   "outputs": [],
   "source": [
    "#Trainerの宣言\n",
    "trainer = training.Trainer(updater,(epoch,'epoch'),out='result/housing')\n",
    "\n",
    "#検証データで評価\n",
    "trainer.extend(extensions.Evaluator(test_iter,model,device=-1))\n",
    "\n",
    "trainer.extend(extensions.LogReport(trigger=(1,'epoch')))\n",
    "\n",
    "#1エポック毎（trigger）にtrainデータに対するlossとtestデータに対するloss、経過時間を出力します。\n",
    "trainer.extend(\n",
    "    extensions.PrintReport(['epoch','main/loss','validation/main/loss','elapsed_time']),\n",
    "    trigger=(1,'epoch'))"
   ]
  },
  {
   "cell_type": "markdown",
   "metadata": {},
   "source": [
    "## 学習の実行"
   ]
  },
  {
   "cell_type": "code",
   "execution_count": 71,
   "metadata": {},
   "outputs": [
    {
     "name": "stdout",
     "output_type": "stream",
     "text": [
      "epoch       main/loss   validation/main/loss  elapsed_time\n",
      "1           2.96434e+08  1.04874e+06           0.0995172     \n",
      "2           572259      255203                0.19538       \n",
      "3           136911      59814.5               0.332427      \n",
      "4           32620.6     14627.9               0.489798      \n",
      "5           7952.06     3666.92               0.631439      \n",
      "6           1964.45     941.861               0.774366      \n",
      "7           528.449     306.799               0.907968      \n",
      "8           184.278     147.592               1.07125       \n",
      "9           104.365     108.861               1.22311       \n",
      "10          84.1915     99.445                1.37484       \n",
      "11          80.6581     96.3452               1.54451       \n",
      "12          77.2385     95.7064               1.71576       \n",
      "13          78.0365     95.3591               1.87651       \n",
      "14          77.8604     95.2921               2.0302        \n",
      "15          79.0005     95.2218               2.54349       \n",
      "16          78.815      95.1823               2.98022       \n",
      "17          77.5705     95.1879               3.30517       \n",
      "18          78.0155     95.2505               3.55055       \n",
      "19          79.6155     95.1019               3.77343       \n",
      "20          76.9202     95.1598               4.00945       \n",
      "21          77.4962     95.1068               4.23668       \n",
      "22          78.9029     95.1166               4.56061       \n",
      "23          77.7069     95.1848               4.88966       \n",
      "24          78.39       95.1662               5.24198       \n",
      "25          78.4769     95.1756               5.48926       \n",
      "26          79.9925     95.2622               5.76417       \n",
      "27          76.2689     95.2015               6.10196       \n",
      "28          79.1657     95.2532               6.44097       \n",
      "29          77.1402     95.2509               6.68688       \n",
      "30          78.4365     95.3593               6.95408       \n",
      "31          77.8783     95.497                7.25418       \n",
      "32          78.3321     95.3113               7.60361       \n",
      "33          77.5783     95.3174               7.95531       \n",
      "34          80.5595     95.1785               8.18162       \n",
      "35          76.5844     95.1642               8.45177       \n",
      "36          77.3912     95.2114               8.67555       \n",
      "37          78.6302     95.1425               9.04107       \n",
      "38          80.1551     95.1027               9.62921       \n",
      "39          76.3208     95.1711               10.0659       \n",
      "40          78.6139     95.1923               10.3211       \n",
      "41          80.9135     95.1502               10.5431       \n",
      "42          75.1016     95.2064               10.7481       \n",
      "43          79.7708     95.2222               11.1637       \n",
      "44          76.8092     95.2825               11.4818       \n",
      "45          78.1925     95.188                11.724        \n",
      "46          78.0855     95.1873               12.1257       \n",
      "47          78.6936     95.2394               12.4444       \n",
      "48          77.4678     95.2275               12.8594       \n",
      "49          78.4631     95.2747               13.0474       \n",
      "50          78.4693     95.1648               13.2499       \n"
     ]
    }
   ],
   "source": [
    "trainer.run()"
   ]
  },
  {
   "cell_type": "markdown",
   "metadata": {},
   "source": [
    "## 結果の確認"
   ]
  },
  {
   "cell_type": "code",
   "execution_count": 72,
   "metadata": {},
   "outputs": [],
   "source": [
    "import json"
   ]
  },
  {
   "cell_type": "code",
   "execution_count": 73,
   "metadata": {},
   "outputs": [
    {
     "data": {
      "text/plain": [
       "<matplotlib.axes._subplots.AxesSubplot at 0x1dd83f75da0>"
      ]
     },
     "execution_count": 73,
     "metadata": {},
     "output_type": "execute_result"
    },
    {
     "data": {
      "image/png": "[encoded data removed]",
      "text/plain": [
       "<Figure size 432x288 with 1 Axes>"
      ]
     },
     "metadata": {},
     "output_type": "display_data"
    }
   ],
   "source": [
    "with open('result/housing/log') as f:\n",
    "    logs = json.load(f)\n",
    "results = pd.DataFrame(logs)\n",
    "results[['main/loss','validation/main/loss']].plot()"
   ]
  },
  {
   "cell_type": "markdown",
   "metadata": {},
   "source": [
    "## 試行錯誤"
   ]
  },
  {
   "cell_type": "code",
   "execution_count": 75,
   "metadata": {},
   "outputs": [],
   "source": [
    "#13->5->1\n",
    "class NN(chainer.Chain):\n",
    "    #mモデルの構造\n",
    "    def __init__(self,n_mid_units=5,n_out=1):\n",
    "        super().__init__()\n",
    "        with self.init_scope():\n",
    "            self.fc1 = L.Linear(None,n_mid_units)\n",
    "            self.fc2 = L.Linear(None,n_out)\n",
    "            #Batch Normalization\n",
    "            self.bn = L.BatchNormalization(13) #追記\n",
    "    #順伝播\n",
    "    def __call__(self,x):\n",
    "        h = self.bn(x) #追記\n",
    "        h = self.fc1(h)\n",
    "        h = F.relu(h)\n",
    "        h = self.fc2(h)\n",
    "        return h"
   ]
  },
  {
   "cell_type": "code",
   "execution_count": 81,
   "metadata": {},
   "outputs": [
    {
     "name": "stdout",
     "output_type": "stream",
     "text": [
      "epoch       main/loss   validation/main/loss  elapsed_time\n",
      "1           574.456     606.874               0.145987      \n",
      "2           568.64      594.614               0.329859      \n",
      "3           553.34      582.394               0.537772      \n",
      "4           535.864     562.167               0.71829       \n",
      "5           518.372     537.055               0.946288      \n",
      "6           491.861     500.139               1.21243       \n",
      "7           445.126     451.904               1.44409       \n",
      "8           406.566     407.034               1.89645       \n",
      "9           366.781     358.368               2.16419       \n",
      "10          305.543     306.151               2.51451       \n",
      "11          258.991     249.517               2.8516        \n",
      "12          218.156     200.515               3.09793       \n",
      "13          188.214     167.862               3.43506       \n",
      "14          161.046     158.526               3.74358       \n",
      "15          133.699     122.494               4.08907       \n",
      "16          122.198     127.293               4.4341        \n",
      "17          109.939     108.406               4.84689       \n",
      "18          98.8749     105.154               5.21255       \n",
      "19          90.0882     91.4977               5.56235       \n",
      "20          89.6044     86.2234               5.91403       \n",
      "21          92.3778     80.1805               6.18401       \n",
      "22          77.9942     74.5376               6.43019       \n",
      "23          75.2066     67.3349               6.90037       \n",
      "24          66.1555     64.222                7.29448       \n",
      "25          59.3295     57.1677               7.68223       \n",
      "26          62.7843     52.574                8.04441       \n",
      "27          52.0105     50.9028               8.47212       \n",
      "28          44.9944     49.6418               8.84915       \n",
      "29          51.1673     47.8792               9.19316       \n",
      "30          47.6451     41.8096               9.46124       \n",
      "31          49.9569     41.7475               9.78411       \n",
      "32          47.1206     39.0851               11.0522       \n",
      "33          46.1297     42.9561               11.3388       \n",
      "34          44.3083     38.5802               11.6109       \n",
      "35          43.3957     42.6318               11.8528       \n",
      "36          40.3925     37.8628               12.1256       \n",
      "37          45.0143     35.862                12.395        \n",
      "38          35.3318     35.3683               12.6401       \n",
      "39          42.1732     36.2153               12.8963       \n",
      "40          41.1006     33.7481               13.19         \n",
      "41          37.2916     35.7706               13.435        \n",
      "42          40.6972     33.8199               13.6418       \n",
      "43          41.3158     33.8216               13.8488       \n",
      "44          38.6924     31.8327               14.1054       \n",
      "45          38.3239     33.7313               14.3527       \n",
      "46          36.706      32.4662               14.5987       \n",
      "47          33.0408     33.2726               14.8048       \n",
      "48          38.7534     32.8792               15.0282       \n",
      "49          34.448      30.5118               15.3024       \n",
      "50          41.4546     29.7217               15.582        \n",
      "51          37.918      32.5415               15.8909       \n",
      "52          41.0986     30.4919               16.233        \n",
      "53          34.5075     30.6188               16.5236       \n",
      "54          37.0565     30.6063               16.769        \n",
      "55          32.4971     30.6024               16.9815       \n",
      "56          34.9978     30.3028               17.1952       \n",
      "57          31.6035     29.5046               17.4709       \n",
      "58          36.3569     30.4029               17.9042       \n",
      "59          33.9305     29.3535               18.2132       \n",
      "60          36.6864     28.6661               18.5708       \n",
      "61          32.9834     28.9018               18.8681       \n",
      "62          36.8856     28.1691               19.2197       \n",
      "63          32.9449     27.2183               19.5404       \n",
      "64          30.9011     29.9514               19.8597       \n",
      "65          32.677      27.4894               20.1339       \n",
      "66          34.0265     28.6775               20.4819       \n",
      "67          28.5035     28.805                20.8232       \n",
      "68          32.9633     27.5589               21.0804       \n",
      "69          38.7542     29.7039               21.3736       \n",
      "70          31.722      27.4835               21.6689       \n",
      "71          33.229      30.2528               22.0396       \n",
      "72          34.0557     25.8746               22.3648       \n",
      "73          31.5025     26.7916               22.6274       \n",
      "74          32.6992     26.9117               22.9606       \n",
      "75          33.7427     26.4068               23.3007       \n",
      "76          30.2987     25.9794               23.8562       \n",
      "77          33.7169     25.2852               24.3012       \n",
      "78          31.2512     25.3829               24.5758       \n",
      "79          29.4871     26.308                24.8221       \n",
      "80          31.6634     25.7394               25.2404       \n",
      "81          32.0284     24.8339               25.4891       \n",
      "82          32.6107     25.3743               25.7816       \n",
      "83          31.2813     25.0847               26.1782       \n",
      "84          33.9553     25.0483               26.5028       \n",
      "85          27.2586     25.9501               26.7958       \n",
      "86          31.6149     25.4082               27.0033       \n",
      "87          31.9813     25.62                 27.224        \n",
      "88          28.5531     25.6154               27.465        \n",
      "89          33.8835     25.3778               27.6856       \n",
      "90          31.2976     25.3509               27.9257       \n",
      "91          31.9876     23.8615               28.183        \n",
      "92          30.5711     24.3559               28.4266       \n",
      "93          32.2538     25.3937               28.67         \n",
      "94          29.8386     25.2498               28.886        \n",
      "95          32.5933     25.7845               29.1026       \n",
      "96          30.3747     24.953                29.3557       \n",
      "97          33.5852     24.6056               29.6713       \n",
      "98          34.114      26.5912               29.8806       \n",
      "99          29.7052     25.8974               30.0782       \n",
      "100         28.1312     23.3509               30.2894       \n",
      "101         25.9079     24.8273               30.5313       \n",
      "102         30.2522     23.5704               30.7987       \n",
      "103         29.0926     26.1041               31.156        \n",
      "104         32.6334     24.2896               31.4639       \n",
      "105         29.1239     23.4717               31.8643       \n",
      "106         28.7459     23.8842               32.1557       \n",
      "107         29.2353     24.0294               32.4255       \n",
      "108         32.3902     23.1703               32.7523       \n",
      "109         28.1562     23.9181               33.0139       \n",
      "110         28.0034     24.1932               33.2187       \n",
      "111         30.7711     23.9092               33.4269       \n",
      "112         27.9514     23.0577               33.695        \n",
      "113         30.6317     23.1294               34.1223       \n",
      "114         28.1502     23.9952               34.4323       \n",
      "115         27.5641     23.4044               34.6731       \n",
      "116         28.4188     23.3734               35.0431       \n",
      "117         29.6463     21.9444               35.3314       \n",
      "118         27.9715     23.6931               35.7184       \n",
      "119         34.3044     22.8666               36.1262       \n",
      "120         28.7957     22.937                36.4838       \n",
      "121         32.8246     23.5964               36.8302       \n",
      "122         27.8579     22.6773               37.3159       \n",
      "123         28.6109     22.9671               37.8078       \n",
      "124         31.3472     21.3519               38.3024       \n",
      "125         30.3726     22.8763               38.7476       \n",
      "126         28.3868     24.0987               39.2425       \n",
      "127         29.0167     22.6653               39.6679       \n",
      "128         30.8328     22.212                41.1625       \n",
      "129         29.0702     24.8124               41.6161       \n",
      "130         26.3744     22.8282               42.2738       \n",
      "131         28.808      23.2672               42.6468       \n",
      "132         28.4067     22.3575               43.0656       \n",
      "133         30.9698     21.0538               43.4358       \n",
      "134         26.9903     22.4814               43.8103       \n"
     ]
    },
    {
     "name": "stdout",
     "output_type": "stream",
     "text": [
      "135         31.2265     22.6392               44.2456       \n",
      "136         28.0762     21.8341               44.5106       \n",
      "137         30.7836     22.9254               44.8544       \n",
      "138         29.7594     22.7738               45.1403       \n",
      "139         31.171      23.594                45.4476       \n",
      "140         24.5306     21.7579               45.7349       \n",
      "141         29.6288     21.688                45.9956       \n",
      "142         29.6742     22.4417               46.2123       \n",
      "143         28.6583     22.7723               46.5232       \n",
      "144         28.7753     23.048                46.7571       \n",
      "145         28.9797     20.5511               46.9686       \n",
      "146         25.2886     22.5326               47.1871       \n",
      "147         30.3889     21.8348               47.4827       \n",
      "148         30.722      21.9784               47.7591       \n",
      "149         25.1985     21.5681               48.0351       \n",
      "150         26.9938     21.0437               48.2917       \n",
      "151         28.7468     20.6323               48.5898       \n",
      "152         27.7757     23.0967               48.8208       \n",
      "153         27.2501     22.1373               49.2009       \n",
      "154         28.8453     22.7689               50.5228       \n",
      "155         28.6126     22.0797               51.0143       \n",
      "156         25.6038     21.9869               51.4528       \n",
      "157         27.8164     23.3976               51.8733       \n",
      "158         28.4837     22.0739               52.2765       \n",
      "159         25.9894     21.4672               53.133        \n",
      "160         28.964      20.239                53.5436       \n",
      "161         34.0057     22.0629               54.0467       \n",
      "162         28.9032     22.2619               54.5462       \n",
      "163         28.2957     20.8353               55.0445       \n",
      "164         29.9769     22.0998               55.5077       \n",
      "165         29.5627     21.0521               56.0293       \n",
      "166         26.9029     21.123                56.4065       \n",
      "167         27.8147     20.5459               56.7333       \n",
      "168         25.0288     21.2995               57.1375       \n",
      "169         26.6931     21.4443               57.4247       \n",
      "170         28.885      20.85                 57.7173       \n",
      "171         26.8527     22.9906               58.0736       \n",
      "172         23.6338     19.8925               58.4603       \n",
      "173         27.8574     20.7964               58.9252       \n",
      "174         25.9673     20.3552               59.3665       \n",
      "175         29.916      21.6725               59.7768       \n",
      "176         26.3651     20.4999               60.2392       \n",
      "177         25.1311     22.3506               60.6194       \n",
      "178         27.9718     19.5458               60.8885       \n",
      "179         28.8883     20.9231               61.1081       \n",
      "180         24.2882     21.6154               61.4226       \n",
      "181         27.7358     21.5556               61.7718       \n",
      "182         26.497      20.7388               62.058        \n",
      "183         27.9314     20.9776               62.2962       \n",
      "184         25.1383     21.919                62.5846       \n",
      "185         26.8546     20.7985               62.8941       \n",
      "186         28.3767     20.286                63.248        \n",
      "187         26.8473     19.6159               63.6133       \n",
      "188         31.6466     19.8361               63.9826       \n",
      "189         29.2599     21.1592               64.2159       \n",
      "190         27.2459     20.3807               64.4857       \n",
      "191         26.9661     21.5361               64.8178       \n",
      "192         24.4659     21.219                65.1289       \n",
      "193         25.9864     19.7965               65.3695       \n",
      "194         28.6875     21.8251               65.6343       \n",
      "195         28.7688     21.8125               66.0537       \n",
      "196         27.3164     19.7548               66.4534       \n",
      "197         25.9077     20.1773               66.8228       \n",
      "198         27.09       20.6114               67.192        \n",
      "199         31.0913     19.8188               67.5847       \n",
      "200         27.1643     21.0935               67.9534       \n",
      "201         27.4306     20.0849               68.2454       \n",
      "202         24.9523     20.0497               68.5982       \n",
      "203         29.9291     20.3777               69.022        \n",
      "204         28.4978     21.6174               69.5186       \n",
      "205         24.4395     20.413                69.9462       \n",
      "206         27.5837     19.7253               70.296        \n",
      "207         28.8853     21.5646               70.6211       \n",
      "208         27.0173     18.5874               71.0295       \n",
      "209         26.8977     19.645                71.3491       \n",
      "210         23.261      19.889                71.6909       \n",
      "211         25.3316     18.7965               72.061        \n",
      "212         24.4386     20.2832               72.5536       \n",
      "213         25.9007     20.0683               72.9439       \n",
      "214         26.6472     20.0683               73.3918       \n",
      "215         23.7235     20.2172               73.7419       \n",
      "216         27.0819     21.6152               74.2568       \n",
      "217         28.9029     19.1795               74.5729       \n",
      "218         25.9653     20.5744               74.9644       \n",
      "219         29.8552     19.9965               75.2986       \n",
      "220         25.4127     19.4926               75.6381       \n",
      "221         25.6074     19.6993               75.9144       \n",
      "222         25.3352     19.4665               76.2806       \n",
      "223         28.8778     20.6212               76.6974       \n",
      "224         26.2713     19.053                76.9903       \n",
      "225         23.3047     19.1235               77.3409       \n",
      "226         24.4375     18.5784               77.6337       \n",
      "227         29.8357     18.7063               78.0023       \n",
      "228         29.3555     19.7887               78.4257       \n",
      "229         24.3201     19.4702               78.7873       \n",
      "230         27.7266     19.2287               79.143        \n",
      "231         27.4245     18.7354               79.5191       \n",
      "232         26.5027     19.3644               79.8732       \n",
      "233         24.8243     18.8225               80.3752       \n",
      "234         25.5329     20.0467               80.7034       \n",
      "235         27.485      18.8911               81.0188       \n",
      "236         25.7589     19.7647               81.3717       \n",
      "237         24.9574     19.4054               81.8141       \n",
      "238         25.2802     18.5507               82.2473       \n",
      "239         24.885      18.2937               82.6852       \n",
      "240         26.0374     19.128                83.2092       \n",
      "241         30.3313     19.4988               83.6333       \n",
      "242         25.521      20.7619               83.9729       \n",
      "243         24.9799     18.6529               84.2859       \n",
      "244         26.4045     19.8664               84.7676       \n",
      "245         23.2772     19.0932               85.1996       \n",
      "246         25.9699     18.0599               85.5983       \n",
      "247         24.1157     18.5937               85.9998       \n",
      "248         25.1333     18.8468               86.414        \n",
      "249         24.0911     18.2419               86.7314       \n",
      "250         26.5605     18.6197               87.0763       \n",
      "251         25.2363     18.7487               87.4589       \n",
      "252         24.9485     18.4596               87.7995       \n",
      "253         29.8928     19.3036               88.1204       \n",
      "254         27.5553     18.1668               88.4829       \n",
      "255         26.4431     17.6787               88.7629       \n",
      "256         27.7115     19.2722               89.1007       \n",
      "257         28.6566     17.8785               89.4802       \n",
      "258         26.0782     18.3483               89.877        \n",
      "259         22.817      18.1217               90.3125       \n",
      "260         29.4885     19.7756               90.7891       \n",
      "261         26.4755     17.7295               91.2213       \n",
      "262         28.0535     18.4661               91.5434       \n",
      "263         25.4768     18.5533               91.8142       \n",
      "264         23.8155     18.5127               92.0819       \n",
      "265         31.3079     17.9085               92.389        \n",
      "266         29.977      17.9579               92.6807       \n",
      "267         22.2845     19.0633               92.9965       \n",
      "268         26.9428     19.5605               93.2957       \n",
      "269         26.3416     18.1393               93.6614       \n"
     ]
    },
    {
     "name": "stdout",
     "output_type": "stream",
     "text": [
      "270         26.4264     18.7596               94.0053       \n",
      "271         27.0275     20.0155               95.2911       \n",
      "272         24.1762     18.8343               95.5684       \n",
      "273         26.4571     18.1408               95.8488       \n",
      "274         24.9655     19.6093               96.1078       \n",
      "275         25.1412     18.3746               96.4294       \n",
      "276         25.2123     17.3443               96.8213       \n",
      "277         22.4078     18.7117               97.0956       \n",
      "278         23.595      18.4996               97.4224       \n",
      "279         26.6222     18.3656               97.8258       \n",
      "280         26.8827     18.2551               98.3074       \n",
      "281         27.443      17.6169               98.8133       \n",
      "282         27.8384     17.6175               99.2547       \n",
      "283         27.1348     19.3275               99.7189       \n",
      "284         25.7768     17.0407               100.2         \n",
      "285         28.6116     17.2272               100.689       \n",
      "286         23.4204     18.0426               101.224       \n",
      "287         25.2783     17.7693               101.756       \n",
      "288         26.0116     18.8219               102.267       \n",
      "289         26.8705     17.8628               102.666       \n",
      "290         29.3885     18.6329               103.179       \n",
      "291         28.5932     18.3795               103.539       \n",
      "292         23.8364     17.0688               103.989       \n",
      "293         21.78       17.6915               104.38        \n",
      "294         24.4727     18.3499               104.746       \n",
      "295         27.1596     18.2402               105.117       \n",
      "296         24.9688     17.3823               105.501       \n",
      "297         26.8175     18.3013               105.849       \n",
      "298         24.0247     18.3281               106.281       \n",
      "299         23.831      17.5839               106.662       \n",
      "300         24.003      17.9113               106.996       \n",
      "301         24.1349     16.7805               107.334       \n",
      "302         23.4829     17.1666               107.822       \n",
      "303         26.0917     16.736                108.153       \n",
      "304         26.8685     16.6637               108.547       \n",
      "305         27.8494     17.2388               108.839       \n",
      "306         24.6792     18.2351               109.223       \n",
      "307         25.8504     18.2626               109.562       \n",
      "308         22.3717     17.7581               110.015       \n",
      "309         23.9954     17.902                110.358       \n",
      "310         23.1384     17.2116               110.766       \n",
      "311         24.0994     18.5552               111.065       \n",
      "312         23.0803     17.3948               111.319       \n",
      "313         22.968      16.5737               111.588       \n",
      "314         25.0161     17.2851               111.938       \n",
      "315         25.7621     16.6786               112.27        \n",
      "316         24.696      16.5122               112.515       \n",
      "317         22.8332     18.5279               112.769       \n",
      "318         24.1689     18.2438               113.062       \n",
      "319         24.524      16.8479               113.38        \n",
      "320         22.8157     16.6473               113.774       \n",
      "321         24.8679     16.882                114.138       \n",
      "322         28.096      19.299                114.584       \n",
      "323         22.6859     17.3956               114.966       \n",
      "324         28.2442     17.0741               115.386       \n",
      "325         23.7912     17.1017               115.809       \n",
      "326         27.3698     18.0519               116.266       \n",
      "327         26.6169     16.3441               116.878       \n",
      "328         24.8056     16.4362               117.315       \n",
      "329         24.1464     17.8058               117.769       \n",
      "330         25.8527     16.2885               118.215       \n",
      "331         23.4757     18.1987               118.623       \n",
      "332         25.4701     17.8131               119.032       \n",
      "333         25.351      16.7024               119.498       \n",
      "334         27.3682     16.3759               120.094       \n",
      "335         24.0334     16.8669               120.452       \n",
      "336         27.0369     15.9798               120.939       \n",
      "337         29.0455     17.3747               121.685       \n",
      "338         24.725      15.9902               122.283       \n",
      "339         25.1747     16.7355               122.686       \n",
      "340         27.976      16.3975               123.093       \n",
      "341         24.7357     16.0641               123.596       \n",
      "342         25.6434     17.2702               124.148       \n",
      "343         25.6336     16.4179               124.709       \n",
      "344         23.4798     16.8404               125.148       \n",
      "345         29.8293     18.0112               125.517       \n",
      "346         23.6637     16.9527               125.833       \n",
      "347         23.3983     17.8911               126.161       \n",
      "348         24.1878     16.8571               126.761       \n",
      "349         24.8613     16.4357               128.112       \n",
      "350         27.5301     16.0483               128.548       \n",
      "351         23.4921     16.939                129.071       \n",
      "352         26.3397     16.5567               129.346       \n",
      "353         22.1198     16.3167               129.818       \n",
      "354         24.5178     16.5846               130.277       \n",
      "355         23.2627     17.8396               130.751       \n",
      "356         27.5474     15.7627               131.178       \n",
      "357         22.8681     17.1677               131.622       \n",
      "358         23.1231     15.8223               132.068       \n",
      "359         27.6764     16.9966               132.453       \n",
      "360         27.461      16.387                133.071       \n",
      "361         21.9928     16.0536               133.792       \n",
      "362         26.0635     17.4182               134.336       \n",
      "363         22.7238     16.592                134.732       \n",
      "364         26.2601     17.5379               135.2         \n",
      "365         24.5833     16.3165               135.632       \n",
      "366         24.2934     16.8526               136.12        \n",
      "367         24.9481     16.232                136.589       \n",
      "368         25.8797     17.1596               136.999       \n",
      "369         24.3878     15.7892               137.45        \n",
      "370         26.0472     15.7135               137.987       \n",
      "371         27.2291     17.1063               138.463       \n",
      "372         28.0974     17.2678               138.835       \n",
      "373         26.3627     17.3508               139.315       \n",
      "374         22.5594     16.6737               139.764       \n",
      "375         26.1546     15.6917               140.185       \n",
      "376         24.4694     16.3537               140.729       \n",
      "377         27.0904     16.0182               141.216       \n",
      "378         25.2212     17.2373               141.652       \n",
      "379         27.5405     16.5194               142.08        \n",
      "380         24.3345     17.127                142.528       \n",
      "381         20.7542     16.0666               142.967       \n",
      "382         25.9159     16.2914               143.416       \n",
      "383         22.3747     16.6659               145.058       \n",
      "384         24.0087     16.9219               145.481       \n",
      "385         23.7996     17.8698               145.955       \n",
      "386         27.2669     15.668                146.507       \n",
      "387         23.614      17.1717               147.07        \n",
      "388         23.6548     16.4076               147.619       \n",
      "389         26.0594     15.7842               148.126       \n",
      "390         23.7123     16.0674               148.603       \n",
      "391         22.2842     16.6917               149.185       \n",
      "392         23.8353     16.0097               149.669       \n",
      "393         23.973      15.3948               150.232       \n",
      "394         24.4504     15.6878               150.843       \n",
      "395         23.4124     17.2361               151.421       \n",
      "396         25.3287     16.1408               151.89        \n",
      "397         27.9664     16.2707               152.31        \n",
      "398         24.2134     15.7797               152.705       \n",
      "399         22.9309     16.5764               153.125       \n",
      "400         23.4434     16.9041               153.558       \n",
      "401         22.2492     16.7633               153.988       \n",
      "402         25.6591     15.3586               154.418       \n",
      "403         22.2002     15.6931               154.854       \n",
      "404         24.8903     15.7377               155.303       \n"
     ]
    },
    {
     "name": "stdout",
     "output_type": "stream",
     "text": [
      "405         25.886      16.0888               155.717       \n",
      "406         24.9674     15.5416               156.097       \n",
      "407         23.7195     16.0031               156.549       \n",
      "408         26.0675     14.9525               157.016       \n",
      "409         27.6546     17.2553               157.378       \n",
      "410         22.9659     16.4457               157.747       \n",
      "411         23.8782     16.0414               158.187       \n",
      "412         25.6816     16.481                158.631       \n",
      "413         24.2615     14.9951               159.02        \n",
      "414         25.7948     17.5176               159.393       \n",
      "415         23.4147     15.1961               159.729       \n",
      "416         23.9065     15.3327               160.047       \n",
      "417         23.6503     16.3657               160.274       \n",
      "418         26.131      15.8162               160.488       \n",
      "419         23.9858     16.0464               160.866       \n",
      "420         25.7426     15.3796               161.438       \n",
      "421         23.6734     16.0934               161.963       \n",
      "422         19.3478     16.146                162.441       \n",
      "423         27.6194     15.6488               162.943       \n",
      "424         23.8369     15.1078               163.419       \n",
      "425         22.5255     15.6516               163.843       \n",
      "426         23.5897     16.8979               164.567       \n",
      "427         25.2413     16.1224               165.172       \n",
      "428         26.1655     15.3655               165.691       \n",
      "429         21.5925     15.6696               166.147       \n",
      "430         25.531      14.4903               166.626       \n",
      "431         24.6337     15.5377               167.097       \n",
      "432         24.0983     15.9089               167.683       \n",
      "433         27.9826     14.9591               168.167       \n",
      "434         23.8976     14.9713               168.616       \n",
      "435         26.0451     15.7143               169.012       \n",
      "436         21.5292     16.1412               169.457       \n",
      "437         27.976      15.1381               169.914       \n",
      "438         20.406      15.8137               170.302       \n",
      "439         25.3038     15.8212               170.75        \n",
      "440         22.9098     15.7118               171.245       \n",
      "441         23.4348     15.2356               171.674       \n",
      "442         24.7249     14.5596               172.162       \n",
      "443         23.9085     15.6376               172.954       \n",
      "444         28.0849     14.1027               173.449       \n",
      "445         20.9016     14.6218               174.015       \n",
      "446         24.567      15.1369               174.407       \n",
      "447         23.6444     15.6307               174.93        \n",
      "448         25.5444     15.8057               175.433       \n",
      "449         25.285      14.8699               175.939       \n",
      "450         22.5984     15.3088               177.565       \n",
      "451         29.3928     15.0896               178.118       \n",
      "452         23.284      14.9129               178.675       \n",
      "453         23.7144     16.103                179.453       \n",
      "454         23.1636     16.2307               180.064       \n",
      "455         22.4636     15.3088               180.597       \n",
      "456         22.8617     15.298                181.21        \n",
      "457         20.8702     15.1006               181.61        \n",
      "458         23.4254     15.9874               182.093       \n",
      "459         24.7509     15.2871               182.483       \n",
      "460         24.3243     15.9355               182.943       \n",
      "461         28.7111     14.9642               183.42        \n",
      "462         25.8991     14.7181               184.005       \n",
      "463         26.384      15.2811               184.502       \n",
      "464         22.2759     15.6551               185.017       \n",
      "465         23.6408     15.8139               185.438       \n",
      "466         26.7733     15.1783               185.848       \n",
      "467         24.1716     15.0739               186.302       \n",
      "468         24.6748     14.8304               186.719       \n",
      "469         26.717      14.8986               187.174       \n",
      "470         24.8012     16.5506               187.556       \n",
      "471         24.1681     15.6183               188.011       \n",
      "472         25.9231     14.537                188.431       \n",
      "473         23.7342     15.6737               188.853       \n",
      "474         26.1209     14.658                189.273       \n",
      "475         24.5263     15.6539               189.667       \n",
      "476         22.1907     15.3257               190.064       \n",
      "477         22.6654     14.8338               190.445       \n",
      "478         23.6594     14.8388               190.883       \n",
      "479         25.0532     15.0913               191.303       \n",
      "480         24.958      16.0146               191.725       \n",
      "481         21.8555     15.5077               192.185       \n",
      "482         27.2566     14.4314               192.646       \n",
      "483         26.4871     15.1467               193.033       \n",
      "484         23.6942     15.7527               193.401       \n",
      "485         24.6754     15.262                194.023       \n",
      "486         23.3301     14.1101               194.52        \n",
      "487         26.9052     15.8177               194.981       \n",
      "488         24.4241     14.6757               195.477       \n",
      "489         25.3045     14.2171               195.942       \n",
      "490         25.0712     15.5058               196.388       \n",
      "491         25.1683     15.4357               196.798       \n",
      "492         22.7947     14.6182               197.229       \n",
      "493         24.5449     16.4766               197.693       \n",
      "494         20.7928     14.5486               198.122       \n",
      "495         22.7915     16.0205               198.587       \n",
      "496         21.4214     15.4261               199           \n",
      "497         25.0329     14.3627               199.357       \n",
      "498         24.6741     15.6987               199.751       \n",
      "499         25.347      14.4211               200.174       \n",
      "500         25.5997     15.3806               200.667       \n"
     ]
    }
   ],
   "source": [
    "np.random.seed(1)\n",
    "nn = NN()\n",
    "#変更箇所（回帰問題）\n",
    "model = L.Classifier(nn,lossfun=F.mean_squared_error)\n",
    "model.compute_accuracy = False\n",
    "\n",
    "#optimizer = chainer.optimizers.SGD() #確率的勾配降下法\n",
    "optimizer = chainer.optimizers.Adam() #とりあえずAdam\n",
    "optimizer.setup(model)\n",
    "\n",
    "batchsize = 10\n",
    "train_iter = chainer.iterators.SerialIterator(train,batchsize)\n",
    "test_iter = chainer.iterators.SerialIterator(test,batchsize,repeat=False,shuffle=False)\n",
    "\n",
    "updater = training.StandardUpdater(train_iter,optimizer,device=-1)\n",
    "epoch = 500\n",
    "trainer = training.Trainer(updater,(epoch,'epoch'),out='result/housing')\n",
    "trainer.extend(extensions.Evaluator(test_iter,model,device=-1))\n",
    "trainer.extend(extensions.LogReport(trigger=(1,'epoch')))\n",
    "trainer.extend(\n",
    "    extensions.PrintReport(['epoch','main/loss','validation/main/loss','elapsed_time']),\n",
    "    trigger=(1,'epoch'))\n",
    "trainer.run()"
   ]
  },
  {
   "cell_type": "code",
   "execution_count": 82,
   "metadata": {},
   "outputs": [
    {
     "data": {
      "text/plain": [
       "<matplotlib.axes._subplots.AxesSubplot at 0x1dd843beef0>"
      ]
     },
     "execution_count": 82,
     "metadata": {},
     "output_type": "execute_result"
    },
    {
     "data": {
      "image/png": "[encoded data removed]",
      "text/plain": [
       "<Figure size 432x288 with 1 Axes>"
      ]
     },
     "metadata": {},
     "output_type": "display_data"
    }
   ],
   "source": [
    "with open('result/housing/log') as f:\n",
    "    logs = json.load(f)\n",
    "results = pd.DataFrame(logs)\n",
    "results[['main/loss','validation/main/loss']].plot()"
   ]
  },
  {
   "cell_type": "code",
   "execution_count": 83,
   "metadata": {},
   "outputs": [
    {
     "data": {
      "text/plain": [
       "3.9218045015571925"
      ]
     },
     "execution_count": 83,
     "metadata": {},
     "output_type": "execute_result"
    }
   ],
   "source": [
    "np.sqrt(results['validation/main/loss'].values[-1])"
   ]
  },
  {
   "cell_type": "code",
   "execution_count": null,
   "metadata": {},
   "outputs": [],
   "source": []
  }
 ],
 "metadata": {
  "kernelspec": {
   "display_name": "Python 3",
   "language": "python",
   "name": "python3"
  },
  "language_info": {
   "codemirror_mode": {
    "name": "ipython",
    "version": 3
   },
   "file_extension": ".py",
   "mimetype": "text/x-python",
   "name": "python",
   "nbconvert_exporter": "python",
   "pygments_lexer": "ipython3",
   "version": "3.6.6"
  }
 },
 "nbformat": 4,
 "nbformat_minor": 2
}
