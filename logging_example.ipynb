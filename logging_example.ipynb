{
 "cells": [
  {
   "cell_type": "markdown",
   "metadata": {},
   "source": [
    "# Logging HOWTO\n",
    "https://docs.python.jp/3/howto/logging.html\n",
    "- レベル\tいつ使うか\n",
    "- DEBUG\tおもに問題を診断するときにのみ関心があるような、詳細な情報。\n",
    "- INFO\t想定された通りのことが起こったことの確認。\n",
    "- WARNING\t想定外のことが起こった、または問題が近く起こりそうである (例えば、'disk space low') ことの表示。\n",
    "- ERROR\tより重大な問題により、ソフトウェアがある機能を実行できないこと。\n",
    "- CRITICAL\tプログラム自体が実行を続けられないことを表す、重大なエラー。"
   ]
  },
  {
   "cell_type": "code",
   "execution_count": 1,
   "metadata": {},
   "outputs": [],
   "source": [
    "import logging\n",
    "\n",
    "# create formatter\n",
    "formatter = logging.Formatter('%(asctime)s - %(name)s - %(levelname)s - %(message)s')\n",
    "logger = logging.getLogger(__name__)\n",
    "logger.setLevel(logging.DEBUG)\n",
    "#logger.setLevel(logging.INFO)\n",
    "\n",
    "handler = logging.StreamHandler()\n",
    "handler.setFormatter(formatter)\n",
    "logger.addHandler(handler)\n",
    "\n",
    "fh = logging.FileHandler('test.log')\n",
    "fh.setFormatter(formatter)\n",
    "logger.addHandler(fh)"
   ]
  },
  {
   "cell_type": "code",
   "execution_count": 2,
   "metadata": {},
   "outputs": [
    {
     "name": "stderr",
     "output_type": "stream",
     "text": [
      "2018-07-17 20:27:16,323 - __main__ - DEBUG - (10)This is a Debug message\n",
      "2018-07-17 20:27:16,327 - __main__ - INFO - (20)This is a Info message\n",
      "2018-07-17 20:27:16,328 - __main__ - WARNING - (30)This is a Warning message\n",
      "2018-07-17 20:27:16,329 - __main__ - ERROR - (40)This is a Error message\n",
      "2018-07-17 20:27:16,329 - __main__ - CRITICAL - (50)This is a Critical message\n"
     ]
    }
   ],
   "source": [
    "def main():\n",
    "    logger.debug('(10)This is a Debug message')\n",
    "    logger.info('(20)This is a Info message')\n",
    "    logger.warning('(30)This is a Warning message')\n",
    "    logger.error('(40)This is a Error message')\n",
    "    logger.critical('(50)This is a Critical message')\n",
    "    \n",
    "if __name__ == '__main__':\n",
    "    main()"
   ]
  },
  {
   "cell_type": "code",
   "execution_count": 5,
   "metadata": {},
   "outputs": [
    {
     "name": "stderr",
     "output_type": "stream",
     "text": [
      "2018-07-17 20:28:36,100 - __main__ - INFO - (20)This is a Info message\n",
      "2018-07-17 20:28:36,101 - __main__ - WARNING - (30)This is a Warning message\n",
      "2018-07-17 20:28:36,102 - __main__ - ERROR - (40)This is a Error message\n",
      "2018-07-17 20:28:36,102 - __main__ - CRITICAL - (50)This is a Critical message\n"
     ]
    }
   ],
   "source": [
    "logger.setLevel(20)\n",
    "main()"
   ]
  },
  {
   "cell_type": "code",
   "execution_count": null,
   "metadata": {},
   "outputs": [],
   "source": []
  },
  {
   "cell_type": "code",
   "execution_count": null,
   "metadata": {},
   "outputs": [],
   "source": [
    "print(\"aaa\")\n",
    "from IPython.core.debugger import Pdb; Pdb().set_trace()\n",
    "print(\"bbb\")"
   ]
  },
  {
   "cell_type": "code",
   "execution_count": null,
   "metadata": {},
   "outputs": [],
   "source": []
  }
 ],
 "metadata": {
  "kernelspec": {
   "display_name": "Python 3",
   "language": "python",
   "name": "python3"
  },
  "language_info": {
   "codemirror_mode": {
    "name": "ipython",
    "version": 3
   },
   "file_extension": ".py",
   "mimetype": "text/x-python",
   "name": "python",
   "nbconvert_exporter": "python",
   "pygments_lexer": "ipython3",
   "version": "3.6.5"
  }
 },
 "nbformat": 4,
 "nbformat_minor": 2
}
