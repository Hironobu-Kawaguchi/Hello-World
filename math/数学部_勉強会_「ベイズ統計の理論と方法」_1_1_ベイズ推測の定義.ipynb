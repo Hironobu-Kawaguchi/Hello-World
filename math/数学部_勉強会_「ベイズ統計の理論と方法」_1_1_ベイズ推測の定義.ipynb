{
 "cells": [
  {
   "cell_type": "markdown",
   "metadata": {
    "colab_type": "text",
    "id": "F6ZN6jRuG0n8",
    "slideshow": {
     "slide_type": "slide"
    }
   },
   "source": [
    "# 数学部 勉強会「ベイズ統計の理論と方法」\n",
    "2020.7.25(土) 川口裕靖\n"
   ]
  },
  {
   "cell_type": "markdown",
   "metadata": {
    "colab_type": "text",
    "id": "mRzM0HmEWsaO",
    "slideshow": {
     "slide_type": "-"
    }
   },
   "source": [
    "## 1 はじめに\n",
    "- 本書で必要となる初等確率論については８章にまとめてある\n",
    " - **条件付き確率**\n",
    " - **カルバック・ライブラ情報量**\n",
    "- **確率分布**\n",
    " - (自然科学や科学技術の領域では多いので、本書でも)、**確率分布**だけでなく、**確率密度関数**も表す"
   ]
  },
  {
   "cell_type": "markdown",
   "metadata": {
    "colab_type": "text",
    "id": "5SVj7aiaXChr",
    "slideshow": {
     "slide_type": "slide"
    }
   },
   "source": [
    "## 1.1 ベイズ推測の定義\n",
    "**ベイズ推測** とは\n",
    "**「真の確率分布 $q(x)$ は、おおよそ $p^*(x)$ であろう」** と推測することである。  \n",
    "\n",
    "本書ではベイズ推測について、つぎの問題を考えていく。\n",
    "1. 予測分布 $p^*(x)$ は、真の分布 $q(x)$ とどのくらい似ているか。\n",
    "1. できるだけ推測 $p^*(x)$ が真の分布 $q(x)$ と似ているようにするためには、どうするべきか。\n",
    "1. これらの問題を考えるために拠って立つことができる数学的構造をつくりたい。\n"
   ]
  },
  {
   "cell_type": "markdown",
   "metadata": {
    "colab_type": "text",
    "id": "jXGAHPkFG6RX",
    "slideshow": {
     "slide_type": "slide"
    }
   },
   "source": [
    "#### **サンプル** $x_1, x_2, \\cdots , x_n$\n",
    "(n個の点の集合)\n",
    "$$\n",
    "x_{i}=\\mathbb{R} ^{N} \\quad (i=1,2,3,\\cdots,n) \\\\\n",
    "x^n = (x_1, x_2, \\cdots , x_n)\n",
    "$$"
   ]
  },
  {
   "cell_type": "markdown",
   "metadata": {
    "colab_type": "text",
    "id": "PcNw51T9G-S8",
    "slideshow": {
     "slide_type": "-"
    }
   },
   "source": [
    "#### **真の分布** $q(x)$\n",
    "$$\n",
    "q\\left( x^{n}\\right) =\\prod ^{n}_{i=1} q(x_i) = q(x_1)q(x_2) \\cdots q(x_n)\n",
    "$$"
   ]
  },
  {
   "cell_type": "markdown",
   "metadata": {
    "colab_type": "text",
    "id": "JSrfOY5mXb0K",
    "slideshow": {
     "slide_type": "-"
    }
   },
   "source": [
    "#### **統計的推論（統計学）** or **統計的学習（情報科学）**\n",
    "- 与えられたサンプルから真の分布を推測すること"
   ]
  },
  {
   "cell_type": "markdown",
   "metadata": {
    "colab_type": "text",
    "id": "c2VAmC1UoR46",
    "slideshow": {
     "slide_type": "-"
    }
   },
   "source": [
    "##### <font color=\"Red\">コメント: 標本(sample)、母集団分布(population distribution)と同じと思っていて良いのかな？</font>"
   ]
  },
  {
   "cell_type": "markdown",
   "metadata": {
    "colab_type": "text",
    "id": "nog3xDylc90-",
    "slideshow": {
     "slide_type": "slide"
    }
   },
   "source": [
    "##### 注意1\n",
    "- 現実問題では数値データとして$x^n$が与えられているだけで、確率変数$X^n$は与えられない\n",
    "- サンプルを確率変数の実現値だと考えることにより、一般的な法則を導出することができる\n",
    "- その法則の中にワンセットの実現値$x^n$を捉えることで、構造的な視点からサンプルを考察できる\n"
   ]
  },
  {
   "cell_type": "markdown",
   "metadata": {
    "colab_type": "text",
    "id": "eyhc7-WpdHmy",
    "slideshow": {
     "slide_type": "-"
    }
   },
   "source": [
    "##### 注意2 統計的推論と統計的学習\n",
    "- 統計学では統計的推論といい、情報科学では統計的学習という。\n",
    "- 歴史的な起源は必ずしも同じではないが、今日では両者はまったく同一のもの"
   ]
  },
  {
   "cell_type": "markdown",
   "metadata": {
    "colab_type": "text",
    "id": "jkxEtJhRI2ti",
    "slideshow": {
     "slide_type": "slide"
    }
   },
   "source": [
    "#### **平均値** $\\mathbb{E}[\\quad]$\n",
    "サンプルを表す確率変数を$X^n$とする。その関数\n",
    "$$\n",
    "f(X^n) = f(X_1,X_2, \\cdots ,X_n)\n",
    "$$\n",
    "が与えられたとき、平均値をとる操作 $\\mathbb{E}[\\quad]$を\n",
    "$$\n",
    "\\mathbb{E}_X[f(X^n)] = \\int \\int \\cdots \\int f(x_1,x_2, \\cdots ,x_n) \\prod ^{n}_{i=1} q(x_i) dx_i\n",
    "$$\n",
    "と表記する。この平均値 $\\mathbb{E}[\\quad]$を「**サンプルの現れ方に対する平均値**」と呼ぶ。\n",
    "$$\n",
    "\\mathbb{E}_X[f(X)] = \\int f(x)q(x)dx\n",
    "$$"
   ]
  },
  {
   "cell_type": "markdown",
   "metadata": {
    "colab_type": "text",
    "id": "Qfs2QgAeLsux",
    "slideshow": {
     "slide_type": "slide"
    }
   },
   "source": [
    "#### **確率モデル** $p(x \\mid w)$、**事前分布** $\\varphi(w)$\n",
    "ベイズ推測においては、パラメータ $w \\in W \\subset \\mathbb{R}^d$ が与えられたときの $x \\in \\mathbb{R}^N$ の上の条件付確率分布 $p(x \\mid w)$ と $ w \\in W$ 上の確率分布 $\\varphi (w)$ とが必要である。\n",
    "このとき $p(x \\mid w)$ を **確率モデル**といい、$\\varphi(w)$ を**事前分布**という。"
   ]
  },
  {
   "cell_type": "markdown",
   "metadata": {
    "colab_type": "text",
    "id": "ai87XV4GO445",
    "slideshow": {
     "slide_type": "-"
    }
   },
   "source": [
    "ひとまず任意の三つの組 $(q(x), p(x \\mid w), \\varphi(w))$が与えられていると考えることにする。"
   ]
  },
  {
   "cell_type": "markdown",
   "metadata": {
    "colab_type": "text",
    "id": "s05MFLdISppw",
    "slideshow": {
     "slide_type": "slide"
    }
   },
   "source": [
    "#### **事後分布** $p(w \\mid X^n)$\n",
    "**逆温度** 定数 $\\beta$ ($0<\\beta<\\infty$を満たす実数)  \n",
    "パラメータ $w$ の逆温度 $\\beta$の**事後分布**の定義\n",
    "$$\n",
    "p(w \\mid X^n) = \\dfrac{1}{Z_n(\\beta)} \\varphi(w) \\prod_{i=1}^n p(X_i \\mid w)^\\beta\n",
    "$$\n",
    "<center>事後分布 = 1/分配関数 x 事前分布 x 確率モデル(条件付き確率) </center>"
   ]
  },
  {
   "cell_type": "markdown",
   "metadata": {
    "colab_type": "text",
    "id": "2iiqdcYhaQSO",
    "slideshow": {
     "slide_type": "slide"
    }
   },
   "source": [
    "#### **分配関数** $Z_n(\\beta)$\n",
    "事後分布の $w \\in W$に関する積分が1になるように定めた定数\n",
    "$$\n",
    "Z_n(\\beta) = \\int_W \\varphi(w) \\prod_{i=1}^n p(X_i \\mid w)^\\beta dw\n",
    "$$\n",
    "分配関数はサンプル $X^n$ に依存して確率的に変動するから確率変数である。"
   ]
  },
  {
   "cell_type": "markdown",
   "metadata": {
    "colab_type": "text",
    "id": "0SCCy9UxiJgH",
    "slideshow": {
     "slide_type": "-"
    }
   },
   "source": [
    "#### **周辺尤度** $Z_n(1)$\n",
    "$\\beta=1$のとき"
   ]
  },
  {
   "cell_type": "markdown",
   "metadata": {
    "colab_type": "text",
    "id": "0YX7jYOKeNBy",
    "slideshow": {
     "slide_type": "slide"
    }
   },
   "source": [
    "##### 注意3 条件付き確率分布 8.3節参照\n",
    "- もしも、事前分布・確率モデルが本当で、$\\beta=1$のときの事後分布は、本当の条件付き確率分布である。\n",
    "- しかしながら、本書において確率モデルも事前分布も本当と仮定しない。\n",
    "- したがって、事後分布も本当の条件付き確率とは限らない。\n",
    "- 事後分布というものを定義しただけで、導出したのではないことに注意！！！\n",
    "- 事後分布は人間が定めたものであるにすぎず、無条件に正しいと信じられるものではない。"
   ]
  },
  {
   "cell_type": "markdown",
   "metadata": {
    "colab_type": "text",
    "id": "eCDPPFBXejG-",
    "slideshow": {
     "slide_type": "slide"
    }
   },
   "source": [
    "##### 注意4\n",
    "- ベイズ統計学においては、$\\beta=1$ の場合が特別に重要。\n",
    "- 本や論文で「事後分布」、「ベイズ推測」という言葉が用いられる場合には$\\beta=1$の場合だけを意味している場合が多い。\n",
    "- 一般の $\\beta \\neq 1$の場合に生じる現象もベイズ統計の理論と方法を考えるうえで大切であるので、本書では一般の逆温度$\\beta$の場合も考える。"
   ]
  },
  {
   "cell_type": "markdown",
   "metadata": {
    "colab_type": "text",
    "id": "lcG2tNjHeslT",
    "slideshow": {
     "slide_type": "slide"
    }
   },
   "source": [
    "#### 事後分布 $p(w \\mid X^n)$ による平均 $\\mathbb{E}[f(w)]$\n",
    "パラメータ$w$の関数$f(w)$が与えられたとき\n",
    "$$\n",
    "\\mathbb{E}_w[f(w)] = \\int f(w)p(w \\mid X^n)dw\n",
    "$$\n",
    "すなわち $\\mathbb{E}_w[\\quad]$は事後分布に関する平均値を求める操作を表すこととする。"
   ]
  },
  {
   "cell_type": "markdown",
   "metadata": {
    "colab_type": "text",
    "id": "9W0j4pFkfZPS",
    "slideshow": {
     "slide_type": "slide"
    }
   },
   "source": [
    "#### **予測分布** $p^*(x)$\n",
    "事後分布によって確率モデル $p(x \\mid w)$ を平均したもの\n",
    "\\begin{eqnarray}\n",
    "p^*(x) &=& \\mathbb{E}_w[p(x \\mid w)] = \\int p(x \\mid w)p(w \\mid X^n)dw \\\\\n",
    "&=& p(x \\mid X^n)\n",
    "\\end{eqnarray}"
   ]
  },
  {
   "cell_type": "markdown",
   "metadata": {
    "colab_type": "text",
    "id": "2TAw4GoMgJ2P",
    "slideshow": {
     "slide_type": "slide"
    }
   },
   "source": [
    "#### **ベイズ推測** とは\n",
    "**「真の確率分布 $q(x)$ は、おおよそ $p^*(x)$ であろう」と推測することである。**  \n",
    "予測分布 $p^*(x)$ もまた、サンプル $X^n$ に応じて確率的に変動する。"
   ]
  },
  {
   "cell_type": "markdown",
   "metadata": {
    "colab_type": "text",
    "id": "fHb4E14qhfNt",
    "slideshow": {
     "slide_type": "-"
    }
   },
   "source": [
    "#### 本書ではベイズ推測について、つぎの問題を考えていく。\n",
    "1. 予測分布 $p^*(x)$ は、真の分布 $q(x)$ とどのくらい似ているか。\n",
    "1. できるだけ推測 $p^*(x)$ が真の分布 $q(x)$ と似ているようにするためには、どうするべきか。\n",
    "1. これらの問題を考えるために拠って立つことができる数学的構造をつくりたい。\n"
   ]
  },
  {
   "cell_type": "markdown",
   "metadata": {
    "colab_type": "text",
    "id": "0YEd2hnXjGHO",
    "slideshow": {
     "slide_type": "slide"
    }
   },
   "source": [
    "##### 注意5\n",
    "- 現実の問題ではサンプル$X^n$の実現値が偶然の結果として与えられているだけだり、真の分布はわからない。\n",
    "- 人間が用意した確率モデルと事前分布が真の分布に対して適切であるかどうかはわからない。\n",
    "- 推論の結果として得られる予測分布も、真の分布をよく推測しているかどうかわからない。\n",
    "- わからない → 推論 → わからない → 推論 の繰り返し？ と感じる人もあることだろう。"
   ]
  },
  {
   "cell_type": "markdown",
   "metadata": {
    "colab_type": "text",
    "id": "9R4oBo7OsPJL",
    "slideshow": {
     "slide_type": "slide"
    }
   },
   "source": [
    "本書では、次のことを述べていく。\n",
    "- 統計的推論においては、三組（真の分布・確率モデル・事前分布）に依存しない数学的な法則が存在する。\n",
    "- この法則は、確率モデルと事前分布が真の分布に対して適切であってもなくても成立するものであり、事後分布が正規分布で近似できてもできなくても成立する。\n",
    "- この法則のうえに立つことにより、真の分布についての前提を設定しなくても、確率モデルと事前分布が考察している問題においてどのくらい適切であるかについて数量的に評価することができる。"
   ]
  },
  {
   "cell_type": "markdown",
   "metadata": {
    "colab_type": "text",
    "id": "SOYLeb3FjMSo",
    "slideshow": {
     "slide_type": "-"
    }
   },
   "source": [
    "- もちろん、現実世界の中における有限個のサンプルに基づく推測はその精度に限界や誤差があり、真の分布が完全に特定されるということは起こりえない。\n",
    "- しかしながら、与えられたサンプルと与えられた確率モデル・事前分布を用いて統計的推測を行ったとき、その限界や誤差について私たちはしることができる。"
   ]
  },
  {
   "cell_type": "code",
   "execution_count": null,
   "metadata": {
    "colab": {},
    "colab_type": "code",
    "id": "6zKf0SfgsMEa"
   },
   "outputs": [],
   "source": []
  }
 ],
 "metadata": {
  "celltoolbar": "Slideshow",
  "colab": {
   "collapsed_sections": [],
   "name": "数学部 勉強会 「ベイズ統計の理論と方法」 1.1 ベイズ推測の定義.ipynb",
   "provenance": [],
   "toc_visible": true
  },
  "kernelspec": {
   "display_name": "Python 3",
   "language": "python",
   "name": "python3"
  },
  "language_info": {
   "codemirror_mode": {
    "name": "ipython",
    "version": 3
   },
   "file_extension": ".py",
   "mimetype": "text/x-python",
   "name": "python",
   "nbconvert_exporter": "python",
   "pygments_lexer": "ipython3",
   "version": "3.7.4"
  }
 },
 "nbformat": 4,
 "nbformat_minor": 4
}
