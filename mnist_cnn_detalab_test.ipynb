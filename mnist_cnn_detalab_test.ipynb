{
  "nbformat": 4,
  "nbformat_minor": 0,
  "metadata": {
    "colab": {
      "name": "mnist_cnn_detalab_test.ipynb",
      "version": "0.3.2",
      "provenance": [],
      "collapsed_sections": [],
      "toc_visible": true,
      "include_colab_link": true
    },
    "kernelspec": {
      "name": "python3",
      "display_name": "Python 3"
    },
    "accelerator": "GPU"
  },
  "cells": [
    {
      "cell_type": "markdown",
      "metadata": {
        "id": "view-in-github",
        "colab_type": "text"
      },
      "source": [
        "[View in Colaboratory](https://colab.research.google.com/github/Hironobu-Kawaguchi/Hello-World/blob/master/mnist_cnn_detalab_test.ipynb)"
      ]
    },
    {
      "metadata": {
        "id": "bEc0FubAuGly",
        "colab_type": "code",
        "colab": {
          "base_uri": "https://localhost:8080/",
          "height": 547
        },
        "outputId": "14d8e618-1eb9-48e8-8b0f-a73e424dc6d6"
      },
      "cell_type": "code",
      "source": [
        "'''Trains a simple convnet on the MNIST dataset.\n",
        "\n",
        "Gets to 99.25% test accuracy after 12 epochs\n",
        "(there is still a lot of margin for parameter tuning).\n",
        "16 seconds per epoch on a GRID K520 GPU.\n",
        "'''\n",
        "\n",
        "from __future__ import print_function\n",
        "import keras\n",
        "from keras.datasets import mnist\n",
        "from keras.models import Sequential\n",
        "from keras.layers import Dense, Dropout, Flatten\n",
        "from keras.layers import Conv2D, MaxPooling2D\n",
        "from keras import backend as K\n",
        "\n",
        "batch_size = 128\n",
        "num_classes = 10\n",
        "epochs = 12\n",
        "\n",
        "# input image dimensions\n",
        "img_rows, img_cols = 28, 28\n",
        "\n",
        "# the data, split between train and test sets\n",
        "(x_train, y_train), (x_test, y_test) = mnist.load_data()\n",
        "\n",
        "if K.image_data_format() == 'channels_first':\n",
        "    x_train = x_train.reshape(x_train.shape[0], 1, img_rows, img_cols)\n",
        "    x_test = x_test.reshape(x_test.shape[0], 1, img_rows, img_cols)\n",
        "    input_shape = (1, img_rows, img_cols)\n",
        "else:\n",
        "    x_train = x_train.reshape(x_train.shape[0], img_rows, img_cols, 1)\n",
        "    x_test = x_test.reshape(x_test.shape[0], img_rows, img_cols, 1)\n",
        "    input_shape = (img_rows, img_cols, 1)\n",
        "\n",
        "x_train = x_train.astype('float32')\n",
        "x_test = x_test.astype('float32')\n",
        "x_train /= 255\n",
        "x_test /= 255\n",
        "print('x_train shape:', x_train.shape)\n",
        "print(x_train.shape[0], 'train samples')\n",
        "print(x_test.shape[0], 'test samples')\n",
        "\n",
        "# convert class vectors to binary class matrices\n",
        "y_train = keras.utils.to_categorical(y_train, num_classes)\n",
        "y_test = keras.utils.to_categorical(y_test, num_classes)\n",
        "\n",
        "model = Sequential()\n",
        "model.add(Conv2D(32, kernel_size=(3, 3),\n",
        "                 activation='relu',\n",
        "                 input_shape=input_shape))    #2次元の畳み込みレイヤー\n",
        "model.add(Conv2D(64, (3, 3), activation='relu'))    #2次元の畳み込みレイヤー\n",
        "model.add(MaxPooling2D(pool_size=(2, 2)))    #空間データのマックスプーリング演算\n",
        "model.add(Dropout(0.25))    #入力にドロップアウトを適用する．訓練時の更新においてランダムに入力ユニットを0とする割合であり，過学習の防止に役立ちます．\n",
        "model.add(Flatten())    #入力を平滑化する．バッチサイズに影響を与えません．\n",
        "model.add(Dense(128, activation='relu'))    #通常の全結合ニューラルネットワークレイヤー．\n",
        "model.add(Dropout(0.5))   #入力にドロップアウトを適用する．訓練時の更新においてランダムに入力ユニットを0とする割合であり，過学習の防止に役立ちます．\n",
        "model.add(Dense(num_classes, activation='softmax'))    #通常の全結合ニューラルネットワークレイヤー．\n",
        "\n",
        "model.compile(loss=keras.losses.categorical_crossentropy,\n",
        "              optimizer=keras.optimizers.Adadelta(),\n",
        "              metrics=['accuracy'])\n",
        "\n",
        "model.fit(x_train, y_train,\n",
        "          batch_size=batch_size,\n",
        "          epochs=epochs,\n",
        "          verbose=1,\n",
        "          validation_data=(x_test, y_test))\n",
        "score = model.evaluate(x_test, y_test, verbose=0)\n",
        "print('Test loss:', score[0])\n",
        "print('Test accuracy:', score[1])\n"
      ],
      "execution_count": 7,
      "outputs": [
        {
          "output_type": "stream",
          "text": [
            "x_train shape: (60000, 28, 28, 1)\n",
            "60000 train samples\n",
            "10000 test samples\n",
            "Train on 60000 samples, validate on 10000 samples\n",
            "Epoch 1/12\n",
            "60000/60000 [==============================] - 11s 179us/step - loss: 0.2681 - acc: 0.9180 - val_loss: 0.0561 - val_acc: 0.9833\n",
            "Epoch 2/12\n",
            "60000/60000 [==============================] - 10s 171us/step - loss: 0.0896 - acc: 0.9737 - val_loss: 0.0400 - val_acc: 0.9865\n",
            "Epoch 3/12\n",
            " 6656/60000 [==>...........................] - ETA: 8s - loss: 0.0719 - acc: 0.9790"
          ],
          "name": "stdout"
        },
        {
          "output_type": "stream",
          "text": [
            "60000/60000 [==============================] - 10s 171us/step - loss: 0.0648 - acc: 0.9802 - val_loss: 0.0343 - val_acc: 0.9885\n",
            "Epoch 4/12\n",
            "60000/60000 [==============================] - 10s 169us/step - loss: 0.0541 - acc: 0.9839 - val_loss: 0.0345 - val_acc: 0.9885\n",
            "Epoch 5/12\n",
            "56576/60000 [===========================>..] - ETA: 0s - loss: 0.0442 - acc: 0.9868"
          ],
          "name": "stdout"
        },
        {
          "output_type": "stream",
          "text": [
            "60000/60000 [==============================] - 10s 169us/step - loss: 0.0444 - acc: 0.9868 - val_loss: 0.0303 - val_acc: 0.9907\n",
            "Epoch 6/12\n",
            "60000/60000 [==============================] - 10s 169us/step - loss: 0.0408 - acc: 0.9878 - val_loss: 0.0311 - val_acc: 0.9892\n",
            "Epoch 7/12\n",
            "60000/60000 [==============================] - 10s 170us/step - loss: 0.0378 - acc: 0.9885 - val_loss: 0.0283 - val_acc: 0.9905\n",
            "Epoch 8/12\n",
            " 5120/60000 [=>............................] - ETA: 8s - loss: 0.0380 - acc: 0.9879"
          ],
          "name": "stdout"
        },
        {
          "output_type": "stream",
          "text": [
            "60000/60000 [==============================] - 10s 169us/step - loss: 0.0353 - acc: 0.9897 - val_loss: 0.0271 - val_acc: 0.9916\n",
            "Epoch 9/12\n",
            "60000/60000 [==============================] - 10s 170us/step - loss: 0.0324 - acc: 0.9901 - val_loss: 0.0290 - val_acc: 0.9908\n",
            "Epoch 10/12\n",
            "55296/60000 [==========================>...] - ETA: 0s - loss: 0.0284 - acc: 0.9912"
          ],
          "name": "stdout"
        },
        {
          "output_type": "stream",
          "text": [
            "60000/60000 [==============================] - 10s 169us/step - loss: 0.0287 - acc: 0.9911 - val_loss: 0.0280 - val_acc: 0.9911\n",
            "Epoch 11/12\n",
            "60000/60000 [==============================] - 10s 169us/step - loss: 0.0269 - acc: 0.9915 - val_loss: 0.0274 - val_acc: 0.9911\n",
            "Epoch 12/12\n",
            "60000/60000 [==============================] - 10s 169us/step - loss: 0.0247 - acc: 0.9923 - val_loss: 0.0291 - val_acc: 0.9916\n",
            "Test loss: 0.02906691995213314\n",
            "Test accuracy: 0.9916\n"
          ],
          "name": "stdout"
        }
      ]
    },
    {
      "metadata": {
        "id": "uhnSWQQyy8bH",
        "colab_type": "code",
        "colab": {
          "base_uri": "https://localhost:8080/",
          "height": 17
        },
        "outputId": "d25f81d8-2adc-4130-c3de-1c4703c8aec9"
      },
      "cell_type": "code",
      "source": [
        "# モデルとウェイトをjsonとhdf5ファイルに保存\n",
        "model_json_str = model.to_json()\n",
        "open('mnist_cnn_model.json', 'w').write(model_json_str)\n",
        "model.save_weights('mnist_cnn_weights.hdf5')"
      ],
      "execution_count": 8,
      "outputs": []
    },
    {
      "metadata": {
        "id": "qUrWZ-WWzCRO",
        "colab_type": "code",
        "colab": {
          "base_uri": "https://localhost:8080/",
          "height": 17
        },
        "outputId": "c795c94f-754d-47d7-f71e-cf43deb5ef95"
      },
      "cell_type": "code",
      "source": [
        "# モデルとウェイトをjsonとhdf5ファイルからロード\n",
        "from keras.models import model_from_json\n",
        "model = model_from_json(open('mnist_cnn_model.json').read())\n",
        "model.load_weights('mnist_cnn_weights.hdf5')"
      ],
      "execution_count": 9,
      "outputs": []
    },
    {
      "metadata": {
        "id": "8LFS6UbwzG7N",
        "colab_type": "code",
        "colab": {
          "base_uri": "https://localhost:8080/",
          "height": 408
        },
        "outputId": "c9b7199c-1ea4-4199-9525-3f3513d8d387"
      },
      "cell_type": "code",
      "source": [
        "model.summary()"
      ],
      "execution_count": 10,
      "outputs": [
        {
          "output_type": "stream",
          "text": [
            "_________________________________________________________________\n",
            "Layer (type)                 Output Shape              Param #   \n",
            "=================================================================\n",
            "conv2d_5 (Conv2D)            (None, 26, 26, 32)        320       \n",
            "_________________________________________________________________\n",
            "conv2d_6 (Conv2D)            (None, 24, 24, 64)        18496     \n",
            "_________________________________________________________________\n",
            "max_pooling2d_3 (MaxPooling2 (None, 12, 12, 64)        0         \n",
            "_________________________________________________________________\n",
            "dropout_5 (Dropout)          (None, 12, 12, 64)        0         \n",
            "_________________________________________________________________\n",
            "flatten_3 (Flatten)          (None, 9216)              0         \n",
            "_________________________________________________________________\n",
            "dense_5 (Dense)              (None, 128)               1179776   \n",
            "_________________________________________________________________\n",
            "dropout_6 (Dropout)          (None, 128)               0         \n",
            "_________________________________________________________________\n",
            "dense_6 (Dense)              (None, 10)                1290      \n",
            "=================================================================\n",
            "Total params: 1,199,882\n",
            "Trainable params: 1,199,882\n",
            "Non-trainable params: 0\n",
            "_________________________________________________________________\n"
          ],
          "name": "stdout"
        }
      ]
    },
    {
      "metadata": {
        "id": "tNPbM_2932ww",
        "colab_type": "code",
        "colab": {
          "base_uri": "https://localhost:8080/",
          "height": 34
        },
        "outputId": "50e699fd-be5c-4f6f-fa9f-fc27a764d59c"
      },
      "cell_type": "code",
      "source": [
        "%ls"
      ],
      "execution_count": 11,
      "outputs": [
        {
          "output_type": "stream",
          "text": [
            "\u001b[0m\u001b[01;34mdatalab\u001b[0m/  mnist_cnn_model.json  mnist_cnn_weights.hdf5\r\n"
          ],
          "name": "stdout"
        }
      ]
    },
    {
      "metadata": {
        "id": "_s-D8evQ4M9y",
        "colab_type": "code",
        "colab": {
          "base_uri": "https://localhost:8080/",
          "height": 37
        },
        "outputId": "b3f8a638-470c-4705-9406-8a8f2eb24fa9"
      },
      "cell_type": "code",
      "source": [
        "from google.colab import files"
      ],
      "execution_count": 12,
      "outputs": []
    },
    {
      "metadata": {
        "id": "tzzASKLj4TEg",
        "colab_type": "code",
        "colab": {
          "base_uri": "https://localhost:8080/",
          "height": 43
        },
        "outputId": "0a94abff-75c9-46c9-9815-8decf0f3e170"
      },
      "cell_type": "code",
      "source": [
        "uploaded = files.upload()"
      ],
      "execution_count": 14,
      "outputs": [
        {
          "output_type": "display_data",
          "data": {
            "text/html": [
              "\n",
              "     <input type=\"file\" id=\"files-1bc3863c-0bb2-48d9-a57b-db6bb2d83649\" name=\"files[]\" multiple disabled />\n",
              "     <output id=\"result-1bc3863c-0bb2-48d9-a57b-db6bb2d83649\">\n",
              "      Upload widget is only available when the cell has been executed in the\n",
              "      current browser session. Please rerun this cell to enable.\n",
              "      </output>\n",
              "      <script src=\"/nbextensions/google.colab/files.js\"></script> "
            ],
            "text/plain": [
              "<IPython.core.display.HTML object>"
            ]
          },
          "metadata": {
            "tags": []
          }
        }
      ]
    },
    {
      "metadata": {
        "id": "yNkH26wi4ds2",
        "colab_type": "code",
        "colab": {
          "base_uri": "https://localhost:8080/",
          "height": 37
        },
        "outputId": "d3fe7eff-c2f3-4563-c0d9-c687fcdef930"
      },
      "cell_type": "code",
      "source": [
        "files.download('mnist_cnn_model.json')"
      ],
      "execution_count": 15,
      "outputs": []
    },
    {
      "metadata": {
        "id": "_QlW7E6K4vKX",
        "colab_type": "code",
        "colab": {
          "base_uri": "https://localhost:8080/",
          "height": 37
        },
        "outputId": "8aafd80c-45d3-4434-803e-4b8c30d4811a"
      },
      "cell_type": "code",
      "source": [
        "files.download('mnist_cnn_weights.hdf5')"
      ],
      "execution_count": 16,
      "outputs": []
    }
  ]
}